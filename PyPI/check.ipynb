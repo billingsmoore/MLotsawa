{
 "cells": [
  {
   "cell_type": "code",
   "execution_count": null,
   "id": "8582e507",
   "metadata": {},
   "outputs": [],
   "source": [
    "from mlotsawa.transliterator import Transliterator \n",
    "\n",
    "tibetan_text = 'ཀ་དག་སྤྲོས་བྲལ་འོད་གསལ་རིག་པའི་དབྱིངས༔'\n",
    "\n",
    "transliterator = Transliterator()\n",
    "\n",
    "phonetics = transliterator.transliterate(tibetan_text)"
   ]
  },
  {
   "cell_type": "code",
   "execution_count": 2,
   "id": "00e45b44",
   "metadata": {},
   "outputs": [
    {
     "name": "stderr",
     "output_type": "stream",
     "text": [
      "update.go:85: cannot change mount namespace according to change mount (/var/lib/snapd/hostfs/usr/local/share/doc /usr/local/share/doc none bind,ro 0 0): cannot open directory \"/usr/local/share\": permission denied\n",
      "update.go:85: cannot change mount namespace according to change mount (/var/lib/snapd/hostfs/usr/share/gimp/2.0/help /usr/share/gimp/2.0/help none bind,ro 0 0): cannot write to \"/var/lib/snapd/hostfs/usr/share/gimp/2.0/help\" because it would affect the host in \"/var/lib/snapd\"\n",
      "update.go:85: cannot change mount namespace according to change mount (/var/lib/snapd/hostfs/usr/share/libreoffice/help /usr/share/libreoffice/help none bind,ro 0 0): cannot write to \"/var/lib/snapd/hostfs/usr/share/libreoffice/help\" because it would affect the host in \"/var/lib/snapd\"\n",
      "update.go:85: cannot change mount namespace according to change mount (/var/lib/snapd/hostfs/usr/share/sphinx_rtd_theme /usr/share/sphinx_rtd_theme none bind,ro 0 0): cannot write to \"/var/lib/snapd/hostfs/usr/share/sphinx_rtd_theme\" because it would affect the host in \"/var/lib/snapd\"\n",
      "update.go:85: cannot change mount namespace according to change mount (/var/lib/snapd/hostfs/usr/share/xubuntu-docs /usr/share/xubuntu-docs none bind,ro 0 0): cannot write to \"/var/lib/snapd/hostfs/usr/share/xubuntu-docs\" because it would affect the host in \"/var/lib/snapd\"\n",
      "Gtk-Message: 16:19:00.181: Not loading module \"atk-bridge\": The functionality is provided by GTK natively. Please try to not load it.\n",
      "Gtk-Message: 16:19:00.241: Failed to load module \"canberra-gtk-module\"\n",
      "Gtk-Message: 16:19:00.246: Failed to load module \"canberra-gtk-module\"\n",
      "[21225:21225:0505/161903.933453:ERROR:ui/gl/gl_surface_presentation_helper.cc:260] GetVSyncParametersIfAvailable() failed for 1 times!\n",
      "[21225:21225:0505/161905.425447:ERROR:ui/gl/gl_surface_presentation_helper.cc:260] GetVSyncParametersIfAvailable() failed for 2 times!\n",
      "[21225:21225:0505/161910.162635:ERROR:ui/gl/gl_surface_presentation_helper.cc:260] GetVSyncParametersIfAvailable() failed for 3 times!\n",
      "/home/j/Documents/MLotsawa/.venv/lib/python3.12/site-packages/transformers/pipelines/__init__.py:1156: UserWarning: \"translation\" task was used, instead of \"translation_XX_to_YY\", defaulting to \"translation_bo_to_phonetic\"\n",
      "  warnings.warn(\n",
      "Device set to use cuda:0\n",
      "ERROR:mlotsawa.webui:Exception on /translate [POST]\n",
      "Traceback (most recent call last):\n",
      "  File \"/home/j/Documents/MLotsawa/.venv/lib/python3.12/site-packages/flask/app.py\", line 1473, in wsgi_app\n",
      "    response = self.full_dispatch_request()\n",
      "               ^^^^^^^^^^^^^^^^^^^^^^^^^^^^\n",
      "  File \"/home/j/Documents/MLotsawa/.venv/lib/python3.12/site-packages/flask/app.py\", line 882, in full_dispatch_request\n",
      "    rv = self.handle_user_exception(e)\n",
      "         ^^^^^^^^^^^^^^^^^^^^^^^^^^^^^\n",
      "  File \"/home/j/Documents/MLotsawa/.venv/lib/python3.12/site-packages/flask/app.py\", line 880, in full_dispatch_request\n",
      "    rv = self.dispatch_request()\n",
      "         ^^^^^^^^^^^^^^^^^^^^^^^\n",
      "  File \"/home/j/Documents/MLotsawa/.venv/lib/python3.12/site-packages/flask/app.py\", line 865, in dispatch_request\n",
      "    return self.ensure_sync(self.view_functions[rule.endpoint])(**view_args)  # type: ignore[no-any-return]\n",
      "           ^^^^^^^^^^^^^^^^^^^^^^^^^^^^^^^^^^^^^^^^^^^^^^^^^^^^^^^^^^^^^^^^^\n",
      "  File \"/home/j/Documents/MLotsawa/.venv/lib/python3.12/site-packages/mlotsawa/webui.py\", line 26, in serve_translation\n",
      "    translation = self.translate(input)\n",
      "                  ^^^^^^^^^^^^^^^^^^^^^\n",
      "  File \"/home/j/Documents/MLotsawa/.venv/lib/python3.12/site-packages/mlotsawa/webui.py\", line 48, in translate\n",
      "    transliterator = Transliterator()\n",
      "                     ^^^^^^^^^^^^^^^^\n",
      "  File \"/home/j/Documents/MLotsawa/.venv/lib/python3.12/site-packages/mlotsawa/transliterator.py\", line 8, in __init__\n",
      "    self.pipe = pipeline('translation', 'billingsmoore/tibetan-phonetic-transliteration')\n",
      "                ^^^^^^^^^^^^^^^^^^^^^^^^^^^^^^^^^^^^^^^^^^^^^^^^^^^^^^^^^^^^^^^^^^^^^^^^^\n",
      "  File \"/home/j/Documents/MLotsawa/.venv/lib/python3.12/site-packages/transformers/pipelines/__init__.py\", line 1180, in pipeline\n",
      "    return pipeline_class(model=model, framework=framework, task=task, **kwargs)\n",
      "           ^^^^^^^^^^^^^^^^^^^^^^^^^^^^^^^^^^^^^^^^^^^^^^^^^^^^^^^^^^^^^^^^^^^^^\n",
      "  File \"/home/j/Documents/MLotsawa/.venv/lib/python3.12/site-packages/transformers/pipelines/text2text_generation.py\", line 67, in __init__\n",
      "    super().__init__(*args, **kwargs)\n",
      "  File \"/home/j/Documents/MLotsawa/.venv/lib/python3.12/site-packages/transformers/pipelines/base.py\", line 988, in __init__\n",
      "    self.model.to(self.device)\n",
      "  File \"/home/j/Documents/MLotsawa/.venv/lib/python3.12/site-packages/transformers/modeling_utils.py\", line 3712, in to\n",
      "    return super().to(*args, **kwargs)\n",
      "           ^^^^^^^^^^^^^^^^^^^^^^^^^^^\n",
      "  File \"/home/j/Documents/MLotsawa/.venv/lib/python3.12/site-packages/torch/nn/modules/module.py\", line 1343, in to\n",
      "    return self._apply(convert)\n",
      "           ^^^^^^^^^^^^^^^^^^^^\n",
      "  File \"/home/j/Documents/MLotsawa/.venv/lib/python3.12/site-packages/torch/nn/modules/module.py\", line 903, in _apply\n",
      "    module._apply(fn)\n",
      "  File \"/home/j/Documents/MLotsawa/.venv/lib/python3.12/site-packages/torch/nn/modules/module.py\", line 930, in _apply\n",
      "    param_applied = fn(param)\n",
      "                    ^^^^^^^^^\n",
      "  File \"/home/j/Documents/MLotsawa/.venv/lib/python3.12/site-packages/torch/nn/modules/module.py\", line 1329, in convert\n",
      "    return t.to(\n",
      "           ^^^^^\n",
      "RuntimeError: CUDA error: CUDA-capable device(s) is/are busy or unavailable\n",
      "CUDA kernel errors might be asynchronously reported at some other API call, so the stacktrace below might be incorrect.\n",
      "For debugging consider passing CUDA_LAUNCH_BLOCKING=1\n",
      "Compile with `TORCH_USE_CUDA_DSA` to enable device-side assertions.\n",
      "\n"
     ]
    }
   ],
   "source": [
    "from mlotsawa.webui import WebUI\n",
    "\n",
    "webui = WebUI()\n",
    "\n",
    "webui.run()"
   ]
  }
 ],
 "metadata": {
  "kernelspec": {
   "display_name": ".venv",
   "language": "python",
   "name": "python3"
  },
  "language_info": {
   "codemirror_mode": {
    "name": "ipython",
    "version": 3
   },
   "file_extension": ".py",
   "mimetype": "text/x-python",
   "name": "python",
   "nbconvert_exporter": "python",
   "pygments_lexer": "ipython3",
   "version": "3.12.7"
  }
 },
 "nbformat": 4,
 "nbformat_minor": 5
}
