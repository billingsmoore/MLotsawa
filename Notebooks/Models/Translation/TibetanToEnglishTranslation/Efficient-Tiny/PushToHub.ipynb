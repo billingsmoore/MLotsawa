{
 "cells": [
  {
   "cell_type": "code",
   "execution_count": 1,
   "metadata": {},
   "outputs": [],
   "source": [
    "from transformers import AutoTokenizer, DataCollatorForSeq2Seq, AutoModelForSeq2SeqLM\n",
    "\n",
    "tokenizer = AutoTokenizer.from_pretrained('billingsmoore/getok-v0')\n",
    "model = AutoModelForSeq2SeqLM.from_pretrained(\"finetuned-tiny-model\")"
   ]
  },
  {
   "cell_type": "code",
   "execution_count": 2,
   "metadata": {},
   "outputs": [
    {
     "data": {
      "text/plain": [
       "CommitInfo(commit_url='https://huggingface.co/billingsmoore/mlotsawa-ground-tiny/commit/653c4a1ca21adfe49c981c62262dcaa1a3718b3d', commit_message='Upload tokenizer', commit_description='', oid='653c4a1ca21adfe49c981c62262dcaa1a3718b3d', pr_url=None, repo_url=RepoUrl('https://huggingface.co/billingsmoore/mlotsawa-ground-tiny', endpoint='https://huggingface.co', repo_type='model', repo_id='billingsmoore/mlotsawa-ground-tiny'), pr_revision=None, pr_num=None)"
      ]
     },
     "execution_count": 2,
     "metadata": {},
     "output_type": "execute_result"
    }
   ],
   "source": [
    "tokenizer.push_to_hub('billingsmoore/mlotsawa-ground-tiny', private=True)"
   ]
  },
  {
   "cell_type": "code",
   "execution_count": 3,
   "metadata": {},
   "outputs": [
    {
     "data": {
      "application/vnd.jupyter.widget-view+json": {
       "model_id": "93d9d07d2532461aab192cbf63fd8e48",
       "version_major": 2,
       "version_minor": 0
      },
      "text/plain": [
       "README.md:   0%|          | 0.00/5.17k [00:00<?, ?B/s]"
      ]
     },
     "metadata": {},
     "output_type": "display_data"
    },
    {
     "data": {
      "application/vnd.jupyter.widget-view+json": {
       "model_id": "617aebbd35454fcba77a743c6b8841f1",
       "version_major": 2,
       "version_minor": 0
      },
      "text/plain": [
       "Processing Files (0 / 0): |          |  0.00B /  0.00B            "
      ]
     },
     "metadata": {},
     "output_type": "display_data"
    },
    {
     "data": {
      "application/vnd.jupyter.widget-view+json": {
       "model_id": "114ce6a80f2c41d3994d7dfc0f9191b1",
       "version_major": 2,
       "version_minor": 0
      },
      "text/plain": [
       "New Data Upload: |          |  0.00B /  0.00B            "
      ]
     },
     "metadata": {},
     "output_type": "display_data"
    },
    {
     "data": {
      "text/plain": [
       "CommitInfo(commit_url='https://huggingface.co/billingsmoore/mlotsawa-ground-tiny/commit/9528e767d59af7c29041ead6ec84850923cf182c', commit_message='Upload T5ForConditionalGeneration', commit_description='', oid='9528e767d59af7c29041ead6ec84850923cf182c', pr_url=None, repo_url=RepoUrl('https://huggingface.co/billingsmoore/mlotsawa-ground-tiny', endpoint='https://huggingface.co', repo_type='model', repo_id='billingsmoore/mlotsawa-ground-tiny'), pr_revision=None, pr_num=None)"
      ]
     },
     "execution_count": 3,
     "metadata": {},
     "output_type": "execute_result"
    }
   ],
   "source": [
    "model.push_to_hub('billingsmoore/mlotsawa-ground-tiny', private=True)"
   ]
  }
 ],
 "metadata": {
  "kernelspec": {
   "display_name": ".venv",
   "language": "python",
   "name": "python3"
  },
  "language_info": {
   "codemirror_mode": {
    "name": "ipython",
    "version": 3
   },
   "file_extension": ".py",
   "mimetype": "text/x-python",
   "name": "python",
   "nbconvert_exporter": "python",
   "pygments_lexer": "ipython3",
   "version": "3.13.3"
  }
 },
 "nbformat": 4,
 "nbformat_minor": 2
}
