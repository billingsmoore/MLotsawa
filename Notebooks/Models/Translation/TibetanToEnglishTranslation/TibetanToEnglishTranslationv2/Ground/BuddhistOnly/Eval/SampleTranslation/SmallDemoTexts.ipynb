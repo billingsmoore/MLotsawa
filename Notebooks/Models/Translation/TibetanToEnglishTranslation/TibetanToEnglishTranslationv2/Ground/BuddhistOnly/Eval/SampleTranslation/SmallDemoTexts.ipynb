{
 "cells": [
  {
   "cell_type": "markdown",
   "id": "11d8bc52",
   "metadata": {},
   "source": [
    "# Sample Translations"
   ]
  },
  {
   "cell_type": "markdown",
   "id": "d7a95e57",
   "metadata": {},
   "source": [
    "## Advice on Bending Mind Toward the Good by Khenchen Ngawang Palzang\n",
    "\n",
    "**INPUT**\n",
    "\n",
    "གྲུབ་བརྒྱའི་སྤྱི་མེས་པཎ་ཆེན་བི་མ་ལ། །\n",
    "\n",
    "བསམ་བཞིན་སྤྲུལ་པའི་ཟློས་གར་ཉེར་བཟུང་བ། །\n",
    "\n",
    "རྒྱལ་བའི་དབང་པོ་ཀློང་ཆེན་རབ་འབྱམས་པ། །\n",
    "\n",
    "འདི་ཙམ་མ་ཡིན་ཚེ་རབས་གཏན་གྱི་སྐྱབས། ། \n",
    "\n",
    "**TARGET OUTPUT**\n",
    "\n",
    "Grandsire of a hundred siddhas—great scholar, Vimalamitra,\n",
    "\n",
    "And you who fully embraced the spectacle of intentional emanation,\n",
    "\n",
    "Lord of conquerors, Longchen Rabjam—\n",
    "\n",
    "You are my unfailing refuge; not just now, but in the concatenation of my lives. \n",
    "\n",
    "**Machine Translation**\n",
    "\n",
    "['Great paṇḍita Vimalamitra, forefather of hundreds of siddhas,',\n",
    " 'Manifesting in the form of a play,',\n",
    " 'Lord of the victorious ones, Longchen Rabjam,',\n",
    " 'Not just this but the constant refuge throughout all my lives,']"
   ]
  },
  {
   "cell_type": "code",
   "execution_count": 3,
   "id": "77cf9d58",
   "metadata": {},
   "outputs": [
    {
     "name": "stderr",
     "output_type": "stream",
     "text": [
      "Device set to use cpu\n"
     ]
    }
   ],
   "source": [
    "from transformers import pipeline\n",
    "\n",
    "pipe = pipeline('translation', 'billingsmoore/mlotsawa-ground-small')"
   ]
  },
  {
   "cell_type": "code",
   "execution_count": 11,
   "id": "382f191c",
   "metadata": {},
   "outputs": [
    {
     "data": {
      "text/plain": [
       "['Great paṇḍita Vimalamitra, forefather of hundreds of siddhas,',\n",
       " 'Manifesting in the form of a play,',\n",
       " 'Lord of the victorious ones, Longchen Rabjam,',\n",
       " 'Not just this but the constant refuge throughout all my lives,']"
      ]
     },
     "execution_count": 11,
     "metadata": {},
     "output_type": "execute_result"
    }
   ],
   "source": [
    "input = [\"གྲུབ་བརྒྱའི་སྤྱི་མེས་པཎ་ཆེན་བི་མ་ལ། །\", \"བསམ་བཞིན་སྤྲུལ་པའི་ཟློས་གར་ཉེར་བཟུང་བ། །\", \"རྒྱལ་བའི་དབང་པོ་ཀློང་ཆེན་རབ་འབྱམས་པ། །\", \"འདི་ཙམ་མ་ཡིན་ཚེ་རབས་གཏན་གྱི་སྐྱབས། །\"]\n",
    "\n",
    "output = pipe(input)\n",
    "\n",
    "translation = [elt['translation_text'] for elt in output]\n",
    "\n",
    "translation"
   ]
  },
  {
   "cell_type": "markdown",
   "id": "4c985249",
   "metadata": {},
   "source": [
    "## Treasury of Supreme Blessings: A Guru Yoga by Jamyang Khyentse Chökyi Lodrö\n",
    "\n",
    "**INPUT**\n",
    "\n",
    "བདག་སོགས་འགྲོ་བ་སེམས་ཅན་རྣམས།  །\n",
    "\n",
    "བླ་མ་མཆོག་ལ་སྐྱབས་སུ་མཆི།  །\n",
    "\n",
    "འགྲོ་རྣམས་བདེ་ལྡན་སྡུག་བསྔལ་གཞོམ།  །\n",
    "\n",
    "སངས་རྒྱས་ས་ལ་འགོད་པར་བགྱི།  །\n",
    "\n",
    "**TARGET OUTPUT**\n",
    "\n",
    "Together with other sentient beings,\n",
    "\n",
    "I take refuge in the supreme guru.\n",
    "\n",
    "So that beings may have happiness and conquer suffering,\n",
    "\n",
    "I shall establish them at the level of buddhahood.\n",
    "\n",
    "\n",
    "**Machine Translation**\n",
    "\n",
    "['May I and all other sentient beings,',\n",
    " 'In the supreme guru, I take refuge.',\n",
    " 'May all beings enjoy happiness and overcome suffering.',\n",
    " 'And establish them in the level of buddhahood.']"
   ]
  },
  {
   "cell_type": "code",
   "execution_count": 12,
   "id": "94101675",
   "metadata": {},
   "outputs": [
    {
     "data": {
      "text/plain": [
       "['May I and all other sentient beings,',\n",
       " 'In the supreme guru, I take refuge.',\n",
       " 'May all beings enjoy happiness and overcome suffering.',\n",
       " 'And establish them in the level of buddhahood.']"
      ]
     },
     "execution_count": 12,
     "metadata": {},
     "output_type": "execute_result"
    }
   ],
   "source": [
    "input = [\"བདག་སོགས་འགྲོ་བ་སེམས་ཅན་རྣམས།  །\", \"བླ་མ་མཆོག་ལ་སྐྱབས་སུ་མཆི།  །\", \"འགྲོ་རྣམས་བདེ་ལྡན་སྡུག་བསྔལ་གཞོམ།  །\", \"སངས་རྒྱས་ས་ལ་འགོད་པར་བགྱི།  །\"]\n",
    "\n",
    "output = pipe(input)\n",
    "\n",
    "translation = [elt['translation_text'] for elt in output]\n",
    "\n",
    "translation"
   ]
  },
  {
   "cell_type": "markdown",
   "id": "a0b07d96",
   "metadata": {},
   "source": [
    "## Prayer to the Three Roots from A Shower of Precious Blessings by Chokgyur Dechen Lingpa\n",
    "\n",
    "**INPUT**\n",
    "\n",
    "དུས་གསུམ་རྒྱལ་བའི་བཞུགས་གནས་སྐུ་གསུམ་ཞིང་། །\n",
    "\n",
    "མཁའ་སྤྱོད་ཉེར་བཞི་དབང་ཕུག་ལ་སོགས་ལ། །\n",
    "\n",
    "བཞུགས་པའི་དགོངས་བརྡ་སྙན་བརྒྱུད་རིག་འཛིན་ཚོགས། །\n",
    "\n",
    "ཡི་དམ་རྒྱལ་བ་ཞི་ཁྲོ་རབ་འབྱམས་དང་། །\n",
    "\n",
    "དཔའ་བོ་མཁའ་འགྲོ་དམ་ཅན་རྒྱ་མཚོ་ལ། །\n",
    "\n",
    "གསོལ་བ་འདེབས་སོ་འགལ་རྐྱེན་བར་ཆད་སོལ། །\n",
    "\n",
    "བྱང་ཆུབ་ལམ་མཐུན་བསམ་པ་ལྷུན་གྱིས་འགྲུབ། །\n",
    "\n",
    "ནམ་ཞིག་སྐུ་གསུམ་རྒྱལ་ས་ཟིན་པར་ཤོག །\n",
    " \n",
    "**TARGET OUTPUT**\n",
    "\n",
    "All the victors of the three times, in their abode, the trikāya realms;\n",
    "\n",
    "The host of vidyādharas of the wisdom, sign, and oral lineages\n",
    "\n",
    "In the twenty-four celestial realms of Magnetizing, and so forth;\n",
    "\n",
    "The boundless host of victorious peaceful and wrathful yidams;\n",
    "\n",
    "The ocean of ḍākas, ḍākinīs, and oath-bound ones—\n",
    "\n",
    "I pray to you all! Remove adversity and obstacles!\n",
    "\n",
    "Spontaneously fulfill our wishes in accordance with the path of awakening!\n",
    "\n",
    "Before long, may we capture the kingdom of the three kāyas!\n",
    "\n",
    "**Machine Translation**\n",
    "\n",
    "['The abode of the victorious ones of the three times, the three kāyas,',\n",
    " 'In the twenty-four Khecarī cave and the rest,',\n",
    " 'Vidyādharas of the mind, symbols, and whispered lineage,',\n",
    " 'Infinite peaceful and wrathful yidam deities,',\n",
    " 'Ocean of ḍākas, ḍākinīs and oath-bound ones,',\n",
    " 'To you I pray: dispel all adversity and obstacles!',\n",
    " 'May the aspirations that accord with the path of awakening be spontaneously accomplished.',\n",
    " 'At some point, may I capture the kingdom of the three kāyas.']"
   ]
  },
  {
   "cell_type": "code",
   "execution_count": null,
   "id": "0f3c0e0c",
   "metadata": {},
   "outputs": [
    {
     "data": {
      "text/plain": [
       "['The abode of the victorious ones of the three times, the three kāyas,',\n",
       " 'In the twenty-four Khecarī cave and the rest,',\n",
       " 'Vidyādharas of the mind, symbols, and whispered lineage,',\n",
       " 'Infinite peaceful and wrathful yidam deities,',\n",
       " 'Ocean of ḍākas, ḍākinīs and oath-bound ones,',\n",
       " 'To you I pray: dispel all adversity and obstacles!',\n",
       " 'May the aspirations that accord with the path of awakening be spontaneously accomplished.',\n",
       " 'At some point, may I capture the kingdom of the three kāyas.']"
      ]
     },
     "execution_count": 13,
     "metadata": {},
     "output_type": "execute_result"
    }
   ],
   "source": [
    "input = [\"དུས་གསུམ་རྒྱལ་བའི་བཞུགས་གནས་སྐུ་གསུམ་ཞིང་། །\", \"མཁའ་སྤྱོད་ཉེར་བཞི་དབང་ཕུག་ལ་སོགས་ལ། །\", \"བཞུགས་པའི་དགོངས་བརྡ་སྙན་བརྒྱུད་རིག་འཛིན་ཚོགས། །\", \"ཡི་དམ་རྒྱལ་བ་ཞི་ཁྲོ་རབ་འབྱམས་དང་། །\",\n",
    "        \"དཔའ་བོ་མཁའ་འགྲོ་དམ་ཅན་རྒྱ་མཚོ་ལ། །\", \"གསོལ་བ་འདེབས་སོ་འགལ་རྐྱེན་བར་ཆད་སོལ། །\", \"བྱང་ཆུབ་ལམ་མཐུན་བསམ་པ་ལྷུན་གྱིས་འགྲུབ། །\", \"ནམ་ཞིག་སྐུ་གསུམ་རྒྱལ་ས་ཟིན་པར་ཤོག །\"]\n",
    "\n",
    "output = pipe(input)\n",
    "\n",
    "translation = [elt['translation_text'] for elt in output]\n",
    "\n",
    "translation"
   ]
  },
  {
   "cell_type": "markdown",
   "id": "39c20089",
   "metadata": {},
   "source": [
    "## Counsel to Tsamdowa Parong Lhawang by Khenchen Ngawang Palzang | Translated by Joseph McClellan and NT Ninjyed, 2025. \n",
    "\n",
    "**Original**\n",
    "\n",
    "༄༅། །ཙམ་མདོ་བ་པ་རོང་ལྷ་དབང་ལ་གདམས་པ། །\n",
    "\n",
    "ཀྱེ་མ་བུ་ངན་མགོ་བོ་ཆེ། །\n",
    "\n",
    "འདི་སྣང་ཞེན་པའི་གདོས་ཐག་འདིས། །\n",
    "\n",
    "ཐོག་མེད་དུས་ནས་འཚེ་འཚེ་ནས། །\n",
    "\n",
    "སྣང་བ་ཡུལ་ཕྱིར་མ་འབྲང་བར། །\n",
    "\n",
    "བློ་སྣ་ནང་དུ་ཁུག་ཅིག་ཨཾ། །\n",
    "\n",
    "\n",
    "རྟག་འཛིན་ཕྱི་ཚེས་གྲབ་ཤོམས་འདིས། །\n",
    "\n",
    "ཆོས་ཀྱི་བར་ཆད་འདི་ཆེ་བས། །\n",
    "\n",
    "མི་རྟག་འཆི་བའི་བློ་སྣ་བསྟུངས། །\n",
    "\n",
    "རྒྱག་ཕྱེ་ཆོས་ལ་ཚུད་ཅིག་ཨཾ། །\n",
    "\n",
    "བདག་འཛིན་གདུག་པའི་འགོང་བོ་འདིས། །\n",
    "\n",
    "རང་གཞན་ཕུང་ལ་སྦྱོར་སྦྱོར་ནས། །\n",
    "\n",
    "ད་ནི་འདི་ལ་སྐྱོན་བལྟས་ཏེ། །\n",
    "\n",
    "ཡུལ་ཕུད་རྗེས་འདོན་བྱེད་པ་ཡིས། །\n",
    "\n",
    "བྱང་སེམས་རྒྱུད་ལ་བརྟེན་ཅིག་ཨཾ། །\n",
    "\n",
    "ཧ་ཅང་བཟང་པོ་མ་སྔ་བར། །\n",
    "\n",
    "དྲན་ཤེས་བག་ཡོད་སྐྱ་བར་ནས། །\n",
    "\n",
    "སྡེ་དཀྲུགས་ས་བརྫད་མ་བྱེད་པར། །\n",
    "\n",
    "འབུངས་གསུམ་ཆོས་ལ་ཐོན་ཅིག་ཨཾ། །\n",
    "\n",
    "ཞལ་གདམས་ཨཾ་ཡིག་བཞི་པ་འདི། །\n",
    "\n",
    "བླ་མ་ངག་དབང་དཔལ་བཟང་གིས། །\n",
    "\n",
    "སློབ་མ་མིའུ་༼ཙམ་མདོ་བ་པ་རོང་ལྷ་དབང་མཆན་༽ཐུང་ལ་བསྐུར། །\n",
    "\n",
    "འདི་ཕྱིར་དགེ་བའི་བཀྲ་ཤིས་ཤོག །\n",
    "\n",
    "**Human Translation**\n",
    "\n",
    "Kye ma! Hey! My errant child, with your inflated head—\n",
    "\n",
    "The mooring lines of your fixation on the world’s appearances,\n",
    "\n",
    "Through beginningless time, over and over, have caused you pain.\n",
    "\n",
    "Now, without chasing after outer, objective appearances,\n",
    "\n",
    "Turn your attention inward.\n",
    "\n",
    "Hey! Believing things last, arranging for the future, these plans of yours—\n",
    "\n",
    "These are enormous obstacles to the Dharma.\n",
    "\n",
    "So, intensify your attention to impermanence and death\n",
    "\n",
    "And dedicate your resources to the Dharma!\n",
    "\n",
    "Hey! This pernicious demon of self-absorption\n",
    "\n",
    "Has yoked you and others to disaster, again and again.\n",
    "\n",
    "Here and now, see its flaws,\n",
    "\n",
    "And, banishing it to exile,\n",
    "\n",
    "Promote bodhicitta in your mindstream.\n",
    "\n",
    "Hey! Getting your act together cannot come soon enough.\n",
    "\n",
    "Hew to mindfulness and circumspection.\n",
    "\n",
    "Without sowing discord and stirring up trouble,\n",
    "\n",
    "Commit yourself wholeheartedly to Dharma!\n",
    "\n",
    "This oral instruction based on four \"heys!\"\n",
    "\n",
    "Was given by Lama Ngawang Palzang\n",
    "\n",
    "To his stunted student, Tsamdo Parong Lhawang.\n",
    "\n",
    "May there be auspicious goodness in this and all his future lives. \n",
    "\n",
    "**Machine Translation**\n",
    "\n",
    "The instruction was given to Langpa Lhawang.\n",
    "\n",
    "Alas, you are a bad child.\n",
    "\n",
    "The ropes of attachment to this life,\n",
    "\n",
    "From time without beginning,\n",
    "\n",
    "Do not pursue sensory appearances,\n",
    "\n",
    "Turn your mind inward. aṃ.\n",
    "\n",
    "Through this pretext of clinging to permanence,\n",
    "\n",
    "This is a great obstacle to the Dharma.\n",
    "\n",
    "Rely on impermanence and death,\n",
    "\n",
    "Enter the Dharma into dust, aṃ!\n",
    "\n",
    "These malevolent demons of self-grasping,\n",
    "\n",
    "Help me and others to ruin me,\n",
    "\n",
    "Now that I have seen this as a fault,\n",
    "\n",
    "By reciting the first portion of the land,\n",
    "\n",
    "Supported by bodhicitta, aṃ.\n",
    "\n",
    "Is not too late, too late.\n",
    "\n",
    "With mindfulness, vigilance and conscientiousness,\n",
    "\n",
    "Do not let dissension be overcome,\n",
    "\n",
    "Bring forth the three kinds of teachings from the Dharma—aṃ!\n",
    "\n",
    "This instruction of the four syllable AṂ,\n",
    "\n",
    "Guru Ngawang Palzang,\n",
    "\n",
    "The disciple Manusulu was sent to Rongpa Lhadede in short.\n",
    "\n",
    "May there be the auspiciousness of virtue here and hereafter!"
   ]
  },
  {
   "cell_type": "code",
   "execution_count": 14,
   "id": "d70fdcc2",
   "metadata": {},
   "outputs": [
    {
     "data": {
      "text/plain": [
       "['The instruction was given to Langpa Lhawang.',\n",
       " 'Alas, you are a bad child.',\n",
       " 'The ropes of attachment to this life,',\n",
       " 'From time without beginning,',\n",
       " 'Do not pursue sensory appearances,',\n",
       " 'Turn your mind inward. aṃ.',\n",
       " 'Through this pretext of clinging to permanence,',\n",
       " 'This is a great obstacle to the Dharma.',\n",
       " 'Rely on impermanence and death,',\n",
       " 'Enter the Dharma into dust, aṃ!',\n",
       " 'These malevolent demons of self-grasping,',\n",
       " 'Help me and others to ruin me,',\n",
       " 'Now that I have seen this as a fault,',\n",
       " 'By reciting the first portion of the land,',\n",
       " 'Supported by bodhicitta, aṃ.',\n",
       " 'Is not too late, too late.',\n",
       " 'With mindfulness, vigilance and conscientiousness,',\n",
       " 'Do not let dissension be overcome,',\n",
       " 'Bring forth the three kinds of teachings from the Dharma—aṃ!',\n",
       " 'This instruction of the four syllable AṂ,',\n",
       " 'Guru Ngawang Palzang,',\n",
       " 'The disciple Manusulu was sent to Rongpa Lhadede in short.',\n",
       " 'May there be the auspiciousness of virtue here and hereafter!']"
      ]
     },
     "execution_count": 14,
     "metadata": {},
     "output_type": "execute_result"
    }
   ],
   "source": [
    "\n",
    "input = [\"༄༅། །ཙམ་མདོ་བ་པ་རོང་ལྷ་དབང་ལ་གདམས་པ། །\", \"ཀྱེ་མ་བུ་ངན་མགོ་བོ་ཆེ། །\", \"འདི་སྣང་ཞེན་པའི་གདོས་ཐག་འདིས། །\", \"ཐོག་མེད་དུས་ནས་འཚེ་འཚེ་ནས། །\", \"སྣང་བ་ཡུལ་ཕྱིར་མ་འབྲང་བར། །\",\n",
    "        \"བློ་སྣ་ནང་དུ་ཁུག་ཅིག་ཨཾ། །\",\"རྟག་འཛིན་ཕྱི་ཚེས་གྲབ་ཤོམས་འདིས། །\",\"ཆོས་ཀྱི་བར་ཆད་འདི་ཆེ་བས། །\", \"མི་རྟག་འཆི་བའི་བློ་སྣ་བསྟུངས། །\", \"རྒྱག་ཕྱེ་ཆོས་ལ་ཚུད་ཅིག་ཨཾ། །\",\n",
    "        \"བདག་འཛིན་གདུག་པའི་འགོང་བོ་འདིས། །\", \"རང་གཞན་ཕུང་ལ་སྦྱོར་སྦྱོར་ནས། །\", \"ད་ནི་འདི་ལ་སྐྱོན་བལྟས་ཏེ། །\", \"ཡུལ་ཕུད་རྗེས་འདོན་བྱེད་པ་ཡིས། །\", \"བྱང་སེམས་རྒྱུད་ལ་བརྟེན་ཅིག་ཨཾ། །\",\n",
    "        \"ཧ་ཅང་བཟང་པོ་མ་སྔ་བར། །\", \"དྲན་ཤེས་བག་ཡོད་སྐྱ་བར་ནས། །\", \"སྡེ་དཀྲུགས་ས་བརྫད་མ་བྱེད་པར། །\", \"འབུངས་གསུམ་ཆོས་ལ་ཐོན་ཅིག་ཨཾ། །\", \"ཞལ་གདམས་ཨཾ་ཡིག་བཞི་པ་འདི། །\", \n",
    "        \"བླ་མ་ངག་དབང་དཔལ་བཟང་གིས། །\", \"སློབ་མ་མིའུ་༼ཙམ་མདོ་བ་པ་རོང་ལྷ་དབང་མཆན་༽ཐུང་ལ་བསྐུར། །\", \"འདི་ཕྱིར་དགེ་བའི་བཀྲ་ཤིས་ཤོག །\"]\n",
    "\n",
    "output = pipe(input)\n",
    "\n",
    "translation = [elt['translation_text'] for elt in output]\n",
    "\n",
    "translation"
   ]
  },
  {
   "cell_type": "code",
   "execution_count": 16,
   "id": "ce7516f0",
   "metadata": {},
   "outputs": [
    {
     "name": "stdout",
     "output_type": "stream",
     "text": [
      "The instruction was given to Langpa Lhawang.\n",
      "Alas, you are a bad child.\n",
      "The ropes of attachment to this life,\n",
      "From time without beginning,\n",
      "Do not pursue sensory appearances,\n",
      "Turn your mind inward. aṃ.\n",
      "Through this pretext of clinging to permanence,\n",
      "This is a great obstacle to the Dharma.\n",
      "Rely on impermanence and death,\n",
      "Enter the Dharma into dust, aṃ!\n",
      "These malevolent demons of self-grasping,\n",
      "Help me and others to ruin me,\n",
      "Now that I have seen this as a fault,\n",
      "By reciting the first portion of the land,\n",
      "Supported by bodhicitta, aṃ.\n",
      "Is not too late, too late.\n",
      "With mindfulness, vigilance and conscientiousness,\n",
      "Do not let dissension be overcome,\n",
      "Bring forth the three kinds of teachings from the Dharma—aṃ!\n",
      "This instruction of the four syllable AṂ,\n",
      "Guru Ngawang Palzang,\n",
      "The disciple Manusulu was sent to Rongpa Lhadede in short.\n",
      "May there be the auspiciousness of virtue here and hereafter!\n"
     ]
    }
   ],
   "source": [
    "print('\\n'.join(translation))"
   ]
  },
  {
   "cell_type": "code",
   "execution_count": 17,
   "id": "3d95024c",
   "metadata": {},
   "outputs": [
    {
     "name": "stdout",
     "output_type": "stream",
     "text": [
      "| Original | Human Translation | Machine Translation |\n",
      "| :------- | :---------------- | :------------------ |\n",
      "| ༄༅། །ཙམ་མདོ་བ་པ་རོང་ལྷ་དབང་ལ་གདམས་པ། །<br>ཀྱེ་མ་བུ་ངན་མགོ་བོ་ཆེ། །<br>འདི་སྣང་ཞེན་པའི་གདོས་ཐག་འདིས། །<br>ཐོག་མེད་དུས་ནས་འཚེ་འཚེ་ནས། །<br>སྣང་བ་ཡུལ་ཕྱིར་མ་འབྲང་བར། །<br>བློ་སྣ་ནང་དུ་ཁུག་ཅིག་ཨཾ། །<br>རྟག་འཛིན་ཕྱི་ཚེས་གྲབ་ཤོམས་འདིས། །<br>ཆོས་ཀྱི་བར་ཆད་འདི་ཆེ་བས། །<br>མི་རྟག་འཆི་བའི་བློ་སྣ་བསྟུངས། །<br>རྒྱག་ཕྱེ་ཆོས་ལ་ཚུད་ཅིག་ཨཾ། །<br>བདག་འཛིན་གདུག་པའི་འགོང་བོ་འདིས། །<br>རང་གཞན་ཕུང་ལ་སྦྱོར་སྦྱོར་ནས། །<br>ད་ནི་འདི་ལ་སྐྱོན་བལྟས་ཏེ། །<br>ཡུལ་ཕུད་རྗེས་འདོན་བྱེད་པ་ཡིས། །<br>བྱང་སེམས་རྒྱུད་ལ་བརྟེན་ཅིག་ཨཾ། །<br>ཧ་ཅང་བཟང་པོ་མ་སྔ་བར། །<br>དྲན་ཤེས་བག་ཡོད་སྐྱ་བར་ནས། །<br>སྡེ་དཀྲུགས་ས་བརྫད་མ་བྱེད་པར། །<br>འབུངས་གསུམ་ཆོས་ལ་ཐོན་ཅིག་ཨཾ། །<br>ཞལ་གདམས་ཨཾ་ཡིག་བཞི་པ་འདི། །<br>བླ་མ་ངག་དབང་དཔལ་བཟང་གིས། །<br>སློབ་མ་མིའུ་༼ཙམ་མདོ་བ་པ་རོང་ལྷ་དབང་མཆན་༽ཐུང་ལ་བསྐུར། །<br>འདི་ཕྱིར་དགེ་བའི་བཀྲ་ཤིས་ཤོག ། | Kye ma! Hey! My errant child, with your inflated head—<br>The mooring lines of your fixation on the world's appearances,<br>Through beginningless time, over and over, have caused you pain.<br>Now, without chasing after outer, objective appearances,<br>Turn your attention inward.<br>Hey! Believing things last, arranging for the future, these plans of yours—<br>These are enormous obstacles to the Dharma.<br>So, intensify your attention to impermanence and death<br>And dedicate your resources to the Dharma!<br>Hey! This pernicious demon of self-absorption<br>Has yoked you and others to disaster, again and again.<br>Here and now, see its flaws,<br>And, banishing it to exile,<br>Promote bodhicitta in your mindstream.<br>Hey! Getting your act together cannot come soon enough.<br>Hew to mindfulness and circumspection.<br>Without sowing discord and stirring up trouble,<br>Commit yourself wholeheartedly to Dharma!<br>This oral instruction based on four \"heys!\"<br>Was given by Lama Ngawang Palzang<br>To his stunted student, Tsamdo Parong Lhawang.<br>May there be auspicious goodness in this and all his future lives. | The instruction was given to Langpa Lhawang.<br>Alas, you are a bad child.<br>The ropes of attachment to this life,<br>From time without beginning,<br>Do not pursue sensory appearances,<br>Turn your mind inward. aṃ.<br>Through this pretext of clinging to permanence,<br>This is a great obstacle to the Dharma.<br>Rely on impermanence and death,<br>Enter the Dharma into dust, aṃ!<br>These malevolent demons of self-grasping,<br>Help me and others to ruin me,<br>Now that I have seen this as a fault,<br>By reciting the first portion of the land,<br>Supported by bodhicitta, aṃ.<br>Is not too late, too late.<br>With mindfulness, vigilance and conscientiousness,<br>Do not let dissension be overcome,<br>Bring forth the three kinds of teachings from the Dharma—aṃ!<br>This instruction of the four syllable AṂ,<br>Guru Ngawang Palzang,<br>The disciple Manusulu was sent to Rongpa Lhadede in short.<br>May there be the auspiciousness of virtue here and hereafter! |\n"
     ]
    }
   ],
   "source": [
    "# Script to create Markdown table with <br> line breaks automatically\n",
    "\n",
    "def make_table(original, human, machine):\n",
    "    def format_block(block):\n",
    "        lines = [line.strip() for line in block.strip().split('\\n') if line.strip()]\n",
    "        return '<br>'.join(lines)\n",
    "\n",
    "    original_formatted = format_block(original)\n",
    "    human_formatted = format_block(human)\n",
    "    machine_formatted = format_block(machine)\n",
    "\n",
    "    markdown = f\"\"\"\n",
    "| Original | Human Translation | Machine Translation |\n",
    "| :------- | :---------------- | :------------------ |\n",
    "| {original_formatted} | {human_formatted} | {machine_formatted} |\n",
    "\"\"\"\n",
    "    return markdown.strip()\n",
    "\n",
    "# Example Usage:\n",
    "\n",
    "original = '''\n",
    "\n",
    "༄༅། །ཙམ་མདོ་བ་པ་རོང་ལྷ་དབང་ལ་གདམས་པ། །\n",
    "\n",
    "ཀྱེ་མ་བུ་ངན་མགོ་བོ་ཆེ། །\n",
    "འདི་སྣང་ཞེན་པའི་གདོས་ཐག་འདིས། །\n",
    "ཐོག་མེད་དུས་ནས་འཚེ་འཚེ་ནས། །\n",
    "སྣང་བ་ཡུལ་ཕྱིར་མ་འབྲང་བར། །\n",
    "བློ་སྣ་ནང་དུ་ཁུག་ཅིག་ཨཾ། །\n",
    "\n",
    "རྟག་འཛིན་ཕྱི་ཚེས་གྲབ་ཤོམས་འདིས། །\n",
    "ཆོས་ཀྱི་བར་ཆད་འདི་ཆེ་བས། །\n",
    "མི་རྟག་འཆི་བའི་བློ་སྣ་བསྟུངས། །\n",
    "རྒྱག་ཕྱེ་ཆོས་ལ་ཚུད་ཅིག་ཨཾ། །\n",
    "\n",
    "བདག་འཛིན་གདུག་པའི་འགོང་བོ་འདིས། །\n",
    "རང་གཞན་ཕུང་ལ་སྦྱོར་སྦྱོར་ནས། །\n",
    "ད་ནི་འདི་ལ་སྐྱོན་བལྟས་ཏེ། །\n",
    "ཡུལ་ཕུད་རྗེས་འདོན་བྱེད་པ་ཡིས། །\n",
    "བྱང་སེམས་རྒྱུད་ལ་བརྟེན་ཅིག་ཨཾ། །\n",
    "\n",
    "ཧ་ཅང་བཟང་པོ་མ་སྔ་བར། །\n",
    "དྲན་ཤེས་བག་ཡོད་སྐྱ་བར་ནས། །\n",
    "སྡེ་དཀྲུགས་ས་བརྫད་མ་བྱེད་པར། །\n",
    "འབུངས་གསུམ་ཆོས་ལ་ཐོན་ཅིག་ཨཾ། །\n",
    "\n",
    "ཞལ་གདམས་ཨཾ་ཡིག་བཞི་པ་འདི། །\n",
    "བླ་མ་ངག་དབང་དཔལ་བཟང་གིས། །\n",
    "སློབ་མ་མིའུ་༼ཙམ་མདོ་བ་པ་རོང་ལྷ་དབང་མཆན་༽ཐུང་ལ་བསྐུར། །\n",
    "འདི་ཕྱིར་དགེ་བའི་བཀྲ་ཤིས་ཤོག །\n",
    "'''\n",
    "\n",
    "human = '''\n",
    "Kye ma! Hey! My errant child, with your inflated head—\n",
    "The mooring lines of your fixation on the world's appearances,\n",
    "Through beginningless time, over and over, have caused you pain.\n",
    "Now, without chasing after outer, objective appearances,\n",
    "Turn your attention inward.\n",
    "\n",
    "Hey! Believing things last, arranging for the future, these plans of yours—\n",
    "These are enormous obstacles to the Dharma.\n",
    "So, intensify your attention to impermanence and death\n",
    "And dedicate your resources to the Dharma!\n",
    "\n",
    "Hey! This pernicious demon of self-absorption\n",
    "Has yoked you and others to disaster, again and again.\n",
    "Here and now, see its flaws,\n",
    "And, banishing it to exile,\n",
    "Promote bodhicitta in your mindstream.\n",
    "\n",
    "Hey! Getting your act together cannot come soon enough.\n",
    "Hew to mindfulness and circumspection.\n",
    "Without sowing discord and stirring up trouble,\n",
    "Commit yourself wholeheartedly to Dharma!\n",
    "\n",
    "This oral instruction based on four \"heys!\"\n",
    "Was given by Lama Ngawang Palzang\n",
    "To his stunted student, Tsamdo Parong Lhawang.\n",
    "May there be auspicious goodness in this and all his future lives. \n",
    "'''\n",
    "\n",
    "machine = '''\n",
    "The instruction was given to Langpa Lhawang.\n",
    "Alas, you are a bad child.\n",
    "The ropes of attachment to this life,\n",
    "From time without beginning,\n",
    "Do not pursue sensory appearances,\n",
    "Turn your mind inward. aṃ.\n",
    "Through this pretext of clinging to permanence,\n",
    "This is a great obstacle to the Dharma.\n",
    "Rely on impermanence and death,\n",
    "Enter the Dharma into dust, aṃ!\n",
    "These malevolent demons of self-grasping,\n",
    "Help me and others to ruin me,\n",
    "Now that I have seen this as a fault,\n",
    "By reciting the first portion of the land,\n",
    "Supported by bodhicitta, aṃ.\n",
    "Is not too late, too late.\n",
    "With mindfulness, vigilance and conscientiousness,\n",
    "Do not let dissension be overcome,\n",
    "Bring forth the three kinds of teachings from the Dharma—aṃ!\n",
    "This instruction of the four syllable AṂ,\n",
    "Guru Ngawang Palzang,\n",
    "The disciple Manusulu was sent to Rongpa Lhadede in short.\n",
    "May there be the auspiciousness of virtue here and hereafter!\n",
    "'''\n",
    "\n",
    "print(make_table(original, human, machine))\n"
   ]
  },
  {
   "cell_type": "markdown",
   "id": "fd8ac480",
   "metadata": {},
   "source": [
    "Prayer to Śākyamuni1 by Tersé Drimé Özer | Translated by Joseph McClellan, 2025.\n",
    "\n",
    " \n",
    "\n",
    "ཉོན་མོངས་བདུད་ཀྱི་སྡེ་ཚོགས་བཅོམ༔\n",
    "བསོད་ནམས་ཡེ་ཤེས་ཕུང་པོར་ལྡན༔\n",
    "སྲིད་དང་ཞི་བའི་མཐའ་ལས་འདས༔\n",
    "ཤཱཀྱའི་ཏོག་ལ་གསོལ་བ་འདེབས༔\n",
    "འཇིགས་བརྒྱད་ཞི་བར་བྱིན་གྱིས་རློབས༔\n",
    "\n",
    "You vanquished the hordes of the māra of afflictions,\n",
    "Endowed yourself with masses of merit and wisdom,\n",
    "And transcended the limitations of saṃsāra and nirvāṇa.\n",
    "To you, crown jewel of the Śākyas, I pray.\n",
    "Please bless me to overcome the eight fears.\n",
    "\n",
    "\n",
    "སྐྱེ་དང་ཚེ་རབས་ཐམས་ཅད་དུ༔\n",
    "སླར་ཡང་ལྷག་པའི་ལུས་ཐོབ་ནས༔\n",
    "འགྲོ་རྣམས་སྡུག་བསྔལ་ལས་གྲོལ་བའི༔\n",
    "དེད་དཔོན་མཆོག་ཏུ་བདག་གྱུར་ཤོག༔\n",
    "\n",
    "In all my future lives,\n",
    "May I attain an exceptional human body\n",
    "And become a supreme guide for beings,\n",
    "Freeing them from all their pain."
   ]
  },
  {
   "cell_type": "code",
   "execution_count": 1,
   "id": "a2f67018",
   "metadata": {},
   "outputs": [
    {
     "data": {
      "application/vnd.jupyter.widget-view+json": {
       "model_id": "52d594ba43b346a987de16eddb8f2b98",
       "version_major": 2,
       "version_minor": 0
      },
      "text/plain": [
       "config.json:   0%|          | 0.00/1.19k [00:00<?, ?B/s]"
      ]
     },
     "metadata": {},
     "output_type": "display_data"
    },
    {
     "data": {
      "application/vnd.jupyter.widget-view+json": {
       "model_id": "107231dfa01b41438fb8182c59eb2dee",
       "version_major": 2,
       "version_minor": 0
      },
      "text/plain": [
       "model.safetensors:   0%|          | 0.00/242M [00:00<?, ?B/s]"
      ]
     },
     "metadata": {},
     "output_type": "display_data"
    },
    {
     "data": {
      "application/vnd.jupyter.widget-view+json": {
       "model_id": "47dc32b491f24e419dfdf37180119efc",
       "version_major": 2,
       "version_minor": 0
      },
      "text/plain": [
       "generation_config.json:   0%|          | 0.00/112 [00:00<?, ?B/s]"
      ]
     },
     "metadata": {},
     "output_type": "display_data"
    },
    {
     "data": {
      "application/vnd.jupyter.widget-view+json": {
       "model_id": "4e53670bc5174d72ababadd2e2a79e1b",
       "version_major": 2,
       "version_minor": 0
      },
      "text/plain": [
       "tokenizer_config.json:   0%|          | 0.00/1.14k [00:00<?, ?B/s]"
      ]
     },
     "metadata": {},
     "output_type": "display_data"
    },
    {
     "data": {
      "application/vnd.jupyter.widget-view+json": {
       "model_id": "1c5069716c3d45b4b290a25b621eea0b",
       "version_major": 2,
       "version_minor": 0
      },
      "text/plain": [
       "tokenizer.json:   0%|          | 0.00/2.80M [00:00<?, ?B/s]"
      ]
     },
     "metadata": {},
     "output_type": "display_data"
    },
    {
     "data": {
      "application/vnd.jupyter.widget-view+json": {
       "model_id": "96a8463c9fd94e99aa63650846f57140",
       "version_major": 2,
       "version_minor": 0
      },
      "text/plain": [
       "special_tokens_map.json:   0%|          | 0.00/555 [00:00<?, ?B/s]"
      ]
     },
     "metadata": {},
     "output_type": "display_data"
    },
    {
     "name": "stderr",
     "output_type": "stream",
     "text": [
      "/home/j/Documents/MLotsawa/.venv/lib/python3.12/site-packages/transformers/pipelines/__init__.py:1156: UserWarning: \"translation\" task was used, instead of \"translation_XX_to_YY\", defaulting to \"translation_bo_to_en\"\n",
      "  warnings.warn(\n",
      "Device set to use cuda:0\n"
     ]
    }
   ],
   "source": [
    "from transformers import pipeline\n",
    "\n",
    "pipe = pipeline('translation', 'billingsmoore/mlotsawa-ground-small', device='cuda:0')"
   ]
  },
  {
   "cell_type": "code",
   "execution_count": 2,
   "id": "41f38892",
   "metadata": {},
   "outputs": [
    {
     "data": {
      "text/plain": [
       "['Destroy the hordes of demons of destructive emotions.',\n",
       " 'You are a mass of merit and wisdom.',\n",
       " 'Beyond the extremes of existence and peace.',\n",
       " 'To the Crown of the Śākyas I pray!',\n",
       " 'And pacify the eight fears!']"
      ]
     },
     "execution_count": 2,
     "metadata": {},
     "output_type": "execute_result"
    }
   ],
   "source": [
    "input = [\"ཉོན་མོངས་བདུད་ཀྱི་སྡེ་ཚོགས་བཅོམ༔\", \"བསོད་ནམས་ཡེ་ཤེས་ཕུང་པོར་ལྡན༔\", \"སྲིད་དང་ཞི་བའི་མཐའ་ལས་འདས༔\", \"ཤཱཀྱའི་ཏོག་ལ་གསོལ་བ་འདེབས༔\", \"འཇིགས་བརྒྱད་ཞི་བར་བྱིན་གྱིས་རློབས༔\"]\n",
    "\n",
    "output = pipe(input)\n",
    "\n",
    "translation = [elt['translation_text'] for elt in output]\n",
    "\n",
    "translation"
   ]
  },
  {
   "cell_type": "code",
   "execution_count": 3,
   "id": "1d70da39",
   "metadata": {},
   "outputs": [
    {
     "data": {
      "text/plain": [
       "['Throughout all my births and lives to come',\n",
       " 'Once again I obtain a special body',\n",
       " 'May all beings be freed from suffering',\n",
       " 'May I become the supreme captain!']"
      ]
     },
     "execution_count": 3,
     "metadata": {},
     "output_type": "execute_result"
    }
   ],
   "source": [
    "input = [\"སྐྱེ་དང་ཚེ་རབས་ཐམས་ཅད་དུ༔\", \"སླར་ཡང་ལྷག་པའི་ལུས་ཐོབ་ནས༔\", \"འགྲོ་རྣམས་སྡུག་བསྔལ་ལས་གྲོལ་བའི༔\", \"དེད་དཔོན་མཆོག་ཏུ་བདག་གྱུར་ཤོག༔\"]\n",
    "\n",
    "output = pipe(input)\n",
    "\n",
    "translation = [elt['translation_text'] for elt in output]\n",
    "\n",
    "translation"
   ]
  },
  {
   "cell_type": "markdown",
   "id": "a65c8880",
   "metadata": {},
   "source": [
    "## The Story of Lady Fe from the Ḍākinīs' Great Dharma Treasury | Translated by Joseph McClellan, 2025.\n",
    "\n",
    "\n",
    "༄༅། །ཕེ་ཚང་གི་མནའ་མ།\n",
    "\n",
    "ཧྥེན་ཡང་ཞེས་པའི་ཡུལ་གྲུ་ཞིག་ན་རུས་ཕེ་ཚང་ལ་མནའ་མ་ཞིག་ཡོད་པ་དེས་ཚེ་གང་ལ་བློ་རྩེ་འོད་དཔག་མེད་ལ་གཏད་དེ་འོད་མཚན་བཏོན། གྲངས་ཡང་སྲན་མ་ཆུང་ངུ་ཡིས་བགྲང་པར་བྱས་ཏེ་སྲན་ཆུང་བསགས་པ་ན་བྲེ་བཅུ་གསུམ་གང་བར་གྱུར། ཚེ་ལས་འདས་སྐབས་མོས་ཁྱིམ་མི་རྣམས་ལ་སངས་རྒྱས་རྣམས་ཀྱིས་བདག་ལ་པདྨའི་གདན་གནང་སོང་བས་བདག་ད་བདེ་བ་ཅན་འགྲོ་རན་ཞེས་བཤད་ནས་ལུས་ཚུགས་བསྲང་སྟེ་ཚེ་ལས་འདས། དེ་མ་ཐག་ཏུ་ནམ་མཁའ་ནས་མེ་ཏོག་སྣ་ལྔའི་ཆར་བ་བབས་པ་སོགས་བཀྲ་ཤིས་པའི་ལྟས་བཟང་བར་མི་ཀུན་གྱིས་མཐོང་ཆོས་སུ་གྱུར། མཁན་མོ་ཟླ་བ་སྒྲོལ་མས་རྒྱ་ནག་གི་ཡི་གེ་ལས་བོད་ཡིག་ཏུ་བསྒྱུར།།\n",
    "\n",
    "\n",
    "In a region called Hfen Yang,[2] there was a woman who belonged to the Fe clan. Throughout her entire life, she focused her mind on the buddha Amitābha and recited his name. To count her recitations, she used small lentils. When put all together, they amounted to thirteen dre measures.[3]\n",
    "\n",
    "When she was on her deathbed, she said to her family, “The buddhas have prepared a throne for me. It’s time for me to go to Sukhāvatī.” She then straightened her body and passed away.\n",
    "\n",
    "It is said that just that moment, flowers of five colors rained from the sky, and all the local people witnessed auspicious signs. \n",
    "This was translated from Chinese into Tibetan by Khenmo Dawa Drolma."
   ]
  },
  {
   "cell_type": "code",
   "execution_count": 7,
   "id": "48b32987",
   "metadata": {},
   "outputs": [
    {
     "name": "stderr",
     "output_type": "stream",
     "text": [
      "/home/j/Documents/MLotsawa/.venv/lib/python3.12/site-packages/transformers/pipelines/__init__.py:1156: UserWarning: \"translation\" task was used, instead of \"translation_XX_to_YY\", defaulting to \"translation_bo_to_en\"\n",
      "  warnings.warn(\n",
      "Device set to use cpu\n"
     ]
    }
   ],
   "source": [
    "from transformers import pipeline\n",
    "\n",
    "pipe = pipeline('translation', 'billingsmoore/mlotsawa-ground-small', device='cpu')"
   ]
  },
  {
   "cell_type": "code",
   "execution_count": 8,
   "id": "6db2cfc1",
   "metadata": {},
   "outputs": [
    {
     "data": {
      "text/plain": [
       "['In Fazlullah’s country there was a woman in the family who gave her the name of Amitabha to her life.',\n",
       " 'The number is counted as small beans and when small beans accumulate, it becomes thirteen bushels.']"
      ]
     },
     "execution_count": 8,
     "metadata": {},
     "output_type": "execute_result"
    }
   ],
   "source": [
    "input = [\"ཧྥེན་ཡང་ཞེས་པའི་ཡུལ་གྲུ་ཞིག་ན་རུས་ཕེ་ཚང་ལ་མནའ་མ་ཞིག་ཡོད་པ་དེས་ཚེ་གང་ལ་བློ་རྩེ་འོད་དཔག་མེད་ལ་གཏད་དེ་འོད་མཚན་བཏོན།\", \"གྲངས་ཡང་སྲན་མ་ཆུང་ངུ་ཡིས་བགྲང་པར་བྱས་ཏེ་སྲན་ཆུང་བསགས་པ་ན་བྲེ་བཅུ་གསུམ་གང་བར་གྱུར།\" ]\n",
    "\n",
    "output = pipe(input)\n",
    "\n",
    "translation = [elt['translation_text'] for elt in output]\n",
    "\n",
    "translation"
   ]
  },
  {
   "cell_type": "code",
   "execution_count": 9,
   "id": "3a843044",
   "metadata": {},
   "outputs": [
    {
     "data": {
      "text/plain": [
       "['When she died, she said to the householders, “Since the buddhas have given me lotus seats, I will go to Sukhavati.”',\n",
       " 'Immediately after that, a rain of five kinds of flowers fell from the sky and everyone witnessed auspicious signs as auspicious signs. The abbot Dawa Dolma translated the Tibetan script from Chinese script.']"
      ]
     },
     "execution_count": 9,
     "metadata": {},
     "output_type": "execute_result"
    }
   ],
   "source": [
    "input = [\"ཚེ་ལས་འདས་སྐབས་མོས་ཁྱིམ་མི་རྣམས་ལ་སངས་རྒྱས་རྣམས་ཀྱིས་བདག་ལ་པདྨའི་གདན་གནང་སོང་བས་བདག་ད་བདེ་བ་ཅན་འགྲོ་རན་ཞེས་བཤད་ནས་ལུས་ཚུགས་བསྲང་སྟེ་ཚེ་ལས་འདས།\", \"དེ་མ་ཐག་ཏུ་ནམ་མཁའ་ནས་མེ་ཏོག་སྣ་ལྔའི་ཆར་བ་བབས་པ་སོགས་བཀྲ་ཤིས་པའི་ལྟས་བཟང་བར་མི་ཀུན་གྱིས་མཐོང་ཆོས་སུ་གྱུར།\" \"མཁན་མོ་ཟླ་བ་སྒྲོལ་མས་རྒྱ་ནག་གི་ཡི་གེ་ལས་བོད་ཡིག་ཏུ་བསྒྱུར།།\"]\n",
    "\n",
    "output = pipe(input)\n",
    "\n",
    "translation = [elt['translation_text'] for elt in output]\n",
    "\n",
    "translation"
   ]
  },
  {
   "cell_type": "markdown",
   "id": "9b33a401",
   "metadata": {},
   "source": [
    "## Protection from All Fears A Prayer to Ārya Tārā from the Reality Ḍākinīs’ Secret Treasury (Chönyi Khandrö Sangdzö) by Sera Khandro | Translated by Adam Pearcey, 2025.\n",
    "\n",
    "ཀ་དག་སྤྲོས་བྲལ་འོད་གསལ་རིག་པའི་དབྱིངས༔\n",
    "ལྷུན་གྲུབ་སྣང་ཆ་མ་འགགས་སྒྱུ་འཕྲུལ་གར༔\n",
    "ཐུགས་རྗེ་རྒྱལ་བ་ཀུན་གྱི་ཡུམ་གཅིག་མ༔\n",
    "རྗེ་བཙུན་ཨཱརྱ་ཏཱ་རེ་ཚེ་སྦྱིན་དཔལ༔\n",
    "གསོལ་བ་འདེབས་སོ་རླུང་སེམས་དབང་བསྡུས་ནས༔\n",
    "ཚེ་དང་བསོད་ནམས་འཕེལ་བར་མཛད་དུ་གསོལ༔\n",
    "\n",
    "Out of the primordially pure unelaborate space of luminous awareness,\n",
    "As the magical manifestation of unobstructed spontaneous presence,\n",
    "Arises the compassionate one, the one and only mother of all victorious ones,\n",
    "Noble Lady Ārya Tārā, glorious bestower of longevity,\n",
    "To you I pray! Take control of my vital winds and mind,\n",
    "And increase my lifespan and merit!\n",
    "\n",
    "ཁྱེད་ལ་བསྟོད་ཅིང་གསོལ་བ་བཏབ་པའི་མཐུས༔\n",
    "བདག་གི་ཚེ་བསོད་དཔལ་འབྱོར་རྒྱས་པ་དང་༔\n",
    "འཇིགས་པ་བཅུ་དྲུག་རྐྱེན་ངན་བར་ཆད་སོལ༔\n",
    "\n",
    "Through the power of praising and praying to you,\n",
    "May my lifespan, merit, splendour and wealth increase,\n",
    "And the sixteen fears,1 adversity and obstacles be dispelled.\n",
    "\n",
    "འགྲོ་ལ་གནོད་པའི་གདོན་འགེགས་འབྱུང་པོ་ཐུལ༔\n",
    "བསྟན་ལ་འཚེ་བྱེད་དམ་སྲི་མ་ལུས་པ༔\n",
    "མ་ཁྱོད་ཐུགས་རྗེ་ནུས་མཐུའི་སྟོབས་རྩལ་གྱིས༔\n",
    "མ་ལུས་ཞི་ཞིང་བསྟན་པ་རྒྱས་པར་མཛོད༔\n",
    "\n",
    "Subjugate spirits and disruptive forces who prey upon beings,\n",
    "And may all those damsi demons who would harm the teachings\n",
    "Be pacified through the force of your compassionate power and strength,\n",
    "So that the teachings spread far and wide.\n",
    "\n",
    "བསྟན་འཛིན་དམ་པའི་སྐུ་ཚེ་བསྲིང་བ་དང་༔\n",
    "དགེ་འདུན་སྡེ་ཚོགས་འཕེལ་བར་བྱིན་གྱིས་རློབས༔\n",
    "\n",
    "Grant your blessings, so that the lives of the noble holders of the teachings may be extended,\n",
    "And the saṅgha community may flourish and grow."
   ]
  },
  {
   "cell_type": "code",
   "execution_count": 10,
   "id": "ae42ffe7",
   "metadata": {},
   "outputs": [
    {
     "data": {
      "text/plain": [
       "['Within the space of awareness—primordial purity free of elaboration—',\n",
       " 'Illusory dance of spontaneously present appearances unceasing',\n",
       " 'Only mother of all the buddhas of compassion',\n",
       " 'Noble Ārya Tārā glorious Tārā',\n",
       " 'To you I pray: bringing the vāyu-mind under control',\n",
       " 'And increase our lifespan and merit.']"
      ]
     },
     "execution_count": 10,
     "metadata": {},
     "output_type": "execute_result"
    }
   ],
   "source": [
    "input = [\"ཀ་དག་སྤྲོས་བྲལ་འོད་གསལ་རིག་པའི་དབྱིངས༔\",\n",
    "\"ལྷུན་གྲུབ་སྣང་ཆ་མ་འགགས་སྒྱུ་འཕྲུལ་གར༔\",\n",
    "\"ཐུགས་རྗེ་རྒྱལ་བ་ཀུན་གྱི་ཡུམ་གཅིག་མ༔\",\n",
    "\"རྗེ་བཙུན་ཨཱརྱ་ཏཱ་རེ་ཚེ་སྦྱིན་དཔལ༔\",\n",
    "\"གསོལ་བ་འདེབས་སོ་རླུང་སེམས་དབང་བསྡུས་ནས༔\",\n",
    "\"ཚེ་དང་བསོད་ནམས་འཕེལ་བར་མཛད་དུ་གསོལ༔\"]\n",
    "\n",
    "output = pipe(input)\n",
    "\n",
    "translation = [elt['translation_text'] for elt in output]\n",
    "\n",
    "translation"
   ]
  },
  {
   "cell_type": "code",
   "execution_count": 11,
   "id": "edffbea6",
   "metadata": {},
   "outputs": [
    {
     "data": {
      "text/plain": [
       "['Through the power of praising and praying to you',\n",
       " 'Increase my lifespan merit and prosperity',\n",
       " 'Remove the sixteen fears and obstacles of adversity.']"
      ]
     },
     "execution_count": 11,
     "metadata": {},
     "output_type": "execute_result"
    }
   ],
   "source": [
    "input = [\"ཁྱེད་ལ་བསྟོད་ཅིང་གསོལ་བ་བཏབ་པའི་མཐུས༔\",\n",
    "\"བདག་གི་ཚེ་བསོད་དཔལ་འབྱོར་རྒྱས་པ་དང་༔\",\n",
    "\"འཇིགས་པ་བཅུ་དྲུག་རྐྱེན་ངན་བར་ཆད་སོལ༔\"]\n",
    "\n",
    "output = pipe(input)\n",
    "\n",
    "translation = [elt['translation_text'] for elt in output]\n",
    "\n",
    "translation"
   ]
  },
  {
   "cell_type": "code",
   "execution_count": 12,
   "id": "c4ecc385",
   "metadata": {},
   "outputs": [
    {
     "data": {
      "text/plain": [
       "['Subjugate harmful spirits and elemental spirits who harm beings.',\n",
       " 'May all those who cause harm to the teachings',\n",
       " 'Mother, through the power and strength of your compassion',\n",
       " 'Pacify and spread the teachings!']"
      ]
     },
     "execution_count": 12,
     "metadata": {},
     "output_type": "execute_result"
    }
   ],
   "source": [
    "input = [\"འགྲོ་ལ་གནོད་པའི་གདོན་འགེགས་འབྱུང་པོ་ཐུལ༔\",\n",
    "\"བསྟན་ལ་འཚེ་བྱེད་དམ་སྲི་མ་ལུས་པ༔\",\n",
    "\"མ་ཁྱོད་ཐུགས་རྗེ་ནུས་མཐུའི་སྟོབས་རྩལ་གྱིས༔\",\n",
    "\"མ་ལུས་ཞི་ཞིང་བསྟན་པ་རྒྱས་པར་མཛོད༔\"]\n",
    "\n",
    "output = pipe(input)\n",
    "\n",
    "translation = [elt['translation_text'] for elt in output]\n",
    "\n",
    "translation"
   ]
  },
  {
   "cell_type": "code",
   "execution_count": 13,
   "id": "bced3461",
   "metadata": {},
   "outputs": [
    {
     "data": {
      "text/plain": [
       "['May the lives of the holy holders of the teachings be prolonged,',\n",
       " 'Grant your blessings so that the saṅgha saṅgha may increase!']"
      ]
     },
     "execution_count": 13,
     "metadata": {},
     "output_type": "execute_result"
    }
   ],
   "source": [
    "input = [\"བསྟན་འཛིན་དམ་པའི་སྐུ་ཚེ་བསྲིང་བ་དང་༔\",\n",
    "\"དགེ་འདུན་སྡེ་ཚོགས་འཕེལ་བར་བྱིན་གྱིས་རློབས༔\"]\n",
    "\n",
    "output = pipe(input)\n",
    "\n",
    "translation = [elt['translation_text'] for elt in output]\n",
    "\n",
    "translation"
   ]
  },
  {
   "cell_type": "markdown",
   "id": "47c9a280",
   "metadata": {},
   "source": [
    "## Counsel to Tsamdowa Parong Lhawang by Khenchen Ngawang Palzang | Translated by Joseph McClellan and NT Ninjyed, 2025. VERSE"
   ]
  },
  {
   "cell_type": "code",
   "execution_count": 1,
   "id": "bf4ea97a",
   "metadata": {},
   "outputs": [
    {
     "data": {
      "application/vnd.jupyter.widget-view+json": {
       "model_id": "4ba38368acd642279fa908d17ae90489",
       "version_major": 2,
       "version_minor": 0
      },
      "text/plain": [
       "config.json:   0%|          | 0.00/1.19k [00:00<?, ?B/s]"
      ]
     },
     "metadata": {},
     "output_type": "display_data"
    },
    {
     "data": {
      "application/vnd.jupyter.widget-view+json": {
       "model_id": "dde8427bba544199afe596fb67a4885f",
       "version_major": 2,
       "version_minor": 0
      },
      "text/plain": [
       "model.safetensors:   0%|          | 0.00/242M [00:00<?, ?B/s]"
      ]
     },
     "metadata": {},
     "output_type": "display_data"
    },
    {
     "data": {
      "application/vnd.jupyter.widget-view+json": {
       "model_id": "263e2ba0cc464d49ac5bbb3ea2d927a4",
       "version_major": 2,
       "version_minor": 0
      },
      "text/plain": [
       "generation_config.json:   0%|          | 0.00/112 [00:00<?, ?B/s]"
      ]
     },
     "metadata": {},
     "output_type": "display_data"
    },
    {
     "data": {
      "application/vnd.jupyter.widget-view+json": {
       "model_id": "09bab7daed8d4d48b96c0499f9b63462",
       "version_major": 2,
       "version_minor": 0
      },
      "text/plain": [
       "tokenizer_config.json:   0%|          | 0.00/1.14k [00:00<?, ?B/s]"
      ]
     },
     "metadata": {},
     "output_type": "display_data"
    },
    {
     "data": {
      "application/vnd.jupyter.widget-view+json": {
       "model_id": "c341368e2e7940e88a7d3ad634d6d11a",
       "version_major": 2,
       "version_minor": 0
      },
      "text/plain": [
       "tokenizer.json:   0%|          | 0.00/2.80M [00:00<?, ?B/s]"
      ]
     },
     "metadata": {},
     "output_type": "display_data"
    },
    {
     "data": {
      "application/vnd.jupyter.widget-view+json": {
       "model_id": "9dba3e09766b4d868beac4f2515c7e68",
       "version_major": 2,
       "version_minor": 0
      },
      "text/plain": [
       "special_tokens_map.json:   0%|          | 0.00/555 [00:00<?, ?B/s]"
      ]
     },
     "metadata": {},
     "output_type": "display_data"
    },
    {
     "name": "stderr",
     "output_type": "stream",
     "text": [
      "/home/j/Desktop/MLotsawa/.venv/lib/python3.12/site-packages/transformers/pipelines/__init__.py:1154: UserWarning: \"translation\" task was used, instead of \"translation_XX_to_YY\", defaulting to \"translation_bo_to_en\"\n",
      "  warnings.warn(\n",
      "Device set to use cuda:0\n"
     ]
    }
   ],
   "source": [
    "from transformers import pipeline\n",
    "\n",
    "pipe = pipeline('translation', 'billingsmoore/mlotsawa-ground-small')"
   ]
  },
  {
   "cell_type": "code",
   "execution_count": 2,
   "id": "b69992be",
   "metadata": {},
   "outputs": [
    {
     "data": {
      "text/plain": [
       "['Kyema! This turbulent demon of attachment to this life’s appearance Tormented by harm from beginningless time And not chasing after objects of perception, Turn your mind inward—oṃ!']"
      ]
     },
     "execution_count": 2,
     "metadata": {},
     "output_type": "execute_result"
    }
   ],
   "source": [
    "input = [\"\"\"ཙམ་མདོ་བ་པ་རོང་ལྷ་དབང་ལ་གདམས་པ། ། ཀྱེ་མ་བུ་ངན་མགོ་བོ་ཆེ། ། འདི་སྣང་ཞེན་པའི་གདོས་ཐག་འདིས། ། ཐོག་མེད་དུས་ནས་འཚེ་འཚེ་ནས། ། སྣང་བ་ཡུལ་ཕྱིར་མ་འབྲང་བར། ། བློ་སྣ་ནང་དུ་ཁུག་ཅིག་ཨཾ། །\"\"\"]\n",
    "\n",
    "output = pipe(input)\n",
    "\n",
    "translation = [elt['translation_text'] for elt in output]\n",
    "\n",
    "translation"
   ]
  },
  {
   "cell_type": "code",
   "execution_count": 3,
   "id": "e4e3233f",
   "metadata": {},
   "outputs": [
    {
     "data": {
      "text/plain": [
       "['Since clinging to permanence is so great an obstacle to the Dharma, Rely on impermanence and death, And apply yourself to the Dharma that divides all obstacles Aṃ!']"
      ]
     },
     "execution_count": 3,
     "metadata": {},
     "output_type": "execute_result"
    }
   ],
   "source": [
    "input = [\"\"\"རྟག་འཛིན་ཕྱི་ཚེས་གྲབ་ཤོམས་འདིས། ། ཆོས་ཀྱི་བར་ཆད་འདི་ཆེ་བས། ། མི་རྟག་འཆི་བའི་བློ་སྣ་བསྟུངས། ། རྒྱག་ཕྱེ་ཆོས་ལ་ཚུད་ཅིག་ཨཾ། །\"\"\"]\n",
    "\n",
    "output = pipe(input)\n",
    "\n",
    "translation = [elt['translation_text'] for elt in output]\n",
    "\n",
    "translation"
   ]
  },
  {
   "cell_type": "code",
   "execution_count": 4,
   "id": "17ffbbb5",
   "metadata": {},
   "outputs": [
    {
     "data": {
      "text/plain": [
       "['Having united myself and others with the demon of the malevolent ego-clinging,I will now look at the faults of this malevolent ego-clinging,and by taking offense and taking offense,I will rely on bodhicitta in your mindstream Aṃ!']"
      ]
     },
     "execution_count": 4,
     "metadata": {},
     "output_type": "execute_result"
    }
   ],
   "source": [
    "input = [\"\"\"བདག་འཛིན་གདུག་པའི་འགོང་བོ་འདིས། ། རང་གཞན་ཕུང་ལ་སྦྱོར་སྦྱོར་ནས། ། ད་ནི་འདི་ལ་སྐྱོན་བལྟས་ཏེ། ། ཡུལ་ཕུད་རྗེས་འདོན་བྱེད་པ་ཡིས། ། བྱང་སེམས་རྒྱུད་ལ་བརྟེན་ཅིག་ཨཾ། །\"\"\"]\n",
    "\n",
    "output = pipe(input)\n",
    "\n",
    "translation = [elt['translation_text'] for elt in output]\n",
    "\n",
    "translation"
   ]
  },
  {
   "cell_type": "code",
   "execution_count": 5,
   "id": "1cfe76c0",
   "metadata": {},
   "outputs": [
    {
     "data": {
      "text/plain": [
       "['Before too long, I should give up mindfulness, vigilance and conscientiousness, And not let it be stirred up by disturbances— Bring forth the three trainings in the Dharma—aham!']"
      ]
     },
     "execution_count": 5,
     "metadata": {},
     "output_type": "execute_result"
    }
   ],
   "source": [
    "input = [\"\"\"ཧ་ཅང་བཟང་པོ་མ་སྔ་བར། ། དྲན་ཤེས་བག་ཡོད་སྐྱ་བར་ནས། ། སྡེ་དཀྲུགས་ས་བརྫད་མ་བྱེད་པར། ། འབུངས་གསུམ་ཆོས་ལ་ཐོན་ཅིག་ཨཾ། །\"\"\"]\n",
    "\n",
    "output = pipe(input)\n",
    "\n",
    "translation = [elt['translation_text'] for elt in output]\n",
    "\n",
    "translation"
   ]
  },
  {
   "cell_type": "code",
   "execution_count": 6,
   "id": "a6ee3a25",
   "metadata": {},
   "outputs": [
    {
     "data": {
      "text/plain": [
       "['This instruction of the fourth syllable AṂ Was imparted to the disciple Langdro Lotsāwa, Ronglha Lhawang in short. May there be the auspiciousness of virtue here and hereafter!']"
      ]
     },
     "execution_count": 6,
     "metadata": {},
     "output_type": "execute_result"
    }
   ],
   "source": [
    "input = [\"\"\"ཞལ་གདམས་ཨཾ་ཡིག་བཞི་པ་འདི། ། བླ་མ་ངག་དབང་དཔལ་བཟང་གིས། ། སློབ་མ་མིའུ་༼ཙམ་མདོ་བ་པ་རོང་ལྷ་དབང་མཆན་༽ཐུང་ལ་བསྐུར། ། འདི་ཕྱིར་དགེ་བའི་བཀྲ་ཤིས་ཤོག །\"\"\"]\n",
    "\n",
    "output = pipe(input)\n",
    "\n",
    "translation = [elt['translation_text'] for elt in output]\n",
    "\n",
    "translation"
   ]
  }
 ],
 "metadata": {
  "kernelspec": {
   "display_name": ".venv",
   "language": "python",
   "name": "python3"
  },
  "language_info": {
   "codemirror_mode": {
    "name": "ipython",
    "version": 3
   },
   "file_extension": ".py",
   "mimetype": "text/x-python",
   "name": "python",
   "nbconvert_exporter": "python",
   "pygments_lexer": "ipython3",
   "version": "3.12.3"
  }
 },
 "nbformat": 4,
 "nbformat_minor": 5
}
