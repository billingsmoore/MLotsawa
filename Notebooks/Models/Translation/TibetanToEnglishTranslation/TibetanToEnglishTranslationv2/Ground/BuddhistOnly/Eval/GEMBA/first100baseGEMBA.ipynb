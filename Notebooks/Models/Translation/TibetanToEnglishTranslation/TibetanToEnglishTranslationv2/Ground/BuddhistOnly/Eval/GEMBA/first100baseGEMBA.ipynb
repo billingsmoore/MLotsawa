{
 "cells": [
  {
   "cell_type": "code",
   "execution_count": 1,
   "metadata": {},
   "outputs": [],
   "source": [
    "from datasets import load_from_disk\n",
    "\n",
    "ds = load_from_disk('base-gemba-ds')\n",
    "ds = ds.remove_columns(['small_predictions'])"
   ]
  },
  {
   "cell_type": "code",
   "execution_count": 2,
   "metadata": {},
   "outputs": [],
   "source": [
    "prompt= \"\"\"Score each of the following translations from Tibetan to English with respect to the human reference on a continuous scale from 0 to 100, where a score of zero means \"no meaning preserved\" and score of one hundred means \"perfect meaning and grammar\". Provide only an overall score for each with no additional output.\"\"\""
   ]
  },
  {
   "cell_type": "code",
   "execution_count": 3,
   "metadata": {},
   "outputs": [
    {
     "data": {
      "text/plain": [
       "[{'bo': 'ཕྱི་ཟླ་༥་ཚེས་༢༥་ཉིན་དགུང་ལོ་སུམ་ཅུ་སོ་ལྔའི་སྟེང་དུ་མངོན་པར་རྫོགས་པའི་སངས་རྒྱས་ཀྱི་གོ་འཕང་ཐོབ།།',\n",
       "  'en': 'By the next morning, the morning of May 25, when he was thirty-five, he had attained the Awakening, and became a supreme Buddha.',\n",
       "  'base_predictions': 'On February 25, he attained full enlightenment at the age of thirty-five.'},\n",
       " {'bo': 'ལུས་ལྷ་ངག་སྔགས་སེམས་གྱི་འཕྲོ་འདུ་ཀུན།། ཡེ་ཤེས་ཆེན་པོར་ལམ་དུ་ཁྱེར་བ་དང་།།',\n",
       "  'en': 'Integrate everything into the path: body as deity, speech as mantra, And all movements of mind as great primordial wisdom.',\n",
       "  'base_predictions': 'Integrate all the radiation and reabsorption of body, speech, and mind into the path as great primordial wisdom.'},\n",
       " {'bo': 'ཞེས་པས་བསྲུང་འཁོར་བསྒོམ༔',\n",
       "  'en': 'Thus visualize the circle of protection.',\n",
       "  'base_predictions': 'Meditate on the protection circle.'},\n",
       " {'bo': 'དེ་ལྟར་མ་བྱས་ན་འབྲེལ་མེད་དུའང་འགྱུར་ཏེ་མིག་ལ་སོགས་པའི་ཤེས་པ་འདི་དག་ཐ་སྙད་པའི་དོན་གཟུགས་སྒྲ་སོགས་ལ་ཚད་མ་ཡིན་ན་དེ་ཁོ་ན་ཉིད་བལྟ་བའི་ཕྱིར་དུ་འཕགས་ལམ་བཙལ་མི་དགོས་པར་ཐལ་ལོ་ཞེས་སྨྲ་ན་ནི་མིག་གི་ཤེས་པས་གཟུགས་ཤེས་ན་སྒྲ་ཉན་པ་ལ་རྣ་བ་དོན་མེད་དུ་ཐལ་ཞེས་པ་དང་འདྲ་ལ་གཟུགས་སྒྲ་སོགས་བལྟ་བའི་ཕྱིར་དུ་འཕགས་ལམ་འཚོལ་བ་དོན་མེད་དུ་ཐལ་ཟེར་ན་ནི་ཤིན་ཏུ་འདོད་པས་དེས་མི་འདོད་པ་ཅི་ཞིག་བསྒྲུབ།',\n",
       "  'en': 'If one does not take it this way, there would be no connection between prior and later purpose, that is, if those cognitions such as the eye and conventional entities such as form and sound were authorities for view- ing of reality, we say there is the absurdity of no need to seek the Noble Path, and we say there is the absurdity of no pur- pose for eye cognition to cognize form and the ear to hear sound; and similarly, we say there is the absurdity of no purpose to seeking the Noble Path because one observes form, sound, etc.',\n",
       "  'base_predictions': 'If one does not take it that way, there would be no connection, for if those perceptions such as the eye and conventional entities such as form and sound were authorities for viewing reality, it would follow that there is no need to seek the Noble Path, and if one claims that it would follow that when visual consciousness cognizes form, hearing sound would be purposeless; and if one claims that it would follow that seeking the Noble Path is purposeless in view of form, sound, etc.'},\n",
       " {'bo': 'ཡང་དག་པའི་དོན་མི་སྟོན་པ་ཚིག་གཅིག་ཀྱང་མེད་པར་ཐམས་ཅད་མཐར་ཐུག་གི་བྱང་ཆུབ་གཅིག་ལ་འགལ་བ་མེད་པར་འཇུག་པ་ཡིན་པས་ན་དེ་སྐད་ཅེས་བྱ་སྟེ།',\n",
       "  'en': 'Every word of the dharma without exception applies without contradiction to the one, ultimate enlightenment, therefore these words are used to describe it.',\n",
       "  'base_predictions': 'Without teaching the true meaning, not even a single word can be uttered, and all without contradiction enter the single ultimate enlightenment.'},\n",
       " {'bo': 'སངས་རྒྱས་བརྒྱ་སྟོང་སུམ་བརྒྱ་དྲུག་ཅུའི་རྡུལ་ཕྲ་རབས་སྙེད་མཐོང་བ་དང་།',\n",
       "  'en': 'They are able to behold as many buddhas as there are atoms in the hundred thousand of the three thousandfold universe multiplied by ten and perceive that they are blessed by them.',\n",
       "  'base_predictions': 'They are able to behold as many buddhas as there are atoms in three hundred sixty thousand buddha fields.'},\n",
       " {'bo': 'དེ་ཐུགས་རྗེ་ཀུན་ཁྱབ་སྤྲུལ་སྐུ་ཡིན།།',\n",
       "  'en': 'This is all-pervading compassion, the nirmāṇakāya.',\n",
       "  'base_predictions': 'That is the nirmāṇakāya of all-pervading compassion.'},\n",
       " {'bo': 'གཅིག་པུ་དབེན་པར་གནས་པས་འཕགས་པའི་ཡེ་ཤེས་ཐོབ་པར་གྱུར་ཅིག་ཅེས་པའོ།།',\n",
       "  'en': 'Let us stay in solitude. May we gain sublime, primordial wisdom.',\n",
       "  'base_predictions': 'May I attain the wisdom of the noble ones by dwelling alone in solitude.'},\n",
       " {'bo': 'ཨོཾ་ཧྲཱིཿཥྚྲཱིཿཝིཀྲྀ་ཏཱ་ན་ན་ཧཱུྃ་ཧཱུྃ་ཕཊ་ཕཊ། དེ་བ་དཏྟ་ཡ་ཛྙཱ་དཏྟེ་བི་དྭེཥཱ་ཡ་ཧཱུྃ་ཕཊ། འདི་ནི་བཅོམ་ལྡན་འདས་ཀྱིས་དབྱེ་བའི་ཆོ་ག་གསུངས་པའོ། །',\n",
       "  'en': 'oṁ hrīḥ ṣṭrīḥ vikṛtānana hūṁ hūṁ phaṭ phaṭ\\xa0| devadatta yajñādatte vidveṣāya hūṁ phaṭ\\xa0| This is the rite for sowing discord taught by the Bhagavat.',\n",
       "  'base_predictions': 'oṁ hrīḥ ṣṭrīḥ vikṛtānana hūṁ hūṁ phaṭ phaṭ | dṛḍho me bhava sutoṣyo me bhava supoṣyo me bhava anurakto me bhava sarvasiddhiṃ me bhava sarvakto me bhava sarvakto me bhava sarvakto me bhava sarvakto me bhava sarvakto me bhava sarvakto me bhava sarvakto me bhava sarvakto me bhava sarvakto me bhava sarvakto me bhava sarvakto me bhava sarvakto me bhava sarvak'},\n",
       " {'bo': 'མངོན་པར་མ་གྲུབ་ཅིང་མེད་པ་དེ་ལ་དམིགས་པ་ཡོད་པར་ག་ལ་འགྱུར།',\n",
       "  'en': 'How could that which is not actually established, and therefore nonexistent, be an existent object?',\n",
       "  'base_predictions': 'How could something that is not established and nonexistent exist as an object?'},\n",
       " {'bo': 'དེ་བཞིན་དུ་སྐད་ཅིག་མར་འཇིག་པའི་གསོན་པ་ལས་ཆེས་ཆུང་བའི་དུས་འགའ་ཡང་ཡོད་པ་མ་ཡིན་ནོ།།',\n",
       "  'en': 'Similarly, there is no time shorter than life, which is destroyed in a moment.',\n",
       "  'base_predictions': 'In the same way, there is no time at all that is less than life that perishes moment by moment.'},\n",
       " {'bo': 'སྟོང་པའི་ཡེ་ཤེས་དགའ་བར་རྗེས་ཆགས་གཟུགས།། རྡོ་རྗེ་པི་ཝཾ་གླིང་བུ་རྔ་ཐབས་བཟུང༌།། རིག་གདངས་ཆོས་ཉིད་མངོན་སུམ་མཆོད་སྤྲིན་གྱིས།། སྣ་ཚོགས་སྒྱུ་འཕྲུལ་སྤྲུལ་པའི་དཀྱིལ་འཁོར་མཆོད།། ཨོཾ་ཨཱཿབཛྲ་ཝཱི་ཎཱི་ཧཱུྃ།\\xa0ཨོཾ་ཨཱཿབཛྲ་ཝཾ་སེ་ཏྲཱཾ།\\xa0ཨོཾ་ཨཱཿབཛྲ་མྲྀ་ཏཾ་གི་ཧྲཱིཿ\\xa0ཨོཾ་ཨཱཿབཛྲ་མུ་རཉྫེ་ཨཱཿ ཤིན་ཏུ་སྟོང་པ་ལས་བྱུང་མཆོག་དགའི་དངོས།། རྡོ་རྗེ་སྒེག་བཞད་གླུ་དང་གར་མཁན་མ།། འོད་གསལ་ཉམས་སྣང་གོང་འཕེལ་མཆོད་སྤྲིན་གྱིས།། ཟུང་འཇུག་ལོངས་སྤྱོད་རྫོགས་སྐུའི་དཀྱིལ་འཁོར་མཆོད།། ཨོཾ་ཨཱཿབཛྲ་ལཱ་སྱེ་ཧཱུྃ།\\xa0ཨོཾ་ཨཱཿབཛྲ་མཱ་ལྱེ་ཏྲཱཾ།\\xa0ཨོཾ་ཨཱཿབཛྲ་གཱིརྟི་ཧྲཱིཿ\\xa0ཨོཾ་ཨཱཿབཛྲ་ནཱིརྟི་ཨཱཿ ཐམས་ཅད་སྟོང་པ་ཁྱད་པར་དགའ་བའི་དཔྱིད།།',\n",
       "  'en': 'The love that unites the wisdom of emptiness and joy takes seductive form As goddesses playing sitar, flute, clay drum and round drum, And in their offering cloud of rigpa’s radiance, the direct realization of dharmatā, They offer you the nirmāṇakāya-maṇḍala, in all its magical diversity: oṃ āḥ vajra-vīṇe hūṃ | oṃ āḥ vajra-vaṃśe trāṃ | oṃ āḥ vajra-mṛdaṅge hrīḥ | oṃ āḥ vajra-muraje āḥ | From extreme emptiness, supreme joy arises As vajra goddesses beauty, laughter, song and dance, And with their offering cloud of clear light, the increasing of experience and appearance, They offer you the saṃbhogakāya-maṇḍala of unity: oṃ āḥ vajra-lāsye hūṃ | oṃ āḥ vajra-mālye trāṃ | oṃ āḥ vajra-gīte hrīḥ | oṃ āḥ vajra-nṛtye āḥ | Total emptiness with special joy takes shape',\n",
       "  'base_predictions': 'With a form that is passionate and enjoys the wisdom of emptiness And holds a vajra and lute, the flute and drum of the victory banner. With the offering-clouds of the radiance of awareness, the direct experience of dharmatā, I present offerings to the nirmāṇakāya-maṇḍala of manifold apparitions. oṃ āḥ vajra-vīṇe hūṃ | oṃ āḥ vajra-vaṃśe trāṃ | oṃ āḥ vajra-mṛdaṅge hrīḥ | oṃ āḥ vajra-muraje āḥ || Arisen from extreme emptiness, you are the actual embodiment of supreme joy; With your vajra laughter, you laugh and dance; With your offering-cloud'},\n",
       " {'bo': 'ཤེས་དམན་གྱི་སྐྱེ་བོས་རང་གི་ལོག་སེམས་ལས་ཁ་གླན་དགོས་ཚུལ་བསྟན་པ་སྟེ། དེ་ཡང་བློ་དམན་གང་ཞིག་ཇི་སྲིད་རྒྱལ་དང་དེ་སྲས་དམ་པས་ཡང་ཡང་སྨད་པའི་ལོག་པར་སྤྱོད་པའི་ལས་དམན་ལ་འཇུག་འདོད་ཀྱི་བློ་སྐྱེས་པ་དུས་དེའི་ཚེ་ན།',\n",
       "  'en': 'Whenever weak-minded people feel drawn to engage in wrongful actions deprecated again and again by the excellent buddhas and bodhisattvas, they should deflect such improper notions and not allow themselves to be influenced by them.',\n",
       "  'base_predictions': 'Those of little intelligence want to engage in base actions that are repeatedly criticized by the buddhas and their sublime heirs.'},\n",
       " {'bo': 'གང་ཡང་གཞུང་ཆེན་མོ་རྣམས་ལ་ཉམས་ལེན་གྱི་གནད་མེད་པའི་བཤད་ཆོས་སུ་བྱས་ཤིང་ཉམས་ལེན་གྱི་གནད་སྙིང་པོའི་དོན་སྟོན་པའི་མན་ངག་ཟུར་དུ་ཡོད་པར་གོ་ནས་དམ་པའི་ཆོས་རང་ལ་བཤད་པ་དང་བསྒྲུབ་པའི་ཆོས་ལོག་ས་ལོགས་པ་གཉིས་ཡོད་པར་འཛིན་པ་ནི། དྲི་མ་མེད་པའི་མདོ་རྒྱུད་དང་དྲི་མ་མེད་པའི་དགོངས་འགྲེལ་གྱི་བསྟན་བཅོས་ལ་གུས་པ་ཆེན་པོ་སྐྱེ་བའི་གེགས་བྱེད་ཅིང་། དེ་དག་ལ་ནང་གི་དོན་མི་སྟོན་པའི་ཕྱིའི་གོ་རྒྱ་ཙམ་གཅོད་པའོ་ཞེས་བརྙས་པའི་གནས་སུ་འཛིན་པའི་ཆོས་སྤོང་བའི་ལས་ཀྱི་སྒྲིབ་པ་གསོག་པར་ཤེས་པར་བྱའོ།། དེས་ན་ཐར་འདོད་རྣམས་ལ་མི་སླུ་བའི་གདམས་པ་མཆོག་ནི་གཞུང་ཆེན་མོ་རྣམས་ཡིན་མོད། དེ་ཡང་རང་ཉིད་བློ་ཞན་པ་ལ་སོགས་པའི་རྒྱུ་མཚན་གྱིས་གདམས་པའི་མཆོག་ཏུ་གཞུང་དེ་ཙམ་ལ་བརྟེན་ནས་ངེས་མི་ནུས་པས། དམ་པའི་མན་ངག་ལ་བརྟེན་ནས་དེ་དག་ལ་ངེས་པ་བཙལ་བར་བྱའོ་སྙམ་དུ་མན་ངག་འཚོལ་དགོས་པ་ཡིན་གྱི།',\n",
       "  'en': 'There are those who conclude that any classic text should be considered only an explanatory teaching, therefore lacking the key points for practice. They hold that there are separate personal instructions that teach the core meanings that are the heart of practice. They then imagine that there are two separate forms of the excellent teaching-a teaching that is explained to you and a teaching that you practice. Know that this attitude precludes the development of great respect for the stainless sutras and tantras as well as the flawless treatises that comment on their intent. Know also that you accumulate the karmic obstruction of abandoning the teaching when you see those classic texts as objects of contempt and say, \"Those are merely for promoting one\\'s superficial knowledge and eliminating others\\' misconceptions; they do not teach the deep meaning. Therefore, for those who desire liberation, the supreme and authentic instructions are indeed the classic texts. However, due to your limited intelligence and so forth, you may be unable to recognize those texts as the supreme instructions through depending on them alone. Thus, you must seek out personal instructions, thinking, \"I will seek certain knowledge of those texts based on the personal instructions of an excellent being.\"',\n",
       "  'base_predictions': 'Anyone who understands that the classic texts have no essential points of practice and that there are separate personal instructions that teach the essential points of practice and believes that the holy dharma is both explicated and accomplished by himself and has two separate wrong doctrines. This will hinder the development of great respect for the stainless sutras and tantras, and for the stainless commentaries on their intent, and it should be known that he will accumulate the karma of abandoning the teaching by believing that those texts are contemptible because they say, “They merely cut off external comprehension that does not teach the inner meaning.” Therefore, the supreme instruction that is nondeceptive for those desiring liberation is the classic'},\n",
       " {'bo': 'འདི་ནས་རྒྱུན་དུ་བཞུགས་པའི་དགོས་པ་ཅི།།',\n",
       "  'en': 'Why do you need to stay here?',\n",
       "  'base_predictions': 'What is the purpose of continuously remaining here?'},\n",
       " {'bo': 'བདག་གི་འདི་སེམས་ཅན་ཐམས་ཅད་ལ་སྨིན་པར་གྱུར་ཅིག་སེམས་ཅན་ཐམས་ཅད་བདེ་བ་དང་དགེ་བ་རྒྱས་པར་གྱུར་ཅིག་སྙམ་དུ་བསམ།',\n",
       "  'en': 'Reflecting thus, think, \"May these qualities of mine be realized upon others. May happiness and virtue flourish for all sentient beings.\"',\n",
       "  'base_predictions': 'May this come to fruition upon all sentient beings. May all sentient beings enjoy happiness and virtue.'},\n",
       " {'bo': 'དབུ་མ་ནས་རླུང་མི་རྒྱུ་བར་བཤད་ཀྱང་འདིར་ནི་དེ་གཉིས་ཀ་རྒྱུ་བར་བཤད་དོ།།',\n",
       "  'en': 'But this tantra explains that both move.',\n",
       "  'base_predictions': 'Although it is explained that the wind-energies do not move in the central channel, here both are explained to move.'},\n",
       " {'bo': 'དེའི་ཚེ་གདོད་མར་གྲོལ་བས་ཏེ།',\n",
       "  'en': 'At that point one is freed in primordial being.',\n",
       "  'base_predictions': 'At that time, there is primordial liberation.'},\n",
       " {'bo': 'མི་སློབ་པ་ལ་དམིགས་པ་ཡིན།།',\n",
       "  'en': 'by considering them as impermanent.',\n",
       "  'base_predictions': 'It is the object of the path of no more learning.'},\n",
       " {'bo': 'མཐུ་ཆེན་དམ་ཅན་དྲེགས་པའི་ཚོགས་རྣམས་ཀྱིས།།',\n",
       "  'en': 'And all the powerful and haughty spirits who are bound by sacred oath',\n",
       "  'base_predictions': 'With your great power and oath-bound hosts of arrogant spirits'},\n",
       " {'bo': 'རི་ཁྲོད་མ་ཤིང་ལོ་ཅན་གྱིའོ། །',\n",
       "  'en': 'One with the face of a boar!',\n",
       "  'base_predictions': 'She will live in mountain caves and leaves!’'},\n",
       " {'bo': 'བྱིན་རླབས་ཀུན་སྩོལ་བླ་མ་པདྨ་འབྱུང་།།',\n",
       "  'en': 'Bestower of all blessings the Lotus-Born Padmākara;',\n",
       "  'base_predictions': 'Guru Padmasambhava who grants all blessings'},\n",
       " {'bo': 'དེ་ཡི་སྤྱི་བོར་པད་དཀར་དང་།\\xa0\\xa0།',\n",
       "  'en': 'At his crown, upon a white lotus,',\n",
       "  'base_predictions': 'Above his head, upon a white lotus,'},\n",
       " {'bo': 'རྗེ་རིན་པོ་ཆེས་རྡོ་རྗེ་རྩེ་མོ་ལས་ལུང་ཞིག་དྲངས་འདུག་པ་སྟེ། རྒྱུད་ནི་རྒྱུན་ཞེས་བྱ་བར་གྲགས།། འཁོར་བའི་རྒྱུད་དུ་འདོད་པ་དེ།། མྱ་ངན་འདས་པ་རྒྱུད་ཕྱི་མ།། ཞེས་གསུངས་ཡོད།',\n",
       "  'en': 'In Lama Tsongkhapa’s great tantric stages of the path, he cites a quotation from one explanatory tantra, called Vajra Shekhara, which says that the cyclic existence is a continuum of tantra and that nirvana is a subsequent tantra.',\n",
       "  'base_predictions': 'The great master Tsongkhapa cites a passage from the Vajra Peak Tantra: Tantra is renowned as “continuum,” and that which is asserted to be the continuum of cyclic existence is the later continuum of nirvana.'},\n",
       " {'bo': 'འདི་ནི་ཨུཏྤལ་འདབ་མར་བྱ་བར་གྲགས།།',\n",
       "  'en': 'This is called lotus petals.',\n",
       "  'base_predictions': 'This is known as the lotus petal.'},\n",
       " {'bo': 'གཉིས་པ་ལ། སློབ་དཔོན་གྱི་ལས་དང་། སློབ་མ་ལ་བྱ་བའོ།།',\n",
       "  'en': 'Second, the main practice has both the master’s work and the acts for the disciples.',\n",
       "  'base_predictions': 'The second section has two parts: the master’s work and the acts for the disciples.'},\n",
       " {'bo': 'དེར་སྨིན་པས་ད་འཆི་བ་མེད་པར་རྫོགས་པས་སྐྱེ་ཤི་མེད་པར་དབྱིངས་ཐམས་ཅད་གཅིག་ཏུ་འབྲེལ་པ་སྟེ་འདི་ལྟར་འདོད་པས།',\n",
       "  'en': 'Since it is ripened because it is perfect without dying at present, the dhatu without birth or death gathers everything into one.',\n",
       "  'base_predictions': 'Since it matures into that dhātu, it is perfect without dying at present, so all dhātus without birth or death are unified as one.'},\n",
       " {'bo': 'དེའི་ཕྱིར་འདས་པའི་རིགས་འདྲ་ཇི་སྙེད་ཅིག་བྱུང་ཡང་དངོས་པོ་གཞན་ཞིག་པའི་སྒོ་ནས་རང་གི་ངོ་བོ་གཞག་དགོས་ལ་མ་འོངས་པའི་རིགས་འདྲ་ཇི་སྙེད་ཅིག་བྱུང་ཡང་དངོས་པོ་གཞན་ཞིག་མ་སྐྱེས་པའི་སྒོ་ནས་རང་གི་ངོ་བོ་གཞག་དགོས་སོ།།',\n",
       "  'en': 'For that reason, no matter how many of a similar type of the past have occurred, their nature must be posited from the perspective of the destruction of another impermanent thing; whatever arises of a similar type in the future, its entity would have to be posited from the perspective of the nonproduction of another impermanent thing.',\n",
       "  'base_predictions': 'Therefore, no matter how many past types of similar type occur, they must be posited as their own nature by way of something else, and no matter how many future types of similar type occur, they must be posited as their own nature by way of something else that has not arisen.'},\n",
       " {'bo': 'འགྲོ་བའི་དོན་གཉིས་འགྲུབ་པར་ཤོག།',\n",
       "  'en': 'May I accomplish beings’ twofold benefit.',\n",
       "  'base_predictions': 'And accomplish the twofold benefit of beings.'},\n",
       " {'bo': 'ཀཽ་ཤི་ཀ་འདི་ལྟ་སྟེ་དཔེར་ན། ནམ་མཁའ་དཔག་པ་ནི་དམྱིགས་སུ་མྱེད་དོ། །ཀཽ་ཤི་ཀ་དེ་བཞིན་དུ་ལྕེའི་འདུས་ཏེ་རེག་པའི་དཔག་པ་ཡང་དམྱིགས་སུ་མྱེད་དེ།',\n",
       "  'en': 'To illustrate, Kauśika, just as the boundary of space cannot be apprehended, in the same way, Kauśika, the boundary of lingually compounded sensory contact cannot be apprehended.',\n",
       "  'base_predictions': 'To illustrate, Kauśika, just as the boundary of space cannot be apprehended, in the same way, Kauśika, the boundary of lingually compounded sensory contact cannot be apprehended.'},\n",
       " {'bo': 'འཁོར་འདས་མ་ལུས་ཤར་ཡང་དབྱིངས་ནས་ཤར།།',\n",
       "  'en': 'Even though they arise as the totality of samsara and nirvana, the phenomena of the world of appearances and possibilities— limitless, boundless—arise from basic space.',\n",
       "  'base_predictions': 'Although samsara and nirvana arise without exception, They arise from basic space.'},\n",
       " {'bo': 'ལྷ་དང་མི་རྣམས་ཀྱི་སྦྱིན་པའི་གནས་སུ་འགྱུར་བར་བྱའོ་ཞེས་ལྷོ་ཕྱོགས་ལོགས་སུ་གོམ་པ་བདུན་བོར་རོ། །',\n",
       "  'en': 'He then took seven steps toward the south and said, “I am worthy of the offerings of gods and humans.”',\n",
       "  'base_predictions': 'He took seven steps toward the south.'},\n",
       " {'bo': 'ངན་པ་གཞན་དག་བཅོས་རུང་གི། སྐྱེ་བོ་ངན་པ་བཅོས་ན་འཇིག། ཅེས་གསུངས་པ་འདིས།',\n",
       "  'en': 'Other bad things can be remedied, But trying to reform evil people just worsens them.',\n",
       "  'base_predictions': 'Other bad things can be remedied, but if they are remedied, they are destroyed.'},\n",
       " {'bo': 'འོན་ཀྱང་ད་ལྟར་རང་རེས་གང་མཐོང་བའི་ས་རྡོ་རི་བྲག་འདི་དག་སངས་རྒྱས་ཚེ་ད་དུང་ཡང་ཁྲ་ལམ་མེར་མཐོང་རྒྱུ་ཡོད་སྙམ་ན་ཤིན་ཏུ་ནོར།',\n",
       "  'en': '¶20 However, to think that the earth, stones, mountains, and rocks that we see now are still to be seen vividly when we are buddhas is very much in error.',\n",
       "  'base_predictions': 'However, if you think that when we become enlightened these earth, stones, mountains, and rocks we still see vividly, this is an extremely great error.'},\n",
       " {'bo': 'འདུས་མ་བྱས་སྟོང་པ་ཉིད་སྟོང་ཞེས་བྱ་བ་དང་། མི་སྟོང་ཞེས་བྱ་བར་གནས་པར་མི་བྱའོ། །དམྱིགས་པའི་ཚུལ་གྱིས། འདུས་མ་བྱས་སྟོང་པ་ཉིད་མཚན་མ་ཡོད་ཅེས་བྱ་བ་དང་། མཚན་མ་མྱེད་ཅེས་བྱ་བར་གནས་པར་མྱི་བྱའོ། །དམྱིགས་པའི་ཚུལ་གྱིས། འདུས་མ་བྱས་སྟོང་པ་ཉིད་སྨོན་པ་ཡོད་ཅེས་བྱ་བ་དང་། སྨོན་པ་མེད་ཅེས་བྱ་བར་གནས་པར་མྱི་བྱའོ། །དམྱིགས་པའི་ཚུལ་གྱིས། མཐའ་ལས་འདས་པ་སྟོང་བ་ཉིད་རྟག་ཅེས་བྱ་བ་དང་། མི་རྟག་ཅེས་བྱ་བར་གནས་པར་མྱི་བྱའོ། །དམྱིགས་པའི་ཚུལ་གྱིས། མཐའ་ལས་འདས་པ་སྟོང་པ་ཉིད་བདེ་ཞེས་བྱ་བ་དང་། སྡུག་བསྔལ་ཞེས་བྱ་བར་གནས་པར་མྱི་བྱའོ། །དམྱིགས་པའི་ཚུལ་གྱིས། མཐའ་ལས་འདས་པ་སྟོང་པ་ཉིད་བདག་ཅེས་བྱ་བ་དང་། བདག་མྱེད་ཅེས་བྱ་བར་གནས་པར་མྱི་བྱའོ། །དམྱིགས་པའི་ཚུལ་གྱིས། མཐའ་ལས་འདས་པ་སྟོང་པ་ཉིད་སྡུག་ཅེས་བྱ་བ་དང་། མྱི་སྡུག་ཅེས་བྱ་བར་གནས་པར་མི་བྱའོ། །དམྱིགས་པའི་ཚུལ་གྱིས། མཐའ་ལས་འདས་པ་སྟོང་པ་ཉིད་ཞི་ཞེས་བྱ་བ་དང་། མ་ཞི་ཞེས་བྱ་བར་གནས་པར་མྱི་བྱའོ། །དམྱིགས་པའི་ཚུལ་གྱིས། མཐའ་ལས་འདས་པ་སྟོང་པ་ཉིད་དབེན་ཞེས་བྱ་བ་དང་། མྱི་དབེན་ཞེས་བྱ་བར་གནས་པར་མྱི་བྱའོ། །དམྱིགས་པའི་ཚུལ་གྱིས། མཐའ་ལས་འདས་པ་སྟོང་པ་ཉིད་སྟོང་ཞེས་བྱ་བ་དང་། མི་སྟོང་ཞེས་བྱ་བར་གནས་པར་མྱི་བྱའོ། །དམྱིགས་པའི་ཚུལ་གྱིས། མཐའ་ལས་འདས་པ་སྟོང་པ་ཉིད་མཚན་མ་ཡོད་ཅེས་བྱ་བ་དང་། མཚན་མ་མྱེད་ཅེས་བྱ་བར་གནས་པར་མྱི་བྱའོ། །དམྱིགས་པའི་ཚུལ་གྱིས། མཐའ་ལས་འདས་པ་སྟོང་པ་ཉིད་སྨོན་པ་ཡོད་ཅེས་བྱ་བ་དང་། སྨོན་པ་མེད་ཅེས་བྱ་བར་གནས་པར་མྱི་བྱའོ། །དམྱིགས་པའི་ཚུལ་གྱིས། ཐོག་མ་དང་ཐ་མ་མྱེད་པ་སྟོང་པ་ཉིད་རྟག་ཅེས་བྱ་བ་དང་། མྱི་རྟག་ཅེས་བྱ་བར་གནས་པར་མྱི་བྱའོ། །དམྱིགས་པའི་ཚུལ་གྱིས། ཐོག་མ་དང་ཐ་མ་མྱེད་པ་སྟོང་པ་ཉིད་བདེ་ཞེས་བྱ་བ་དང་། སྡུག་བསྔལ་ཞེས་བྱ་བར་གནས་པར་མྱི་བྱའོ། །དམྱིགས་པའི་ཚུལ་གྱིས། ཐོག་མ་དང་ཐ་མ་མྱེད་པ་སྟོང་པ་ཉིད་བདག་ཅེས་བྱ་བ་དང་། བདག་མྱེད་ཅེས་བྱ་བར་གནས་པར་མྱི་བྱའོ། །དམྱིགས་པའི་ཚུལ་གྱིས། ཐོག་མ་དང་ཐ་མ་མེད་པ་སྟོང་པ་ཉིད་སྡུག་ཅེས་བྱ་བ་དང་། མི་སྡུག་ཅེས་བྱ་བར་གནས་པར་མི་བྱའོ། །དམྱིགས་པའི་ཚུལ་གྱིས། ཐོག་མ་དང་ཐ་མ་མྱེད་པ་སྟོང་པ་ཉིད་ཞི་ཞེས་བྱ་བ་དང་། མ་ཞི་ཞེས་བྱ་བར་གནས་པར་མྱི་བྱའོ། །དམྱིགས་པའི་ཚུལ་གྱིས། ཐོག་མ་དང་ཐ་མ་མེད་པ་སྟོང་པ་ཉིད་དབེན་ཞེས་བྱ་བ་དང་། མྱི་དབེན་ཞེས་བྱ་བར་གནས་པར་མྱི་བྱའོ། །དམྱིགས་པའི་ཚུལ་གྱིས།',\n",
       "  'en': '“They should not, by way of apprehending anything, dwell on the notion that the emptiness of the unlimited is permanent or impermanent; they should not, by way of apprehending anything, dwell on the notion that the emptiness of the unlimited is happiness or suffering; they should not, by way of apprehending anything, dwell on the notion that the emptiness of the unlimited is a self or nonself; they should not, by way of apprehending anything, dwell on the notion that the emptiness of the unlimited is pleasant or unpleasant; they should not, by way of apprehending anything, dwell on the notion that the emptiness of the unlimited is at peace or not at peace; they should not, by way of apprehending anything, dwell on the notion that the emptiness of the unlimited is void or not void; they should not, by way of apprehending anything, dwell on the notion that the emptiness of the unlimited is empty or not empty; they should not, by way of apprehending anything, dwell on the notion that the emptiness of the unlimited has a sign or is signless; and they should not, by way of apprehending anything, dwell on the notion that the emptiness of the unlimited has wishes or does not have wishes.',\n",
       "  'base_predictions': '“They should not, by way of apprehending anything, dwell on the notion that the emptiness of the unlimited is permanent or impermanent; they should not, by way of apprehending anything, dwell on the notion that the emptiness of the unlimited is happiness or suffering; they should not, by way of apprehending anything, dwell on the notion that the emptiness of the unlimited is a self or nonself; they should not, by way of apprehending anything, dwell on the notion that the emptiness of the unlimited is pleasant or unpleasant; they should not, by way of apprehending anything, dwell on the notion that the emptiness of the unlimited is at peace or not at peace; they should not, by way of apprehending anything, dwell on'},\n",
       " {'bo': 'ངེས་གསང་སྙིང་པོའི་བསྟན་པ་རབ་རྒྱས་ཤིང་།།',\n",
       "  'en': 'May the definitive teachings of the Secret Essence spread far and wide.',\n",
       "  'base_predictions': 'May the teachings of the definitive secret essence spread far and wide'},\n",
       " {'bo': 'གནོད་བྱེད་ཀྱི་འདྲེ་ལའང་དེ་ལྟར་ཞིབ་ཏུ་བརྟགས་ནས་ལྷ་འདྲེ་གཉིས་ཀ་མིང་གིས་བཏགས་ཙམ་ལས་རང་བཞིན་གྱིས་མ་གྲུབ་པའི་ཚུལ་ཤེས་པར་བྱའོ།།',\n",
       "  'en': \"If you think that demons have caused you harm, examine how any harm could be caused by what amounts to the mere label 'demon,' since this label does not qualify as a sense object-a form, sound, odor, taste, or tactile sensation.\",\n",
       "  'base_predictions': 'When you examine harmful spirits in this way, you should understand how both gods and demons are mere names and have no intrinsic existence.'},\n",
       " {'bo': 'མཆོད་སྦྱིན་གནས་འདིར་གང་ལྷགས་པའི།། འབྱུང་པོ་ས་འོག་རྒྱུ་བ་དང་།། གང་ཡང་ས་སྟེང་འཁོད་པ་དང་།། ས་བླར་རྒྱུ་བ་གང་ཡིན་པ།། མགུ་བར་གྱིས་ལ་རང་གནས་སུ།། ཐམས་ཅད་ཐ་དད་འགྲོ་བར་གྱིས།།',\n",
       "  'en': 'May all the spirits gathered here In this place of offering—those who travel beneath the earth, Those who dwell upon the earth, And those who move about above it— All be satisfied and return, Each to their own separate abode!',\n",
       "  'base_predictions': 'All the spirits gathered at this place of offering and giving, those who move under the ground, those who dwell on the ground, and those who move above the earth— all be satisfied, and they all go separate.'},\n",
       " {'bo': 'མི་མཐུན་དགྲ་ཟུན་སྤེལ་མ་ཡིན།།',\n",
       "  'en': 'Beings alternate between being friends and discordant foes.',\n",
       "  'base_predictions': 'You will not increase your adversities as enemies.'},\n",
       " {'bo': 'དང་པོ་ངོ་བོ་མཐོང་མ་མཐོང་ནི། སེམས་ཀྱི་ངོ་བོ་ཅིར་ཡང་གྲུབ་པ་མེད་པས་ན་སྟོང་པ།',\n",
       "  'en': 'First, whether the essence is seen or not: That mind essence has no intrinsic existence whatsoever means it is “empty.”',\n",
       "  'base_predictions': 'First, in terms of whether the essence is seen or not: Since the essence of mind does not exist in any way, it is empty.'},\n",
       " {'bo': 'རབ་ཏུ་སྦྱོར་བར་བྱེད་པའི་ཕྱིར་རོ།།',\n",
       "  'en': 'Thus they are wholly connected and thoroughly connected.',\n",
       "  'base_predictions': 'Because it binds one to it.'},\n",
       " {'bo': 'འབྱོར་པ་ཐམས་ཅད་ཀུན་ཏུ་སྟོན་མཛད་པ།། ཐེ་ཚོམ་ཐམས་ཅད་གཅོད་པ་ཡི།། ཆོས་ཆེན་ཆར་ནི་རབ་ཏུ་འབེབས།།',\n",
       "  'en': 'In all the surrounding maṇḍalas, As the revealer of all excellent attributes, It causes a downpour of the supreme doctrine, Cutting off all doubts.',\n",
       "  'base_predictions': 'Revealing all kinds of possessions, The rain of the Great Dharma showers down All doubts.'},\n",
       " {'bo': 'སོ་སོ་ཡང་དག་པར་རིག་པ་བརྙེས་པས་ན་བློ་གྲོས་གཞན་ལས་འཕགས་པས་ལེགས་པའི་བློ་གྲོས།',\n",
       "  'en': 'Having attained the correct knowledges, one\\'s intellect is exalted above that of others. Thus, there is \"excellent intelligence.\"',\n",
       "  'base_predictions': 'Because they have attained correct and discerning awareness, they are well known in intelligence, which is superior to other types of intelligence.'},\n",
       " {'bo': 'གཉིད་ནི་དགེ་བ་དང་། མི་དགེ་བ་དང་།',\n",
       "  'en': 'Sleepiness can be wholesome, unwholesome, nondefined.',\n",
       "  'base_predictions': 'Sleep is virtuous, nonvirtuous, or neutral.'},\n",
       " {'bo': 'ཞི་བར་བྱེད།',\n",
       "  'en': 'Pacify if.',\n",
       "  'base_predictions': 'Pacification.'},\n",
       " {'bo': 'ཨོཾ་ཨཱ་མོ་གྷ་ཤཱི་ལ།སཾ་བྷ་ར་སཾ་བྷ་ར།བྷ་ར་བྷ་ར།མཧཱ་ཤུདྡྷ་སཏྭ་པདྨ་བི་བྷུ་ཥི་ཏ་བྷུ་ཛ།དྷ་ར་དྷ་ར།ས་མནྟ།ཨ་ཝ་ལོ་ཀི་ཏེ་ཧཱུྃ་ཕཊ་སྭཱ་ཧཱ།',\n",
       "  'en': 'oṃ amoghaśīla saṃvara saṃvara vara vara mahā-śuddha-sattva-padma-vibhūṣita-puja-dhara-dhara-samanta-avalokite hūṃ phaṭ\\xa0svāhā',\n",
       "  'base_predictions': 'oṃ amoghaśīla saṃvara saṃvara bhara bhara mahā-śuddha-sattva-padma-vibhūṣita-puja-dhara-dhara-samanta-avalokite hūṃ phaṭ svāhā'},\n",
       " {'bo': 'ཐལ་འགྱུར་ལས། རྣ་བ་གཡས་པས་ལས་རླུང་སྟོན།། གཡོན་པས་སྒྲ་ཉམས་ཡེ་ཤེས་ཉིད།། གཡོན་རྩ་ན་རང་བཞིན་གྱི་ཐིག་ལེ་གཡས་ན་ཀུན་རྫོབ་ཀྱི་ཐིག་ལེའོ།། དེ་ཡང་གཡས་པ་ཀུན་རྫོབ་ཀྱི་ཐིག་ལེ་ལ་བརྟེན་ནས་སུ་སྨིན་པར་བྱེད་ལ། དེ་ཉིད་ཀྱིས་ལུས་བདེ་བ་དང་སྡུག་བསྔལ་བ་དང་བཏང་སྙོམས་དང་འབྱུང་བ་འཕེལ་བ་དང་ཉམས་པ་ལ་སོགས་པའི་ལས་བྱེད་དོ།། དེ་ཡང་དེ་ཉིད་ལ་མདུད་པ་ཕྲ་མོ་བཞི་ཡོད་དེ་ལྟེ་བ་དང་། དྲན་པ་དང་རོ་རྣམས་དང་རྩེ་མོ་བཞིན་དང་པོ་རྒྱུས་སྐྱེད་བྱེད་ཀྱི་རྩ་བསྐྱེད་པས་རྩའི་ནང་དུ་ཕའི་རྒྱུ་ཐིག་ལེ་དཀར་བ་ཡུངས་འབྲུ་ལ་བཅུར་བགོས་པའི་ཆ་ཙམ་ཞིག་གནས་སོ།། དེ་ལ་བརྟེན་ནས་ལུས་ཡར་འཕེལ་དུ་བསྐྱེད་པས་རྒྱུ་ཞེས་བྱའོ།། དྲན་པ་ན་མའི་རྒྱུ་ཐིག་ལེ་དམར་པོ་ཡུངས་འབྲུའི་བཅུ་ཆ་ཙམ་གནས་པས་དྲན་བསམ་སྣ་ཚོགས་པ་འགྱུ་བའི་རྟེན་དུ་གནས་པས་དྲན་པ་ཞེས་བྱའོ།།',\n",
       "  'en': \"In the root tantra, it states: Through the right ear, the karmic winds manifest. Through the left ear, sound is heard as wisdom. Genuine vital essence flows within the left channel and relative flows in the right. In reliance upon the relative bindus in the right channel, the body is brought to maturity. This also functions in relation to the experiences of comfort, discomfort, neutrality and the like, as well as the increase and decline of the body's elemental energies. This channel also has four subtle knots at the navel, heart, throat and crown. For the first , since the cause for the channel of generation is engendered here, the root cause from the father is located within this channel as a white bindu the size of a tenth of a mustard seed. In reliance upon it, the body forms in an upward manner, hence, it is referred to as the root cause. The red bindu from the mother, about the size of a tenth of a mustard seed, is located at the heart. This abides as the source for the arising of various mental thoughts and recollections and is hence referred to as recollection.\",\n",
       "  'base_predictions': 'In the root tantra, it states: The right ear reveals karmic winds, the left ear reveals the experience of sound, and the intrinsic nature of the bindu in the left channel is the relative bindu in the right channel. In reliance upon the relative bindu of the right hand, the bindu matures in the right channel. Through that, the function of the body is to experience happiness, suffering, equanimity, increase the elements, decrease and so forth. Concerning this, there are four subtle knots that are like the navel, memory, taste, and tip. First, since the cause generates the channels that generate the generative essence, the cause of the father within the channel is a white bindu the size of one tenth of a mustard seed.'},\n",
       " {'bo': 'སྣང་སྲིད་འཁོར་འདས་ཐམས་ཅད་ཀྱི་ངོ་བོ་དངོས་པོ་དང་མཚ༵ན་མ༵ར་གྲུབ་པ་མ༵་ཡི༵ན་ཏེ་གདོད་མ་ནས་རང་བཞིན་མེད་པ་སྤྲུལ་པ་དང་འདྲ་ཞིང་རྣམ་པ་དོན་སྤྱོད་པ་དང་བཏང་སྙོམས་ཆེན་པོས་སེམས་ཅན་རྣམས་ཞི་བ་ལ་འགོད་པའི་མཚོན་བྱེད་དུ་དྲིལ་བུ་མར་སྣང་བ༵འོ།།',\n",
       "  'en': 'Given that the nature of the phenom\\xad ena of samsara and enlightenment does not exist as substance or with characteristics, it is originally nonexistent-like magic-indicated by placing all sentient beings in quiescence and great evenness through accomplishing their welfare as Gantha.',\n",
       "  'base_predictions': 'Since the nature of all apparent phenomena of samsara and enlightenment has never been established as substantial or possessing characteristics. From the beginning, this nature is like a magical manifestation and has no purposeful activity or great equanimity as the indication of establishing all sentient beings in peace.'},\n",
       " {'bo': 'ཚེ་དང་ལྡན་པ་མ་འགགས་པའི་ལྷའི་མིག་གིས་ཇི་སྲིད་ཚུན་ཆད་མཐོང་།',\n",
       "  'en': 'To what distance does the divine vision of the venerable Aniruddha extend?’',\n",
       "  'base_predictions': 'With the divine vision of Venerable Aniruddha, one can see him for as long as one lives.'},\n",
       " {'bo': 'འདེགས་འཇོག་བརྐྱང་བསྐུམ་འགྲོ་བའི་ལས་ནི་ལུས་ཅན་ལ་བརྟེན་པའི་ཕྱིར་ན་རྡུལ་དེ་ཡི་ལས་ཀྱི་བདག་ཉིད་ཡིན་པ་དང་།',\n",
       "  'en': 'The action of walking, for example, the lifting and lowering of the feet, the bending and stretching of the limbs—since they are based on the possession of a body—are, in principle, the activity of the particles.',\n",
       "  'base_predictions': 'Actions of wandering beings, lifting up, putting down, expanding and contracting, are based on embodied beings; therefore, they are of the nature of the actions of these particles.'}]"
      ]
     },
     "execution_count": 3,
     "metadata": {},
     "output_type": "execute_result"
    }
   ],
   "source": [
    "list(ds.select(range(0,50)))"
   ]
  },
  {
   "cell_type": "code",
   "execution_count": 4,
   "metadata": {},
   "outputs": [],
   "source": [
    "scores_1 = [75, 85, 80, 60, 70, 65, 85, 90, 40, 85, 85, 80, 75, 70, 75, 85, 80, 85, 75, 80, 85, 80, 75, 80, 70, 85, 80, 75, 85, 80, 75, 85, 80, 85, 80, 85, 85, 80, 75, 85, 80, 75, 85, 80, 85, 80, 85, 90, 80, 85]"
   ]
  },
  {
   "cell_type": "code",
   "execution_count": 5,
   "metadata": {},
   "outputs": [
    {
     "data": {
      "text/plain": [
       "[{'bo': 'བྱང་ཆུབ་ཏུ་ཐུགས་བསྐྱེད་ཅིང་གཞན་དོན་དུ་སེམས་དཔའ་རྒྱལ་བའི་སྲས་སུ་གྱུར་པ་དུས་གསུམ་དུ་གཤེགས་ཤིང་བཞུགས་པ་ཐམས་ཅད་ལའོ།། ཚུལ་ཇི་ལྟར་ན་སྒོ་གསུམ་གུས་ཤིང་དད་པའི་ཚུལ་གྱིས་སོ།། དགོས་པ་གང་གི་ཕྱིར་ན། རྒྱུད་ལ་བསོད་ནམས་ཀྱི་ཚོགས་འཕེལ་ཞིང་བར་ཆད་ཞི་བས་རྩོམ་པའི་བྱ་བ་མཐར་ཕྱིན་པར་འགྱུར་བ་དང་། འཕྲལ་ཡུན་གྱི་བདེ་བ་མངོན་མཐོ་དང་ངེས་པར་ལེགས་པའི་ཕུན་ཚོགས་འཐོབ་པར་འགྱུར་བ་སྟེ། རྒྱལ་བའི་ཡུམ་ལས། རིགས་ཀྱི་བུའམ་རིགས་ཀྱི་བུ་མོ་གང་ལ་ལ་ཞིག་གིས་དེ་བཞིན་གཤེགས་པ་ལ་ཕྱག་འཚལ་ལོ་ཞེས་བརྗོད་ན། དེ་ཐམས་ཅད་སྡུག་བསྔལ་གྱི་མཐར་ཕྱིན་པར་འགྱུར་རོ་ཞེས་གསུངས་སོ།། གསུམ་པ་༼བརྩམ་པར་དམ་བཅའ་བ་༽ ནི། ཐོས་དང་བསམ་ལ་རབ་བརྟེན་ནས།། སྒོམ་པའི་ཚུལ་ལ་སྦྱོར་བའི་ཕྱིར།། བདག་ཉིད་དབེན་པར་འདུགསྤྲ་ན།། ཚུལ་འདི་སྣང་བ་བརྗོད་པར་བྱ།། ཞེས་གསུངས་ཏེ། རྗེ་ཉིད་ངེས་དོན་དུ་སངས་རྒྱས་ཀྱི་རྣམ་ཐར་འཛིན་པ་ཡིན་ཀྱང་གདུལ་བྱ་བྱིས་པའི་སྐྱེ་བོ་རྗེས་སུ་བཟུང་བའི་སླད་དུ་སོ་སྐྱེའི་གང་ཟག་ལྟར་བསྟན་ཏེ།',\n",
       "  'en': 'Bodhisattvas are those who give rise to the mind directed toward enlightenment and have the courageous motivation to benefit others. In what manner does Rangjung Dorje pay homage? For what purpose does he pay homage? It is in order to complete the task of composing the text through increasing the accumulation of merit in the mind stream and pacifying obstacles, as well as to attain temporal and lasting happiness—the excellencies of both the higher realms and definite excellence. The prajñāpāramitā sūtras the Mother of the Victors say: If any sons of good family or daughters of good family say, “I pay homage to the Tathāgata,” they will all reach the end of suffering. Commitment to compose the text Having relied on study and reflection, In order to immerse myself in the ways of meditation, While dwelling in seclusion, I will express how this principle appears. In terms of the definitive meaning, this Lord Rangjung Dorje led the life of a buddha, but for the purpose of taking care of childish beings to be guided, he appeared like an ordinary person.',\n",
       "  'base_predictions': 'To all those who have awakened the mind of enlightenment, and who have become bodhisattvas or children of the victorious ones for the sake of others, who have departed and abided in the three times. How is this done? It is done with respect and devotion in thought, word, and deed. Why is this necessary? It is by increasing the collection of merit in the mind stream and pacifying obstacles that the task of composition will be brought to completion. It is by obtaining immediate happiness and the excellent fortune of higher realms and definitive excellence. The Mother of the Victorious Ones says: If a son or daughter of noble family recites: “I prostrate to the Tathāgata,” they will all reach'},\n",
       " {'bo': 'འོན་ཀྱང་རང་རྟོན་དང་རང་གཅེས་མེད་ན་ཁྱོད་ཀྱིས་འགལ་རྐྱེན་ལ་གདོང་ལེན་དང་འགྲན་རྩོད་བྱེད་པའི་ནུས་པ་དུས་ནམ་ཡང་འཐོར་འདེགས་སུ་གཏོང་མི་ཐུབ།',\n",
       "  'en': 'The immediate goal is to make you bully proof, but your ability to deal with setbacks and challenges of any kind will only improve as you grow in self-confidence and self-love.',\n",
       "  'base_predictions': 'But without self-confidence and self-esteem, you will never be able to cope with adversity and compete.'},\n",
       " {'bo': 'འདི་ལྟ་སྟེ་འདོད་པའི་ཟག་པ་དང་། སྲིད་པའི་ཟག་པ་དང་། མ་རིག་པའི་ཟག་པ་དང་། ལྟ་བའི་ཟག་པ་སྟེ།',\n",
       "  'en': 'They are: the outflow of desire, the outflow of existence, the outflow of ignorance, and the outflow of views.',\n",
       "  'base_predictions': 'It is the contamination of desire, the contamination of existence, the contamination of ignorance, and the contamination of views.'},\n",
       " {'bo': 'ངོས་ཀྱིས་ནམ་རྒྱུན་དེ་གཉིས་ལ་བདེན་པ་གཅིག་དང་ཆོས་ལུགས་གཅིག་དང་། བདེན་པ་སྣ་མང་དང་ཆོས་ལུགས་སྣ་མང་གི་ལྟ་བ་གཉིས་ཞེས་རྗོད་ཀྱི་ཡོད།',\n",
       "  'en': 'I often characterize these two perspectives as “one truth, one religion” versus “many truths, many religions.”',\n",
       "  'base_predictions': 'I often refer to them as “one truth, one religion” and “two truths and many religions.”'},\n",
       " {'bo': 'རྟག་ཏུ་སྒྲོན་ཆེན་སྣང་བྱེད་བཞིན། །',\n",
       "  'en': '“She is always like a great illuminating lamp.',\n",
       "  'base_predictions': 'May I always illuminate a great lamp,'},\n",
       " {'bo': 'དེ་ཁོ་ན་ཉིད་ལ་རྩེ་གཅིག་ཏུ་དམིགས་པའི་བློ་ཡིས་དགག་བྱའི་ཡུལ་བཀག་རྗེས་སྟོང་ཉིད་ལས་ཅི་ཡང་མཐོང་མི་སྲིད།',\n",
       "  'en': 'The mind that single-point- edly concentrates on suchness sees nothing but vacuity after re- jecting the object of to be refuted.',\n",
       "  'base_predictions': 'A mind focused on suchness cannot see anything other than emptiness after it has negated the object of negation.'},\n",
       " {'bo': 'དགེ་བ་འདི་ཡི་བསོད་ནམས་གང་ཐོབ་དེས།། ས་ཆུ་མེ་རླུང་ནམ་མཁའ་གནས་ཀྱི་བར།། བསྟན་པ་རིན་ཆེན་འཇིག་རྟེན་གནས་གྱུར་ནས།། འགྲོ་བ་བྱང་ཆུབ་གོ་འཕང་ཐོབ་པར་ཤོག།',\n",
       "  'en': 'May one who has attained the merit of this virtue attain the status of awakening from having the precious teaching stay in the world; remaining for as long as the earth, water, fire, wind, and space.',\n",
       "  'base_predictions': 'By whatever merit is gained through this virtue, may beings attain the state of enlightenment through the precious teachings abiding in the world, as long as earth, water, fire, wind, and space endure.'},\n",
       " {'bo': 'གཉིས་མེད་ཉིད་ནི་ཡོད་མ་ཡིན།། ཐོག་མ་དབུས་དེང་ཐ་མ་བྲལ།། བསྐྱེད་པ་དང་ནི་རྫོགས་པ་སྤངས།',\n",
       "  'en': 'Free from beginning, middle, and end, devoid of the creation and completion stages, free from thoughts and thinker, nondual gnosis is supreme.',\n",
       "  'base_predictions': 'This nondual state does not exist, for it is free from beginning, middle, and end now and beyond the generation and perfection stages.'},\n",
       " {'bo': 'སྤྲོས་མེད་དམིགས་པའི་མཁའ་འགྲོ་གྲིབ་སེལ་ཡིན།།',\n",
       "  'en': 'It is the Elimination of Strokes and Seizures By Dakinis Focusing on the Unelaborate.',\n",
       "  'base_predictions': 'It clears away the defilements of the dakinis who visualize the absence of elaborations.'},\n",
       " {'bo': 'མཐུན་པའི་ལྡན་པ་ནས་མཐུན་པའི་ངེས་འབྱུང་མིན་པའི་བར་དྲུག་གིས་ནི་རྩ་བའི་ལྡན་པ་ཉིད་ལྡན་པར་བྱེད་པ་ནས་རྩ་བའི་ངེས་འབྱུང་མིན་པ་ཁོ་ན་ངེས་པར་འབྱུང་བར་མི་བྱེད་དོ།།',\n",
       "  'en': 'Each of the six—from the derivative association to the derivative being nonconducive to renunciation—acts as follows: The derivative association only makes the basic association association; mutatis mutandis for each pair up to the derivative not being conducive to renunciation and the basic not being conducive to renunciation.',\n",
       "  'base_predictions': 'The six from the derivative elements to the derivative elements of nonconducive to renunciation make the basic endowment itself and so forth, up to the derivative elements of nonconducive to renunciation alone.'},\n",
       " {'bo': 'རྒྱུད་ནི་རྒྱུན་ཆགས་ལ་བཤད་དེ།། ཐབས་དང་རྒྱུ་ལས་འབྲས་བུའོ།། ཞེས་སོ།། གསུམ་པ་དབྱེ་བ་ལ་གཉིས། བརྗོད་བྱ་རྒྱུད་གསུམ་གྱི་རྣམ་གཞག་སྤྱིར་བསྟན་པ་དང་། རྗོད་བྱེད་རྒྱུད་སྡེ་བཞིའི་དབྱེ་བ་བྱེ་བྲག་ཏུ་འཆད་པའོ།། དང་པོ་ལའང་། གང་རྟོགས་པར་བྱ་བ་གཞིའམ་རྒྱུའི་རྒྱུད། གང་གིས་རྟོགས་ཤིང་བགྲོད་པ་ཐམས་སམ་ལམ་གྱི་རྒྱུད། གང་དུ་མཐར་ཕྱིན་པ་འབྲས་བུའི་རྒྱུད་དང་གསུམ་ལས། དང་པོ་ནི། གཞི་འཆིང་གྲོལ་མེད་པའི་གནས་ལུགས་རང་རིག་པ་བྱང་ཆུབ་ཀྱི་སེམས་བདེན་པ་དབྱེར་མེད་བློའི་སྤྱོད་ཡུལ་དང་བྲལ་བ་རང་བཞིན་གྱིས་འོད་གསལ་བར་ཡེ་ནས་གནས་པ་གང་ཡིན་པ་སྟེ། ཞིང་དང་།',\n",
       "  'en': '14) says: Tantra is explained as continuity: From its skilful means and causal basis, The result is derived. 3 The Three Continua of Ground, Path and Result [The way of secret mantra] is classified according to two divisions, one which generally reveals the definitive order of the three kinds of tantra or continuum comprising the expressed meaning (brjod-bya rgyud-gsum) and the other explaining, in particular, the divisions of the four tantrapiṭaka which form their literary expression (rjod-byed rgyud-sde bzhi). The former consists of three kinds of continuum, namely, the continuum of the ground or basis which is to be realised, the continuum of skilful means or the path through which realisation and progress are acquired, and the continuum of the result wherein the goal is reached. CONTINUUM OF THE GROUND Concerning the first of these: The ground is that which is primordially present as the abiding nature without bondage or liberation. It is the enlightened mind of intrinsic awareness, the natural inner radiance wherein truth is indivisible and which is free from the range of the intellect.',\n",
       "  'base_predictions': 'Tantra is explained as a continuity, as it is the method aspect and the result aspect of the causal continuum. TANTRIC SCRIPTURAL QUOTATION This section has two parts: a general presentation of the three continua that are the subject matter and a detailed explanation of the divisions of the four classes of tantra that express the subject matter. THE CAUSAL CONTINUUM This section has three parts: the continuum of the ground or causal continuum to be realized; the continuum of skilful means or path through which one realizes and progresses; and the continuum of the result in which one reaches the conclusion. THE CAUS'},\n",
       " {'bo': 'སེམས་ཅན་གཅིག་ཡིད་ཇི་སྙེད་པ། །སངས་རྒྱས་ཀྱིས་ནི་རབ་མཁྱེན་ཀྱང་། །ང་ཡིས་ཡིད་འདི་ཤེས་སོ་ཞེས། །དེ་ནི་རྟོག་པར་མི་འགྱུར་རོ། ། དུས་གསུམ་སེམས་ཅན་ཐམས་ཅད་ཀྱི། སེམས་པ་དག་ནི་ཇི་སྙེད་པ། །འཇིག་རྟེན་མགོན་པོ་ཆོས་སྟོན་ཚེ། །དབྱངས་ཀྱི་ཡན་ལག་དེ་སྙེད་དོ། ། ཆོས་ཀྱི་བདག་པོ་གསུང་བ་ན། ། དབྱངས་ཀྱི་ཡན་ལག་ཇི་སྙེད་པ། །ཆོས་ཀྱི་མིང་གིས་བཤད་པ་ཡི། །ཆོས་བསྟན་པ་ཡང་དེ་ཙམ་མོ། ། སེམས་ཅན་ཀུན་གྱི་གཟུགས་དང་ནི། །མིང་དང་སེམས་པ་ཇི་སྙེད་པ། །སེམས་ཅན་སྙིང་པོའི་སྤུ་གཅིག་ནས། ། འོད་ཟེར་འབྱུང་བ་དེ་སྙེད་དོ། ། འཇིག་རྟེན་མགོན་པོའི་སྤུ་ཀུན་གྱི། །འོད་ཟེར་དག་ནི་ཇི་སྙེད་པ། །མི་ཡི་དབང་པོ་ཆོས་སྟོན་ཚེ། །གསུང་གི་ཡན་ལག་དེ་བས་མང་། ། དཔེ་བཀོད་ནས་ནི་སངས་རྒྱས་ཀྱིས། །བསྐལ་པར་རབ་ཏུ་བསྟན་མཛད་ཀྱང་། །སངས་རྒྱས་ཀྱི་ནི་གསུང་དབྱངས་ཀྱི། མཐའ་མ་རྙེད་པར་མི་འགྱུར་རོ། ། ཉོན་མོངས་གཟུགས་ཅན་མ་ཡིན་རྣམས། །གཟུགས་ཅན་མིན་པའི་ཚིག་གིས་བརྗོད། གཟུགས་ཅན་མིན་པའི་ཚིག་གིས་ནི། །ཉོན་མོངས་གཟུགས་མེད་ཞི་བར་བྱེད། །',\n",
       "  'en': 'Of even a single being, even in an eon. “Though a perfect buddha knows The extent of a single being’s mind, He will not form the thought, ‘I know this being’s mind.’ “When the Lord of the World teaches the Dharma, The types of his speech are equal To the number of thoughts Of all beings of the three times. “When the Master of Dharma speaks, As many types of speech as he has, The word dharma can express Just as many teachings of the Dharma. “The light rays that issue from a single hair Of that Essence of Beings Is equal in number to the appearances, Words, and thoughts of all beings. “When the Master of Men teaches the Dharma, The types of his speech are greater Than the number of light rays that issue From all the hair of that Lord of the World. “Analogously, even if a buddha Were to appear for an eon, One could not find an end To the sound of a buddha’s voice. “Afflictions that are without form Are described with formless words. Yet, words that are without form Can quell formless afflictions.',\n",
       "  'base_predictions': '“Though the Buddha knows The mind of just one being, He will not think: ‘I know this mind of mine.’ “When the Lord of the World teaches the Dharma For as many thoughts As there are sentient beings in the three times, The aspects of his voice are as numerous. “When he teaches the lord of the Dharma, The aspects of his voice are as numerous, And his Dharma is as numerous. “As many forms as there are in all sentient beings, As many as there are names and thoughts, There are as many rays of light That shine from a single hair on the essence of all sentient beings. “When the Lord of Men teaches the Dharma For as'},\n",
       " {'bo': 'ཕལ་ཆེན་སྡེ་པ་ལ་སོགས་པ་གཞན་དག་ནི་མདོའི་དགོངས་པ་ནི་འཇིག་རྟེན་གྱི་ཁམས་གཅིག་གི་དབང་དུ་མཛད་ནས་གསུངས་པ་ཡིན་གྱི་མདོ་གཞན་ལས་ཤར་ལ་སོགས་པའི་འཇིག་རྟེན་ནའང་སངས་རྒྱས་དུ་མ་ཡོད་པར་གསུངས་པའི་ཕྱིར་རོ་ཞེས་འདོད་པ་ཉིད་རིགས་པ་ཡིན་ནོ།། དེ་ཡང་དུས་མཉམ་དུ་སེམས་བསྐྱེད་ཅིང་ཚོགས་བསགས་པ་དག་ལ་ཁ་ཅིག་སངས་རྒྱལ་ཁ་ཅིག་ལ་གེགས་བྱེད་པ་སུ་ཡོད། དེས་ན་ཞིང་གཅིག་ཏུ་ལྷན་ཅིག་མི་འབྱུང་ཡང་གཞན་དུ་འབྱུང་ངོ།། མདོ་དེ་ནི་ཞིང་གཅིག་ལ་དགོངས་པ་སྟེ།',\n",
       "  'en': 'The Mahasamghika school and so on assert that this sutra intends just one world system.',\n",
       "  'base_predictions': 'Other schools, such as the Mahāsāṃghikas, assert that the intention of the sūtras is stated from the perspective of one world system and that many buddhas exist in other world systems such as eastern and so on.'},\n",
       " {'bo': 'ཤ་ར་དྭ་ཏིའི་བུ་གཞན་ཡང་བྱང་ཆུབ་སེམས་དཔའ་སེམས་དཔའ་ཆེན་པོ་ཤེས་རབ་ཀྱི་ཕ་རོལ་ཏུ་ཕྱིན་པ་ལ་སྤྱོད་པའི་ཚེ། གཟུགས་བདེའོ་ཞེས་བྱ་བར་མི་སྦྱོར་རོ། །',\n",
       "  'en': '“Moreover, Śāradvatīputra, when bodhisattva great beings practice the perfection of wisdom, they do not associate physical forms with ‘happiness.’',\n",
       "  'base_predictions': '“Moreover, Śāradvatīputra, when bodhisattva great beings practice the perfection of wisdom, they do not associate physical forms with ‘happiness.’'},\n",
       " {'bo': 'ཤིན་ཏུ་ལྐོག་གྱུར་གྱི་སྐོར་གསུངས་པའི་སངས་རྒྱས་ཀྱི་གསུང་རྣམས་ཚད་མ་ཡིན་པར་ཁས་ལེན་ཆོག་པའི་རྒྱུ་མཚན་གཅིག་ནི། ཅུང་ཟད་ལྐོག་གྱུར་གྱི་ཡུལ་དང་འབྲེལ་བར་གསུངས་པའི་ཁོང་གི་བཀའ་རྣམས་ཚད་མ་ཡིན་པར་བསྒྲུབས་པས་ཡིན། ཆོས་ཉམས་སུ་ལེན་འདོད་མཁན་ཞིག་གི་དམིགས་བྱ་གཙོ་བོ་ནི།',\n",
       "  'en': \"One of the reasons that Buddha's words can be accepted as valid in relation to very obscure phenomena is that in regard to less hidden things his teachings have proven to be reliable and valid.\",\n",
       "  'base_predictions': 'One of the reasons why the Buddha’s teachings on extremely obscure phenomena can be accepted as valid is that his teachings, which relate to objects that are slightly obscure, are established as valid.'},\n",
       " {'bo': 'བདེ་བའི་བློ་གདེང་ཉམས་རྟོགས་ཁོ་སྐྱེས་ཚེ།། བདེ་ཞུས་ཕྱིར་དུ་འོངས་པ་ཡིན་ཞུ་ལགས།།',\n",
       "  'en': 'When meditation experiences and realization arise, And with them a confident and truly satisfied mind, I’ll return to offer you my best wishes.',\n",
       "  'base_predictions': 'When experience and realization arise with confidence in bliss, I have come here to request happiness.'},\n",
       " {'bo': 'ལར་འཆི་བ་འདི་གས་འཇིགས་ཞུ་བ་ལ།',\n",
       "  'en': 'In fact, I’m terrified of dying.”',\n",
       "  'base_predictions': 'Generally, when someone asks for fear of death,'},\n",
       " {'bo': 'ཁྱད་པར་འབྱུང་ལྔའི་དྭངས་བཅུད་ཀུན། །',\n",
       "  'en': 'And in particular the essence of the five elements.',\n",
       "  'base_predictions': 'And especially the vital essence of the five elements'},\n",
       " {'bo': 'དེ་ལ་མ་དག་པའི་གནས་སྐབས་ནི་སོ་སོའི་སྐྱེ་བོ་ཐམས་ཅད་ཡིན་ཏེ།',\n",
       "  'en': 'Concerning those, the impure state is all common beings.',\n",
       "  'base_predictions': 'The impure state refers to all ordinary beings.'},\n",
       " {'bo': 'སྒྲུབ་བྱེད་གཞན་བདག་སྐྱེ་དང་། དེ་དག་ལ་རིགས་པའི་གནོད་བྱེད་ཡོད་པས། དེས་ན་ལས་ཀྱིས་འབྲས་བུ་བསྐྱེད་པའི་ཚུལ་ལའང་། བློ་ལ་དེ་ལྟར་དུ་སྣང་བ་ལས་སྒྲུབ་བྱེད་གཞན་མེད་ལ། སྒྲུབ་བྱེད་གཞན་བཙལ་བ་ན་ཕྲད་ནས་སྐྱེད་དམ། མ་ཕྲད་ནས་བསྐྱེད་པ་གཉིས་ལས་མ་འདས་པས། དང་པོ་ལྟར་ན་ལས་རྟག་པར་འགྱུར་ཞིང་། ཕྱི་མ་ལྟར་ན་ཐམས་ཅད་ཀྱིས་ཐམས་ཅད་བསྐྱེད་པར་ཐལ་བའི་ཉེས་པ་མཐོང་ནས། དངོས་སྨྲ་བ་རྣམས་ཀྱིས་ཉེས་པ་ཕྱི་མ་སྤང་པའི་ཕྱིར་དུ་ལས་འབྲས་ཀྱི་རྟེན་ཁས་ལེན་པ་ཡིན་ལ། ཞིག་པ་དངོས་པོ་བ་ལས་འབྲས་ཀྱི་རྟེན་དུ་འདོད་པའང་འདི་ལས་མ་འདས་པས། ཁོ་བོ་ནི་ཕྲད་མ་ཕྲད་ཀྱི་དཔྱད་པ་བྱས་པའི་ཚེ་ན་ལས་ཀྱིས་འབྲས་བུ་བསྐྱེད་པ་ཉིད་ཀྱང་མི་འདོད་པས་ལས་འབྲས་ཀྱི་རྟེན་ཁས་ལེན་པའི་དོན་མེད་དོ།།',\n",
       "  'en': 'If one posits self-arising or arising from other, etc., This is the point. Thus, with regard to the manner in which actions produce their results, there is no evidence for this production of results other than the fact that it appears that way to the minds of the worldly beings. If one searches for other possible evidence, there are only two alternatives: the result must be produced either by coming into contact with the action or by not coming into contact with it. If it is the first case, then the action would be permanent. If it is the second case, then, seeing the fault that all results would arise from all actions, the realists had to accept a link between action and result in order to escape this fault. Since accepting the existence of an entity termed ‘entity of extinction’ as the link between action and result is also not beyond this realist’s understanding and as 1 don’t accept that action even produces the result when one examines whether or not they come into contact with each other, there is no point in accepting any link between action and result.',\n",
       "  'base_predictions': 'Since there are further arguments that refute arising from self and those that can be rationally disproved, the way in which actions produce effects is that they appear in that way to the mind. There is no other means of establishing them apart from this. If one searches for other means of establishment, does it produce effects through contact or without contact? In the first case, karma would be permanent. In the second case, seeing the fallacy that everything would produce everything, the proponents of true existence accept a support for actions and effects in order to avoid the latter fault. And since they also accept a thing called postdisintegration as the support for actions and effects, they do'},\n",
       " {'bo': 'དེ་ཕྱིར་གཉིས་གའི་མཐའ་ནི་རྣམ་སྤངས་ནས།། མཁས་པས་དབུས་ལའང་གནས་པར་ཡོད་མི་བྱེད།།',\n",
       "  'en': 'Therefore, avoiding both sets of extremes, The wise should not abide even in the middle.',\n",
       "  'base_predictions': 'Therefore, having abandoned both extremes, the wise do not abide even in the middle.'},\n",
       " {'bo': 'ཞིང་གི་དྲ་བའི་བྱེ་བྲག་ཇི་སྙེད་གཞི། །སེར་བུ་མཁའ་ལ་ཆགས་པ་མེད་པ་ལྟར། །རིང་པོར་མི་ཐོགས་རྒྱས་པར་འགེངས་པར་འགྱུར། །',\n",
       "  'en': 'Before long you will pervade completely, Like hail falling without impediment from the sky, As many of the different surfaces of the net of realms as there are.',\n",
       "  'base_predictions': '“Just as breeze is not attached to the sky, It will spread before too long.'},\n",
       " {'bo': 'ཚ་ཆེས་མང་པོ་ནི་རང་གཞན་སུ་ལའང་ཕན་གྱི་མེད།',\n",
       "  'en': 'Too much salt is not good for anyone.',\n",
       "  'base_predictions': 'The most hot is not for anyone or anyone else.'},\n",
       " {'bo': 'བསླབ་པ་དག་ལ་མ་ལེན་ཅིག།',\n",
       "  'en': \"Don't take on the trainings.\",\n",
       "  'base_predictions': 'Do not take up the trainings.'},\n",
       " {'bo': 'དེ་ནི་རེ་ཞིག་དེ་ཉིད་མིན།། དེ་ལས་གཞན་པའང་མ་ཡིན་ལ།། དེ་ཕྱིར་རྟག་མིན་ཆད་མ་ཡིན།། ཞེས་གསུངས།',\n",
       "  'en': 'Therefore it is neither permanent nor nothing.',\n",
       "  'base_predictions': 'Therefore it is neither permanent nor annihilated.'}]"
      ]
     },
     "execution_count": 5,
     "metadata": {},
     "output_type": "execute_result"
    }
   ],
   "source": [
    "list(ds.select(range(50,75)))"
   ]
  },
  {
   "cell_type": "code",
   "execution_count": 6,
   "metadata": {},
   "outputs": [],
   "source": [
    "scores_2 = [85, 75, 90, 70, 60, 80, 85, 70, 65, 60, 75, 40, 95, 85, 80, 70, 65, 75, 80, 30, 80, 85]"
   ]
  },
  {
   "cell_type": "code",
   "execution_count": 7,
   "metadata": {},
   "outputs": [
    {
     "data": {
      "text/plain": [
       "[{'bo': ' དོན་གྱི་དབང་འདི་གཟིགས་ནས་ས་ར་ཧས། གཉིས་སུ་མི་བྱ་གཅིག་ཏུ་བྱ་བ་སྟེ།། རིག་ག་ས་ལ་བྱེ་བྲག་དག་ཏུ་མ་འབྱེད་པ་ར།།',\n",
       "  'en': \" Seeing the implication of this, Saraha said in an Enlightenment Song: Don't take it as two, take it as one; Don't distinguish the various specific clans.\",\n",
       "  'base_predictions': 'Having seen this power of meaning, Saraha said: Do not be two, do not be one, Do not distinguish different types of science.'},\n",
       " {'bo': 'ཀུན་ཀྱང་ཕན་ཚུན་དགྲ་དང་གསོད་པ་ཡིན།།',\n",
       "  'en': 'All of you are mutual enemies and murderers.',\n",
       "  'base_predictions': 'They are all mutual enemies and killers.'},\n",
       " {'bo': ' དྲིན་ཅན་དུ་གྱུར་པའི་མ་འདི་ད་ལྟ་འཁོར་བ་མཐའ་མེད་དུ་བདག་གི་དོན་བྱེད་བྱེད་ནས་འཁྱམས་ནས་སྡུག་བསྔལ་སྣ་ཚོགས་དང་བཅས་པ་འདི་སྙིང་རྗེ་སྙམ་དུ་མི་བཟོད་པའི་བསམ་པ་བརྩེ་དུང་བ་བསྐྱེད་ལ། ད་ནི་ངས་ཀྱང་ལན་དུ་ཕན་པ་དང་། བདེ་བ་ཐམས་ཅད་ཀྱི་ཕན་གདགས། གནོད་པ་དང་མི་ཕན་པ་ཐམས་ཅད་ལས་བསྐྱབ་པར་བྱ་སྙམ་དུ་བསམ།  འོ་ན་མ་རྒན་ལ་གང་གིས་གནོད་ན་སྡུག་བསྔལ་གྱིས་དངོས་སུ་གནོད། ཀུན་འབྱུང་གིས་བརྒྱུད་ནས་གནོད། དེ་ཐམས་ཅད་ངས་ཉམས་སུ་བླང་སྙམ་དུ་བསམས་ལ། མ་རྒན་གྱི་རྒྱུད་ལ་ཡོད་པའི་སྡུག་བསྔལ་ཀུན་འབྱུང་ཉོན་མོངས་ཤེས་བྱའི་སྒྲིབ་པ་བག་ཆགས་དང་བཅས་པ་ཐམས་ཅད་གྲིས་བཞར་བ་བཞིན་དུ། མ་རྒན་གྱི་རྒྱུད་ལས་སངས་ཀྱི་བླངས་ནས་རང་གི་སྙིང་གི་ནང་དུ་བླངས། དེ་ནི་བྱང་ཆུབ་ཀྱི་སེམས་བླང་བ་བསྒོམ་པ་ཡིན་ཏེ། ཡང་མ་རྒན་གྱི་བདེ་བ་ཐམས་ཅད་ངས་བསྒྲུབ་པར་བྱ་སྙམ་དུ་བསམས་ལ། རང་གི་ལུས་ལོངས་སྤྱོད་དགེ་བ་ཐམས་ཅད་མ་རྒན་ལ་ལྟོས་པ་མེད་པར་འབུལ།',\n",
       "  'en': 'You should reflect \"How sad that she, my kind mother, has been wandering in the infinite cycle of existence with so many kinds of sufferings, all the while working for my benefit. In return, I shall now help her by providing her benefits and happiness. I shall protect her from harm and all misfortune.\" You should reflect in this manner. What harms this dear mother? Suffering harms her directly, while the origin of suffering injures her indirectly. So while thinking, \"I shall take all these upon myself,\" take into your own heart in clean swaths-as if layers sheared off by a sharp knife-all the sufferings, their origin, the afflictions, and the subtle defilements to knowledge along with their propensities, all of which exist in your dear mother. This is the meditation on the \"taking\" aspect of awakening mind. Again, thinking, \"I shall myself seek the complete happiness of my dear mother,\" unconditionally offer your body, wealth, and all your virtues to your mother.',\n",
       "  'base_predictions': 'Think, \"Today, my kind mother has been wandering in the endless cycle of existence working for my benefit, and she is tormented by all kinds of suffering.\" In this way, arouse an unbearably tender and loving attitude and think, \"Now I shall help in return, help all sentient beings, and protect them from all harm and unhelpful situations.\"  You may think, \"Well, who harms my old mother? Suffering directly harms me, the source of suffering indirectly harms me, and I shall put all of them into practice.\" Just as you stab all the sufferings and their origins within your old mother with a sharp razor, take the suffering and its origins'},\n",
       " {'bo': 'ཁོ་ཚོས་སྤྱི་ཡོངས་རང་བཞིན་གྱི་ཚོར་བ་ཞིག་དང་བཅས་ཀློག་འགོ་རྩོམ་པ་ཡིན། དཔྱད་རྩོམ་དེའི་སྒྲོམ་གཞི་དང་གལ་ཆེ་ཤོས་ནི་ཁོ་ཚོས་དང་པོ་ཅིའི་ཕྱིར་ཁྱེད་ཀྱི་དཔྱད་རྩོམ་ཀློག་དགོས་པ་ཡིན་ནམ་བསམ་བཞིན་ཀློག་གི་རེད།',\n",
       "  'en': 'They want to begin with a sense of the whole, its structure, and, most important, why they should read your paper in the first place.',\n",
       "  'base_predictions': 'They begin with a sense of the whole, the paradigm and most important of which is why they should read your paper first.'},\n",
       " {'bo': 'དེ་ལྟར་འདོད་པ་ལ་སྐྱོན་མེད་ཅིང་ཡོན་ཏན་དང་ལྡན་པའི་ཕྱིར།',\n",
       "  'en': 'For, accepting such worldly consensus does not entail any faults and is endowed with advantages.',\n",
       "  'base_predictions': 'Since desire is free from faults and is endowed with excellences, it is called “endowment.”'},\n",
       " {'bo': 'ལྷ་སྦྱིན་དོན་གཞན་པའི་བ་ལང་དང་ལྡན་པ་ལྟར་གཟུགས་ལས་དོན་གཞན་པའི་བུམ་པ་གཟུགས་དང་ལྡན་པར་རྟོག་ན་གཟུགས་དང་ལྡན་པའི་བུམ་པ་གཟུགས་ལས་རང་བཞིན་གཞན་དུ་ཡོད་པ་མིན་ལ་སྟེ་ཡོད་པ་མིན་པར་ཐལ།',\n",
       "  'en': 'One might think that the pot which is something distinct from visible form possessed form the way Devadatta possesses a cow, as something separate.',\n",
       "  'base_predictions': 'One might think that a pot that is a different entity from form possesses form, just as Devadatta possesses an ox. But the pot that has form is not inherently different from form, nor does it exist.'},\n",
       " {'bo': 'ཆོས་ཀྱི་དབྱིངས་སྐྱོན་གསུམ་བྲལ་བའི་ནམ་མཁའ་ལྟ་བུའི་ཀློང་ལ་དོན་དམ་རང་བྱུང་གི་འོད་གསལ་ཉི་མ་དེ་ཉིད་ཤར་བ་འདི་ནི་ཆོས་ཉིད་དོ།།',\n",
       "  'en': 'As a result, the sun of ultimate self-arisen luminosity appears in the vast expanse of the dharmadhātu, which is like the sky free of the three impurities. This is the dharmatā.',\n",
       "  'base_predictions': 'In the expanse of the dharmadhātu, which is like the sky free from the three impurities, the sun of ultimate self-arisen luminosity dawns.'},\n",
       " {'bo': 'རྗེས་ཐོབ་ཀྱི་རྟོགས་པའི་ལྡོག་པ་མི་འདྲ་བ་བཅུ་པོ་དེ་ཡང་མཉམ་བཞག་གི་ངོར་རྟོགས་པ་ཙམ་ལ་ཁྱད་པར་མེད་དེ།',\n",
       "  'en': 'Furthermore, these ten distinct aspects of realization pertain to postmeditation, there are no such distinctions with respect to what one simply realizes in the context of meditative equipoise.',\n",
       "  'base_predictions': 'Furthermore, there is no difference between realization in the postmeditation period and mere realization in the experience of meditative equipoise.'},\n",
       " {'bo': 'དབྱངས་དང་རོལ་མོའི་བྱེ་བྲག་རྣམས་རིག་འཛིན་གོང་མའི་ཕྱག་རྒྱུན་མ་ཉམས་པར་སྤྱད་ན་བྱིན་རླབས་ཆེ།',\n",
       "  'en': 'If the styles of chanting and playing music which come from the vidyādharas of the past are maintained properly, they will bring great blessings.',\n",
       "  'base_predictions': 'If you enjoy the unbroken lineage of the Vidyadharas of the past, you will receive great blessings.'},\n",
       " {'bo': 'ཆོས་བཞི་བསྟན་པའི་མདོ་ལས། བྱམས་པ། བྱང་ཆུབ་སེམས་དཔའ་སེམས་དཔའ་ཆེན་པོ་ཆོས་བཞི་དང་ལྡན་ན་སྡིག་པ་བྱས་ཤིང་བསགས་པ་ཟིལ་གྱིས་གནོན་པར་འགྱུར་རོ།།',\n",
       "  'en': 'The Sutra Giving the Four Teachings says: Maitreya, if bodhisattvas, the great heroes, possess these four teachings, then they will overcome any sins that they have committed and accumulated.',\n",
       "  'base_predictions': 'The Sutra Teaching the Four Dharmas says: Maitreya, if a bodhisattva-mahasattva possesses these four dharmas, he will overcome any sins he has committed and accumulated.'},\n",
       " {'bo': 'ཚོར་བ་ལ་ཚོར་བའི་མཚན་ཉིད་མེད་དོ། །',\n",
       "  'en': 'Feelings are without the defining characteristics of feelings.',\n",
       "  'base_predictions': 'Sensation is without the defining characteristics of sensation.'},\n",
       " {'bo': 'ཁྲིམས་གཅོད་ཉིན་མོའི་གཙོ་བོ་དང་། བྱམས་དང་སྙིང་རྗེའི་བདག་ཉིད་ཅན།། འཇིག་རྟེན་བདག་པོ་ཉིད་ལ་བསྟོད།། ཁྱེད་ཉིད་གཅིག་པུར་དད་ཅིང་གུས།། ཁྱེད་ཉིད་གཅིག་པུར་སྐྱབས་སུ་བཅོལ།། ངེད་ཅག་དྲང་པོའི་ལམ་དུ་འཁྲིད།། ཉིད་ཀྱིས་ཉེ་བར་བཟུང་བའི་ལམ་་།། སུ་ར། ༡འཇིག་རྟེན་བྱེད་པོ་ནི་དམིགས་གཏད་གཙོ་བོ་དེ་ཡིན་པས། ཨེ་ཟི་ལམ་ཞེས་པ་འི་ཚིག་ནི། ཨ་རབ་སྐད་ཀྱི་ཁས་ལེན་པ་དང་། མགོ་སྒུར་བ། ཡང་ན། མགོ་འདོགས་བྱེད་པ་ལས་གྲུབ་པ་ཞིག་ཡིན་པར་ངོས་ལ་བཤད་བྱུང་། ཁ་ཆེ་ཆོས་ལུགས་ཀྱི་ནང་དུ་རྗེས་འཇུག་པ་ཚོས་འཇིག་རྟེན་བྱེད་པོའི་ཐུགས་འདུན་བསྒྲུབ་རྒྱུ་དེའི་ཆ་ཤས་གཙོ་བོ་ཞིག་རེད། འཇིག་རྟེན་བྱེད་པོ་བྱམས་པ་དང་སྙིང་རྗེའི་བདག་ཉིད་ཅན་ཡིན་སྟབས། ངོས་ཀྱི་གོ་རྟོགས་ལ། དད་ལྡན་པ་རྣམས་ཀྱིས་འཇིག་རྟེན་ཀུན་ཁྱབ་ཀྱི་སྙིང་རྗེ་དེར་ཐེ་ཚོམ་མེད་པར་མགོ་འདོགས་བྱེད་ཅིང་། དེ་ལ་བརྟེན་ནས་འཇིག་རྟེན་བྱེད་པོའི་སྙིང་རྗེ་དེ་དད་ལྡན་པ་ཚོའི་བྱ་སྤྱོད་ཀྱི་ཁྲོད་ནས་མངོན་དུ་འགྱུར་བ་ཡིན། ནང་པའི་ཆོས་ལུགས་ཀྱི་ནང་དུ་འདི་དང་ཆ་འདྲ་བའི་ཉམས་ལེན་ཞིག་ཡོད་པ་དང་། དེའི་ནང་དུ་རང་གི་ལུས་སྲོག་ལོངས་སྤྱོད་དང་བཅས་པ་གཞན་དོན་གྱི་ཆེད་དུ་གཏོང་དགོས།',\n",
       "  'en': 'Praise be to God, Lord of the Universe, The Compassionate, the Merciful, Sovereign of the Day of Judgment! You alone we worship, and to You alone we turn for help. Guide us to the straight path, The path of those whom You have favored …(SURAH 1) The focus on God is so central that the very name Islam has the connotation of total submission to God. The word, I am told, is derived from the Arabic for “to accept,” “to surrender,” or “to submit.” As a religion, what is central in Islam is a submission of the individual to the will of God. Since God is characterized as the Compassionate and the Merciful, in my understanding, the faithful are actually offering an absolute submission to the ideal of universal compassion. By way of such submission, God’s compassion can flow through the actions of the faithful. In my own Buddhist tradition, there is a similar practice in which one offers one’s entire being as a servant to the embodiment of compassion.',\n",
       "  'base_predictions': 'I praise God, the Lord of the World, who is the embodiment of love and compassion, the principal lawyer in the daytime. I praise you, one who has faith and respect. I praise you, one who takes refuge. I lead you along the right path. I praise you, one who takes care of you. SERVICE 1 Since God is the primary target, the Einstein word I am referring to as a result of an acceptance of the Arabic system, an intimacy, or an intimacy. In Islam, this is one of the main elements of the striving of the believer in the will of God. Since God'},\n",
       " {'bo': 'སྡུག་བསྔལ་གྱི་རྒྱུ་སོགས་ལས་འབྲས་བུ་སྡུག་བསྔལ་འདི་རབ་ཏུ་འབྱུང་བ་ཡིན་ནོ་ཞེས་དེ་དང་དེར་རྣམ་པར་རྟོག་པ་ཙམ་ཡིན་པའི་ཕྱིར།། དཔེར་ན་སྡུག་བསྔལ་གྱི་རྒྱུ་ཡི་རལ་གྲི་སོགས་ལ་རྟོགས་པའི་བློ་ཅན་བཞིན་ནོ།། འགོག་བདེན་ཡང་བཀག་པ་ནི། དང་པོ་སྐྱེ་བ་མེད་པར་མཐར་འགག་པ་ཡང་ཡོད་པ་མིན་ཏེ།།',\n",
       "  'en': 'Likewise, [We] do not think that a cognition that has the cause of suffering as its object is true, because it is a cognition of the form of suffering and so forth, like a different cognition of a cause of suffering. A cognition that has the cause of suffering as its object is not true, because it is a cognition of the form, “Suffering arises from a painful cause,” like the cognition that something like a sword blow is a cause of suffering. Now that the origin [of suffering] has been negated in this way, [the next verse] negates the truth of cessation. If there is no arising, there is no cessation, because of the negation stated earlier. Earlier in this text [we] negated all arising and then proved that if something does not arise, it does not cease. If there is nothing [to cease], there ultimately cannot be any cessation, and there cannot be any way for the truth [of cessation] to be correct.',\n",
       "  'base_predictions': 'The refutation of the truth of cessation is as follows: Without origin there is no end to cessation.'},\n",
       " {'bo': 'ཆུས་ཡན་ལག་བཞི་དག་པར་བྱས་པར་མ་ཟད། བླ་སྲོག་དང་འཕྲད་པས་སེམས་ཀྱི་རྒྱུད་ཀྱང་གཙང་མར་བྱས་ཤིང་། སས་ནི་ལུས་ཕུང་འདེགས་སྐྱོར་བྱེད་པར་མ་ཟད་སྤྲོ་སེམས་ཀྱང་འཕེལ་བར་བྱེད། རྒྱུ་མཚན་གང་ཞེ་ན། དེ་དང་འཕྲད་པ་ནི་དངོས་པོ་དང་ཐུག་ཅིང་ཕྲད་ཙམ་མ་ཡིན་ཏེ། དེ་ནི་ཚེ་སྲོག་གི་མཚོན་བྱེད་ཡིན་ནོ།། མི་ཞིག་གིས་རང་ཉིད་དང་འཇིག་རྟེན་བར་གྱི་འབྲེལ་བ་ཟབ་ཚུལ་མ་ཚོར་བའི་སྐབས་སུ། ཁོ་ནི་ལྕགས་རིས་བསྐོར་བའི་འབྲེལ་མེད་ཁེར་རྐྱང་གི་ཁྲིམས་ཁང་དུ་གནས་པ་ལྟ་བུ་རེད་ཅེས་ན་མི་ཆོག་པ་མེད། ཁོས་ཕྱི་རོལ་གྱི་ཆོས་ཡོད་ཚད་ལ་རྟག་བརྟན་གྱི་རྣམ་ཤེས་ཤིག་ཡོད་པར་ངོས་ཟིན་སྐྱེས་དུས་ད་གཟོད་ཐར་བའི་གོ་འཕང་བརྙེས་ལ། དེའི་རྒྱུ་མཚན་སླ་སྟེ་ཁོས་རང་ཉིད་འཚོ་བ་རོལ་བའི་འཇིག་རྟེན་གྱི་ཁམས་འདིའི་ཆེས་ལེགས་པའི་དོན་སྙིང་རྙེད་པ་དང་། སྐབས་དེར་སླེབས་ཚེ་མིས་རང་ཉིད་ནི་མཐའ་གཅིག་ཏུ་བདེན་དོན་གྱི་ཕྱོགས་ན་གནས་པར་ངེས་ཤེས་རྙེད་ལ། དེར་མ་ཟད་ཕྱི་རོལ་གྱི་ཆོས་ཡོད་དགུ་དང་འགྲིག་མཐུན་གྱི་འབྲེལ་བ་ཚུགས་སོ།། རྒྱ་གར་དུ་མི་རྣམས་ལ་ལམ་བསྟན་པར་བརྟེན་ནས། ཁོ་ཚོ་དང་ཁོར་ཡུག་གི་ཆོས་ཀྱི་བར་འབྲེལ་བ་གཏིང་ཟབ་ཡོད་པར་ངེས་རྟོགས་བྱུང་འདུག་ཁོ་ཚོས་ནངས་ཀའི་ཉི་ཤར་གྱི་ཕྱོགས་དང་། ཆུའི་འབབ་ཕྱོགས། འབྲས་བུ་གཡུར་དུ་ཟ་བའི་ཞིང་ས་ཆེན་པོ་དང་བཅས་ལ་སྨོན་འདུན་ཞུ་ཞིང་། དེ་དག་ནི་རིགས་གཅིག་པའི་འཚོ་བའི་བདེན་དོན་གསལ་དུ་མངོན་པ་དང་། དེ་ལྟར་ང་ཚོས་ཉིན་རེ་བཞིན་བསམ་གཞིག་བྱ་ས་ནི་འཕགས་པའི་སྙན་ཚིག་ཡིན། དེ་ནི་རིག་བྱེད་ཀྱི་གཞུང་ཡོད་དོ་ཅོག་གི་འཐུས་ཚབ་ལྟ་བུ་ཡིན།',\n",
       "  'en': 'The water does not merely cleanse his limbs, but it purifies his heart; for it touches his soul. The earth does not merely hold his body, but it gladdens his mind; for its contact is more than a physical contact - it is a living presence. When a man does not realise his kinship with the world, he lives in a prison-house whose walls are alien to him. When he meets the eternal spirit in all objects, then is he emancipated, for then he discovers the fullest significance of the world into which he is born; then he finds himself in perfect truth, and his harmony with the all is established. In India men are enjoined to be fully awake to the fact that they are in the closest relation to things around them, body and soul, and that they are to hail the morning sun, the flowing water, the fruitful earth, as the manifestation of the same living truth which holds them in its embrace. Thus the text of our everyday meditation is the Gayatri, a verse which is considered to be the epitome of all the Vedas.',\n",
       "  'base_predictions': 'Water cleaning the four limbs, meeting the soul cleaning the soul, the earth supporting the body and increasing the enthusiasm, because contact with it is not just an encounter with the object but an expression of life. When a man does not feel deeply connected with the universe, he cannot be said to be in a prison of isolation from the walls. Only when he realizes that there is a soul that is eternal in everything that exists can he attain the state of liberation. For it is easy to see that the best thing in the universe in which he lives can be found is that he will inevitably realize that he is in the position of truth, and that all things are'},\n",
       " {'bo': 'བྱིན་རླབས་ལ་དྲུག། བླ་མ་དམ་པས་བྱིན་གྱིས་སྤྱི་བོར་མོས་གུས་ཀྱི་བརླབ། ལྷག་པའི་ལྷས་ཡེ་ཤེས་པ་གཞུག་པ་བྱིན་གྱིས་བརླབ། ཕྱི་ནང་མཁའ་ཚོགས་ཀྱིས་མཉེས་པ་འགྲོས་བྱིན་གྱིས་བརླབ། ཐེག་པ་ཆེན་ངོ་མཚར་ཆེ་བས་ཡིད་ཆེས་པོ་ཟབ་མོ་མདོ་རྒྱུད་ཀྱི་ཚིག་གི་བྱིན་གྱིས་བརླབ།',\n",
       "  'en': 'There are six sections in empowering: the empowerment of the sublime guru, the empowerment of the excellent deity, the empowerment of the outer and inner ḍākinī, the empowerment of the words of the sutras and tantras of the profound Mahāyāna, the empowerment of various appearances, and the empowerment of profound dependent origination.',\n",
       "  'base_predictions': 'Blessings There are six blessings: the blessings of the sublime guru on the crown of one’s head, the blessings of the excellent deity introducing the gnosis beings, the blessings of the outer and inner gathering of the ḍākinīs, the blessings of the profound confidence of the words of sutra and tantra, and the blessings of the great vehicle because of its great wonders.'},\n",
       " {'bo': 'རྒྱས་པའི་ལས་མཛད་རིན་ཆེན་རིགས་རྣམས་ཀྱིས༔',\n",
       "  'en': 'Let those of the ratna family who perform enriching activity',\n",
       "  'base_predictions': 'The precious families perform the enriching activities.'},\n",
       " {'bo': 'ས་ཆེན་པོ་དུས་གཅིག་ལ་གཡོས་པ་ལྟ་བུའི་སྒྲ་དང་། སྟོང་གསུམ་གྱི་སྟོང་ཆེན་པོ་མེས་ཚིག་པ་ལྟ་བུའི་སྒྲ་དང་། སྟོང་གསུམ་གྱི་སྟོང་ཆེན་པོ་རླང་གིས་འཐོར་བའི་སྒྲ་དང་། སྟོང་གསུམ་གྱི་སྟོང་ཆེན་པོ་ཆུས་བཤིགས་པ་ལྟ་བུའི་སྒྲ་དང་བཞི། ཡ་ང་བའི་གཡང་ས་གསུམ་ནི། སྤྱིར་མུན་ཚབ་ཚུབ་ཀྱི་དུས་ལྟ་བུ་ལ་འདོད་ཆགས་ཀྱི་རང་མདངས་གང་དུ་བལྟས་པ་ཐམས་ཅད་དམར་ཟང་ཟིང་བ་དང་། ཞེ་སྡང་གི་རང་མདངས་གང་དུ་བལྟས་པ་ཐམས་ཅད་དཀར་ལྷང་ལྷང་པ་དང་། གཏི་མུག་གི་རང་མདངས་གང་དུ་བལྟས་པ་ཐམས་ཅད་ནག་བུན་བུན་པའི་སྣང་བ་ཤར་དུས། ལས་དག་པ་རྣམས་ལ་དཔའ་བོ་དང་མཁའ་འགྲོའི་བསུ་མ་སླེབས་ཏེ་ཡར་གྱི་ཟང་ཐལ་དུ་གྲོལ་བ་དང་། མཚམས་མེད་ཀྱི་ལས་བྱས་པ་རྣམས་སྔགས་ཀྱི་ལུགས་ལ་ལས་མཁན་དང་མདོ་ལྟར་གཤིན་རྗེའི་སྐྱེས་བུ་མང་པོའི་སྣང་བ་ཤར་ནས་མར་གྱི་ཟང་ཐལ་དུ་འགྲོ་ལ། དེ་ལས་གཞན་རྣམས་ལ་ཞག་ཞེ་དགུའི་བར་དང་མིན་ཀྱང་བདུན་གསུམ་དང་བཞི་ལ་སོགས་པར་ཚད་མེད་རུང་། ཞག་ཞེ་དགུའི་བར་དུ་འདུག་ན་ཕྱེད་ཡན་ཆད་ལ་སྔར་གྱི་ལུས་དང་།',\n",
       "  'en': 'a sound like the whole cosmos of a billion universes raging with fire, a sound like the whole cosmos of a billion universes being devastated by wind, and a sound like the whole cosmos of a billion universes being swept away by water. And you will see three dreadful abysses: like the sky one generally sees at twilight, wherever you look, the natural radiance of desire will make everything appear as a diffuse red; then wherever you look, the natural radiance of anger will make everything appear as a flickering white; and then wherever you look the natural radiance of ignorance will make everything appear as oppressive darkness. At that time those with pure karma will be welcomed by dakas and dakinis and go straight up to liberation. Those who have committed any of the crimes with immediate retribution will perceive many infernal workers ; they will go straight down. For anyone else, the stay in the intermediate state may be forty nine days, three or four weeks, or an uncertain period of time. If you stay there forty nine days, during the first half of this period you will perceive the body you had in the life you have just left,',\n",
       "  'base_predictions': 'There are four sounds of the great earth shaking simultaneously; the sound of the great three-thousandfold universe being burnt by fire; the sound of the great three-thousandfold universe being scattered by wind; and the sound of the great three-thousandfold universe being burnt by water. The three terrifying abysses are as follows: In general, during the era of deception, whatever you look at is the intrinsic radiance of desire; whatever you look at is the intrinsic radiance of hatred; everything is vivid white; whatever you look at is the intrinsic radiance of ignorance; and whatever you look at is the intrinsic radiance of darkness. At that time, heroes and'},\n",
       " {'bo': 'གཉིས་པ་ལམ་བགྲོད་པའི་རིམ་པ་ལ་གཉིས། སྔོན་དུ་འཁྲུལ་འཁོར་དང་སྟོང་ར་སྒོམ་པ་དང་། དེའི་རྗེས་སུ་ལམ་དངོས་སྒོམ་པའི་རིམ་པའོ།། དང་པོ་ནི།',\n",
       "  'en': 'This is taught under two headings: the meditations upon the physical exercises, together with the meditation upon the body as an empty shell; and, secondly, after that, the stages of meditating upon the actual path.',\n",
       "  'base_predictions': 'THE STAGES OF THE PATH This has two parts: the meditation on the physical exercises and the meditation on the body as an empty shell; and the meditation on the actual path.'},\n",
       " {'bo': 'ཡབ་རྗེ་དང་། མཁའ་སྤྱོད་རྡོ་རྗེའི་བཙུན་མོ་རྗེ་བཙུན་རྟ་མགྲིན་དབང་མོ། གྲུབ་དབང་རཏྣ་བྷ་དྲ་སེགས་ལས་སྨིན་གྲོལ་གདམས་ངག་མ་ལུས་པ་གསན་ཅིང་།',\n",
       "  'en': 'He received all of the oral precepts that ripen and liberate from his father, from the queen of the vajra dakinis Jetsun Tamdrin Wangmo, and from Drubwang Ratnabhadra, among others.',\n",
       "  'base_predictions': 'He received all the ripening empowerments and liberating instructions from his father, the venerable Hayagriva, and the lord of siddhas Ratnabhadra.'},\n",
       " {'bo': 'བྱང་ཆུབ་ཀྱི་ཡན་ལག་རྣམས་སྨོན་པ་ཡོད་ཅེས་བྱ་བ་འམ་སྨོན་པ་མེད་ཅེས་བྱ་བར་མི་སྦྱོར་རོ། །',\n",
       "  'en': 'They do not associate the branches of enlightenment with ‘having wishes.’ They do not associate the branches of enlightenment with ‘not having wishes.’',\n",
       "  'base_predictions': 'They do not associate the branches of enlightenment with ‘having wishes.’ They do not associate the branches of enlightenment with ‘not having wishes.’'},\n",
       " {'bo': 'དེ་རྗེས་སྐུ་དངོས་སུ་བྱོན་པ་ལན་མང་ཞིང་མངའ་རིས་པཎ་ཆེན་རིན་པོ་ཆེའི་རྣམ་ཐར་དུ་མཇལ་ཚུལ་གསུངས་པ་ལྟར་དོན་དུ་ཡེ་ཤེས་ཀྱི་སྐུ་གྲུབ་པར་ངེས་སོ།།',\n",
       "  'en': 'He has reappeared several times, and there is an account of his appearance to the mahapandita of Ngari in the latter’s biography. It is therefore certain that Shrivanaratna accomplished a wisdom body.',\n",
       "  'base_predictions': 'Afterwards, he had many visions. It is said that he met the great paṇḍita of Ngari, in the biography of the great paṇḍita of Ngari. In fact, it is certain that he achieved the body of wisdom.'},\n",
       " {'bo': 'ཅི་སྟེ་གཉེན་པོས་སྤོང་བ་མ་ཡིན་གྱི་རྒྱུ་བག་ཆགས་ཟད་པས་རང་འགགས་སུ་འགྱུར་རོ་སྙམ་ན།',\n",
       "  'en': 'One may think that it is not removed by a remedy but that it automatically ceases on account of the dissolution of the causal residues.',\n",
       "  'base_predictions': 'One may think that it is not the case that this is eliminated through an antidote, but that it ceases by itself because its cause, habitual tendencies, has ceased.'},\n",
       " {'bo': 'ཐེག་གསུམ་ཆོས་ཀྱི་འཁོར་ལོ་བསྐོར་བཞིན་དུ།། ཁམས་གསུམ་འགྲོ་བའི་དོན་དུ་བཞུགས་སུ་གསོལ།།',\n",
       "  'en': 'While turning the Dharma wheel of three vehicles, please remain for the welfare of migrators in three realms.',\n",
       "  'base_predictions': 'While turning the wheel of dharma of the three yānas, please remain for the sake of beings in the three realms.'},\n",
       " {'bo': 'ཞི་འཇམ་གྱི་སྒོ་ནས་འགྲོ། སྐབས་རེར་འཚོ་བའི་སྟེང་གི་གནས་ཚུལ་ཚང་མ་སྐབས་རེར་གློ་བུར་དུ་མ་བསམས་ས་ནས་གནས་ཚུལ་ཐོན། གལ་ཆེ་བ་ནི། དཀའ་རྙོག་རྣམས་གོ་སྐབས་ཀྱི་ངོ་བོར་ཇི་ལྟར་བསྒྱུར་བ་ཧ་གོ་བ་དེ་ཡིན། རིན་གོང་དམའ་ཞིང་ཚོང་རྟགས་མེད་པའི་གོས་གྱོན་པ་དེས་ཁྱེད་རང་སྐྱོ་པོ་ཞིག་ཡིན་པ་མི་སྟོན། ',\n",
       "  'en': 'George Bernard Shaw Sometimes in life everything goes smoothly And sometimes unexpected happens, The important thing, knowing how to turn problems into opportunities \"Once Emma Watson Said: Wearing Unbranded And Cheap Clothes Doesn\\'t Mean You\\'re Poor. ',\n",
       "  'base_predictions': 'CALM ABOUT HAPPINESS Sometimes things happen in life, sometimes unexpectedly, and importantly, the understanding of how to turn problems into opportunities does not mean you are weak.'},\n",
       " {'bo': 'ཁོ་བོས་ནི་འབྲས་བུའི་བདག་ཉིད་དུ་ཡོད་པ་ལ་སྐྱེ་བ་མེད་དོ་ཞེས་མ་སྨྲས་ཏེ། འདི་ལྟར་འབྲས་བུའི་བདག་ཉིད་ལས་སམ། རྒྱུའི་བདག་ཉིད་ལས་ཞེས་བྱེ་བྲག་ཏུ་བརྗོད་པ་མ་བྱས་པ་ཁོ་ནར་བདག་ལས་སྐྱེས་པ་ཙམ་ཁོ་ནར་འགོག་པར་བྱེད་ལ། ཁྱོད་ཀྱིས་ནི་འབྲས་བུའི་བདག་ཉིད་ལས་སམ། འོན་ཏེ་རྒྱུའི་བདག་ཉིད་ལས་ཞེས་བྱེ་བྲག་ཏུ་བརྗོད་པ་བྱས་པས་དེས་ན་འུ་བུ་ཅག་བློ་མཐུན་པ་མ་ཡིན་པའི་ཕྱིར།',\n",
       "  'en': 'it is as follows: only within not specifying “from the entity of the effect or from the entity of the cause,” he refuted mere production mere production from self, whereas you specify “from the entity of the effect or from the entity of the cause,” and hence we are not agreeable in mind, and, therefore, this refutation by us, namely, that things are not produced from self, is not a proving what is already established.',\n",
       "  'base_predictions': 'We do not propound that production does not exist in what exists in the entity of the effect because only when not specifying “from the entity of the effect or from the entity of the cause” is refuted, only from self but only when specifying “from the entity of the effect” or “from the entity of the cause” is stated, due to which there is no agreement.'}]"
      ]
     },
     "execution_count": 7,
     "metadata": {},
     "output_type": "execute_result"
    }
   ],
   "source": [
    "list(ds.select(range(75,100)))"
   ]
  },
  {
   "cell_type": "code",
   "execution_count": 8,
   "metadata": {},
   "outputs": [],
   "source": [
    "scores_3 = [75, 85, 60, 70, 65, 45, 80, 70, 85, 80, 90, 25, 65, 40, 85, 75, 80, 85, 80, 85, 50, 85, 80, 85, 30, 70]"
   ]
  },
  {
   "cell_type": "code",
   "execution_count": 9,
   "metadata": {},
   "outputs": [],
   "source": [
    "scores = scores_1 + scores_2 + scores_3"
   ]
  },
  {
   "cell_type": "code",
   "execution_count": 10,
   "metadata": {},
   "outputs": [
    {
     "data": {
      "text/plain": [
       "np.float64(75.35714285714286)"
      ]
     },
     "execution_count": 10,
     "metadata": {},
     "output_type": "execute_result"
    }
   ],
   "source": [
    "import numpy as np\n",
    "\n",
    "np.mean(scores)"
   ]
  },
  {
   "cell_type": "code",
   "execution_count": 12,
   "metadata": {},
   "outputs": [
    {
     "name": "stdout",
     "output_type": "stream",
     "text": [
      "[75, 85, 80, 60, 70, 65, 85, 90, 40, 85, 85, 80, 75, 70, 75, 85, 80, 85, 75, 80, 85, 80, 75, 80, 70, 85, 80, 75, 85, 80, 75, 85, 80, 85, 80, 85, 85, 80, 75, 85, 80, 75, 85, 80, 85, 80, 85, 90, 80, 85, 85, 75, 90, 70, 60, 80, 85, 70, 65, 60, 75, 40, 95, 85, 80, 70, 65, 75, 80, 30, 80, 85, 75, 85, 60, 70, 65, 45, 80, 70, 85, 80, 90, 25, 65, 40, 85, 75, 80, 85, 80, 85, 50, 85, 80, 85, 30, 70]\n"
     ]
    }
   ],
   "source": [
    "print(scores)"
   ]
  },
  {
   "cell_type": "code",
   "execution_count": null,
   "metadata": {},
   "outputs": [],
   "source": []
  }
 ],
 "metadata": {
  "kernelspec": {
   "display_name": ".venv",
   "language": "python",
   "name": "python3"
  },
  "language_info": {
   "codemirror_mode": {
    "name": "ipython",
    "version": 3
   },
   "file_extension": ".py",
   "mimetype": "text/x-python",
   "name": "python",
   "nbconvert_exporter": "python",
   "pygments_lexer": "ipython3",
   "version": "3.12.3"
  }
 },
 "nbformat": 4,
 "nbformat_minor": 2
}
