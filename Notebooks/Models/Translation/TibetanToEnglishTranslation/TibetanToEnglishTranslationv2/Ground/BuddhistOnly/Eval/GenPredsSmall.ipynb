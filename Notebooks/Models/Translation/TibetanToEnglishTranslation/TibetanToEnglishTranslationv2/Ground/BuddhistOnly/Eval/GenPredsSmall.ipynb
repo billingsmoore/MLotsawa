{
 "cells": [
  {
   "cell_type": "code",
   "execution_count": 1,
   "metadata": {},
   "outputs": [],
   "source": [
    "from transformers import AutoTokenizer, AutoModelForSeq2SeqLM\n",
    "\n",
    "model = AutoModelForSeq2SeqLM.from_pretrained(\"billingsmoore/mlotsawa-ground-small\", device_map=\"cuda:0\")\n",
    "tokenizer = AutoTokenizer.from_pretrained('billingsmoore/mlotsawa-ground-small')"
   ]
  },
  {
   "cell_type": "code",
   "execution_count": 2,
   "metadata": {},
   "outputs": [],
   "source": [
    "from datasets import load_from_disk\n",
    "\n",
    "ds = load_from_disk('../Finetuning/Data/tokenized-finetuning-ds')['test']"
   ]
  },
  {
   "cell_type": "code",
   "execution_count": 3,
   "metadata": {},
   "outputs": [],
   "source": [
    "import torch\n",
    "\n",
    "def generate_and_decode(batch):\n",
    "    # Convert inputs to torch tensors on the model's device\n",
    "    input_ids = torch.tensor(batch[\"input_ids\"]).to(model.device)\n",
    "    attention_mask = torch.tensor(batch[\"attention_mask\"]).to(model.device)\n",
    "\n",
    "    # Generate predictions\n",
    "    with torch.no_grad():\n",
    "        output_ids = model.generate(\n",
    "            input_ids=input_ids,\n",
    "            attention_mask=attention_mask,\n",
    "            max_new_tokens=128,\n",
    "            num_beams=4,\n",
    "            do_sample=False,\n",
    "        )\n",
    "\n",
    "    # Decode predictions\n",
    "    decoded_preds = tokenizer.batch_decode(output_ids, skip_special_tokens=True)\n",
    "\n",
    "    return {\n",
    "        \"small_predictions\": decoded_preds\n",
    "    }\n"
   ]
  },
  {
   "cell_type": "code",
   "execution_count": 11,
   "metadata": {},
   "outputs": [
    {
     "data": {
      "application/vnd.jupyter.widget-view+json": {
       "model_id": "9cda2562576442918840b57a5ce4db6a",
       "version_major": 2,
       "version_minor": 0
      },
      "text/plain": [
       "Map:   0%|          | 0/100000 [00:00<?, ? examples/s]"
      ]
     },
     "metadata": {},
     "output_type": "display_data"
    }
   ],
   "source": [
    "pred_ds = ds.map(generate_and_decode, batched=True, batch_size=16)"
   ]
  },
  {
   "cell_type": "code",
   "execution_count": 12,
   "metadata": {},
   "outputs": [
    {
     "data": {
      "text/plain": [
       "Dataset({\n",
       "    features: ['bo', 'en', 'input_ids', 'token_type_ids', 'attention_mask', 'labels', 'small_predictions'],\n",
       "    num_rows: 100000\n",
       "})"
      ]
     },
     "execution_count": 12,
     "metadata": {},
     "output_type": "execute_result"
    }
   ],
   "source": [
    "pred_ds"
   ]
  },
  {
   "cell_type": "code",
   "execution_count": 13,
   "metadata": {},
   "outputs": [
    {
     "data": {
      "application/vnd.jupyter.widget-view+json": {
       "model_id": "e62fd4ce1e2f4e4a9432a6b6e644a11c",
       "version_major": 2,
       "version_minor": 0
      },
      "text/plain": [
       "Saving the dataset (0/1 shards):   0%|          | 0/100000 [00:00<?, ? examples/s]"
      ]
     },
     "metadata": {},
     "output_type": "display_data"
    }
   ],
   "source": [
    "pred_ds.save_to_disk('small-pred-ds')"
   ]
  }
 ],
 "metadata": {
  "kernelspec": {
   "display_name": ".venv",
   "language": "python",
   "name": "python3"
  },
  "language_info": {
   "codemirror_mode": {
    "name": "ipython",
    "version": 3
   },
   "file_extension": ".py",
   "mimetype": "text/x-python",
   "name": "python",
   "nbconvert_exporter": "python",
   "pygments_lexer": "ipython3",
   "version": "3.12.3"
  }
 },
 "nbformat": 4,
 "nbformat_minor": 2
}
