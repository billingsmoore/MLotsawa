{
 "cells": [
  {
   "cell_type": "code",
   "execution_count": 18,
   "metadata": {},
   "outputs": [
    {
     "name": "stderr",
     "output_type": "stream",
     "text": [
      "Device set to use cpu\n"
     ]
    }
   ],
   "source": [
    "from transformers import pipeline\n",
    "\n",
    "pipe = pipeline('translation_bo_to_es', 'billingsmoore/tibetan-to-spanish-translation-v0', max_length=126)"
   ]
  },
  {
   "cell_type": "code",
   "execution_count": 19,
   "metadata": {},
   "outputs": [],
   "source": [
    "input = \"ལུས་ངག་ཡིད་གསུམ་སྔོན་འགྲོ་ནི༔ མི་རྟག་སྙིང་རྗེ་བྱང་སེམས་སྦྱངས༔ ལུས་འདི་མ་རིག་རྒྱུས་བསྐྱེད་ཕྱིར༔ རིགས་དྲུག་ས་བོན་ཉིད་དུ་གནས༔\""
   ]
  },
  {
   "cell_type": "code",
   "execution_count": 20,
   "metadata": {},
   "outputs": [
    {
     "data": {
      "text/plain": [
       "'deseen 3 las sustancias no se ponga las sustancias de la victoria del cuerpo habla y mente de todo apego'"
      ]
     },
     "execution_count": 20,
     "metadata": {},
     "output_type": "execute_result"
    }
   ],
   "source": [
    "output = pipe(input)\n",
    "output[0]['translation_text']"
   ]
  },
  {
   "cell_type": "code",
   "execution_count": null,
   "metadata": {},
   "outputs": [],
   "source": [
    "es = \"\"\"Como preliminares del cuerpo, habla y mente,\n",
    "cultiven la impermanencia, compasión y bodichita.\n",
    "Como este cuerpo fue engendrado por la ignorancia causal,\n",
    "contiene las sílabas semilla de los seis reinos.\n",
    "Como rigpa es en realidad la manifestación de los tres kāyas,\n",
    "los tres kāyas aparecen como las tres sílabas. \"\"\""
   ]
  },
  {
   "cell_type": "markdown",
   "metadata": {},
   "source": [
    "**Excerpt from First Testament of the Buddhas**\n",
    "\n",
    "**Tibetan**\n",
    "\n",
    "ལུས་ངག་ཡིད་གསུམ་སྔོན་འགྲོ་ནི༔ \n",
    "མི་རྟག་སྙིང་རྗེ་བྱང་སེམས་སྦྱངས༔ \n",
    "ལུས་འདི་མ་རིག་རྒྱུས་བསྐྱེད་ཕྱིར༔ \n",
    "རིགས་དྲུག་ས་བོན་ཉིད་དུ་གནས༔\n",
    "\n",
    "***Spanish**\n",
    "\n",
    "Como preliminares del cuerpo, habla y mente,\n",
    "cultiven la impermanencia, compasión y bodichita.\n",
    "Como este cuerpo fue engendrado por la ignorancia causal,\n",
    "contiene las sílabas semilla de los seis reinos.\n",
    "\n",
    "**Machine Translation**\n",
    "\n",
    "deseen 3 las sustancias no se ponga las sustancias de la victoria del cuerpo habla y mente de todo apego"
   ]
  },
  {
   "cell_type": "code",
   "execution_count": 56,
   "metadata": {},
   "outputs": [],
   "source": [
    "input = \"ལས་དང་པོ་པས་བསྒོམ་པ་བྱེད་པའི་ཚེ་བར་ཆད་གསུམ་འབྱུང་སྟེ། དང་པོ་ཆགས་སྡང་སོགས་ཀྱི་རྣམ་རྟོག་དྲུག་པོ་སྐྱེ།\" #དེ་དུས་བླ་མ་ལ་གསོལ་འདེབས་དང་ཆགས་ཡུལ་སོགས་བླ་མར་བསྒོམས་པས་བར་ཆད་ལས་ཐར་བར་འོང་། བར་དུ་ལྷ་འདྲེ་སོགས་ཀྱི་རྣལ་འབྱོར་པའི་ལུས་ལ་ན་ཚ་ཟུག་སོགས་བཏང་འོང་།.དེ་དུས་བླ་མ་དཀོན་མཆོག་ལ་གསོལ་འདེབས་སོགས་ཀྱིས་རྐྱེན་ངན་དང་དུ་བླངས་པས་དེ་ལས་ཐར་རོ། །ཐ་མར་རྣལ་འབྱོར་པ་ལ་དྲག་ཞན་ཐམས་ཅད་ཀྱིས་གུས་འདུད་རྙེད་བཀུར་སོགས་བྱེད་འོང་། དེ་དུས་བར་ཆད་ཡིན་པར་ངོ་མ་ཤེས་ན་ཆོས་ལམ་དུ་མི་འགྲོ་བས་འདི་བར་ཆད་དུ་ངོ་ཤེས་པ་ཤིན་ཏུ་གནད་ཆེ།. བར་ཆད་གསུམ་པོ་དེ་ལས་ཐར་ན། དེ་ནས་ཆོས་པ་ལམ་ལོག་ཏུ་འགྲོ་བ་མེད་གསུངས། འདི་ནི་གལ་ཆེ་བའི་ཞལ་གདམས་སོ།། །།\""
   ]
  },
  {
   "cell_type": "code",
   "execution_count": 49,
   "metadata": {},
   "outputs": [],
   "source": [
    "input = input.split('.')"
   ]
  },
  {
   "cell_type": "code",
   "execution_count": 57,
   "metadata": {},
   "outputs": [
    {
     "name": "stderr",
     "output_type": "stream",
     "text": [
      "Device set to use cpu\n"
     ]
    },
    {
     "data": {
      "text/plain": [
       "[{'translation_text': 'Ruego a los dos oscurecimientosdos con doselliṣligen en su torbelliṣligi protegdidos | tadyathā | oṃ vajrakrodhī-savi-śdhardhardhardhardhariantesdasdas te manen chisdidos | sarva-vighnānitociidad-ś-śerarciidad-ś-śerarciidad-ś-ś-ś-ś-ś-ś-ś-ś-ś-ś-ś-ś-ś-ś-ś-ś-ś-ś-ś-ś-ś-ś-ś-ś-ś-ś-ś-ś-ś-ś-ś-ś-ś-ś-ś-ś-ś-ś-ś-ś-ś-ś-ś-ś-ś-ś-ś-ś-ś-ś-ś-ś-ś-ś-ś-ś-ś-ś-ś-ś-ś-ś-ś-ś-ś-ś-ś-ś-ś-ś-ś-ś-ś-ś-ś-ś-ś-ś-ś-ś-ś-ś-ś-ś-ś-ś-ś-ś-ś-ś-ś-ś-ś-ś-ś-ś-ś-ś-ś-ś-ś-ś-ś-ś-ś-ś-ś-ś-ś-ś-ś-ś-ś-ś-ś-ś-ś-ś-ś-ś-ś-ś-ś-ś-ś-ś-ś-ś-ś-ś-ś-ś-ś-ś-ś-ś-ś-ś-ś-ś-ś-ś-ś-ś-ś-ś-ś-ś-ś-ś-ś-ś-ś-ś-ś-ś-ś-ś-ś-ś-ś-ś-ś-ś-ś-ś-ś-ś-ś-ś-ś-ś-ś-ś-ś-ś-ś-ś-ś-ś-ś-ś-ś-ś-ś-ś-ś-ś-ś-ś-ś-ś-ś-ś'}]"
      ]
     },
     "execution_count": 57,
     "metadata": {},
     "output_type": "execute_result"
    }
   ],
   "source": [
    "pipe = pipeline('translation_bo_to_es', 'billingsmoore/tibetan-to-spanish-translation-v0', max_length=256)\n",
    "output = pipe(input)\n",
    "output"
   ]
  },
  {
   "cell_type": "code",
   "execution_count": 44,
   "metadata": {},
   "outputs": [
    {
     "data": {
      "text/plain": [
       "['Tal como las engañadoado por la no-enorioriamticiblurana y comerdas con la ligera, la ligera, la ligera, la ligera, la ligera, la ligera, la ligera, la ligera, la ligera, la ligera, la ligera, la ligera, la ligera, la ligera, la ligeraeraneranciablepor ligera, la ligeraeraneranciable ú ú ú ú ú ú ú ú ú ú ú ú',\n",
       " '36)to es la no-enanos 38) Laposición es la no-enanos 31) El no-enanos 31) El no-enanos 31) presos es positivo 31) prescarse es el miedo es una no-enanos 31) presos?',\n",
       " '¡Oh, virtud de su cuerpo en cuando se prevalidad de un elefante ilusorio de madera.']"
      ]
     },
     "execution_count": 44,
     "metadata": {},
     "output_type": "execute_result"
    }
   ],
   "source": [
    "trans = [elt['translation_text'] for elt in output]\n",
    "trans"
   ]
  },
  {
   "cell_type": "markdown",
   "metadata": {},
   "source": [
    "**Excerpt from Advice for Beginners: How to Overcome Obstacles to Meditation by Adzom Gyalse, Gyurme Dorje**\n",
    "\n",
    "**Tibetan**\n",
    "ལས་དང་པོ་པས་བསྒོམ་པ་བྱེད་པའི་ཚེ་བར་ཆད་གསུམ་འབྱུང་སྟེ། དང་པོ་ཆགས་སྡང་སོགས་ཀྱི་རྣམ་རྟོག་དྲུག་པོ་སྐྱེ། དེ་དུས་བླ་མ་ལ་གསོལ་འདེབས་དང་ཆགས་ཡུལ་སོགས་བླ་མར་བསྒོམས་པས་བར་ཆད་ལས་ཐར་བར་འོང་། བར་དུ་ལྷ་འདྲེ་སོགས་ཀྱི་རྣལ་འབྱོར་པའི་ལུས་ལ་ན་ཚ་ཟུག་སོགས་བཏང་འོང་། དེ་དུས་བླ་མ་དཀོན་མཆོག་ལ་གསོལ་འདེབས་སོགས་ཀྱིས་རྐྱེན་ངན་དང་དུ་བླངས་པས་དེ་ལས་ཐར་རོ། །ཐ་མར་རྣལ་འབྱོར་པ་ལ་དྲག་ཞན་ཐམས་ཅད་ཀྱིས་གུས་འདུད་རྙེད་བཀུར་སོགས་བྱེད་འོང་། དེ་དུས་བར་ཆད་ཡིན་པར་ངོ་མ་ཤེས་ན་ཆོས་ལམ་དུ་མི་འགྲོ་བས་འདི་བར་ཆད་དུ་ངོ་ཤེས་པ་ཤིན་ཏུ་གནད་ཆེ། བར་ཆད་གསུམ་པོ་དེ་ལས་ཐར་ན། དེ་ནས་ཆོས་པ་ལམ་ལོག་ཏུ་འགྲོ་བ་མེད་གསུངས། འདི་ནི་གལ་ཆེ་བའི་ཞལ་གདམས་སོ།། །།\n",
    "\n",
    "**Spanish**\n",
    "\n",
    "Los novatos deben estar atentos a tres obstáculos al practicar la meditación:\n",
    "\n",
    "Inicialmente, pensamientos distractores que involucran apego, aversión y demás podrían surgir. Cuando esto suceda, suplica a tu gurú e invocándolo o invocándola en tu mente, te liberarás de este obstáculo.\n",
    "\n",
    "En el intermedio, podrías caer preso de las maldiciones y hechizos de demonios y otras entidades etéreas, de modo que experimentes enfermedades, dolores agudos y cosas similares. En ese momento, suplica a tu sublime gurú, pídele la habilidad de usar esas dificultades para perfeccionar tu camino espiritual, y como resultado de ello, te sobrepondrás a ese obstáculo.\n",
    "\n",
    "Finalmente, todos los yogis, independientemente de su capacidad, obtendrán fama y respeto y serán colmados con donaciones, etc. El no reconocerlos como obstáculos para la práctica espiritual, obstaculizará tu progreso; ¡Es importante reconocerlos como desviaciones!\n",
    "\n",
    "Si estás libre de estos tres obstáculos, tu práctica del Dharma permanecerá incorruptible.\n",
    "\n",
    "**Machine Translation**\n",
    "\n",
    "Tal como las 4uelan eliado de la cesación, es una p musicales, es una p musicales, es una p musta, una palidad, etc."
   ]
  },
  {
   "cell_type": "code",
   "execution_count": 59,
   "metadata": {},
   "outputs": [
    {
     "data": {
      "text/plain": [
       "[{'translation_text': 'a través de la verdad de tierrasditaciónable, la no-enanos de los tres tiempos.'}]"
      ]
     },
     "execution_count": 59,
     "metadata": {},
     "output_type": "execute_result"
    }
   ],
   "source": [
    "input = \"ལས་དགེ་བ་བྱས་ན་འབྲས་བུ་བདེ་བ་འབྱུང་བ་དང་། ལས་མི་དགེ་བ་བྱས་ན་འབྲས་བུ་སྡུག་བསྔལ་འབྱུང་བ་བསླུ་བ་མེད་པ་ཡིན་པས་དགེ་སྡིག་གཉིས་གང་ལ་ཟེར་ངོས་ཟིན་དགོས། དེ་ལ་དང་པོར་ལུས་ངག་ཡིད་གསུམ་ངོ་སྤྲད་དགོས། \"\n",
    "pipe(input)"
   ]
  },
  {
   "cell_type": "markdown",
   "metadata": {},
   "source": []
  }
 ],
 "metadata": {
  "kernelspec": {
   "display_name": ".venv",
   "language": "python",
   "name": "python3"
  },
  "language_info": {
   "codemirror_mode": {
    "name": "ipython",
    "version": 3
   },
   "file_extension": ".py",
   "mimetype": "text/x-python",
   "name": "python",
   "nbconvert_exporter": "python",
   "pygments_lexer": "ipython3",
   "version": "3.12.3"
  }
 },
 "nbformat": 4,
 "nbformat_minor": 2
}
