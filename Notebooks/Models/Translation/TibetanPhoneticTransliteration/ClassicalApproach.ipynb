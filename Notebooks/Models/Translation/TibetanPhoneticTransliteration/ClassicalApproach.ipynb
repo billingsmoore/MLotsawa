{
 "cells": [
  {
   "cell_type": "markdown",
   "metadata": {},
   "source": [
    "# Phonetic Transliteration, Classical Approach\n",
    "\n",
    "The purpose of this notebook is to document the, now abandoned, attempt to transliterate Tibetan without using a model."
   ]
  },
  {
   "cell_type": "code",
   "execution_count": 5,
   "metadata": {},
   "outputs": [],
   "source": [
    "import pyewts\n",
    "import re\n",
    "from transformers import pipeline"
   ]
  },
  {
   "cell_type": "markdown",
   "metadata": {},
   "source": [
    "## Sample Text\n",
    "\n",
    "https://www.lotsawahouse.org/tibetan-masters/fifteenth-karmapa/resplendence-guru-yoga\n",
    "\n",
    "རང་གི་སྤྱི་བོར་ཆུ་སྐྱེས་གེ་སར་ལྟེར། །\n",
    "ཐབས་ཤེས་ཉི་ཟླ་མཛེས་པའི་ཁྲི་སྟེང་ནས། །\n",
    "དུས་གསུམ་རྒྱལ་ཀུན་ཡེ་ཤེས་འདུས་པའི་གཟུགས། །\n",
    "དཀོན་མཆོག་ཀུན་འདུས་བླ་མ་ཀརྨ་པ། །\n",
    "ཞི་འཛུམ་བདེ་ཆེན་རྒྱས་པའི་ཉམས་བརྒྱ་འབར། །\n",
    "ཕྱག་གཉིས་བདེ་སྟོང་རྡོར་དྲིལ་ཐུགས་ཀར་བསྣོལ། །\n",
    "ཞབས་ཟུང་རྡོ་རྗེའི་སྐྱིལ་མོ་ཀྲུང་གིས་བཞུགས། །\n",
    "དབུ་ལ་ཞྭ་ནག་སྐུ་ལ་ཆོས་གོས་གསོལ། །\n",
    "\n",
    "rang gi chiwor chukyé gesar ter\n",
    "tabshé nyida dzepé tri teng né\n",
    "dü sum gyal kün yeshe düpé zuk\n",
    "könchok kündü lama karma pa\n",
    "zhi dzum dechen gyepé nyam gya bar\n",
    "chak nyi detong dordril tukkar nol\n",
    "zhabzung dorjé kyilmo trung gi zhuk\n",
    "u la zha nak ku la chögö sol\n",
    "\n",
    "At the crown of my head, in the heart of a blossoming lotus,\n",
    "On a throne adorned with sun and moon discs of method and wisdom,\n",
    "Sits the embodiment of the wisdom of all the Victors of the three times,\n",
    "Embodiment of the Three Jewels, Guru Karmapa,\n",
    "Blazing with the intensity of great bliss, wearing a smile,\n",
    "With two hands holding a vajra and bell of bliss and emptiness crossed at the heart,\n",
    "Sitting with legs crossed in vajra posture,\n",
    "Wearing a black crown, clad in Dharma robes."
   ]
  },
  {
   "cell_type": "code",
   "execution_count": 38,
   "metadata": {},
   "outputs": [
    {
     "name": "stderr",
     "output_type": "stream",
     "text": [
      "/home/j/.local/lib/python3.12/site-packages/transformers/pipelines/__init__.py:1076: UserWarning: \"translation\" task was used, instead of \"translation_XX_to_YY\", defaulting to \"translation_en_to_de\"\n",
      "  warnings.warn(\n"
     ]
    }
   ],
   "source": [
    "translator = pipeline('translation', 'billingsmoore/mlotsawa', device=0, max_length=100)"
   ]
  },
  {
   "cell_type": "code",
   "execution_count": 12,
   "metadata": {},
   "outputs": [],
   "source": [
    "tibetan = \"\"\"\n",
    "རང་གི་སྤྱི་བོར་ཆུ་སྐྱེས་གེ་སར་ལྟེར། །\n",
    "ཐབས་ཤེས་ཉི་ཟླ་མཛེས་པའི་ཁྲི་སྟེང་ནས། །\n",
    "དུས་གསུམ་རྒྱལ་ཀུན་ཡེ་ཤེས་འདུས་པའི་གཟུགས། །\n",
    "དཀོན་མཆོག་ཀུན་འདུས་བླ་མ་ཀརྨ་པ། །\n",
    "ཞི་འཛུམ་བདེ་ཆེན་རྒྱས་པའི་ཉམས་བརྒྱ་འབར། །\n",
    "ཕྱག་གཉིས་བདེ་སྟོང་རྡོར་དྲིལ་ཐུགས་ཀར་བསྣོལ། །\n",
    "ཞབས་ཟུང་རྡོ་རྗེའི་སྐྱིལ་མོ་ཀྲུང་གིས་བཞུགས། །\n",
    "དབུ་ལ་ཞྭ་ནག་སྐུ་ལ་ཆོས་གོས་གསོལ། །\n",
    "\"\"\""
   ]
  },
  {
   "cell_type": "markdown",
   "metadata": {},
   "source": [
    "## Confirm That a Text is in Tibetan Script"
   ]
  },
  {
   "cell_type": "code",
   "execution_count": 9,
   "metadata": {},
   "outputs": [
    {
     "name": "stdout",
     "output_type": "stream",
     "text": [
      "False\n"
     ]
    }
   ],
   "source": [
    "def contains_tibetan(text):\n",
    "    # Define the Tibetan Unicode range\n",
    "    tibetan_range = range(0x0F00, 0x0FFF + 1)\n",
    "    \n",
    "    # Check each character in the string\n",
    "    for char in text:\n",
    "        if ord(char) in tibetan_range:\n",
    "            return True\n",
    "    return False\n",
    "\n",
    "# Example usage\n",
    "result = contains_tibetan(wylie[0])\n",
    "print(result)  # Output: True if Tibetan characters are present\n"
   ]
  },
  {
   "cell_type": "markdown",
   "metadata": {},
   "source": [
    "## Using the PyEWTS library"
   ]
  },
  {
   "cell_type": "code",
   "execution_count": 15,
   "metadata": {},
   "outputs": [],
   "source": [
    "converter = pyewts.pyewts()\n",
    "wylie = converter.toWylie(tibetan)"
   ]
  },
  {
   "cell_type": "code",
   "execution_count": 16,
   "metadata": {},
   "outputs": [
    {
     "data": {
      "text/plain": [
       "\"\\nrang gi spyi bor chu skyes ge sar lter/_/\\nthabs shes nyi zla mdzes pa'i khri steng nas/_/\\ndus gsum rgyal kun ye shes 'dus pa'i gzugs/_/\\ndkon mchog kun 'dus bla ma karma pa/_/\\nzhi 'dzum bde chen rgyas pa'i nyams brgya 'bar/_/\\nphyag gnyis bde stong rdor dril thugs kar bsnol/_/\\nzhabs zung rdo rje'i skyil mo krung gis bzhugs/_/\\ndbu la zhwa nag sku la chos gos gsol/_/\\n\""
      ]
     },
     "execution_count": 16,
     "metadata": {},
     "output_type": "execute_result"
    }
   ],
   "source": [
    "wylie"
   ]
  },
  {
   "cell_type": "code",
   "execution_count": 58,
   "metadata": {},
   "outputs": [
    {
     "data": {
      "text/plain": [
       "['according to the nyingma school',\n",
       " 'the sun shines twice a day.',\n",
       " 'an extensive commentary on the three',\n",
       " 'in the english language',\n",
       " 'chen snying thig rtsa pod shechen publications',\n",
       " 'verses of happiness and wellbeing upon entering the city of vail',\n",
       " 'the team played well in the contest.',\n",
       " 'nyala pema dddul recognized ngawang tendzin as a future disciple']"
      ]
     },
     "execution_count": 58,
     "metadata": {},
     "output_type": "execute_result"
    }
   ],
   "source": [
    "wylie_translation = translator(wylie)\n",
    "wylie_translation = [elt['translation_text'] for elt in wylie_translation]\n",
    "wylie_translation"
   ]
  },
  {
   "cell_type": "markdown",
   "metadata": {},
   "source": [
    "## Converting Wylie To Phonetic"
   ]
  },
  {
   "cell_type": "code",
   "execution_count": 59,
   "metadata": {},
   "outputs": [],
   "source": [
    "# this is a list, each element of which is a pair. the first element of the pair is a list of wylie strings and the second element is the string it should be replaced with for THL\n",
    "\n",
    "replacements = [[['lth', 'rh', 'db'] , ' '],\n",
    "    [['rb', 'sb', 'sbr', 'lb', '’b', '\\'b'] , 'b'],\n",
    "    [['c', 'cw', 'gc', 'bc', 'lc', 'py', 'lpy', 'spy', 'dpy', 'mch', '’ch', '\\'ch', 'phy', '’phy', '\\'phy'] , 'ch'],\n",
    "    [['rd', 'sd', 'gd', 'bd', 'brd', 'bsd', 'zl', 'bzl', 'ld', 'md', '’d', '\\'d', 'dw'] , 'd'],\n",
    "    [['rgr', 'lgr', 'sgr', 'dgr', 'dbr', 'bsgr', 'rbr', 'lbr', 'sbr', 'mgr', '’gr', '\\'gr', '’dr', '\\'dr', '’br', '\\'br', 'gr', 'br', 'grw'] , 'dr'],\n",
    "    [['rdz', 'gdz', 'brdz', 'mdz', '’dz', '\\'dz'] , 'dz'],\n",
    "    [['rg', 'lg', 'sg', 'dg', 'bg', 'brg', 'bsg', 'lg', 'mg', '’g', '\\'g', 'gw'] , 'g'],\n",
    "    [['rgy', 'lgy', 'sgy', 'dgy', 'bgy', 'brgy', 'bsgy', 'mgy', '’gy', '\\'gy'] , 'gy'],\n",
    "    [['hw'] , 'h'],\n",
    "    [['rby', 'lby', 'sby', 'rj', 'gj', 'brj', 'lj', 'mj', '’j', '\\'j', '’by', '\\'by', 'by'] , 'j'],\n",
    "    [['rk', 'lk', 'sk', 'kw', 'dk', 'bk', 'brk', 'bsk'] , 'k'],\n",
    "    [['khw', 'mkh', '’kh', '\\'kh'] , 'kh'],\n",
    "    [['mkhy', '’khy', '\\'khy'] , 'khy'],\n",
    "    [['rky', 'lky', 'sky', 'dky', 'bky', 'brky', 'bsky'] , 'ky'],\n",
    "    [['kl', 'gl', 'bl', 'rl', 'sl', 'brl', 'bsl', 'lw'] , 'l'],\n",
    "    [['rm', 'sm', 'dm', 'smr', 'mr'] , 'm'],\n",
    "    [['rn', 'sn', 'gn', 'brn', 'bsn', 'mn'] , 'n'],\n",
    "    [['rng', 'lng', 'sng', 'dng', 'brng', 'bsng', 'mng'] , 'ng'],\n",
    "    [['rny', 'sny', 'gny', 'brny', 'bsny', 'mny', 'nyw', 'rmy', 'smy', 'my'] , 'ny'],\n",
    "    [['sp', 'dp', 'lp', 'ph', '’ph', '\\'ph'] , 'p'],\n",
    "    [['rw'] , 'r'],\n",
    "    [['sr', 'sw', 'gs', 'bs', 'bsr'] , 's'],\n",
    "    [['shw', 'gsh', 'bsh'] , 'sh'],\n",
    "    [['rt', 'lt', 'st', 'tw', 'gt', 'bt', 'brt', 'blt', 'bst', 'bld', 'th', 'mth', '’th' '\\'th'] , 't'],\n",
    "    [['kr', 'rkr', 'lkr', 'skr', 'pr', 'lpr', 'spr', 'dkr', 'dpr', 'bkr', 'bskr', 'bsr', 'khr', 'thr', 'phr', 'mkhr', '’khr', '’phr'] , 'tr'],\n",
    "    [['rts', 'sts', 'rtsw', 'stsw', 'gts', 'bts', 'brts', 'bsts', 'tsh', 'tshw', 'mtsh', '’tsh', '\\'tsh'] , 'ts'],\n",
    "    [['db', 'b'] , 'w'],\n",
    "    [['g.y', 'dby'] , 'y'],\n",
    "    [['zw', 'gz', 'bz'] , 'z'],\n",
    "    [['zh', 'zhw', 'gzh', 'bzh'] , 'zh']]"
   ]
  },
  {
   "cell_type": "code",
   "execution_count": 60,
   "metadata": {},
   "outputs": [],
   "source": [
    "def wylie_to_phonetic(wylie):\n",
    "    phonetic = []\n",
    "    for line in wylie:\n",
    "        if line != '':\n",
    "            # perform basic replacements\n",
    "            result = line\n",
    "            for elt in replacements:\n",
    "                replace_list = elt[0]\n",
    "                for string in replace_list:\n",
    "                    result = result.replace(string, elt[1])\n",
    "\n",
    "            # remove non-alphabetical chars\n",
    "            result = re.sub(r'[^a-zA-Z\\s]', '', result)\n",
    "            phonetic.append(result)\n",
    "    return phonetic\n",
    "\n",
    "phonetic = wylie_to_phonetic(wylie)"
   ]
  },
  {
   "cell_type": "code",
   "execution_count": 61,
   "metadata": {},
   "outputs": [
    {
     "data": {
      "text/plain": [
       "['rang gi schi wor chhu kyes ge sar ter',\n",
       " 'tas shes nyi da dzes pai tri teng nas',\n",
       " 'dus sum gyal kun ye shes dus pai zus',\n",
       " 'kon chhog kun dus la ma kama pa',\n",
       " 'zhi dzum de chhen gyas pai nyams gya war',\n",
       " 'chag nyis de tong dor dril tus kar wnol',\n",
       " 'zhas zung do jei kyil mo trung gis wzhus',\n",
       " ' u la zha nag ku la chhos gos sol']"
      ]
     },
     "execution_count": 61,
     "metadata": {},
     "output_type": "execute_result"
    }
   ],
   "source": [
    "phonetic"
   ]
  },
  {
   "cell_type": "code",
   "execution_count": 62,
   "metadata": {},
   "outputs": [
    {
     "data": {
      "text/plain": [
       "['through the power of your natural renunciation you spontaneously preclude',\n",
       " 'the sun and moon sit on a lotus and moon disc',\n",
       " 'the buddhas of past present and future all know this to be the case',\n",
       " 'i make offerings to all the buddhas and bodhisattvas',\n",
       " 'smiling serenely at a hundredthousandfold temple',\n",
       " 'the two hands hold a bell and a white vajra',\n",
       " 'i was born into a family of four.',\n",
       " 'he wears a hat on his head and is adorned with the dharma robes']"
      ]
     },
     "execution_count": 62,
     "metadata": {},
     "output_type": "execute_result"
    }
   ],
   "source": [
    "phonetic_translation = translator(phonetic)\n",
    "phonetic_translation = [elt['translation_text'] for elt in phonetic_translation]\n",
    "phonetic_translation"
   ]
  }
 ],
 "metadata": {
  "kernelspec": {
   "display_name": "Python 3",
   "language": "python",
   "name": "python3"
  },
  "language_info": {
   "codemirror_mode": {
    "name": "ipython",
    "version": 3
   },
   "file_extension": ".py",
   "mimetype": "text/x-python",
   "name": "python",
   "nbconvert_exporter": "python",
   "pygments_lexer": "ipython3",
   "version": "3.10.15"
  }
 },
 "nbformat": 4,
 "nbformat_minor": 2
}
