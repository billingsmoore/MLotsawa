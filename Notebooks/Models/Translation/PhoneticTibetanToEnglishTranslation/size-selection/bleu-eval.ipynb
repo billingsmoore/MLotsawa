{
 "cells": [
  {
   "cell_type": "code",
   "execution_count": 2,
   "metadata": {},
   "outputs": [
    {
     "name": "stderr",
     "output_type": "stream",
     "text": [
      "2024-08-08 20:12:56.894309: E tensorflow/compiler/xla/stream_executor/cuda/cuda_dnn.cc:9342] Unable to register cuDNN factory: Attempting to register factory for plugin cuDNN when one has already been registered\n",
      "2024-08-08 20:12:56.894385: E tensorflow/compiler/xla/stream_executor/cuda/cuda_fft.cc:609] Unable to register cuFFT factory: Attempting to register factory for plugin cuFFT when one has already been registered\n",
      "2024-08-08 20:12:56.899705: E tensorflow/compiler/xla/stream_executor/cuda/cuda_blas.cc:1518] Unable to register cuBLAS factory: Attempting to register factory for plugin cuBLAS when one has already been registered\n",
      "2024-08-08 20:12:57.576841: I tensorflow/core/platform/cpu_feature_guard.cc:182] This TensorFlow binary is optimized to use available CPU instructions in performance-critical operations.\n",
      "To enable the following instructions: AVX2 FMA, in other operations, rebuild TensorFlow with the appropriate compiler flags.\n"
     ]
    }
   ],
   "source": [
    "from transformers import pipeline\n",
    "import evaluate\n",
    "\n",
    "metric = evaluate.load(\"sacrebleu\")"
   ]
  },
  {
   "cell_type": "code",
   "execution_count": 6,
   "metadata": {},
   "outputs": [],
   "source": [
    "from datasets import load_dataset\n",
    "test_dataset = load_dataset('pandas', data_files='/home/j/Documents/Projects/MLotsawa/data/size-selection-data/100k-test.p')\n",
    "test_dataset = test_dataset['train']['translation']\n",
    "inputs = [elt['bo'] for elt in test_dataset]\n",
    "references = [elt['en'] for elt in test_dataset]\n",
    "\n"
   ]
  },
  {
   "cell_type": "code",
   "execution_count": 1,
   "metadata": {},
   "outputs": [],
   "source": [
    "bo = 'sangye ch dang tsok kyi chok nam la. changchub bardu dak ni kyab su chi. dak gi jin sok gyip snam kyi. dro la pen chir sangye drubpar shok.'\n",
    "split = bo.split('.')"
   ]
  },
  {
   "cell_type": "code",
   "execution_count": 4,
   "metadata": {},
   "outputs": [
    {
     "name": "stdout",
     "output_type": "stream",
     "text": [
      "Checking small model. Generating predictions...\n",
      "Creating sample translation for small model.\n",
      "small model finished. Moving on.\n",
      "Checking base model. Generating predictions...\n",
      "Creating sample translation for base model.\n",
      "base model finished. Moving on.\n",
      "Checking large model. Generating predictions...\n",
      "Creating sample translation for large model.\n",
      "large model finished. Moving on.\n"
     ]
    }
   ],
   "source": [
    "results = {}\n",
    "for size in ['small', 'base', 'large']:\n",
    "    results[size] = {}\n",
    "\n",
    "    print(f'Checking {size} model. Generating predictions...')\n",
    "    \n",
    "    translator = pipeline(\"translation_bo_to_en\", model=f'/home/j/Documents/Projects/MLotsawa/models/size-selection/{size}/epoch-3', device=0, max_length=100)\n",
    "\n",
    "    print(f'Creating sample translation for {size} model.')\n",
    "\n",
    "    translation = translator(split)\n",
    "    translation = [elt['translation_text'] for elt in translation]\n",
    "    results[size]['translation'] = translation\n",
    "\n",
    "    print(f'{size} model finished. Moving on.')\n"
   ]
  },
  {
   "cell_type": "code",
   "execution_count": 5,
   "metadata": {},
   "outputs": [
    {
     "name": "stdout",
     "output_type": "stream",
     "text": [
      "['buddd ch the dchochochoknam the buddddu d the dchochochoque', 'i take refuge until until changchub bardu c c chub bdudu to my i', 'through the dak dr dak jinsme lords and the rest', 'attain attain attainmentmentment attain attainmentmentment in the spontaneous attainment', '']\n"
     ]
    }
   ],
   "source": [
    "print(results['small']['translation'])"
   ]
  },
  {
   "cell_type": "code",
   "execution_count": 6,
   "metadata": {},
   "outputs": [
    {
     "name": "stdout",
     "output_type": "stream",
     "text": [
      "['in the presence of the buddha the dharma and the supreme assembly', 'until i reach enlightenment i take refuge in you', 'through the merit of practising generosity and so on', 'for the benefit of beings i will accomplish buddhahood for the sake of all beings', '']\n"
     ]
    }
   ],
   "source": [
    "print(results['base']['translation'])"
   ]
  },
  {
   "cell_type": "code",
   "execution_count": 7,
   "metadata": {},
   "outputs": [
    {
     "name": "stdout",
     "output_type": "stream",
     "text": [
      "['all of these buddhas dharmas and supreme saghas including the buddha the dharma and', 'i take refuge until enlightenment is realized', 'through the merit of practising generosity and so on', 'for the benefit of all beings i shall attain buddhahood', '']\n"
     ]
    }
   ],
   "source": [
    "print(results['large']['translation'])"
   ]
  },
  {
   "cell_type": "markdown",
   "metadata": {},
   "source": [
    "## Sample Translation \n",
    "\n",
    "sangye ch dang tsok kyi chok nam la\n",
    "\n",
    "changchub bardu dak ni kyab su chi\n",
    "\n",
    "dak gi jin sok gyip snam kyi\n",
    "\n",
    "dro la pen chir sangye drubpar shok\n",
    "\n",
    "***\n",
    "\n",
    "In the Buddha the Dharma and the Supreme Assembly\n",
    "\n",
    "I take refuge until I attain enlightenment\n",
    "\n",
    "Through the merit of practising generosity and so on\n",
    "\n",
    "May I attain buddhahood for the benefit of all beings"
   ]
  }
 ],
 "metadata": {
  "kernelspec": {
   "display_name": "Python 3",
   "language": "python",
   "name": "python3"
  },
  "language_info": {
   "codemirror_mode": {
    "name": "ipython",
    "version": 3
   },
   "file_extension": ".py",
   "mimetype": "text/x-python",
   "name": "python",
   "nbconvert_exporter": "python",
   "pygments_lexer": "ipython3",
   "version": "3.10.12"
  }
 },
 "nbformat": 4,
 "nbformat_minor": 2
}
