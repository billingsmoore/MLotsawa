{
 "cells": [
  {
   "cell_type": "markdown",
   "metadata": {},
   "source": [
    "# NLLB Initial Experiments\n",
    "\n",
    "The purpose of this notebook is to document my experiments with Meta's 'NLLB', or 'No Language Left Behind' model, as a possible replacement for the v1 translation model."
   ]
  },
  {
   "cell_type": "markdown",
   "metadata": {},
   "source": [
    "## First Look\n",
    "\n",
    "Below, I've implemented an adjusted version of the tutorial code provided on [NLLB's HuggingFace page](https://huggingface.co/docs/transformers/model_doc/nllb)."
   ]
  },
  {
   "cell_type": "code",
   "execution_count": 1,
   "metadata": {},
   "outputs": [],
   "source": [
    "from transformers import AutoModelForSeq2SeqLM, AutoTokenizer"
   ]
  },
  {
   "cell_type": "code",
   "execution_count": 2,
   "metadata": {},
   "outputs": [],
   "source": [
    "tokenizer = AutoTokenizer.from_pretrained(\n",
    "    \"facebook/nllb-200-distilled-600M\", src_lang=\"bo\"\n",
    ")"
   ]
  },
  {
   "cell_type": "code",
   "execution_count": 3,
   "metadata": {},
   "outputs": [
    {
     "name": "stderr",
     "output_type": "stream",
     "text": [
      "/home/j/.local/lib/python3.10/site-packages/transformers/utils/generic.py:311: UserWarning: torch.utils._pytree._register_pytree_node is deprecated. Please use torch.utils._pytree.register_pytree_node instead.\n",
      "  torch.utils._pytree._register_pytree_node(\n",
      "/home/j/.local/lib/python3.10/site-packages/transformers/utils/generic.py:311: UserWarning: torch.utils._pytree._register_pytree_node is deprecated. Please use torch.utils._pytree.register_pytree_node instead.\n",
      "  torch.utils._pytree._register_pytree_node(\n"
     ]
    }
   ],
   "source": [
    "model = AutoModelForSeq2SeqLM.from_pretrained(\"/home/j/Documents/Projects/MLotsawa/notebooks/nllb/nllb-checkpoint-4\")"
   ]
  },
  {
   "cell_type": "code",
   "execution_count": 4,
   "metadata": {},
   "outputs": [],
   "source": [
    "def translate(input_text):\n",
    "    \n",
    "    inputs = tokenizer(input_text, return_tensors=\"pt\")\n",
    "\n",
    "    translated_tokens = model.generate(\n",
    "        **inputs, forced_bos_token_id=tokenizer.lang_code_to_id[\"eng_Latn\"], max_length=300\n",
    "    )\n",
    "    \n",
    "    return tokenizer.batch_decode(translated_tokens, skip_special_tokens=True)[0]"
   ]
  },
  {
   "cell_type": "markdown",
   "metadata": {},
   "source": [
    "Here I've define variables for two sample texts. These are both the same line from the Longchen Nyingtik Ngondro liturgy entitled \"The Excellent Path to Omniscience\n",
    "The Preliminary Practice of the Heart-Essence of the Vast Expanse (Longchen Nyingtik) from the Great Perfection\" arranged by Dodrupchen Jikme Trinle Özer. This text is available [here](https://www.lotsawahouse.org/tibetan-masters/dodrupchen-I/longchen-nyingtik-ngondro). The first is in the original Tibetan script. The second is the transliteration of the line. The source text does not specify which transliteration system was used but it appears to be THL Simplified Phonetic Transcription as described [here](https://en.wikipedia.org/wiki/THL_Simplified_Phonetic_Transcription).\n",
    "\n",
    "The text is:\n",
    "\n",
    "**འོད་འཕྲོས་རྒྱལ་བ་སྲས་བཅས་མཆོད་པས་མཉེས། །**\n",
    "\n",
    "**ö trö gyalwa sé ché chöpé nyé**\n",
    "\n",
    "\n",
    "Which the source text translates as:\n",
    "\n",
    "**Light streams out, making offerings to the buddhas and bodhisattvas, and pleasing them.**"
   ]
  },
  {
   "cell_type": "code",
   "execution_count": 25,
   "metadata": {},
   "outputs": [],
   "source": [
    "tibetan_script_sample = \"འོད་འཕྲོས་རྒྱལ་བ་སྲས་བཅས་མཆོད་པས་མཉེས། །\"\n",
    "transliterated_sample = \"ö trö gyalwa sé ché chöpé nyé\""
   ]
  },
  {
   "cell_type": "markdown",
   "metadata": {},
   "source": [
    "We can see below that the translation from the Tibetan script seems to be conceptually near to the given translation, if not quite what we're looking for."
   ]
  },
  {
   "cell_type": "code",
   "execution_count": 36,
   "metadata": {},
   "outputs": [
    {
     "data": {
      "text/plain": [
       "'The Son of Man, the Son of the Light, is pleased with sacrifice.'"
      ]
     },
     "execution_count": 36,
     "metadata": {},
     "output_type": "execute_result"
    }
   ],
   "source": [
    "translate(tibetan_script_sample)"
   ]
  },
  {
   "cell_type": "markdown",
   "metadata": {},
   "source": [
    "Meanwhile, the transliterated sample appears essentially unrelated to the given translation."
   ]
  },
  {
   "cell_type": "code",
   "execution_count": 37,
   "metadata": {},
   "outputs": [
    {
     "data": {
      "text/plain": [
       "\"I'm very happy with the way it turned out.\""
      ]
     },
     "execution_count": 37,
     "metadata": {},
     "output_type": "execute_result"
    }
   ],
   "source": [
    "translate(transliterated_sample)"
   ]
  },
  {
   "cell_type": "markdown",
   "metadata": {},
   "source": [
    "It's possible that the translations improve which greater context. To test this I've provided below larger samples for translation. These samples come from the same portion of the same text but I've used the entire section, entitled \"The Blessing of the Speech\".\n",
    "\n",
    "In the Tibetan script:\n",
    "\n",
    "***ཨོཾ་ཨཱཿཧཱུྂ། ལྕེ་དབང་རྂ་ཡིག་ལས་བྱུང་མེས་བསྲེགས་ནས། །***\n",
    "\n",
    "***འོད་དམར་རྣམ་པའི་རྡོ་རྗེ་རྩེ་གསུམ་སྦུབས། །***\n",
    "\n",
    "***ཨཱ་ལི་ཀཱ་ལིའི་མཐའ་སྐོར་རྟེན་འབྲེལ་སྙིང་། །***\n",
    "\n",
    "***མུ་ཏིག་ཕྲེང་བ་ལྟ་བུའི་ཡིག་འབྲུ་ལས། །***\n",
    "\n",
    "***འོད་འཕྲོས་རྒྱལ་བ་སྲས་བཅས་མཆོད་པས་མཉེས། །***\n",
    "\n",
    "***སླར་འདུས་ངག་སྒྲིབ་དག་ནས་གསུང་རྡོ་རྗེའི། །***\n",
    "\n",
    "***བྱིན་རླབས་དངོས་གྲུབ་ཐམས་ཅད་ཐོབ་པར་འགྱུར། །***\n",
    "\n",
    "Transliterated:\n",
    "\n",
    "***om ah hung ché wang ram yik lé jung mé sek né***\n",
    "\n",
    "***ö mar nampé dorjé tsesum bub***\n",
    "\n",
    "***ali kali takor tendrel nying***\n",
    "\n",
    "***mutik trengwa tabü yikdru lé***\n",
    "\n",
    "***ö trö gyalwa sé ché chöpé nyé***\n",
    "\n",
    "***lar dü ngak drib dak né sung dorjé***\n",
    "\n",
    "***jinlab ngödrub tamché tobpar gyur***\n",
    "\n",
    "Translated:\n",
    "\n",
    "***Oṃ āḥ hūṃ! From the syllable raṃ (in my speech centre) arises fire, consuming my tongue,***\n",
    "\n",
    "***Which is transformed into a three-spoked vajra of red light.***\n",
    "\n",
    "***In its centre are the vowels and consonants, and around them the mantra of ‘The Essence of Interdependent Origination’***\n",
    "\n",
    "***Their syllables are like strings of pearls. From them,***\n",
    "\n",
    "***Light streams out, making offerings to the buddhas and bodhisattvas, and pleasing them.***\n",
    "\n",
    "***As it converges back, all the obscurations of my speech are purified, and***\n",
    "\n",
    "***I obtain all the blessings and siddhis of vajra speech.***"
   ]
  },
  {
   "cell_type": "code",
   "execution_count": 6,
   "metadata": {},
   "outputs": [],
   "source": [
    "tibetan_script_larger = \"ཨོཾ་ཨཱཿཧཱུྂ། ལྕེ་དབང་རྂ་ཡིག་ལས་བྱུང་མེས་བསྲེགས་ནས། ། འོད་དམར་རྣམ་པའི་རྡོ་རྗེ་རྩེ་གསུམ་སྦུབས། ། ཨཱ་ལི་ཀཱ་ལིའི་མཐའ་སྐོར་རྟེན་འབྲེལ་སྙིང་། ། མུ་ཏིག་ཕྲེང་བ་ལྟ་བུའི་ཡིག་འབྲུ་ལས། ། འོད་འཕྲོས་རྒྱལ་བ་སྲས་བཅས་མཆོད་པས་མཉེས། ། སླར་འདུས་ངག་སྒྲིབ་དག་ནས་གསུང་རྡོ་རྗེའི། ། བྱིན་རླབས་དངོས་གྲུབ་ཐམས་ཅད་ཐོབ་པར་འགྱུར། །\"\n",
    "transliterated_larger = \"om ah hung ché wang ram yik lé jung mé sek né ö mar nampé dorjé tsesum bub ali kali takor tendrel nying mutik trengwa tabü yikdru lé ö trö gyalwa sé ché chöpé nyé lar dü ngak drib dak né sung dorjé jinlab ngödrub tamché tobpar gyur\""
   ]
  },
  {
   "cell_type": "markdown",
   "metadata": {},
   "source": [
    "We can see below that neither translation appears to have improved. However, there is a point of interest in the translation from the Tibetan script. Note the reference to the Book of Mormon, which may give us a clue to the training set for this model. It is likely that Meta had access to a variety of training materials that are commonly translated into a huge number of languages, among which is undoubtedly a sizeable portion of materials from the LDS Church, which evangelized globally. This presents a particular concern, because we want to avoid translations that bring with themselves a great deal of conceptual, particularly theological, baggage."
   ]
  },
  {
   "cell_type": "code",
   "execution_count": 38,
   "metadata": {},
   "outputs": [
    {
     "data": {
      "text/plain": [
       "\"The letter O'Bohemian was burned with fire, burned with red-colored stones, burned with the heart of the Alkali siege, and the letter like the Book of Mormon was read with joy, and the Son of Light and Victory was delighted with the sacrifice.\""
      ]
     },
     "execution_count": 38,
     "metadata": {},
     "output_type": "execute_result"
    }
   ],
   "source": [
    "translate(tibetan_script_larger)"
   ]
  },
  {
   "cell_type": "code",
   "execution_count": 39,
   "metadata": {},
   "outputs": [
    {
     "data": {
      "text/plain": [
       "'The name of the child is called the \"trengwa tabü yikdru\" by the name of the child is called the \"chewable\" by the name of the child, the \"drub\" by the name of the child.'"
      ]
     },
     "execution_count": 39,
     "metadata": {},
     "output_type": "execute_result"
    }
   ],
   "source": [
    "translate(transliterated_larger)"
   ]
  },
  {
   "cell_type": "code",
   "execution_count": 9,
   "metadata": {},
   "outputs": [
    {
     "data": {
      "text/plain": [
       "'o h mahkla who has the power to free herself from the ills of the five poisons of the profound and vast dharma'"
      ]
     },
     "execution_count": 9,
     "metadata": {},
     "output_type": "execute_result"
    }
   ],
   "source": [
    "translate(transliterated_larger)"
   ]
  },
  {
   "cell_type": "markdown",
   "metadata": {},
   "source": [
    "Below, I've translated the passage in Tibetan script line by line. Note that the translation changes significantly. The first line is notably messy and the Book of Mormon is no longer mentioned, but there is still a lot of room for improvement."
   ]
  },
  {
   "cell_type": "code",
   "execution_count": 7,
   "metadata": {},
   "outputs": [],
   "source": [
    "line_by_line = transliterated_larger.split(\"\")\n",
    "\n",
    "line_by_line_translation = []\n",
    "\n",
    "for line in line_by_line:\n",
    "    line_by_line_translation.append(translate(line))"
   ]
  },
  {
   "cell_type": "code",
   "execution_count": 56,
   "metadata": {},
   "outputs": [
    {
     "data": {
      "text/plain": [
       "['Oh, oh, oh, oh, oh, oh, oh, oh, oh, oh, oh, oh, oh, oh, oh, oh, oh, oh, oh, oh, oh, oh, oh, oh, oh, oh, oh, oh, oh, oh, oh, oh, oh, oh, oh, oh, oh, oh, oh, oh, oh, oh, oh, oh, oh, oh, oh, oh, oh, oh, oh, oh, oh, oh, oh, oh, oh, oh, oh, oh, oh, oh, oh, oh, oh, oh, oh, oh, oh, oh, oh, oh, oh, oh, oh, oh, oh, oh, oh, oh, oh, oh, oh, oh, oh, oh, what the word of the word of the word of the word of the word of the word of the word of the word of the word of the word of the word of the word of the word of the word of the word of the word of the word of the word of the word of the word of the word of the word of the word of the word of the word of the word of the word of the word of the word of the word of the word of the word is.',\n",
       " 'Three corners of a bright red-colored stone were lit.',\n",
       " 'The siege of Alicante was celebrated in the heart of the city.',\n",
       " 'Letters like the letter \"m\" are:',\n",
       " 'The light of the world is pleased with sacrifices, even the son of the conqueror.',\n",
       " 'Again, the words of the silent silent stone were heard.',\n",
       " 'Blessings will be given to all that is accomplished.']"
      ]
     },
     "execution_count": 56,
     "metadata": {},
     "output_type": "execute_result"
    }
   ],
   "source": [
    "line_by_line_translation"
   ]
  },
  {
   "cell_type": "code",
   "execution_count": 11,
   "metadata": {},
   "outputs": [],
   "source": [
    "line_by_line = [\n",
    "    'om ah hung', \n",
    "    'ché wang ram yik lé jung mé sek né',\n",
    "    'ö mar nampé dorjé tsesum bub',\n",
    "    'ali kali takor tendrel nying', \n",
    "    'mutik trengwa tabü yikdru lé',\n",
    "    'ö trö gyalwa sé ché chöpé nyé',\n",
    "    'lar dü ngak drib dak né sung dorjé',\n",
    "    'jinlab ngödrub tamché tobpar gyur'\n",
    "]"
   ]
  },
  {
   "cell_type": "code",
   "execution_count": 12,
   "metadata": {},
   "outputs": [],
   "source": [
    "line_by_line_translation = []\n",
    "\n",
    "for line in line_by_line:\n",
    "    line_by_line_translation.append(translate(line))"
   ]
  },
  {
   "cell_type": "code",
   "execution_count": 13,
   "metadata": {},
   "outputs": [
    {
     "data": {
      "text/plain": [
       "['with ',\n",
       " 'although the king and ministers had already been seated on the lotus',\n",
       " 'the sun is transformed into a dazzling vajra and his consort dissolves into',\n",
       " 'in its centre are the vowels and consonants and around them the mantra of the essence',\n",
       " 'their syllables are like strings of pearls on which are',\n",
       " 'hungry hungry victorious ones sweetheart',\n",
       " 'once again i arise in the form of the vajra speech the obscuring nails and',\n",
       " 'i obtain all the blessings of accomplishment and the twofold accumulation']"
      ]
     },
     "execution_count": 13,
     "metadata": {},
     "output_type": "execute_result"
    }
   ],
   "source": [
    "line_by_line_translation"
   ]
  }
 ],
 "metadata": {
  "kernelspec": {
   "display_name": "Python 3",
   "language": "python",
   "name": "python3"
  },
  "language_info": {
   "codemirror_mode": {
    "name": "ipython",
    "version": 3
   },
   "file_extension": ".py",
   "mimetype": "text/x-python",
   "name": "python",
   "nbconvert_exporter": "python",
   "pygments_lexer": "ipython3",
   "version": "3.10.12"
  }
 },
 "nbformat": 4,
 "nbformat_minor": 2
}
