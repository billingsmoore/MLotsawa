{
 "cells": [
  {
   "cell_type": "markdown",
   "metadata": {},
   "source": [
    "# T5 Model Results"
   ]
  },
  {
   "cell_type": "markdown",
   "metadata": {},
   "source": [
    "## Sample Text"
   ]
  },
  {
   "cell_type": "markdown",
   "metadata": {},
   "source": [
    "sangye ch dang tsok kyi chok nam la\n",
    "\n",
    "changchub bardu dak ni kyab su chi\n",
    "\n",
    "dak gi jin sok gyip snam kyi\n",
    "\n",
    "dro la pen chir sangye drubpar shok\n",
    "\n",
    "***\n",
    "\n",
    "In the Buddha the Dharma and the Supreme Assembly\n",
    "\n",
    "I take refuge until I attain enlightenment\n",
    "\n",
    "Through the merit of practising generosity and so on\n",
    "\n",
    "May I attain buddhahood for the benefit of all beings\n"
   ]
  },
  {
   "cell_type": "code",
   "execution_count": 18,
   "metadata": {},
   "outputs": [],
   "source": [
    "bo = 'sangye ch dang tsok kyi chok nam la. changchub bardu dak ni kyab su chi. dak gi jin sok gyip snam kyi. dro la pen chir sangye drubpar shok.'\n",
    "split = bo.split('.')"
   ]
  },
  {
   "cell_type": "markdown",
   "metadata": {},
   "source": [
    "## Models"
   ]
  },
  {
   "cell_type": "code",
   "execution_count": 5,
   "metadata": {},
   "outputs": [
    {
     "name": "stderr",
     "output_type": "stream",
     "text": [
      "2024-07-23 14:51:49.986310: E tensorflow/compiler/xla/stream_executor/cuda/cuda_dnn.cc:9342] Unable to register cuDNN factory: Attempting to register factory for plugin cuDNN when one has already been registered\n",
      "2024-07-23 14:51:49.986359: E tensorflow/compiler/xla/stream_executor/cuda/cuda_fft.cc:609] Unable to register cuFFT factory: Attempting to register factory for plugin cuFFT when one has already been registered\n",
      "2024-07-23 14:51:49.986396: E tensorflow/compiler/xla/stream_executor/cuda/cuda_blas.cc:1518] Unable to register cuBLAS factory: Attempting to register factory for plugin cuBLAS when one has already been registered\n",
      "2024-07-23 14:51:49.995899: I tensorflow/core/platform/cpu_feature_guard.cc:182] This TensorFlow binary is optimized to use available CPU instructions in performance-critical operations.\n",
      "To enable the following instructions: AVX2 FMA, in other operations, rebuild TensorFlow with the appropriate compiler flags.\n"
     ]
    }
   ],
   "source": [
    "from transformers import AutoTokenizer, AutoModelForSeq2SeqLM, pipeline"
   ]
  },
  {
   "cell_type": "markdown",
   "metadata": {},
   "source": [
    "### 25000 training steps / 10 epochs"
   ]
  },
  {
   "cell_type": "code",
   "execution_count": 20,
   "metadata": {},
   "outputs": [
    {
     "data": {
      "text/plain": [
       "[{'translation_text': 'the buddhis dharma dharma and dharma kyichok nam la'},\n",
       " {'translation_text': 'i offer to you i pray'},\n",
       " {'translation_text': 'i offer to all my buddhas and bodhisattvas and so on'},\n",
       " {'translation_text': 'grant us the buddhahood of all our wishes and wishes so that we may attain buddhahood'},\n",
       " {'translation_text': ''}]"
      ]
     },
     "execution_count": 20,
     "metadata": {},
     "output_type": "execute_result"
    }
   ],
   "source": [
    "translator1 = pipeline(\"translation_bo_to_en\", model='../../models/t5/checkpoint-25000', device=0, max_length=100)\n",
    "translator1(split)"
   ]
  },
  {
   "cell_type": "markdown",
   "metadata": {},
   "source": [
    "### 50000 training steps / 20 epochs"
   ]
  },
  {
   "cell_type": "code",
   "execution_count": 25,
   "metadata": {},
   "outputs": [
    {
     "data": {
      "text/plain": [
       "[{'translation_text': 'the buddhas and bodhisattvas the dharma dharma and the supreme assembly'},\n",
       " {'translation_text': 'i take refuge in the bodhisattva bodhisattva'},\n",
       " {'translation_text': 'i offer to all my buddhas and bodhisattvas and so on'},\n",
       " {'translation_text': 'and grant us the buddhahood of all buddhas the attainment of buddhahood'},\n",
       " {'translation_text': ''}]"
      ]
     },
     "execution_count": 25,
     "metadata": {},
     "output_type": "execute_result"
    }
   ],
   "source": [
    "translator2 = pipeline(\"translation_bo_to_en\", model='../../models/t5/checkpoint-50000', device=0, max_length=100)\n",
    "translator2(split)"
   ]
  },
  {
   "cell_type": "markdown",
   "metadata": {},
   "source": [
    "### 75000 training steps / 30 epochs"
   ]
  },
  {
   "cell_type": "code",
   "execution_count": 26,
   "metadata": {},
   "outputs": [
    {
     "data": {
      "text/plain": [
       "[{'translation_text': 'the buddhas dharma dharma dharma and tsok kyichok nam la'},\n",
       " {'translation_text': 'i take refuge in the bodhisattva bodhisattva'},\n",
       " {'translation_text': 'i offer to you the buddhas and their heirs and so on'},\n",
       " {'translation_text': 'and grant us the buddhahood to accomplish enlightenment'},\n",
       " {'translation_text': ''}]"
      ]
     },
     "execution_count": 26,
     "metadata": {},
     "output_type": "execute_result"
    }
   ],
   "source": [
    "translator3 = pipeline(\"translation_bo_to_en\", model='../../models/t5/checkpoint-75000', device=0, max_length=100)\n",
    "translator3(split)"
   ]
  }
 ],
 "metadata": {
  "kernelspec": {
   "display_name": "Python 3",
   "language": "python",
   "name": "python3"
  },
  "language_info": {
   "codemirror_mode": {
    "name": "ipython",
    "version": 3
   },
   "file_extension": ".py",
   "mimetype": "text/x-python",
   "name": "python",
   "nbconvert_exporter": "python",
   "pygments_lexer": "ipython3",
   "version": "3.10.12"
  }
 },
 "nbformat": 4,
 "nbformat_minor": 2
}
