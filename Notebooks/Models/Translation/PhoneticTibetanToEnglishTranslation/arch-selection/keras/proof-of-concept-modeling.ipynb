{
 "cells": [
  {
   "cell_type": "markdown",
   "metadata": {},
   "source": [
    "# Proof of Concept Modeling\n",
    "\n",
    "The purpose of this notebook is to document the process used to create the original proof of concept Tibetan-English translation model. To create this model, I drew on the Keras tutorial provided here:\n",
    "\n",
    "https://keras.io/examples/nlp/neural_machine_translation_with_keras_nlp/\n",
    "\n",
    "I've adapted the model from the tutorial to translate Tibetan into English, rather than English to Spanish, and streamlined the code for simplicity and computational efficiency."
   ]
  },
  {
   "cell_type": "code",
   "execution_count": 1,
   "metadata": {},
   "outputs": [
    {
     "name": "stderr",
     "output_type": "stream",
     "text": [
      "2024-07-25 21:34:04.196375: E tensorflow/compiler/xla/stream_executor/cuda/cuda_dnn.cc:9342] Unable to register cuDNN factory: Attempting to register factory for plugin cuDNN when one has already been registered\n",
      "2024-07-25 21:34:04.196430: E tensorflow/compiler/xla/stream_executor/cuda/cuda_fft.cc:609] Unable to register cuFFT factory: Attempting to register factory for plugin cuFFT when one has already been registered\n",
      "2024-07-25 21:34:04.196481: E tensorflow/compiler/xla/stream_executor/cuda/cuda_blas.cc:1518] Unable to register cuBLAS factory: Attempting to register factory for plugin cuBLAS when one has already been registered\n",
      "2024-07-25 21:34:04.207912: I tensorflow/core/platform/cpu_feature_guard.cc:182] This TensorFlow binary is optimized to use available CPU instructions in performance-critical operations.\n",
      "To enable the following instructions: AVX2 FMA, in other operations, rebuild TensorFlow with the appropriate compiler flags.\n"
     ]
    },
    {
     "name": "stdout",
     "output_type": "stream",
     "text": [
      "Using TensorFlow backend\n"
     ]
    }
   ],
   "source": [
    "import pathlib\n",
    "import random\n",
    "import tensorflow as tf\n",
    "from tensorflow import keras\n",
    "import keras_nlp\n",
    "import matplotlib.pyplot as plt\n",
    "import pickle\n",
    "\n",
    "TF_GPU_ALLOCATOR = 'cuda_malloc_async'\n"
   ]
  },
  {
   "cell_type": "markdown",
   "metadata": {},
   "source": [
    "## Setup\n",
    "\n",
    "### Defining Some Constants\n",
    "\n",
    "Below I defined some important constants for the model. These constants were chosen relatively arbitrarily. Most constants have been set pretty conservatively to ensure this notebook can be run even without GPU access."
   ]
  },
  {
   "cell_type": "code",
   "execution_count": 2,
   "metadata": {},
   "outputs": [],
   "source": [
    "BATCH_SIZE = 128\n",
    "EPOCHS = 1000\n",
    "MAX_SEQUENCE_LENGTH = 45\n",
    "VOCAB_SIZE = 15000\n",
    "\n",
    "EMBED_DIM = 256\n",
    "INTERMEDIATE_DIM = 2048\n",
    "NUM_HEADS = 8\n",
    "\n",
    "AUTOTUNE = tf.data.AUTOTUNE"
   ]
  },
  {
   "cell_type": "markdown",
   "metadata": {},
   "source": [
    "### Working With Sentence Pairs\n",
    "\n",
    "I've split the sentence pairs into two sets and set every English letter to be lowercase to avoid any confusion in the model. This is not necessary for Tibetan because the script does not use upper and lower cases."
   ]
  },
  {
   "cell_type": "code",
   "execution_count": 23,
   "metadata": {},
   "outputs": [
    {
     "data": {
      "text/plain": [
       "('tsnja dn gyi gongp sang dz dol',\n",
       " 'the secret treasury of realizing the intended meaning is unlocked')"
      ]
     },
     "execution_count": 23,
     "metadata": {},
     "output_type": "execute_result"
    }
   ],
   "source": [
    "import csv\n",
    "\n",
    "with open('/home/j/Documents/Projects/MLotsawa/data/100k-sample.csv', newline='') as file:\n",
    "    reader = csv.reader(file)\n",
    "    text_pairs = list(map(tuple, reader))\n",
    "\n",
    "text_pairs = text_pairs[1:] # drop headers\n",
    "text_pairs[0]"
   ]
  },
  {
   "cell_type": "code",
   "execution_count": 24,
   "metadata": {},
   "outputs": [
    {
     "name": "stdout",
     "output_type": "stream",
     "text": [
      "100000 total pairs\n",
      "95000 training pairs\n",
      "5000 validation pairs\n"
     ]
    }
   ],
   "source": [
    "random.shuffle(text_pairs)\n",
    "num_val_samples = int(0.05 * len(text_pairs))\n",
    "num_train_samples = len(text_pairs) - num_val_samples\n",
    "train_pairs = text_pairs[:num_train_samples]\n",
    "val_pairs = text_pairs[num_train_samples :]\n",
    "\n",
    "print(f\"{len(text_pairs)} total pairs\")\n",
    "print(f\"{len(train_pairs)} training pairs\")\n",
    "print(f\"{len(val_pairs)} validation pairs\")"
   ]
  },
  {
   "cell_type": "markdown",
   "metadata": {},
   "source": [
    "## Creating the Tokenizer\n",
    "\n",
    "The tokenizer will assign each unique word in the dataset a 'token' a unique number that allows the data to be treated numerically during model training. In order to do this, a \"vocabulary\" must first be created. This is a complete list of the unique English and Tibetan words in the dataset.\n",
    "\n",
    "### Vocabulary"
   ]
  },
  {
   "cell_type": "code",
   "execution_count": 25,
   "metadata": {},
   "outputs": [],
   "source": [
    "def train_word_piece(text_samples, vocab_size, reserved_tokens):\n",
    "    word_piece_ds = tf.data.Dataset.from_tensor_slices(text_samples)\n",
    "    vocab = keras_nlp.tokenizers.compute_word_piece_vocabulary(\n",
    "        word_piece_ds.batch(1000).prefetch(2),\n",
    "        vocabulary_size=vocab_size,\n",
    "        reserved_tokens=reserved_tokens,\n",
    "    )\n",
    "\n",
    "    return vocab"
   ]
  },
  {
   "cell_type": "markdown",
   "metadata": {},
   "source": [
    "### Tokenizing\n",
    "\n",
    "Note that I've set aside some peculiar tokens. These correspond to whitespace,unknown characters, the beginnings and endings of sentences. I don't want the tokenizer to treat these things as words that need to be tokenized."
   ]
  },
  {
   "cell_type": "code",
   "execution_count": 26,
   "metadata": {},
   "outputs": [],
   "source": [
    "reserved_tokens = [\"[PAD]\", \"[UNK]\", \"[START]\", \"[END]\"]\n",
    "\n",
    "tib_samples = [text_pair[0] for text_pair in train_pairs]\n",
    "tib_vocab = train_word_piece(tib_samples, VOCAB_SIZE, reserved_tokens)\n",
    "\n",
    "eng_samples = [text_pair[1] for text_pair in train_pairs]\n",
    "eng_vocab = train_word_piece(eng_samples, VOCAB_SIZE, reserved_tokens)"
   ]
  },
  {
   "cell_type": "markdown",
   "metadata": {},
   "source": [
    "Here I have tokenized the vocabularies."
   ]
  },
  {
   "cell_type": "code",
   "execution_count": 27,
   "metadata": {},
   "outputs": [],
   "source": [
    "eng_tokenizer = keras_nlp.tokenizers.WordPieceTokenizer(\n",
    "    vocabulary=eng_vocab, lowercase=False\n",
    ")\n",
    "\n",
    "tib_tokenizer = keras_nlp.tokenizers.WordPieceTokenizer(\n",
    "    vocabulary=tib_vocab, lowercase=False\n",
    ")"
   ]
  },
  {
   "cell_type": "markdown",
   "metadata": {},
   "source": [
    "Tokenizers can be saved like so."
   ]
  },
  {
   "cell_type": "code",
   "execution_count": 28,
   "metadata": {},
   "outputs": [],
   "source": [
    "with open('/home/j/Documents/Projects/MLotsawa/models/keras/tokenizers/eng-tokenizer.pickle', 'wb') as handle:\n",
    "    pickle.dump(eng_tokenizer, handle, protocol=pickle.HIGHEST_PROTOCOL)\n",
    "\n",
    "with open('/home/j/Documents/Projects/MLotsawa/models/keras/tokenizers/tib-tokenizer.pickle', 'wb') as handle:\n",
    "    pickle.dump(tib_tokenizer, handle, protocol=pickle.HIGHEST_PROTOCOL)"
   ]
  },
  {
   "cell_type": "markdown",
   "metadata": {},
   "source": [
    "The tokenizers can be reopened with the following code."
   ]
  },
  {
   "cell_type": "code",
   "execution_count": 1,
   "metadata": {},
   "outputs": [
    {
     "data": {
      "text/plain": [
       "\" with open('/tokenizers/tib-tokenizer.pickle', 'rb') as handle:\\n    tib_tokenizer = pickle.load(handle)\\n\\nwith open('/tokenizers/eng-tokenizer.pickle', 'rb') as handle:\\n    eng_tokenizer = pickle.load(handle) \""
      ]
     },
     "execution_count": 1,
     "metadata": {},
     "output_type": "execute_result"
    }
   ],
   "source": [
    "\"\"\" with open('/tokenizers/tib-tokenizer.pickle', 'rb') as handle:\n",
    "    tib_tokenizer = pickle.load(handle)\n",
    "\n",
    "with open('/tokenizers/eng-tokenizer.pickle', 'rb') as handle:\n",
    "    eng_tokenizer = pickle.load(handle) \"\"\""
   ]
  },
  {
   "cell_type": "markdown",
   "metadata": {},
   "source": [
    "### Data Preprocessing\n",
    "\n",
    "Next, I preprocessed each batch of data. This consisted of re-assembling the English-Tibetan sentence pairs. Each sentence must be padded with the \"[PAD]\" whitespace token in order to make each sequence of tokens the same length. This is because the model expects inputs of a particular shape. Once the sentence has been padded to the appropriate length, a [START] token can be appended to the beginning and an [END] token appended to the end.\n",
    "\n",
    "Finally, this assembled dataset is split into training and validation sets."
   ]
  },
  {
   "cell_type": "code",
   "execution_count": 29,
   "metadata": {},
   "outputs": [],
   "source": [
    "def tib_eng_preprocess_batch(tib, eng):\n",
    "\n",
    "    tib = tib_tokenizer(tib)\n",
    "    eng = eng_tokenizer(eng)\n",
    "    \n",
    "\n",
    "    # add special tokens [start] and [end] and pad tib\n",
    "    tib_start_end_packer = keras_nlp.layers.StartEndPacker(\n",
    "        sequence_length = MAX_SEQUENCE_LENGTH,\n",
    "        start_value = tib_tokenizer.token_to_id(\"[START]\"),\n",
    "        end_value = tib_tokenizer.token_to_id(\"[END]\"),\n",
    "        pad_value = tib_tokenizer.token_to_id(\"[PAD]\")\n",
    "    )\n",
    "\n",
    "    tib = tib_start_end_packer(tib)\n",
    "\n",
    "    # pad eng to max_sequence_length\n",
    "    eng_start_end_packer = keras_nlp.layers.StartEndPacker(\n",
    "        sequence_length=MAX_SEQUENCE_LENGTH+1,\n",
    "        pad_value = eng_tokenizer.token_to_id(\"[PAD]\"),\n",
    "    )\n",
    "\n",
    "    eng = eng_start_end_packer(eng)\n",
    "\n",
    "\n",
    "\n",
    "    return (\n",
    "        {\n",
    "        \"encoder_inputs\": tib,\n",
    "        \"decoder_inputs\": eng[:, :-1]\n",
    "        },\n",
    "        eng[:, 1:],\n",
    "    )\n",
    "\n",
    "def make_dataset(pairs, batch_size=BATCH_SIZE):\n",
    "    tib_texts, eng_texts = zip(*pairs)\n",
    "    tib_texts = list(tib_texts)\n",
    "    eng_texts = list(eng_texts)\n",
    "    dataset = tf.data.Dataset.from_tensor_slices((tib_texts, eng_texts))\n",
    "    dataset=dataset.batch(batch_size)\n",
    "    dataset = dataset.map(tib_eng_preprocess_batch, num_parallel_calls=AUTOTUNE)\n",
    "    return dataset.shuffle(2048).prefetch(16).cache()\n",
    "\n",
    "tib_eng_train_ds = make_dataset(train_pairs)\n",
    "tib_eng_val_ds = make_dataset(val_pairs)"
   ]
  },
  {
   "cell_type": "markdown",
   "metadata": {},
   "source": [
    "### Creating the Model\n",
    "\n",
    "This model is an Autoencoder, which consists of an encoder and a decoder. \n",
    "\n",
    "The encoder input layer takes in a set of tokenized inputs. These inputs are then passed to a layer that accounts for the number assigned to the token as well as the position of that token in the sentence. The next layer is a dense Encoder layer.\n",
    "\n",
    "The decoder takes in a set of tokenized inputs from the Tibetan dataset and passes them to a layer that will account for the token number and position of the token in those sentences. This is then passed to a dense Decoder layer.\n",
    "\n",
    "Both the Encoder and Decoder layers are helpfully provided out-of-the-box by Keras."
   ]
  },
  {
   "cell_type": "code",
   "execution_count": 30,
   "metadata": {},
   "outputs": [],
   "source": [
    "encoder_inputs = keras.Input(shape=(None,), dtype=\"int64\", name=\"encoder_inputs\")\n",
    "\n",
    "x = keras_nlp.layers.TokenAndPositionEmbedding(\n",
    "    vocabulary_size=VOCAB_SIZE,\n",
    "    sequence_length = MAX_SEQUENCE_LENGTH,\n",
    "    embedding_dim=EMBED_DIM,\n",
    "    mask_zero=True,\n",
    ")(encoder_inputs)\n",
    "\n",
    "encoder_outputs = keras_nlp.layers.TransformerEncoder(\n",
    "    intermediate_dim = INTERMEDIATE_DIM, num_heads=NUM_HEADS\n",
    ")(inputs=x)\n",
    "encoder = keras.Model(encoder_inputs, encoder_outputs)\n",
    "\n",
    "decoder_inputs = keras.Input(shape=(None,), dtype=\"int64\", name=\"decoder_inputs\")\n",
    "encoded_seq_inputs = keras.Input(shape=(None, EMBED_DIM), name=\"decoder_state_inputs\")\n",
    "\n",
    "x = keras_nlp.layers.TokenAndPositionEmbedding(\n",
    "    vocabulary_size=VOCAB_SIZE,\n",
    "    sequence_length=MAX_SEQUENCE_LENGTH,\n",
    "    embedding_dim=EMBED_DIM,\n",
    "    mask_zero=True,\n",
    ")(decoder_inputs)\n",
    "\n",
    "x = keras_nlp.layers.TransformerDecoder(\n",
    "    intermediate_dim=INTERMEDIATE_DIM, num_heads=NUM_HEADS\n",
    ")(decoder_sequence=x, encoder_sequence=encoded_seq_inputs)\n",
    "x = keras.layers.Dropout(0.5)(x)\n",
    "decoder_outputs = keras.layers.Dense(VOCAB_SIZE, activation=\"softmax\")(x)\n",
    "decoder = keras.Model(\n",
    "    [\n",
    "        decoder_inputs,\n",
    "        encoded_seq_inputs\n",
    "    ],\n",
    "    decoder_outputs,\n",
    ")\n",
    "decoder_outputs = decoder([decoder_inputs, encoder_outputs])\n",
    "\n",
    "tib_eng_translator = keras.Model(\n",
    "    [encoder_inputs, decoder_inputs],\n",
    "    decoder_outputs,\n",
    "    name=\"tib_eng_translator\",\n",
    ") \n",
    "\n",
    "# can also be open from a saved version like so\n",
    "# tib_eng_translator = tf.keras.models.load_model(\"path-to-model\")"
   ]
  },
  {
   "cell_type": "markdown",
   "metadata": {},
   "source": [
    "### Model Summary"
   ]
  },
  {
   "cell_type": "code",
   "execution_count": 31,
   "metadata": {},
   "outputs": [
    {
     "name": "stdout",
     "output_type": "stream",
     "text": [
      "Model: \"tib_eng_translator\"\n",
      "__________________________________________________________________________________________________\n",
      " Layer (type)                Output Shape                 Param #   Connected to                  \n",
      "==================================================================================================\n",
      " encoder_inputs (InputLayer  [(None, None)]               0         []                            \n",
      " )                                                                                                \n",
      "                                                                                                  \n",
      " token_and_position_embeddi  (None, None, 256)            3851520   ['encoder_inputs[0][0]']      \n",
      " ng_2 (TokenAndPositionEmbe                                                                       \n",
      " dding)                                                                                           \n",
      "                                                                                                  \n",
      " decoder_inputs (InputLayer  [(None, None)]               0         []                            \n",
      " )                                                                                                \n",
      "                                                                                                  \n",
      " transformer_encoder_1 (Tra  (None, None, 256)            1315072   ['token_and_position_embedding\n",
      " nsformerEncoder)                                                   _2[0][0]']                    \n",
      "                                                                                                  \n",
      " model_3 (Functional)        (None, None, 15000)          9285272   ['decoder_inputs[0][0]',      \n",
      "                                                                     'transformer_encoder_1[0][0]'\n",
      "                                                                    ]                             \n",
      "                                                                                                  \n",
      "==================================================================================================\n",
      "Total params: 14451864 (55.13 MB)\n",
      "Trainable params: 14451864 (55.13 MB)\n",
      "Non-trainable params: 0 (0.00 Byte)\n",
      "__________________________________________________________________________________________________\n"
     ]
    }
   ],
   "source": [
    "tib_eng_translator.summary()"
   ]
  },
  {
   "cell_type": "markdown",
   "metadata": {},
   "source": [
    "## Compilation\n",
    "\n",
    "Here I've compiled the model.\n",
    "\n",
    "Of note here is the choice of optimization algorith. I have used RMSProp. RMSProp is similar to Adagrad, and it converges much more quickly than, say, SGD. However, it is less susceptible to vanishing gradients. This is perfect for our small dataset with small batch sizes.\n",
    "\n",
    "The loss function is Sparse Categorical Crossentropy. Not every word appears in every sentence so the data for most natural language related tasks is necessarily sparse."
   ]
  },
  {
   "cell_type": "code",
   "execution_count": 50,
   "metadata": {},
   "outputs": [],
   "source": [
    "val_loss_callback = tf.keras.callbacks.EarlyStopping(patience=3, restore_best_weights=True)"
   ]
  },
  {
   "cell_type": "code",
   "execution_count": 51,
   "metadata": {},
   "outputs": [],
   "source": [
    "tib_eng_translator.compile(\n",
    "    \"rmsprop\", \n",
    "    loss=\"sparse_categorical_crossentropy\", \n",
    "    metrics=[\"accuracy\"],\n",
    ")"
   ]
  },
  {
   "cell_type": "markdown",
   "metadata": {},
   "source": [
    "## Fitting the Model"
   ]
  },
  {
   "cell_type": "code",
   "execution_count": 52,
   "metadata": {},
   "outputs": [
    {
     "name": "stdout",
     "output_type": "stream",
     "text": [
      "Epoch 1/1000\n"
     ]
    },
    {
     "name": "stdout",
     "output_type": "stream",
     "text": [
      "743/743 [==============================] - 62s 74ms/step - loss: 5.2157 - accuracy: 0.2460 - val_loss: 4.2856 - val_accuracy: 0.3189\n",
      "Epoch 2/1000\n",
      "743/743 [==============================] - 40s 54ms/step - loss: 4.0783 - accuracy: 0.3422 - val_loss: 3.6052 - val_accuracy: 0.3945\n",
      "Epoch 3/1000\n",
      "743/743 [==============================] - 41s 55ms/step - loss: 3.4485 - accuracy: 0.4168 - val_loss: 3.0937 - val_accuracy: 0.4683\n",
      "Epoch 4/1000\n",
      "743/743 [==============================] - 40s 54ms/step - loss: 3.0015 - accuracy: 0.4817 - val_loss: 2.8205 - val_accuracy: 0.5237\n",
      "Epoch 5/1000\n",
      "743/743 [==============================] - 40s 54ms/step - loss: 2.6582 - accuracy: 0.5375 - val_loss: 2.6511 - val_accuracy: 0.5601\n",
      "Epoch 6/1000\n",
      "743/743 [==============================] - 40s 54ms/step - loss: 2.3983 - accuracy: 0.5825 - val_loss: 2.4899 - val_accuracy: 0.5871\n",
      "Epoch 7/1000\n",
      "743/743 [==============================] - 39s 53ms/step - loss: 2.2017 - accuracy: 0.6165 - val_loss: 2.3492 - val_accuracy: 0.6213\n",
      "Epoch 8/1000\n",
      "743/743 [==============================] - 39s 53ms/step - loss: 2.0520 - accuracy: 0.6417 - val_loss: 2.2898 - val_accuracy: 0.6365\n",
      "Epoch 9/1000\n",
      "743/743 [==============================] - 40s 53ms/step - loss: 1.9341 - accuracy: 0.6625 - val_loss: 2.2197 - val_accuracy: 0.6504\n",
      "Epoch 10/1000\n",
      "743/743 [==============================] - 40s 54ms/step - loss: 1.8433 - accuracy: 0.6787 - val_loss: 2.1725 - val_accuracy: 0.6628\n",
      "Epoch 11/1000\n",
      "743/743 [==============================] - 41s 56ms/step - loss: 1.7695 - accuracy: 0.6912 - val_loss: 2.1401 - val_accuracy: 0.6727\n",
      "Epoch 12/1000\n",
      "743/743 [==============================] - 41s 56ms/step - loss: 1.7053 - accuracy: 0.7026 - val_loss: 2.1011 - val_accuracy: 0.6827\n",
      "Epoch 13/1000\n",
      "743/743 [==============================] - 41s 56ms/step - loss: 1.6481 - accuracy: 0.7123 - val_loss: 2.0725 - val_accuracy: 0.6899\n",
      "Epoch 14/1000\n",
      "743/743 [==============================] - 40s 54ms/step - loss: 1.6006 - accuracy: 0.7203 - val_loss: 2.0561 - val_accuracy: 0.6924\n",
      "Epoch 15/1000\n",
      "743/743 [==============================] - 40s 53ms/step - loss: 1.5588 - accuracy: 0.7277 - val_loss: 2.0315 - val_accuracy: 0.6992\n",
      "Epoch 16/1000\n",
      "743/743 [==============================] - 37s 50ms/step - loss: 1.5211 - accuracy: 0.7341 - val_loss: 2.0069 - val_accuracy: 0.7045\n",
      "Epoch 17/1000\n",
      "743/743 [==============================] - 39s 52ms/step - loss: 1.4907 - accuracy: 0.7396 - val_loss: 1.9935 - val_accuracy: 0.7078\n",
      "Epoch 18/1000\n",
      "743/743 [==============================] - 39s 52ms/step - loss: 1.4589 - accuracy: 0.7448 - val_loss: 1.9877 - val_accuracy: 0.7117\n",
      "Epoch 19/1000\n",
      "743/743 [==============================] - 38s 51ms/step - loss: 1.4300 - accuracy: 0.7495 - val_loss: 1.9647 - val_accuracy: 0.7197\n",
      "Epoch 20/1000\n",
      "743/743 [==============================] - 38s 52ms/step - loss: 1.4060 - accuracy: 0.7539 - val_loss: 1.9646 - val_accuracy: 0.7182\n",
      "Epoch 21/1000\n",
      "743/743 [==============================] - 39s 53ms/step - loss: 1.3849 - accuracy: 0.7572 - val_loss: 1.9747 - val_accuracy: 0.7196\n",
      "Epoch 22/1000\n",
      "743/743 [==============================] - 38s 51ms/step - loss: 1.3633 - accuracy: 0.7608 - val_loss: 1.9384 - val_accuracy: 0.7234\n",
      "Epoch 23/1000\n",
      "743/743 [==============================] - 38s 51ms/step - loss: 1.3470 - accuracy: 0.7634 - val_loss: 1.9510 - val_accuracy: 0.7251\n",
      "Epoch 24/1000\n",
      "743/743 [==============================] - 38s 51ms/step - loss: 1.3263 - accuracy: 0.7671 - val_loss: 1.9355 - val_accuracy: 0.7271\n",
      "Epoch 25/1000\n",
      "743/743 [==============================] - 38s 51ms/step - loss: 1.3119 - accuracy: 0.7692 - val_loss: 1.9254 - val_accuracy: 0.7294\n",
      "Epoch 26/1000\n",
      "743/743 [==============================] - 39s 52ms/step - loss: 1.2971 - accuracy: 0.7712 - val_loss: 1.9547 - val_accuracy: 0.7290\n",
      "Epoch 27/1000\n",
      "743/743 [==============================] - 38s 51ms/step - loss: 1.2791 - accuracy: 0.7743 - val_loss: 1.9424 - val_accuracy: 0.7318\n",
      "Epoch 28/1000\n",
      "743/743 [==============================] - 37s 50ms/step - loss: 1.2685 - accuracy: 0.7766 - val_loss: 1.9333 - val_accuracy: 0.7352\n"
     ]
    }
   ],
   "source": [
    "tib_eng_history = tib_eng_translator.fit(\n",
    "    tib_eng_train_ds, \n",
    "    epochs=EPOCHS, \n",
    "    validation_data=tib_eng_val_ds,\n",
    "    callbacks=[val_loss_callback]\n",
    "    )"
   ]
  },
  {
   "cell_type": "code",
   "execution_count": 53,
   "metadata": {},
   "outputs": [],
   "source": [
    "tib_eng_translator.save('tib-eng-translator.keras')"
   ]
  },
  {
   "cell_type": "markdown",
   "metadata": {},
   "source": [
    "## Results\n",
    "\n",
    "The results of model training with respect to loss can be viewed below."
   ]
  },
  {
   "cell_type": "code",
   "execution_count": 54,
   "metadata": {},
   "outputs": [
    {
     "data": {
      "image/png": "[encoded data removed]",
      "text/plain": [
       "<Figure size 800x800 with 1 Axes>"
      ]
     },
     "metadata": {},
     "output_type": "display_data"
    }
   ],
   "source": [
    "loss = tib_eng_history.history['loss']\n",
    "val_loss = tib_eng_history.history['val_loss']\n",
    "\n",
    "epochs_range = range(len(tib_eng_history.history['loss']))\n",
    "\n",
    "plt.figure(figsize=(8, 8))\n",
    "plt.plot(epochs_range, loss, label='Training Loss')\n",
    "plt.plot(epochs_range, val_loss, label='Validation Loss')\n",
    "plt.legend(loc='upper right')\n",
    "plt.title('Training and Validation Loss')\n",
    "plt.show()"
   ]
  }
 ],
 "metadata": {
  "kernelspec": {
   "display_name": "tf",
   "language": "python",
   "name": "python3"
  },
  "language_info": {
   "codemirror_mode": {
    "name": "ipython",
    "version": 3
   },
   "file_extension": ".py",
   "mimetype": "text/x-python",
   "name": "python",
   "nbconvert_exporter": "python",
   "pygments_lexer": "ipython3",
   "version": "3.10.12"
  },
  "orig_nbformat": 4
 },
 "nbformat": 4,
 "nbformat_minor": 2
}
