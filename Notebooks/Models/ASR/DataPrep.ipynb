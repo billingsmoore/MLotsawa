{
 "cells": [
  {
   "cell_type": "markdown",
   "id": "29dcaa3b",
   "metadata": {},
   "source": [
    "# Data Prep\n",
    "\n",
    "Load just the audio book ('AB') data for the three major dialects."
   ]
  },
  {
   "cell_type": "markdown",
   "id": "b076e128",
   "metadata": {},
   "source": [
    "## Load Data"
   ]
  },
  {
   "cell_type": "code",
   "execution_count": 1,
   "id": "30807cce",
   "metadata": {},
   "outputs": [
    {
     "data": {
      "text/plain": [
       "Dataset({\n",
       "    features: ['file_name', 'uni', 'wylie', 'url', 'dept', 'grade', 'char_len', 'audio_len'],\n",
       "    num_rows: 1362015\n",
       "})"
      ]
     },
     "execution_count": 1,
     "metadata": {},
     "output_type": "execute_result"
    }
   ],
   "source": [
    "from datasets import load_dataset\n",
    "\n",
    "ds = load_dataset('openpecha/stt-training-data', split='train')\n",
    "\n",
    "ds"
   ]
  },
  {
   "cell_type": "code",
   "execution_count": 2,
   "id": "069e3a1d",
   "metadata": {},
   "outputs": [
    {
     "data": {
      "text/plain": [
       "{'STT_AB',\n",
       " 'STT_CS',\n",
       " 'STT_HS',\n",
       " 'STT_MV',\n",
       " 'STT_NS',\n",
       " 'STT_NW',\n",
       " 'STT_PC',\n",
       " 'STT_TT'}"
      ]
     },
     "execution_count": 2,
     "metadata": {},
     "output_type": "execute_result"
    }
   ],
   "source": [
    "set(ds['dept'])"
   ]
  },
  {
   "cell_type": "markdown",
   "id": "d05f05b5",
   "metadata": {},
   "source": [
    "## Filter for Only Teachings Data With Non-Empty Transcriptions"
   ]
  },
  {
   "cell_type": "code",
   "execution_count": 3,
   "id": "d6f95100",
   "metadata": {},
   "outputs": [
    {
     "data": {
      "application/vnd.jupyter.widget-view+json": {
       "model_id": "683a9e7a3e954e5d9c8e46d9c538a178",
       "version_major": 2,
       "version_minor": 0
      },
      "text/plain": [
       "Filter:   0%|          | 0/1362015 [00:00<?, ? examples/s]"
      ]
     },
     "metadata": {},
     "output_type": "display_data"
    }
   ],
   "source": [
    "ds_tt = ds.filter(lambda x: x[\"dept\"] == \"STT_TT\" and x['uni'].strip() != '')"
   ]
  },
  {
   "cell_type": "markdown",
   "id": "18eecd53",
   "metadata": {},
   "source": [
    "## Generate Splits"
   ]
  },
  {
   "cell_type": "code",
   "execution_count": 9,
   "id": "e57ec4db",
   "metadata": {},
   "outputs": [
    {
     "data": {
      "text/plain": [
       "DatasetDict({\n",
       "    train: Dataset({\n",
       "        features: ['file_name', 'uni', 'wylie', 'url', 'dept', 'grade', 'char_len', 'audio_len'],\n",
       "        num_rows: 379522\n",
       "    })\n",
       "    dev: Dataset({\n",
       "        features: ['file_name', 'uni', 'wylie', 'url', 'dept', 'grade', 'char_len', 'audio_len'],\n",
       "        num_rows: 22324\n",
       "    })\n",
       "    test: Dataset({\n",
       "        features: ['file_name', 'uni', 'wylie', 'url', 'dept', 'grade', 'char_len', 'audio_len'],\n",
       "        num_rows: 44649\n",
       "    })\n",
       "})"
      ]
     },
     "execution_count": 9,
     "metadata": {},
     "output_type": "execute_result"
    }
   ],
   "source": [
    "from datasets import DatasetDict\n",
    "\n",
    "total_len = len(ds_tt)\n",
    "test_size = int(total_len * 0.10)\n",
    "dev_size = int(total_len * 0.05)\n",
    "train_size = total_len - dev_size - test_size\n",
    "\n",
    "train = ds_tt.select(range(train_size))\n",
    "dev = ds_tt.select(range(train_size, train_size + dev_size))\n",
    "test = ds_tt.select(range(train_size + dev_size, total_len))\n",
    "\n",
    "ds_dict = DatasetDict()\n",
    "ds_dict['train'] = train\n",
    "ds_dict['dev'] = dev\n",
    "ds_dict['test'] = test\n",
    "\n",
    "ds_dict\n"
   ]
  },
  {
   "cell_type": "markdown",
   "id": "2140478f",
   "metadata": {},
   "source": [
    "## Save Data"
   ]
  },
  {
   "cell_type": "code",
   "execution_count": 14,
   "id": "43f5e410",
   "metadata": {},
   "outputs": [
    {
     "data": {
      "application/vnd.jupyter.widget-view+json": {
       "model_id": "4e6d11b23bc344798224a8f8891b9e98",
       "version_major": 2,
       "version_minor": 0
      },
      "text/plain": [
       "Saving the dataset (0/1 shards):   0%|          | 0/379522 [00:00<?, ? examples/s]"
      ]
     },
     "metadata": {},
     "output_type": "display_data"
    },
    {
     "data": {
      "application/vnd.jupyter.widget-view+json": {
       "model_id": "65104bb9df404553a096d761cb55390b",
       "version_major": 2,
       "version_minor": 0
      },
      "text/plain": [
       "Saving the dataset (0/1 shards):   0%|          | 0/22324 [00:00<?, ? examples/s]"
      ]
     },
     "metadata": {},
     "output_type": "display_data"
    },
    {
     "data": {
      "application/vnd.jupyter.widget-view+json": {
       "model_id": "36027b6d2db04540b6fa2744c8c1c6eb",
       "version_major": 2,
       "version_minor": 0
      },
      "text/plain": [
       "Saving the dataset (0/1 shards):   0%|          | 0/44649 [00:00<?, ? examples/s]"
      ]
     },
     "metadata": {},
     "output_type": "display_data"
    }
   ],
   "source": [
    "ds_dict.save_to_disk('tt-asr-ds')"
   ]
  },
  {
   "cell_type": "code",
   "execution_count": null,
   "id": "0c443024",
   "metadata": {},
   "outputs": [],
   "source": []
  }
 ],
 "metadata": {
  "kernelspec": {
   "display_name": ".venv",
   "language": "python",
   "name": "python3"
  },
  "language_info": {
   "codemirror_mode": {
    "name": "ipython",
    "version": 3
   },
   "file_extension": ".py",
   "mimetype": "text/x-python",
   "name": "python",
   "nbconvert_exporter": "python",
   "pygments_lexer": "ipython3",
   "version": "3.12.7"
  }
 },
 "nbformat": 4,
 "nbformat_minor": 5
}
