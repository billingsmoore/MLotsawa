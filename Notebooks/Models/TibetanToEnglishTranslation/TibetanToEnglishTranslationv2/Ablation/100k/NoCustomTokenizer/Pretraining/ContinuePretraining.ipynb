{
 "cells": [
  {
   "cell_type": "markdown",
   "metadata": {},
   "source": [
    "# Continue Pretraining on T5"
   ]
  },
  {
   "cell_type": "code",
   "execution_count": 1,
   "metadata": {},
   "outputs": [
    {
     "data": {
      "application/vnd.jupyter.widget-view+json": {
       "model_id": "7b3052bbad3046f09f978f2b0595a5f8",
       "version_major": 2,
       "version_minor": 0
      },
      "text/plain": [
       "Loading dataset from disk:   0%|          | 0/17 [00:00<?, ?it/s]"
      ]
     },
     "metadata": {},
     "output_type": "display_data"
    }
   ],
   "source": [
    "from datasets import load_from_disk\n",
    "\n",
    "dataset = load_from_disk('/home/j/Desktop/MLotsawa/Notebooks/Models/TibetanToEnglishTranslation/TibetanToEnglishTranslationv2/Ablation/100k/RawData/100k-raw-ds')\n",
    "dataset = dataset['train']"
   ]
  },
  {
   "cell_type": "code",
   "execution_count": 2,
   "metadata": {},
   "outputs": [],
   "source": [
    "from transformers import AutoTokenizer\n",
    "\n",
    "tokenizer = AutoTokenizer.from_pretrained('billingsmoore/getok-v0')"
   ]
  },
  {
   "cell_type": "code",
   "execution_count": null,
   "metadata": {},
   "outputs": [],
   "source": [
    "import random\n",
    "\n",
    "def bo_corrupt_text_batch(examples):\n",
    "    input_texts = []\n",
    "    target_texts = []\n",
    "\n",
    "    for text in examples[\"bo\"]:\n",
    "        words = text.split('་')\n",
    "        num_masks = max(1, len(words) // 6)\n",
    "        masked_indices = sorted(random.sample(range(len(words)), num_masks))\n",
    "\n",
    "        new_text = []\n",
    "        labels = []\n",
    "        current_mask = 0\n",
    "\n",
    "        for i, word in enumerate(words):\n",
    "            if i in masked_indices:\n",
    "                if not new_text or new_text[-1] != f\"<extra_id_{current_mask}>\":\n",
    "                    new_text.append(f\"<extra_id_{current_mask}>\")\n",
    "                    labels.append(f\"<extra_id_{current_mask}> {word}\")\n",
    "                    current_mask += 1\n",
    "                else:\n",
    "                    labels[-1] += f\" {word}\"\n",
    "            else:\n",
    "                new_text.append(word)\n",
    "\n",
    "        input_texts.append(\" \".join(new_text))\n",
    "        target_texts.append(\" \".join(labels))\n",
    "\n",
    "    return {\"input_text\": input_texts, \"target_text\": target_texts}\n",
    "\n",
    "bo_train_dataset = dataset.map(bo_corrupt_text_batch, batched=True)"
   ]
  },
  {
   "cell_type": "code",
   "execution_count": null,
   "metadata": {},
   "outputs": [],
   "source": [
    "import random\n",
    "\n",
    "def en_corrupt_text_batch(examples):\n",
    "    input_texts = []\n",
    "    target_texts = []\n",
    "\n",
    "    for text in examples[\"en\"]:\n",
    "        words = text.split()\n",
    "        num_masks = max(1, len(words) // 6)\n",
    "        masked_indices = sorted(random.sample(range(len(words)), num_masks))\n",
    "\n",
    "        new_text = []\n",
    "        labels = []\n",
    "        current_mask = 0\n",
    "\n",
    "        for i, word in enumerate(words):\n",
    "            if i in masked_indices:\n",
    "                if not new_text or new_text[-1] != f\"<extra_id_{current_mask}>\":\n",
    "                    new_text.append(f\"<extra_id_{current_mask}>\")\n",
    "                    labels.append(f\"<extra_id_{current_mask}> {word}\")\n",
    "                    current_mask += 1\n",
    "                else:\n",
    "                    labels[-1] += f\" {word}\"\n",
    "            else:\n",
    "                new_text.append(word)\n",
    "\n",
    "        input_texts.append(\" \".join(new_text))\n",
    "        target_texts.append(\" \".join(labels))\n",
    "\n",
    "    return {\"input_text\": input_texts, \"target_text\": target_texts}\n",
    "\n",
    "en_train_dataset = dataset.map(en_corrupt_text_batch, batched=True)"
   ]
  },
  {
   "cell_type": "code",
   "execution_count": null,
   "metadata": {},
   "outputs": [],
   "source": [
    "from datasets import concatenate_datasets\n",
    "\n",
    "processed_dataset = concatenate_datasets([en_train_dataset, bo_train_dataset]).shuffle(seed=42)"
   ]
  },
  {
   "cell_type": "code",
   "execution_count": null,
   "metadata": {},
   "outputs": [],
   "source": [
    "def tokenize_data(example):\n",
    "    inputs = tokenizer(example[\"input_text\"], max_length=256, truncation=True, padding=\"max_length\")\n",
    "    targets = tokenizer(example[\"target_text\"], max_length=256, truncation=True, padding=\"max_length\")\n",
    "    return {\n",
    "        \"input_ids\": inputs.input_ids,\n",
    "        \"attention_mask\": inputs.attention_mask,\n",
    "        \"labels\": targets.input_ids\n",
    "    }\n",
    "\n",
    "tokenized_dataset = processed_dataset.map(tokenize_data)"
   ]
  },
  {
   "cell_type": "markdown",
   "metadata": {},
   "source": [
    "## Train the Model"
   ]
  },
  {
   "cell_type": "code",
   "execution_count": 4,
   "metadata": {},
   "outputs": [
    {
     "data": {
      "application/vnd.jupyter.widget-view+json": {
       "model_id": "0cbfd06e0cef40a890b57affeb36a330",
       "version_major": 2,
       "version_minor": 0
      },
      "text/plain": [
       "config.json:   0%|          | 0.00/1.21k [00:00<?, ?B/s]"
      ]
     },
     "metadata": {},
     "output_type": "display_data"
    },
    {
     "data": {
      "application/vnd.jupyter.widget-view+json": {
       "model_id": "d2ff48d5fe9f4b70a22b786b310478f3",
       "version_major": 2,
       "version_minor": 0
      },
      "text/plain": [
       "model.safetensors:   0%|          | 0.00/242M [00:00<?, ?B/s]"
      ]
     },
     "metadata": {},
     "output_type": "display_data"
    },
    {
     "data": {
      "application/vnd.jupyter.widget-view+json": {
       "model_id": "605c0bec46624d7ab7b0a8796b73a5c4",
       "version_major": 2,
       "version_minor": 0
      },
      "text/plain": [
       "generation_config.json:   0%|          | 0.00/147 [00:00<?, ?B/s]"
      ]
     },
     "metadata": {},
     "output_type": "display_data"
    }
   ],
   "source": [
    "from transformers import TrainingArguments, Trainer, T5ForConditionalGeneration, EarlyStoppingCallback\n",
    "\n",
    "model = T5ForConditionalGeneration.from_pretrained(\"google-t5/t5-small\", device_map='cuda:0')\n",
    "model.resize_token_embeddings(len(tokenizer))\n",
    "\n",
    "training_args = TrainingArguments(\n",
    "    output_dir=\"pretrain-checkpoints\",\n",
    "    auto_find_batch_size=True,\n",
    "    learning_rate=3e-4,\n",
    "    num_train_epochs=1\n",
    "    )\n",
    "\n",
    "trainer = Trainer(\n",
    "    model=model,\n",
    "    args=training_args,\n",
    "    train_dataset=tokenized_dataset\n",
    ")\n",
    "\n",
    "trainer.train()"
   ]
  }
 ],
 "metadata": {
  "kernelspec": {
   "display_name": ".venv",
   "language": "python",
   "name": "python3"
  },
  "language_info": {
   "codemirror_mode": {
    "name": "ipython",
    "version": 3
   },
   "file_extension": ".py",
   "mimetype": "text/x-python",
   "name": "python",
   "nbconvert_exporter": "python",
   "pygments_lexer": "ipython3",
   "version": "3.10.12"
  }
 },
 "nbformat": 4,
 "nbformat_minor": 2
}
