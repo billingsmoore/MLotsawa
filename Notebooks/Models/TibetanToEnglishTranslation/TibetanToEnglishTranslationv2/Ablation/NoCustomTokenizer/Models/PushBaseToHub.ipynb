{
 "cells": [
  {
   "cell_type": "code",
   "execution_count": 1,
   "metadata": {},
   "outputs": [],
   "source": [
    "from transformers import AutoTokenizer\n",
    "\n",
    "tokenizer = AutoTokenizer.from_pretrained('my_tokenizer')"
   ]
  },
  {
   "cell_type": "code",
   "execution_count": 2,
   "metadata": {},
   "outputs": [
    {
     "data": {
      "text/plain": [
       "CommitInfo(commit_url='https://huggingface.co/billingsmoore/mlotsawa-ground-base/commit/2ec63bc2c77409eac2d8b9c4e54090f423ac4645', commit_message='Upload tokenizer', commit_description='', oid='2ec63bc2c77409eac2d8b9c4e54090f423ac4645', pr_url=None, repo_url=RepoUrl('https://huggingface.co/billingsmoore/mlotsawa-ground-base', endpoint='https://huggingface.co', repo_type='model', repo_id='billingsmoore/mlotsawa-ground-base'), pr_revision=None, pr_num=None)"
      ]
     },
     "execution_count": 2,
     "metadata": {},
     "output_type": "execute_result"
    }
   ],
   "source": [
    "tokenizer.push_to_hub('billingsmoore/mlotsawa-ground-base')"
   ]
  },
  {
   "cell_type": "code",
   "execution_count": 3,
   "metadata": {},
   "outputs": [],
   "source": [
    "from transformers import AutoModelForSeq2SeqLM\n",
    "\n",
    "model = AutoModelForSeq2SeqLM.from_pretrained(\"base-models/finetuned-base-model\")\n"
   ]
  },
  {
   "cell_type": "code",
   "execution_count": 4,
   "metadata": {},
   "outputs": [
    {
     "data": {
      "application/vnd.jupyter.widget-view+json": {
       "model_id": "d6835b1b70804025975a11d8eacfd67c",
       "version_major": 2,
       "version_minor": 0
      },
      "text/plain": [
       "README.md:   0%|          | 0.00/5.17k [00:00<?, ?B/s]"
      ]
     },
     "metadata": {},
     "output_type": "display_data"
    },
    {
     "data": {
      "application/vnd.jupyter.widget-view+json": {
       "model_id": "7233cf500e7b4ff4b3cbd649edc5cad1",
       "version_major": 2,
       "version_minor": 0
      },
      "text/plain": [
       "model.safetensors:   0%|          | 0.00/891M [00:00<?, ?B/s]"
      ]
     },
     "metadata": {},
     "output_type": "display_data"
    },
    {
     "data": {
      "text/plain": [
       "CommitInfo(commit_url='https://huggingface.co/billingsmoore/mlotsawa-ground-base/commit/0b847195fccba95aa76b8d3a89645fd5b02cd2d9', commit_message='Upload T5ForConditionalGeneration', commit_description='', oid='0b847195fccba95aa76b8d3a89645fd5b02cd2d9', pr_url=None, repo_url=RepoUrl('https://huggingface.co/billingsmoore/mlotsawa-ground-base', endpoint='https://huggingface.co', repo_type='model', repo_id='billingsmoore/mlotsawa-ground-base'), pr_revision=None, pr_num=None)"
      ]
     },
     "execution_count": 4,
     "metadata": {},
     "output_type": "execute_result"
    }
   ],
   "source": [
    "model.push_to_hub('billingsmoore/mlotsawa-ground-base')"
   ]
  }
 ],
 "metadata": {
  "kernelspec": {
   "display_name": ".venv",
   "language": "python",
   "name": "python3"
  },
  "language_info": {
   "codemirror_mode": {
    "name": "ipython",
    "version": 3
   },
   "file_extension": ".py",
   "mimetype": "text/x-python",
   "name": "python",
   "nbconvert_exporter": "python",
   "pygments_lexer": "ipython3",
   "version": "3.12.3"
  }
 },
 "nbformat": 4,
 "nbformat_minor": 2
}
