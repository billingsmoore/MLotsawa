{
 "cells": [
  {
   "cell_type": "markdown",
   "metadata": {},
   "source": [
    "# Prep Data for Pretraining on T5"
   ]
  },
  {
   "cell_type": "code",
   "execution_count": 1,
   "metadata": {},
   "outputs": [],
   "source": [
    "from datasets import load_from_disk\n",
    "\n",
    "dataset = load_from_disk('combined-ds')\n",
    "\n",
    "dataset = dataset['train'].shuffle().select(range(500_000))"
   ]
  },
  {
   "cell_type": "markdown",
   "metadata": {},
   "source": [
    "## Corrupt Training Text\n",
    "\n",
    "T5 is trained by learning to correct missing spans in text. Thus, the training data must have spans masked for training."
   ]
  },
  {
   "cell_type": "code",
   "execution_count": 2,
   "metadata": {},
   "outputs": [
    {
     "data": {
      "application/vnd.jupyter.widget-view+json": {
       "model_id": "d0f581c463b04647a5b4f33ddf959ff6",
       "version_major": 2,
       "version_minor": 0
      },
      "text/plain": [
       "Map:   0%|          | 0/500000 [00:00<?, ? examples/s]"
      ]
     },
     "metadata": {},
     "output_type": "display_data"
    }
   ],
   "source": [
    "import random\n",
    "\n",
    "def bo_corrupt_text(example):\n",
    "    text = example[\"bo\"]\n",
    "    words = text.split()\n",
    "    num_masks = max(1, len(words) // 6)  # Mask ~15-20% of the words\n",
    "    masked_indices = sorted(random.sample(range(len(words)), num_masks))\n",
    "\n",
    "    new_text = []\n",
    "    labels = []\n",
    "    current_mask = 0\n",
    "\n",
    "    for i, word in enumerate(words):\n",
    "        if i in masked_indices:\n",
    "            if not new_text or new_text[-1] != f\"<extra_id_{current_mask}>\":\n",
    "                new_text.append(f\"<extra_id_{current_mask}>\")\n",
    "                labels.append(f\"<extra_id_{current_mask}> {word}\")\n",
    "                current_mask += 1\n",
    "            else:\n",
    "                labels[-1] += f\" {word}\"\n",
    "        else:\n",
    "            new_text.append(word)\n",
    "\n",
    "    return {\"input_text\": \" \".join(new_text), \"target_text\": \" \".join(labels)}\n",
    "\n",
    "bo_train_dataset = dataset.map(bo_corrupt_text)\n"
   ]
  },
  {
   "cell_type": "code",
   "execution_count": 3,
   "metadata": {},
   "outputs": [
    {
     "data": {
      "application/vnd.jupyter.widget-view+json": {
       "model_id": "3ac249875db14c349531efc79ff28b56",
       "version_major": 2,
       "version_minor": 0
      },
      "text/plain": [
       "Map:   0%|          | 0/500000 [00:00<?, ? examples/s]"
      ]
     },
     "metadata": {},
     "output_type": "display_data"
    }
   ],
   "source": [
    "def en_corrupt_text(example):\n",
    "    text = example[\"en\"]\n",
    "    words = text.split()\n",
    "    num_masks = max(1, len(words) // 6)  # Mask ~15-20% of the words\n",
    "    masked_indices = sorted(random.sample(range(len(words)), num_masks))\n",
    "\n",
    "    new_text = []\n",
    "    labels = []\n",
    "    current_mask = 0\n",
    "\n",
    "    for i, word in enumerate(words):\n",
    "        if i in masked_indices:\n",
    "            if not new_text or new_text[-1] != f\"<extra_id_{current_mask}>\":\n",
    "                new_text.append(f\"<extra_id_{current_mask}>\")\n",
    "                labels.append(f\"<extra_id_{current_mask}> {word}\")\n",
    "                current_mask += 1\n",
    "            else:\n",
    "                labels[-1] += f\" {word}\"\n",
    "        else:\n",
    "            new_text.append(word)\n",
    "\n",
    "    return {\"input_text\": \" \".join(new_text), \"target_text\": \" \".join(labels)}\n",
    "\n",
    "en_train_dataset = dataset.map(en_corrupt_text)"
   ]
  },
  {
   "cell_type": "code",
   "execution_count": 4,
   "metadata": {},
   "outputs": [],
   "source": [
    "from datasets import concatenate_datasets\n",
    "\n",
    "ds = concatenate_datasets([en_train_dataset, bo_train_dataset])"
   ]
  },
  {
   "cell_type": "code",
   "execution_count": 5,
   "metadata": {},
   "outputs": [
    {
     "data": {
      "application/vnd.jupyter.widget-view+json": {
       "model_id": "68f72a879cb0419395e523ac9c1c9c7d",
       "version_major": 2,
       "version_minor": 0
      },
      "text/plain": [
       "Saving the dataset (0/3 shards):   0%|          | 0/1000000 [00:00<?, ? examples/s]"
      ]
     },
     "metadata": {},
     "output_type": "display_data"
    }
   ],
   "source": [
    "ds.save_to_disk('pretraining-ds')"
   ]
  }
 ],
 "metadata": {
  "kernelspec": {
   "display_name": ".venv",
   "language": "python",
   "name": "python3"
  },
  "language_info": {
   "codemirror_mode": {
    "name": "ipython",
    "version": 3
   },
   "file_extension": ".py",
   "mimetype": "text/x-python",
   "name": "python",
   "nbconvert_exporter": "python",
   "pygments_lexer": "ipython3",
   "version": "3.10.12"
  }
 },
 "nbformat": 4,
 "nbformat_minor": 2
}
