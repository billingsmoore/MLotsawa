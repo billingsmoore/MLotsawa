{
 "cells": [
  {
   "cell_type": "markdown",
   "metadata": {},
   "source": [
    "# Prep Data for Pretraining on T5"
   ]
  },
  {
   "cell_type": "code",
   "execution_count": 1,
   "metadata": {},
   "outputs": [],
   "source": [
    "from datasets import load_from_disk\n",
    "\n",
    "dataset = load_from_disk('../RawData/raw-ds')\n",
    "\n",
    "dataset = dataset['train']"
   ]
  },
  {
   "cell_type": "markdown",
   "metadata": {},
   "source": [
    "## Corrupt Training Text\n",
    "\n",
    "T5 is trained by learning to correct missing spans in text. Thus, the training data must have spans masked for training."
   ]
  },
  {
   "cell_type": "code",
   "execution_count": 2,
   "metadata": {},
   "outputs": [],
   "source": [
    "import random\n",
    "\n",
    "def bo_corrupt_text_batch(examples):\n",
    "    input_texts = []\n",
    "    target_texts = []\n",
    "\n",
    "    for text in examples[\"bo\"]:\n",
    "        words = text.split('་')\n",
    "        num_masks = max(1, len(words) // 6)\n",
    "        masked_indices = sorted(random.sample(range(len(words)), num_masks))\n",
    "\n",
    "        new_text = []\n",
    "        labels = []\n",
    "        current_mask = 0\n",
    "\n",
    "        for i, word in enumerate(words):\n",
    "            if i in masked_indices:\n",
    "                if not new_text or new_text[-1] != f\"<extra_id_{current_mask}>\":\n",
    "                    new_text.append(f\"<extra_id_{current_mask}>\")\n",
    "                    labels.append(f\"<extra_id_{current_mask}> {word}\")\n",
    "                    current_mask += 1\n",
    "                else:\n",
    "                    labels[-1] += f\" {word}\"\n",
    "            else:\n",
    "                new_text.append(word)\n",
    "\n",
    "        input_texts.append(\" \".join(new_text))\n",
    "        target_texts.append(\" \".join(labels))\n",
    "\n",
    "    return {\"input_text\": input_texts, \"target_text\": target_texts}"
   ]
  },
  {
   "cell_type": "code",
   "execution_count": 3,
   "metadata": {},
   "outputs": [
    {
     "data": {
      "application/vnd.jupyter.widget-view+json": {
       "model_id": "c764f794d1c14b4a9197efb466f63a0a",
       "version_major": 2,
       "version_minor": 0
      },
      "text/plain": [
       "Saving the dataset (0/3 shards):   0%|          | 0/861417 [00:00<?, ? examples/s]"
      ]
     },
     "metadata": {},
     "output_type": "display_data"
    }
   ],
   "source": [
    "# Use batched=True and batch_size=N (default is fine)\n",
    "bo_train_dataset = dataset.map(bo_corrupt_text_batch, batched=True)\n",
    "bo_train_dataset.save_to_disk('Data/pieces/bo_train_dataset')"
   ]
  },
  {
   "cell_type": "code",
   "execution_count": 5,
   "metadata": {},
   "outputs": [
    {
     "data": {
      "text/plain": [
       "{'bo': 'བླ་མ་ལ་ཞུས་པས། མལ་གྱིས་བསེ་མགོན་འདིས་རྒྱ་གར་དུའང་མཐུ་རྩལ་འགྲན་མེད་བྱེད།',\n",
       " 'en': 'For this reason Lama Sachen said, “The forcefulness of Mal’s Skin Mask Guardian is unrivaled even in India.',\n",
       " 'input_text': 'བླ <extra_id_0> ལ ཞུས པས། མལ གྱིས བསེ མགོན འདིས རྒྱ གར དུའང མཐུ <extra_id_1> འགྲན མེད བྱེད།',\n",
       " 'target_text': '<extra_id_0> མ <extra_id_1> རྩལ'}"
      ]
     },
     "execution_count": 5,
     "metadata": {},
     "output_type": "execute_result"
    }
   ],
   "source": [
    "bo_train_dataset[0]"
   ]
  },
  {
   "cell_type": "code",
   "execution_count": 6,
   "metadata": {},
   "outputs": [],
   "source": [
    "import random\n",
    "\n",
    "def en_corrupt_text_batch(examples):\n",
    "    input_texts = []\n",
    "    target_texts = []\n",
    "\n",
    "    for text in examples[\"en\"]:\n",
    "        words = text.split()\n",
    "        num_masks = max(1, len(words) // 6)\n",
    "        masked_indices = sorted(random.sample(range(len(words)), num_masks))\n",
    "\n",
    "        new_text = []\n",
    "        labels = []\n",
    "        current_mask = 0\n",
    "\n",
    "        for i, word in enumerate(words):\n",
    "            if i in masked_indices:\n",
    "                if not new_text or new_text[-1] != f\"<extra_id_{current_mask}>\":\n",
    "                    new_text.append(f\"<extra_id_{current_mask}>\")\n",
    "                    labels.append(f\"<extra_id_{current_mask}> {word}\")\n",
    "                    current_mask += 1\n",
    "                else:\n",
    "                    labels[-1] += f\" {word}\"\n",
    "            else:\n",
    "                new_text.append(word)\n",
    "\n",
    "        input_texts.append(\" \".join(new_text))\n",
    "        target_texts.append(\" \".join(labels))\n",
    "\n",
    "    return {\"input_text\": input_texts, \"target_text\": target_texts}"
   ]
  },
  {
   "cell_type": "code",
   "execution_count": 7,
   "metadata": {},
   "outputs": [
    {
     "data": {
      "application/vnd.jupyter.widget-view+json": {
       "model_id": "e69a48c7608a41988552d33e864a7f73",
       "version_major": 2,
       "version_minor": 0
      },
      "text/plain": [
       "Saving the dataset (0/3 shards):   0%|          | 0/861417 [00:00<?, ? examples/s]"
      ]
     },
     "metadata": {},
     "output_type": "display_data"
    }
   ],
   "source": [
    "# Use batched=True and batch_size=N (default is fine)\n",
    "en_train_dataset = dataset.map(en_corrupt_text_batch, batched=True)\n",
    "en_train_dataset.save_to_disk('Data/pieces/en_train_dataset')"
   ]
  },
  {
   "cell_type": "code",
   "execution_count": 8,
   "metadata": {},
   "outputs": [
    {
     "data": {
      "text/plain": [
       "{'bo': 'བླ་མ་ལ་ཞུས་པས། མལ་གྱིས་བསེ་མགོན་འདིས་རྒྱ་གར་དུའང་མཐུ་རྩལ་འགྲན་མེད་བྱེད།',\n",
       " 'en': 'For this reason Lama Sachen said, “The forcefulness of Mal’s Skin Mask Guardian is unrivaled even in India.',\n",
       " 'input_text': '<extra_id_0> this reason Lama Sachen <extra_id_1> “The forcefulness of Mal’s Skin Mask Guardian is unrivaled even in <extra_id_2>',\n",
       " 'target_text': '<extra_id_0> For <extra_id_1> said, <extra_id_2> India.'}"
      ]
     },
     "execution_count": 8,
     "metadata": {},
     "output_type": "execute_result"
    }
   ],
   "source": [
    "en_train_dataset[0]"
   ]
  },
  {
   "cell_type": "markdown",
   "metadata": {},
   "source": [
    "## Concatenate Dataset Pieces"
   ]
  },
  {
   "cell_type": "code",
   "execution_count": 9,
   "metadata": {},
   "outputs": [],
   "source": [
    "from datasets import load_from_disk\n",
    "\n",
    "en_train_dataset = load_from_disk('Data/pieces/en_train_dataset')\n",
    "bo_train_dataset = load_from_disk('Data/pieces/bo_train_dataset')"
   ]
  },
  {
   "cell_type": "code",
   "execution_count": 10,
   "metadata": {},
   "outputs": [],
   "source": [
    "from datasets import concatenate_datasets\n",
    "\n",
    "ds = concatenate_datasets([en_train_dataset, bo_train_dataset]).shuffle(seed=42)"
   ]
  },
  {
   "cell_type": "code",
   "execution_count": 11,
   "metadata": {},
   "outputs": [
    {
     "data": {
      "application/vnd.jupyter.widget-view+json": {
       "model_id": "4dc185b33ae94371b30e7944ab44558d",
       "version_major": 2,
       "version_minor": 0
      },
      "text/plain": [
       "Saving the dataset (0/5 shards):   0%|          | 0/1722834 [00:00<?, ? examples/s]"
      ]
     },
     "metadata": {},
     "output_type": "display_data"
    }
   ],
   "source": [
    "ds.save_to_disk('Data/pretraining-ds')"
   ]
  }
 ],
 "metadata": {
  "kernelspec": {
   "display_name": ".venv",
   "language": "python",
   "name": "python3"
  },
  "language_info": {
   "codemirror_mode": {
    "name": "ipython",
    "version": 3
   },
   "file_extension": ".py",
   "mimetype": "text/x-python",
   "name": "python",
   "nbconvert_exporter": "python",
   "pygments_lexer": "ipython3",
   "version": "3.12.3"
  }
 },
 "nbformat": 4,
 "nbformat_minor": 2
}
