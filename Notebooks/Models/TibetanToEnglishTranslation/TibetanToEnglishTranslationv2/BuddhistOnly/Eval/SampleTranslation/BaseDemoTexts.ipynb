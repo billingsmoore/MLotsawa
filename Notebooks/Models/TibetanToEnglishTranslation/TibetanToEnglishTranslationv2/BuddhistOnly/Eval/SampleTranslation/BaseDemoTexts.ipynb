{
 "cells": [
  {
   "cell_type": "markdown",
   "id": "11d8bc52",
   "metadata": {},
   "source": [
    "# Sample Translations"
   ]
  },
  {
   "cell_type": "markdown",
   "id": "d7a95e57",
   "metadata": {},
   "source": [
    "## Advice on Bending Mind Toward the Good by Khenchen Ngawang Palzang\n",
    "\n",
    "**INPUT**\n",
    "\n",
    "གྲུབ་བརྒྱའི་སྤྱི་མེས་པཎ་ཆེན་བི་མ་ལ། །\n",
    "\n",
    "བསམ་བཞིན་སྤྲུལ་པའི་ཟློས་གར་ཉེར་བཟུང་བ། །\n",
    "\n",
    "རྒྱལ་བའི་དབང་པོ་ཀློང་ཆེན་རབ་འབྱམས་པ། །\n",
    "\n",
    "འདི་ཙམ་མ་ཡིན་ཚེ་རབས་གཏན་གྱི་སྐྱབས། ། \n",
    "\n",
    "**TARGET OUTPUT**\n",
    "\n",
    "Grandsire of a hundred siddhas—great scholar, Vimalamitra,\n",
    "\n",
    "And you who fully embraced the spectacle of intentional emanation,\n",
    "\n",
    "Lord of conquerors, Longchen Rabjam—\n",
    "\n",
    "You are my unfailing refuge; not just now, but in the concatenation of my lives. \n",
    "\n",
    "**Machine Translation**\n",
    "\n",
    "['Great paṇḍita Vimalamitra, forefather of hundreds of siddhas,',\n",
    " 'Manifesting in the form of a play,',\n",
    " 'Lord of the victorious ones, Longchen Rabjam,',\n",
    " 'Not just this but the constant refuge throughout all my lives,']"
   ]
  },
  {
   "cell_type": "code",
   "execution_count": 1,
   "id": "77cf9d58",
   "metadata": {},
   "outputs": [
    {
     "name": "stderr",
     "output_type": "stream",
     "text": [
      "/home/j/Documents/MLotsawa/.venv/lib/python3.10/site-packages/tqdm/auto.py:21: TqdmWarning: IProgress not found. Please update jupyter and ipywidgets. See https://ipywidgets.readthedocs.io/en/stable/user_install.html\n",
      "  from .autonotebook import tqdm as notebook_tqdm\n",
      "2025-05-28 17:23:30.024129: I tensorflow/core/util/port.cc:153] oneDNN custom operations are on. You may see slightly different numerical results due to floating-point round-off errors from different computation orders. To turn them off, set the environment variable `TF_ENABLE_ONEDNN_OPTS=0`.\n",
      "2025-05-28 17:23:30.032659: E external/local_xla/xla/stream_executor/cuda/cuda_fft.cc:467] Unable to register cuFFT factory: Attempting to register factory for plugin cuFFT when one has already been registered\n",
      "WARNING: All log messages before absl::InitializeLog() is called are written to STDERR\n",
      "E0000 00:00:1748467410.042603    7462 cuda_dnn.cc:8579] Unable to register cuDNN factory: Attempting to register factory for plugin cuDNN when one has already been registered\n",
      "E0000 00:00:1748467410.045527    7462 cuda_blas.cc:1407] Unable to register cuBLAS factory: Attempting to register factory for plugin cuBLAS when one has already been registered\n",
      "W0000 00:00:1748467410.053122    7462 computation_placer.cc:177] computation placer already registered. Please check linkage and avoid linking the same target more than once.\n",
      "W0000 00:00:1748467410.053137    7462 computation_placer.cc:177] computation placer already registered. Please check linkage and avoid linking the same target more than once.\n",
      "W0000 00:00:1748467410.053138    7462 computation_placer.cc:177] computation placer already registered. Please check linkage and avoid linking the same target more than once.\n",
      "W0000 00:00:1748467410.053139    7462 computation_placer.cc:177] computation placer already registered. Please check linkage and avoid linking the same target more than once.\n",
      "2025-05-28 17:23:30.055931: I tensorflow/core/platform/cpu_feature_guard.cc:210] This TensorFlow binary is optimized to use available CPU instructions in performance-critical operations.\n",
      "To enable the following instructions: AVX2 AVX_VNNI FMA, in other operations, rebuild TensorFlow with the appropriate compiler flags.\n",
      "I0000 00:00:1748467411.685623    7462 gpu_device.cc:2019] Created device /job:localhost/replica:0/task:0/device:GPU:0 with 4156 MB memory:  -> device: 0, name: NVIDIA GeForce RTX 4050 Laptop GPU, pci bus id: 0000:01:00.0, compute capability: 8.9\n",
      "All PyTorch model weights were used when initializing TFT5ForConditionalGeneration.\n",
      "\n",
      "All the weights of TFT5ForConditionalGeneration were initialized from the PyTorch model.\n",
      "If your task is similar to the task the model of the checkpoint was trained on, you can already use TFT5ForConditionalGeneration for predictions without further training.\n",
      "/home/j/Documents/MLotsawa/.venv/lib/python3.10/site-packages/transformers/pipelines/__init__.py:1156: UserWarning: \"translation\" task was used, instead of \"translation_XX_to_YY\", defaulting to \"translation_bo_to_en\"\n",
      "  warnings.warn(\n",
      "Device set to use 0\n"
     ]
    }
   ],
   "source": [
    "from transformers import pipeline\n",
    "\n",
    "pipe = pipeline('translation', 'billingsmoore/mlotsawa-ground-base')"
   ]
  },
  {
   "cell_type": "code",
   "execution_count": 2,
   "id": "382f191c",
   "metadata": {},
   "outputs": [
    {
     "name": "stderr",
     "output_type": "stream",
     "text": [
      "WARNING: All log messages before absl::InitializeLog() is called are written to STDERR\n",
      "I0000 00:00:1748467414.843668    7538 service.cc:152] XLA service 0x790ea8003b50 initialized for platform CUDA (this does not guarantee that XLA will be used). Devices:\n",
      "I0000 00:00:1748467414.843684    7538 service.cc:160]   StreamExecutor device (0): NVIDIA GeForce RTX 4050 Laptop GPU, Compute Capability 8.9\n",
      "2025-05-28 17:23:34.851744: I tensorflow/compiler/mlir/tensorflow/utils/dump_mlir_util.cc:269] disabling MLIR crash reproducer, set env var `MLIR_CRASH_REPRODUCER_DIRECTORY` to enable.\n",
      "I0000 00:00:1748467414.867501    7538 cuda_dnn.cc:529] Loaded cuDNN version 90300\n",
      "I0000 00:00:1748467414.925746    7538 device_compiler.h:188] Compiled cluster using XLA!  This line is logged at most once for the lifetime of the process.\n"
     ]
    },
    {
     "data": {
      "text/plain": [
       "['Great paṇḍita Vimalamitra, forefather of a hundred siddhas,',\n",
       " 'Intentionally you took on the dance of your emanation,',\n",
       " 'Lord of the victorious ones, Longchen Rabjam,',\n",
       " 'Not just this but all our lives to come,']"
      ]
     },
     "execution_count": 2,
     "metadata": {},
     "output_type": "execute_result"
    }
   ],
   "source": [
    "input = [\"གྲུབ་བརྒྱའི་སྤྱི་མེས་པཎ་ཆེན་བི་མ་ལ། །\", \"བསམ་བཞིན་སྤྲུལ་པའི་ཟློས་གར་ཉེར་བཟུང་བ། །\", \"རྒྱལ་བའི་དབང་པོ་ཀློང་ཆེན་རབ་འབྱམས་པ། །\", \"འདི་ཙམ་མ་ཡིན་ཚེ་རབས་གཏན་གྱི་སྐྱབས། །\"]\n",
    "\n",
    "output = pipe(input)\n",
    "\n",
    "translation = [elt['translation_text'] for elt in output]\n",
    "\n",
    "translation"
   ]
  },
  {
   "cell_type": "markdown",
   "id": "4c985249",
   "metadata": {},
   "source": [
    "## Treasury of Supreme Blessings: A Guru Yoga by Jamyang Khyentse Chökyi Lodrö\n",
    "\n",
    "**INPUT**\n",
    "\n",
    "བདག་སོགས་འགྲོ་བ་སེམས་ཅན་རྣམས།  །\n",
    "\n",
    "བླ་མ་མཆོག་ལ་སྐྱབས་སུ་མཆི།  །\n",
    "\n",
    "འགྲོ་རྣམས་བདེ་ལྡན་སྡུག་བསྔལ་གཞོམ།  །\n",
    "\n",
    "སངས་རྒྱས་ས་ལ་འགོད་པར་བགྱི།  །\n",
    "\n",
    "**TARGET OUTPUT**\n",
    "\n",
    "Together with other sentient beings,\n",
    "\n",
    "I take refuge in the supreme guru.\n",
    "\n",
    "So that beings may have happiness and conquer suffering,\n",
    "\n",
    "I shall establish them at the level of buddhahood.\n",
    "\n",
    "\n",
    "**Machine Translation**\n",
    "\n",
    "['May I and all other sentient beings,',\n",
    " 'In the supreme guru, I take refuge.',\n",
    " 'May all beings enjoy happiness and overcome suffering.',\n",
    " 'And establish them in the level of buddhahood.']"
   ]
  },
  {
   "cell_type": "code",
   "execution_count": 3,
   "id": "94101675",
   "metadata": {},
   "outputs": [
    {
     "data": {
      "text/plain": [
       "['May I and others, all sentient beings,',\n",
       " 'In the supreme guru, I take refuge.',\n",
       " 'Beings enjoy happiness and conquer suffering,',\n",
       " 'To the level of buddhahood.']"
      ]
     },
     "execution_count": 3,
     "metadata": {},
     "output_type": "execute_result"
    }
   ],
   "source": [
    "input = [\"བདག་སོགས་འགྲོ་བ་སེམས་ཅན་རྣམས།  །\", \"བླ་མ་མཆོག་ལ་སྐྱབས་སུ་མཆི།  །\", \"འགྲོ་རྣམས་བདེ་ལྡན་སྡུག་བསྔལ་གཞོམ།  །\", \"སངས་རྒྱས་ས་ལ་འགོད་པར་བགྱི།  །\"]\n",
    "\n",
    "output = pipe(input)\n",
    "\n",
    "translation = [elt['translation_text'] for elt in output]\n",
    "\n",
    "translation"
   ]
  },
  {
   "cell_type": "markdown",
   "id": "a0b07d96",
   "metadata": {},
   "source": [
    "## Prayer to the Three Roots from A Shower of Precious Blessings by Chokgyur Dechen Lingpa\n",
    "\n",
    "**INPUT**\n",
    "\n",
    "དུས་གསུམ་རྒྱལ་བའི་བཞུགས་གནས་སྐུ་གསུམ་ཞིང་། །\n",
    "\n",
    "མཁའ་སྤྱོད་ཉེར་བཞི་དབང་ཕུག་ལ་སོགས་ལ། །\n",
    "\n",
    "བཞུགས་པའི་དགོངས་བརྡ་སྙན་བརྒྱུད་རིག་འཛིན་ཚོགས། །\n",
    "\n",
    "ཡི་དམ་རྒྱལ་བ་ཞི་ཁྲོ་རབ་འབྱམས་དང་། །\n",
    "\n",
    "དཔའ་བོ་མཁའ་འགྲོ་དམ་ཅན་རྒྱ་མཚོ་ལ། །\n",
    "\n",
    "གསོལ་བ་འདེབས་སོ་འགལ་རྐྱེན་བར་ཆད་སོལ། །\n",
    "\n",
    "བྱང་ཆུབ་ལམ་མཐུན་བསམ་པ་ལྷུན་གྱིས་འགྲུབ། །\n",
    "\n",
    "ནམ་ཞིག་སྐུ་གསུམ་རྒྱལ་ས་ཟིན་པར་ཤོག །\n",
    " \n",
    "**TARGET OUTPUT**\n",
    "\n",
    "All the victors of the three times, in their abode, the trikāya realms;\n",
    "\n",
    "The host of vidyādharas of the wisdom, sign, and oral lineages\n",
    "\n",
    "In the twenty-four celestial realms of Magnetizing, and so forth;\n",
    "\n",
    "The boundless host of victorious peaceful and wrathful yidams;\n",
    "\n",
    "The ocean of ḍākas, ḍākinīs, and oath-bound ones—\n",
    "\n",
    "I pray to you all! Remove adversity and obstacles!\n",
    "\n",
    "Spontaneously fulfill our wishes in accordance with the path of awakening!\n",
    "\n",
    "Before long, may we capture the kingdom of the three kāyas!\n",
    "\n",
    "**Machine Translation**\n",
    "\n",
    "['The abode of the victorious ones of the three times, the three kāyas,',\n",
    " 'In the twenty-four Khecarī cave and the rest,',\n",
    " 'Vidyādharas of the mind, symbols, and whispered lineage,',\n",
    " 'Infinite peaceful and wrathful yidam deities,',\n",
    " 'Ocean of ḍākas, ḍākinīs and oath-bound ones,',\n",
    " 'To you I pray: dispel all adversity and obstacles!',\n",
    " 'May the aspirations that accord with the path of awakening be spontaneously accomplished.',\n",
    " 'At some point, may I capture the kingdom of the three kāyas.']"
   ]
  },
  {
   "cell_type": "code",
   "execution_count": 4,
   "id": "0f3c0e0c",
   "metadata": {},
   "outputs": [
    {
     "data": {
      "text/plain": [
       "['The dwelling places of the victorious ones of the three times, realms of the three kāyas,',\n",
       " 'The twenty-four celestial ḍākinīs, Wangmo and the rest,',\n",
       " 'And hosts of vidyādharas of the wisdom mind, sign and aural lineages,',\n",
       " 'Infinite victorious ones, peaceful and wrathful,',\n",
       " 'Oceanic hosts of vīras, ḍākinīs, and oath-bound guardians,',\n",
       " 'To you I pray: dispel all obstacles and adversities!',\n",
       " 'May all our aspirations that accord with the path to awakening be spontaneously fulfilled,',\n",
       " 'So that we may capture the victorious state of the three kāyas!']"
      ]
     },
     "execution_count": 4,
     "metadata": {},
     "output_type": "execute_result"
    }
   ],
   "source": [
    "input = [\"དུས་གསུམ་རྒྱལ་བའི་བཞུགས་གནས་སྐུ་གསུམ་ཞིང་། །\", \"མཁའ་སྤྱོད་ཉེར་བཞི་དབང་ཕུག་ལ་སོགས་ལ། །\", \"བཞུགས་པའི་དགོངས་བརྡ་སྙན་བརྒྱུད་རིག་འཛིན་ཚོགས། །\", \"ཡི་དམ་རྒྱལ་བ་ཞི་ཁྲོ་རབ་འབྱམས་དང་། །\",\n",
    "        \"དཔའ་བོ་མཁའ་འགྲོ་དམ་ཅན་རྒྱ་མཚོ་ལ། །\", \"གསོལ་བ་འདེབས་སོ་འགལ་རྐྱེན་བར་ཆད་སོལ། །\", \"བྱང་ཆུབ་ལམ་མཐུན་བསམ་པ་ལྷུན་གྱིས་འགྲུབ། །\", \"ནམ་ཞིག་སྐུ་གསུམ་རྒྱལ་ས་ཟིན་པར་ཤོག །\"]\n",
    "\n",
    "output = pipe(input)\n",
    "\n",
    "translation = [elt['translation_text'] for elt in output]\n",
    "\n",
    "translation"
   ]
  },
  {
   "cell_type": "markdown",
   "id": "39c20089",
   "metadata": {},
   "source": [
    "## Counsel to Tsamdowa Parong Lhawang by Khenchen Ngawang Palzang | Translated by Joseph McClellan and NT Ninjyed, 2025. \n",
    "\n",
    "**Original**\n",
    "\n",
    "༄༅། །ཙམ་མདོ་བ་པ་རོང་ལྷ་དབང་ལ་གདམས་པ། །\n",
    "\n",
    "ཀྱེ་མ་བུ་ངན་མགོ་བོ་ཆེ། །\n",
    "\n",
    "འདི་སྣང་ཞེན་པའི་གདོས་ཐག་འདིས། །\n",
    "\n",
    "ཐོག་མེད་དུས་ནས་འཚེ་འཚེ་ནས། །\n",
    "\n",
    "སྣང་བ་ཡུལ་ཕྱིར་མ་འབྲང་བར། །\n",
    "\n",
    "བློ་སྣ་ནང་དུ་ཁུག་ཅིག་ཨཾ། །\n",
    "\n",
    "\n",
    "རྟག་འཛིན་ཕྱི་ཚེས་གྲབ་ཤོམས་འདིས། །\n",
    "\n",
    "ཆོས་ཀྱི་བར་ཆད་འདི་ཆེ་བས། །\n",
    "\n",
    "མི་རྟག་འཆི་བའི་བློ་སྣ་བསྟུངས། །\n",
    "\n",
    "རྒྱག་ཕྱེ་ཆོས་ལ་ཚུད་ཅིག་ཨཾ། །\n",
    "\n",
    "བདག་འཛིན་གདུག་པའི་འགོང་བོ་འདིས། །\n",
    "\n",
    "རང་གཞན་ཕུང་ལ་སྦྱོར་སྦྱོར་ནས། །\n",
    "\n",
    "ད་ནི་འདི་ལ་སྐྱོན་བལྟས་ཏེ། །\n",
    "\n",
    "ཡུལ་ཕུད་རྗེས་འདོན་བྱེད་པ་ཡིས། །\n",
    "\n",
    "བྱང་སེམས་རྒྱུད་ལ་བརྟེན་ཅིག་ཨཾ། །\n",
    "\n",
    "ཧ་ཅང་བཟང་པོ་མ་སྔ་བར། །\n",
    "\n",
    "དྲན་ཤེས་བག་ཡོད་སྐྱ་བར་ནས། །\n",
    "\n",
    "སྡེ་དཀྲུགས་ས་བརྫད་མ་བྱེད་པར། །\n",
    "\n",
    "འབུངས་གསུམ་ཆོས་ལ་ཐོན་ཅིག་ཨཾ། །\n",
    "\n",
    "ཞལ་གདམས་ཨཾ་ཡིག་བཞི་པ་འདི། །\n",
    "\n",
    "བླ་མ་ངག་དབང་དཔལ་བཟང་གིས། །\n",
    "\n",
    "སློབ་མ་མིའུ་༼ཙམ་མདོ་བ་པ་རོང་ལྷ་དབང་མཆན་༽ཐུང་ལ་བསྐུར། །\n",
    "\n",
    "འདི་ཕྱིར་དགེ་བའི་བཀྲ་ཤིས་ཤོག །\n",
    "\n",
    "**Human Translation**\n",
    "\n",
    "Kye ma! Hey! My errant child, with your inflated head—\n",
    "\n",
    "The mooring lines of your fixation on the world’s appearances,\n",
    "\n",
    "Through beginningless time, over and over, have caused you pain.\n",
    "\n",
    "Now, without chasing after outer, objective appearances,\n",
    "\n",
    "Turn your attention inward.\n",
    "\n",
    "Hey! Believing things last, arranging for the future, these plans of yours—\n",
    "\n",
    "These are enormous obstacles to the Dharma.\n",
    "\n",
    "So, intensify your attention to impermanence and death\n",
    "\n",
    "And dedicate your resources to the Dharma!\n",
    "\n",
    "Hey! This pernicious demon of self-absorption\n",
    "\n",
    "Has yoked you and others to disaster, again and again.\n",
    "\n",
    "Here and now, see its flaws,\n",
    "\n",
    "And, banishing it to exile,\n",
    "\n",
    "Promote bodhicitta in your mindstream.\n",
    "\n",
    "Hey! Getting your act together cannot come soon enough.\n",
    "\n",
    "Hew to mindfulness and circumspection.\n",
    "\n",
    "Without sowing discord and stirring up trouble,\n",
    "\n",
    "Commit yourself wholeheartedly to Dharma!\n",
    "\n",
    "This oral instruction based on four \"heys!\"\n",
    "\n",
    "Was given by Lama Ngawang Palzang\n",
    "\n",
    "To his stunted student, Tsamdo Parong Lhawang.\n",
    "\n",
    "May there be auspicious goodness in this and all his future lives. \n",
    "\n",
    "**Machine Translation**\n",
    "\n",
    "The instruction was given to Langpa Lhawang.\n",
    "\n",
    "Alas, you are a bad child.\n",
    "\n",
    "The ropes of attachment to this life,\n",
    "\n",
    "From time without beginning,\n",
    "\n",
    "Do not pursue sensory appearances,\n",
    "\n",
    "Turn your mind inward. aṃ.\n",
    "\n",
    "Through this pretext of clinging to permanence,\n",
    "\n",
    "This is a great obstacle to the Dharma.\n",
    "\n",
    "Rely on impermanence and death,\n",
    "\n",
    "Enter the Dharma into dust, aṃ!\n",
    "\n",
    "These malevolent demons of self-grasping,\n",
    "\n",
    "Help me and others to ruin me,\n",
    "\n",
    "Now that I have seen this as a fault,\n",
    "\n",
    "By reciting the first portion of the land,\n",
    "\n",
    "Supported by bodhicitta, aṃ.\n",
    "\n",
    "Is not too late, too late.\n",
    "\n",
    "With mindfulness, vigilance and conscientiousness,\n",
    "\n",
    "Do not let dissension be overcome,\n",
    "\n",
    "Bring forth the three kinds of teachings from the Dharma—aṃ!\n",
    "\n",
    "This instruction of the four syllable AṂ,\n",
    "\n",
    "Guru Ngawang Palzang,\n",
    "\n",
    "The disciple Manusulu was sent to Rongpa Lhadede in short.\n",
    "\n",
    "May there be the auspiciousness of virtue here and hereafter!"
   ]
  },
  {
   "cell_type": "code",
   "execution_count": 5,
   "id": "d70fdcc2",
   "metadata": {},
   "outputs": [
    {
     "data": {
      "text/plain": [
       "['Instruction to Rendawa Rong Lhawang',\n",
       " 'Kye-ma!',\n",
       " 'Through the tight ropes of attachment to this life,',\n",
       " 'May all who harm me throughout beginningless time,',\n",
       " 'Without chasing after sensory appearances,',\n",
       " 'Turn my mind inward, aḥ!',\n",
       " 'So that this outer and inner world of clinging to permanence is arranged,',\n",
       " 'This is an obstacle to the Dharma.',\n",
       " 'And the various thoughts of impermanence and death are cast aside.',\n",
       " 'Enter the Dharma in all its width!',\n",
       " 'And this demon of self-clinging,',\n",
       " 'And bring ruin to ourselves and others,',\n",
       " 'Now, seeing the faults in this,',\n",
       " 'By reciting the select portion of the land,',\n",
       " 'Rely on bodhicitta, aṃ!',\n",
       " 'Do not be excessively good,',\n",
       " 'With mindfulness, vigilance and conscientiousness,',\n",
       " 'Do not torment with disturbances.',\n",
       " 'Come forth from the Dharma with threefold exertion, aḥ!',\n",
       " 'This oral instruction, the fourth syllable AṂ,',\n",
       " 'Lama Ngawang Palzang',\n",
       " 'He gave the disciple Mu mi rdo rje Rong lha to Khari Wang.',\n",
       " 'And may all be auspicious, for this and future lives!']"
      ]
     },
     "execution_count": 5,
     "metadata": {},
     "output_type": "execute_result"
    }
   ],
   "source": [
    "\n",
    "input = [\"༄༅། །ཙམ་མདོ་བ་པ་རོང་ལྷ་དབང་ལ་གདམས་པ། །\", \"ཀྱེ་མ་བུ་ངན་མགོ་བོ་ཆེ། །\", \"འདི་སྣང་ཞེན་པའི་གདོས་ཐག་འདིས། །\", \"ཐོག་མེད་དུས་ནས་འཚེ་འཚེ་ནས། །\", \"སྣང་བ་ཡུལ་ཕྱིར་མ་འབྲང་བར། །\",\n",
    "        \"བློ་སྣ་ནང་དུ་ཁུག་ཅིག་ཨཾ། །\",\"རྟག་འཛིན་ཕྱི་ཚེས་གྲབ་ཤོམས་འདིས། །\",\"ཆོས་ཀྱི་བར་ཆད་འདི་ཆེ་བས། །\", \"མི་རྟག་འཆི་བའི་བློ་སྣ་བསྟུངས། །\", \"རྒྱག་ཕྱེ་ཆོས་ལ་ཚུད་ཅིག་ཨཾ། །\",\n",
    "        \"བདག་འཛིན་གདུག་པའི་འགོང་བོ་འདིས། །\", \"རང་གཞན་ཕུང་ལ་སྦྱོར་སྦྱོར་ནས། །\", \"ད་ནི་འདི་ལ་སྐྱོན་བལྟས་ཏེ། །\", \"ཡུལ་ཕུད་རྗེས་འདོན་བྱེད་པ་ཡིས། །\", \"བྱང་སེམས་རྒྱུད་ལ་བརྟེན་ཅིག་ཨཾ། །\",\n",
    "        \"ཧ་ཅང་བཟང་པོ་མ་སྔ་བར། །\", \"དྲན་ཤེས་བག་ཡོད་སྐྱ་བར་ནས། །\", \"སྡེ་དཀྲུགས་ས་བརྫད་མ་བྱེད་པར། །\", \"འབུངས་གསུམ་ཆོས་ལ་ཐོན་ཅིག་ཨཾ། །\", \"ཞལ་གདམས་ཨཾ་ཡིག་བཞི་པ་འདི། །\", \n",
    "        \"བླ་མ་ངག་དབང་དཔལ་བཟང་གིས། །\", \"སློབ་མ་མིའུ་༼ཙམ་མདོ་བ་པ་རོང་ལྷ་དབང་མཆན་༽ཐུང་ལ་བསྐུར། །\", \"འདི་ཕྱིར་དགེ་བའི་བཀྲ་ཤིས་ཤོག །\"]\n",
    "\n",
    "output = pipe(input)\n",
    "\n",
    "translation = [elt['translation_text'] for elt in output]\n",
    "\n",
    "translation"
   ]
  },
  {
   "cell_type": "code",
   "execution_count": 6,
   "id": "ce7516f0",
   "metadata": {},
   "outputs": [
    {
     "name": "stdout",
     "output_type": "stream",
     "text": [
      "Instruction to Rendawa Rong Lhawang\n",
      "Kye-ma!\n",
      "Through the tight ropes of attachment to this life,\n",
      "May all who harm me throughout beginningless time,\n",
      "Without chasing after sensory appearances,\n",
      "Turn my mind inward, aḥ!\n",
      "So that this outer and inner world of clinging to permanence is arranged,\n",
      "This is an obstacle to the Dharma.\n",
      "And the various thoughts of impermanence and death are cast aside.\n",
      "Enter the Dharma in all its width!\n",
      "And this demon of self-clinging,\n",
      "And bring ruin to ourselves and others,\n",
      "Now, seeing the faults in this,\n",
      "By reciting the select portion of the land,\n",
      "Rely on bodhicitta, aṃ!\n",
      "Do not be excessively good,\n",
      "With mindfulness, vigilance and conscientiousness,\n",
      "Do not torment with disturbances.\n",
      "Come forth from the Dharma with threefold exertion, aḥ!\n",
      "This oral instruction, the fourth syllable AṂ,\n",
      "Lama Ngawang Palzang\n",
      "He gave the disciple Mu mi rdo rje Rong lha to Khari Wang.\n",
      "And may all be auspicious, for this and future lives!\n"
     ]
    }
   ],
   "source": [
    "print('\\n'.join(translation))"
   ]
  },
  {
   "cell_type": "markdown",
   "id": "fd8ac480",
   "metadata": {},
   "source": [
    "## Prayer to Śākyamuni1 by Tersé Drimé Özer | Translated by Joseph McClellan, 2025.\n",
    "\n",
    " \n",
    "\n",
    "ཉོན་མོངས་བདུད་ཀྱི་སྡེ་ཚོགས་བཅོམ༔\n",
    "བསོད་ནམས་ཡེ་ཤེས་ཕུང་པོར་ལྡན༔\n",
    "སྲིད་དང་ཞི་བའི་མཐའ་ལས་འདས༔\n",
    "ཤཱཀྱའི་ཏོག་ལ་གསོལ་བ་འདེབས༔\n",
    "འཇིགས་བརྒྱད་ཞི་བར་བྱིན་གྱིས་རློབས༔\n",
    "\n",
    "You vanquished the hordes of the māra of afflictions,\n",
    "Endowed yourself with masses of merit and wisdom,\n",
    "And transcended the limitations of saṃsāra and nirvāṇa.\n",
    "To you, crown jewel of the Śākyas, I pray.\n",
    "Please bless me to overcome the eight fears.\n",
    "\n",
    "\n",
    "སྐྱེ་དང་ཚེ་རབས་ཐམས་ཅད་དུ༔\n",
    "སླར་ཡང་ལྷག་པའི་ལུས་ཐོབ་ནས༔\n",
    "འགྲོ་རྣམས་སྡུག་བསྔལ་ལས་གྲོལ་བའི༔\n",
    "དེད་དཔོན་མཆོག་ཏུ་བདག་གྱུར་ཤོག༔\n",
    "\n",
    "In all my future lives,\n",
    "May I attain an exceptional human body\n",
    "And become a supreme guide for beings,\n",
    "Freeing them from all their pain."
   ]
  },
  {
   "cell_type": "code",
   "execution_count": 12,
   "id": "a2f67018",
   "metadata": {},
   "outputs": [
    {
     "name": "stderr",
     "output_type": "stream",
     "text": [
      "All PyTorch model weights were used when initializing TFT5ForConditionalGeneration.\n",
      "\n",
      "All the weights of TFT5ForConditionalGeneration were initialized from the PyTorch model.\n",
      "If your task is similar to the task the model of the checkpoint was trained on, you can already use TFT5ForConditionalGeneration for predictions without further training.\n",
      "Device set to use 0\n"
     ]
    }
   ],
   "source": [
    "from transformers import pipeline\n",
    "\n",
    "pipe = pipeline('translation', 'billingsmoore/mlotsawa-ground-base')"
   ]
  },
  {
   "cell_type": "code",
   "execution_count": 13,
   "id": "41f38892",
   "metadata": {},
   "outputs": [
    {
     "data": {
      "text/plain": [
       "['Destroy the demonic legions of destructive emotions.',\n",
       " 'The aggregates of merit and wisdom',\n",
       " 'Beyond the extremes of existence and quiescence,',\n",
       " 'To Crest of the Śākyas I pray!',\n",
       " 'Inspire me to pacify the eight fears!']"
      ]
     },
     "execution_count": 13,
     "metadata": {},
     "output_type": "execute_result"
    }
   ],
   "source": [
    "input = [\"ཉོན་མོངས་བདུད་ཀྱི་སྡེ་ཚོགས་བཅོམ༔\", \"བསོད་ནམས་ཡེ་ཤེས་ཕུང་པོར་ལྡན༔\", \"སྲིད་དང་ཞི་བའི་མཐའ་ལས་འདས༔\", \"ཤཱཀྱའི་ཏོག་ལ་གསོལ་བ་འདེབས༔\", \"འཇིགས་བརྒྱད་ཞི་བར་བྱིན་གྱིས་རློབས༔\"]\n",
    "\n",
    "output = pipe(input)\n",
    "\n",
    "translation = [elt['translation_text'] for elt in output]\n",
    "\n",
    "translation"
   ]
  },
  {
   "cell_type": "code",
   "execution_count": 14,
   "id": "1d70da39",
   "metadata": {},
   "outputs": [
    {
     "data": {
      "text/plain": [
       "['Throughout all our births and lives to come',\n",
       " 'Once again I obtain this excellent body',\n",
       " 'And liberate beings from their suffering—',\n",
       " 'May I become a supreme captain!']"
      ]
     },
     "execution_count": 14,
     "metadata": {},
     "output_type": "execute_result"
    }
   ],
   "source": [
    "input = [\"སྐྱེ་དང་ཚེ་རབས་ཐམས་ཅད་དུ༔\", \"སླར་ཡང་ལྷག་པའི་ལུས་ཐོབ་ནས༔\", \"འགྲོ་རྣམས་སྡུག་བསྔལ་ལས་གྲོལ་བའི༔\", \"དེད་དཔོན་མཆོག་ཏུ་བདག་གྱུར་ཤོག༔\"]\n",
    "\n",
    "output = pipe(input)\n",
    "\n",
    "translation = [elt['translation_text'] for elt in output]\n",
    "\n",
    "translation"
   ]
  },
  {
   "cell_type": "markdown",
   "id": "a65c8880",
   "metadata": {},
   "source": [
    "## The Story of Lady Fe from the Ḍākinīs' Great Dharma Treasury | Translated by Joseph McClellan, 2025.\n",
    "\n",
    "\n",
    "༄༅། །ཕེ་ཚང་གི་མནའ་མ།\n",
    "\n",
    "ཧྥེན་ཡང་ཞེས་པའི་ཡུལ་གྲུ་ཞིག་ན་རུས་ཕེ་ཚང་ལ་མནའ་མ་ཞིག་ཡོད་པ་དེས་ཚེ་གང་ལ་བློ་རྩེ་འོད་དཔག་མེད་ལ་གཏད་དེ་འོད་མཚན་བཏོན། གྲངས་ཡང་སྲན་མ་ཆུང་ངུ་ཡིས་བགྲང་པར་བྱས་ཏེ་སྲན་ཆུང་བསགས་པ་ན་བྲེ་བཅུ་གསུམ་གང་བར་གྱུར། ཚེ་ལས་འདས་སྐབས་མོས་ཁྱིམ་མི་རྣམས་ལ་སངས་རྒྱས་རྣམས་ཀྱིས་བདག་ལ་པདྨའི་གདན་གནང་སོང་བས་བདག་ད་བདེ་བ་ཅན་འགྲོ་རན་ཞེས་བཤད་ནས་ལུས་ཚུགས་བསྲང་སྟེ་ཚེ་ལས་འདས། དེ་མ་ཐག་ཏུ་ནམ་མཁའ་ནས་མེ་ཏོག་སྣ་ལྔའི་ཆར་བ་བབས་པ་སོགས་བཀྲ་ཤིས་པའི་ལྟས་བཟང་བར་མི་ཀུན་གྱིས་མཐོང་ཆོས་སུ་གྱུར། མཁན་མོ་ཟླ་བ་སྒྲོལ་མས་རྒྱ་ནག་གི་ཡི་གེ་ལས་བོད་ཡིག་ཏུ་བསྒྱུར།།\n",
    "\n",
    "\n",
    "In a region called Hfen Yang,[2] there was a woman who belonged to the Fe clan. Throughout her entire life, she focused her mind on the buddha Amitābha and recited his name. To count her recitations, she used small lentils. When put all together, they amounted to thirteen dre measures.[3]\n",
    "\n",
    "When she was on her deathbed, she said to her family, “The buddhas have prepared a throne for me. It’s time for me to go to Sukhāvatī.” She then straightened her body and passed away.\n",
    "\n",
    "It is said that just that moment, flowers of five colors rained from the sky, and all the local people witnessed auspicious signs. \n",
    "This was translated from Chinese into Tibetan by Khenmo Dawa Drolma."
   ]
  },
  {
   "cell_type": "code",
   "execution_count": 15,
   "id": "6db2cfc1",
   "metadata": {},
   "outputs": [
    {
     "data": {
      "text/plain": [
       "['In a country called Fen Senge, there was a man who had a vow in the Pekar clan and who spent a whole lifetime focusing his mind on Amitabha and sending him a sign of light.',\n",
       " 'The number is multiplied by a small pea. When the small pea is accumulated, it becomes thirteen squares.']"
      ]
     },
     "execution_count": 15,
     "metadata": {},
     "output_type": "execute_result"
    }
   ],
   "source": [
    "input = [\"ཧྥེན་ཡང་ཞེས་པའི་ཡུལ་གྲུ་ཞིག་ན་རུས་ཕེ་ཚང་ལ་མནའ་མ་ཞིག་ཡོད་པ་དེས་ཚེ་གང་ལ་བློ་རྩེ་འོད་དཔག་མེད་ལ་གཏད་དེ་འོད་མཚན་བཏོན།\", \"གྲངས་ཡང་སྲན་མ་ཆུང་ངུ་ཡིས་བགྲང་པར་བྱས་ཏེ་སྲན་ཆུང་བསགས་པ་ན་བྲེ་བཅུ་གསུམ་གང་བར་གྱུར།\" ]\n",
    "\n",
    "output = pipe(input)\n",
    "\n",
    "translation = [elt['translation_text'] for elt in output]\n",
    "\n",
    "translation"
   ]
  },
  {
   "cell_type": "code",
   "execution_count": 16,
   "id": "3a843044",
   "metadata": {},
   "outputs": [
    {
     "data": {
      "text/plain": [
       "['When she died, she told her family that the Buddhas had given me a lotus seat and told them that I should go to Sukhavati.',\n",
       " 'At that moment a rain of five kinds of flowers fell from the sky and other auspicious signs were visible to everyone. The female abbot Dawa Drolma translated the Chinese script into Tibetan.']"
      ]
     },
     "execution_count": 16,
     "metadata": {},
     "output_type": "execute_result"
    }
   ],
   "source": [
    "input = [\"ཚེ་ལས་འདས་སྐབས་མོས་ཁྱིམ་མི་རྣམས་ལ་སངས་རྒྱས་རྣམས་ཀྱིས་བདག་ལ་པདྨའི་གདན་གནང་སོང་བས་བདག་ད་བདེ་བ་ཅན་འགྲོ་རན་ཞེས་བཤད་ནས་ལུས་ཚུགས་བསྲང་སྟེ་ཚེ་ལས་འདས།\", \"དེ་མ་ཐག་ཏུ་ནམ་མཁའ་ནས་མེ་ཏོག་སྣ་ལྔའི་ཆར་བ་བབས་པ་སོགས་བཀྲ་ཤིས་པའི་ལྟས་བཟང་བར་མི་ཀུན་གྱིས་མཐོང་ཆོས་སུ་གྱུར།\" \"མཁན་མོ་ཟླ་བ་སྒྲོལ་མས་རྒྱ་ནག་གི་ཡི་གེ་ལས་བོད་ཡིག་ཏུ་བསྒྱུར།།\"]\n",
    "\n",
    "output = pipe(input)\n",
    "\n",
    "translation = [elt['translation_text'] for elt in output]\n",
    "\n",
    "translation"
   ]
  },
  {
   "cell_type": "markdown",
   "id": "9b33a401",
   "metadata": {},
   "source": [
    "## Protection from All Fears A Prayer to Ārya Tārā from the Reality Ḍākinīs’ Secret Treasury (Chönyi Khandrö Sangdzö) by Sera Khandro | Translated by Adam Pearcey, 2025.\n",
    "\n",
    "ཀ་དག་སྤྲོས་བྲལ་འོད་གསལ་རིག་པའི་དབྱིངས༔\n",
    "ལྷུན་གྲུབ་སྣང་ཆ་མ་འགགས་སྒྱུ་འཕྲུལ་གར༔\n",
    "ཐུགས་རྗེ་རྒྱལ་བ་ཀུན་གྱི་ཡུམ་གཅིག་མ༔\n",
    "རྗེ་བཙུན་ཨཱརྱ་ཏཱ་རེ་ཚེ་སྦྱིན་དཔལ༔\n",
    "གསོལ་བ་འདེབས་སོ་རླུང་སེམས་དབང་བསྡུས་ནས༔\n",
    "ཚེ་དང་བསོད་ནམས་འཕེལ་བར་མཛད་དུ་གསོལ༔\n",
    "\n",
    "Out of the primordially pure unelaborate space of luminous awareness,\n",
    "As the magical manifestation of unobstructed spontaneous presence,\n",
    "Arises the compassionate one, the one and only mother of all victorious ones,\n",
    "Noble Lady Ārya Tārā, glorious bestower of longevity,\n",
    "To you I pray! Take control of my vital winds and mind,\n",
    "And increase my lifespan and merit!\n",
    "\n",
    "ཁྱེད་ལ་བསྟོད་ཅིང་གསོལ་བ་བཏབ་པའི་མཐུས༔\n",
    "བདག་གི་ཚེ་བསོད་དཔལ་འབྱོར་རྒྱས་པ་དང་༔\n",
    "འཇིགས་པ་བཅུ་དྲུག་རྐྱེན་ངན་བར་ཆད་སོལ༔\n",
    "\n",
    "Through the power of praising and praying to you,\n",
    "May my lifespan, merit, splendour and wealth increase,\n",
    "And the sixteen fears,1 adversity and obstacles be dispelled.\n",
    "\n",
    "འགྲོ་ལ་གནོད་པའི་གདོན་འགེགས་འབྱུང་པོ་ཐུལ༔\n",
    "བསྟན་ལ་འཚེ་བྱེད་དམ་སྲི་མ་ལུས་པ༔\n",
    "མ་ཁྱོད་ཐུགས་རྗེ་ནུས་མཐུའི་སྟོབས་རྩལ་གྱིས༔\n",
    "མ་ལུས་ཞི་ཞིང་བསྟན་པ་རྒྱས་པར་མཛོད༔\n",
    "\n",
    "Subjugate spirits and disruptive forces who prey upon beings,\n",
    "And may all those damsi demons who would harm the teachings\n",
    "Be pacified through the force of your compassionate power and strength,\n",
    "So that the teachings spread far and wide.\n",
    "\n",
    "བསྟན་འཛིན་དམ་པའི་སྐུ་ཚེ་བསྲིང་བ་དང་༔\n",
    "དགེ་འདུན་སྡེ་ཚོགས་འཕེལ་བར་བྱིན་གྱིས་རློབས༔\n",
    "\n",
    "Grant your blessings, so that the lives of the noble holders of the teachings may be extended,\n",
    "And the saṅgha community may flourish and grow."
   ]
  },
  {
   "cell_type": "code",
   "execution_count": 17,
   "id": "ae42ffe7",
   "metadata": {},
   "outputs": [
    {
     "data": {
      "text/plain": [
       "['The clear light of primordial purity simplicity, the space of awareness,',\n",
       " 'Dance-like display of unceasing spontaneously present appearances',\n",
       " 'Only mother of all the victorious ones of compassion',\n",
       " 'Noble Ārya Tārā glorious Amitāyus',\n",
       " 'To you I pray: gather the empowerments of wind-energy and mind',\n",
       " 'Increase our lifespan and merit!']"
      ]
     },
     "execution_count": 17,
     "metadata": {},
     "output_type": "execute_result"
    }
   ],
   "source": [
    "input = [\"ཀ་དག་སྤྲོས་བྲལ་འོད་གསལ་རིག་པའི་དབྱིངས༔\",\n",
    "\"ལྷུན་གྲུབ་སྣང་ཆ་མ་འགགས་སྒྱུ་འཕྲུལ་གར༔\",\n",
    "\"ཐུགས་རྗེ་རྒྱལ་བ་ཀུན་གྱི་ཡུམ་གཅིག་མ༔\",\n",
    "\"རྗེ་བཙུན་ཨཱརྱ་ཏཱ་རེ་ཚེ་སྦྱིན་དཔལ༔\",\n",
    "\"གསོལ་བ་འདེབས་སོ་རླུང་སེམས་དབང་བསྡུས་ནས༔\",\n",
    "\"ཚེ་དང་བསོད་ནམས་འཕེལ་བར་མཛད་དུ་གསོལ༔\"]\n",
    "\n",
    "output = pipe(input)\n",
    "\n",
    "translation = [elt['translation_text'] for elt in output]\n",
    "\n",
    "translation"
   ]
  },
  {
   "cell_type": "code",
   "execution_count": 18,
   "id": "edffbea6",
   "metadata": {},
   "outputs": [
    {
     "data": {
      "text/plain": [
       "['Through the power of praising and praying to you',\n",
       " 'Increase my lifespan merit and prosperity',\n",
       " 'Dispel the sixteen fears adversities and obstacles']"
      ]
     },
     "execution_count": 18,
     "metadata": {},
     "output_type": "execute_result"
    }
   ],
   "source": [
    "input = [\"ཁྱེད་ལ་བསྟོད་ཅིང་གསོལ་བ་བཏབ་པའི་མཐུས༔\",\n",
    "\"བདག་གི་ཚེ་བསོད་དཔལ་འབྱོར་རྒྱས་པ་དང་༔\",\n",
    "\"འཇིགས་པ་བཅུ་དྲུག་རྐྱེན་ངན་བར་ཆད་སོལ༔\"]\n",
    "\n",
    "output = pipe(input)\n",
    "\n",
    "translation = [elt['translation_text'] for elt in output]\n",
    "\n",
    "translation"
   ]
  },
  {
   "cell_type": "code",
   "execution_count": 19,
   "id": "c4ecc385",
   "metadata": {},
   "outputs": [
    {
     "data": {
      "text/plain": [
       "['You subjugate the obstructing demons who harm beings',\n",
       " 'And all who harm the teachings and harm the samaya violators',\n",
       " 'Mother, through the power and strength of your compassion',\n",
       " 'And cause the teachings to flourish and spread!']"
      ]
     },
     "execution_count": 19,
     "metadata": {},
     "output_type": "execute_result"
    }
   ],
   "source": [
    "input = [\"འགྲོ་ལ་གནོད་པའི་གདོན་འགེགས་འབྱུང་པོ་ཐུལ༔\",\n",
    "\"བསྟན་ལ་འཚེ་བྱེད་དམ་སྲི་མ་ལུས་པ༔\",\n",
    "\"མ་ཁྱོད་ཐུགས་རྗེ་ནུས་མཐུའི་སྟོབས་རྩལ་གྱིས༔\",\n",
    "\"མ་ལུས་ཞི་ཞིང་བསྟན་པ་རྒྱས་པར་མཛོད༔\"]\n",
    "\n",
    "output = pipe(input)\n",
    "\n",
    "translation = [elt['translation_text'] for elt in output]\n",
    "\n",
    "translation"
   ]
  },
  {
   "cell_type": "code",
   "execution_count": 20,
   "id": "bced3461",
   "metadata": {},
   "outputs": [
    {
     "data": {
      "text/plain": [
       "['And prolong the lives of the noble holders of the teachings',\n",
       " 'And may the saṅgha increase!']"
      ]
     },
     "execution_count": 20,
     "metadata": {},
     "output_type": "execute_result"
    }
   ],
   "source": [
    "input = [\"བསྟན་འཛིན་དམ་པའི་སྐུ་ཚེ་བསྲིང་བ་དང་༔\",\n",
    "\"དགེ་འདུན་སྡེ་ཚོགས་འཕེལ་བར་བྱིན་གྱིས་རློབས༔\"]\n",
    "\n",
    "output = pipe(input)\n",
    "\n",
    "translation = [elt['translation_text'] for elt in output]\n",
    "\n",
    "translation"
   ]
  }
 ],
 "metadata": {
  "kernelspec": {
   "display_name": ".venv",
   "language": "python",
   "name": "python3"
  },
  "language_info": {
   "codemirror_mode": {
    "name": "ipython",
    "version": 3
   },
   "file_extension": ".py",
   "mimetype": "text/x-python",
   "name": "python",
   "nbconvert_exporter": "python",
   "pygments_lexer": "ipython3",
   "version": "3.10.17"
  }
 },
 "nbformat": 4,
 "nbformat_minor": 5
}
