{
 "cells": [
  {
   "cell_type": "code",
   "execution_count": 1,
   "id": "d8ee0f74",
   "metadata": {},
   "outputs": [
    {
     "name": "stderr",
     "output_type": "stream",
     "text": [
      "/home/j/Documents/MLotsawa/.venv/lib/python3.10/site-packages/tqdm/auto.py:21: TqdmWarning: IProgress not found. Please update jupyter and ipywidgets. See https://ipywidgets.readthedocs.io/en/stable/user_install.html\n",
      "  from .autonotebook import tqdm as notebook_tqdm\n",
      "2025-05-29 13:04:39.980437: I tensorflow/core/util/port.cc:153] oneDNN custom operations are on. You may see slightly different numerical results due to floating-point round-off errors from different computation orders. To turn them off, set the environment variable `TF_ENABLE_ONEDNN_OPTS=0`.\n",
      "2025-05-29 13:04:40.087942: E external/local_xla/xla/stream_executor/cuda/cuda_fft.cc:467] Unable to register cuFFT factory: Attempting to register factory for plugin cuFFT when one has already been registered\n",
      "WARNING: All log messages before absl::InitializeLog() is called are written to STDERR\n",
      "E0000 00:00:1748538280.132709    5129 cuda_dnn.cc:8579] Unable to register cuDNN factory: Attempting to register factory for plugin cuDNN when one has already been registered\n",
      "E0000 00:00:1748538280.145578    5129 cuda_blas.cc:1407] Unable to register cuBLAS factory: Attempting to register factory for plugin cuBLAS when one has already been registered\n",
      "W0000 00:00:1748538280.237508    5129 computation_placer.cc:177] computation placer already registered. Please check linkage and avoid linking the same target more than once.\n",
      "W0000 00:00:1748538280.237525    5129 computation_placer.cc:177] computation placer already registered. Please check linkage and avoid linking the same target more than once.\n",
      "W0000 00:00:1748538280.237526    5129 computation_placer.cc:177] computation placer already registered. Please check linkage and avoid linking the same target more than once.\n",
      "W0000 00:00:1748538280.237527    5129 computation_placer.cc:177] computation placer already registered. Please check linkage and avoid linking the same target more than once.\n",
      "2025-05-29 13:04:40.249552: I tensorflow/core/platform/cpu_feature_guard.cc:210] This TensorFlow binary is optimized to use available CPU instructions in performance-critical operations.\n",
      "To enable the following instructions: AVX2 AVX_VNNI FMA, in other operations, rebuild TensorFlow with the appropriate compiler flags.\n"
     ]
    }
   ],
   "source": [
    "from sentence_transformers import SentenceTransformer\n",
    "from datasets import load_dataset\n",
    "\n",
    "ds = load_dataset('billingsmoore/temp', split='train')\n",
    "\n",
    "references = ds['en']\n",
    "small_preds = ds['small_predictions']\n",
    "base_preds = ds['base_predictions']\n",
    "\n",
    "model = SentenceTransformer('sentence-transformers/all-MiniLM-L6-v2', device='cuda')"
   ]
  },
  {
   "cell_type": "code",
   "execution_count": 2,
   "id": "23cf6060",
   "metadata": {},
   "outputs": [],
   "source": [
    "ref_code = model.encode(references)"
   ]
  },
  {
   "cell_type": "code",
   "execution_count": 3,
   "id": "c755796f",
   "metadata": {},
   "outputs": [],
   "source": [
    "small_pred_code = model.encode(small_preds)"
   ]
  },
  {
   "cell_type": "code",
   "execution_count": 4,
   "id": "7bf38d8d",
   "metadata": {},
   "outputs": [],
   "source": [
    "base_preds_code = model.encode(base_preds)"
   ]
  },
  {
   "cell_type": "code",
   "execution_count": 13,
   "id": "01f588ff",
   "metadata": {},
   "outputs": [],
   "source": [
    "from datasets import Dataset\n",
    "from sklearn.metrics.pairwise import cosine_similarity\n",
    "\n",
    "code_ds = {}\n",
    "\n",
    "code_ds['ref'] = ref_code\n",
    "code_ds['small'] = small_pred_code\n",
    "code_ds['base'] = base_preds_code\n",
    "\n",
    "code_ds = Dataset.from_dict(code_ds)"
   ]
  },
  {
   "cell_type": "code",
   "execution_count": 14,
   "id": "bfb13601",
   "metadata": {},
   "outputs": [],
   "source": [
    "from sklearn.metrics.pairwise import cosine_similarity\n",
    "import numpy as np\n",
    "\n",
    "def get_sim(example):\n",
    "    # Ensure vectors are 2D for sklearn's cosine_similarity\n",
    "    ref = np.array(example['ref']).reshape(1, -1)\n",
    "    small = np.array(example['small']).reshape(1, -1)\n",
    "    base = np.array(example['base']).reshape(1, -1)\n",
    "\n",
    "    small_sim = cosine_similarity(ref, small)[0][0]\n",
    "    base_sim = cosine_similarity(ref, base)[0][0]\n",
    "\n",
    "    return {\n",
    "        'small_sim': small_sim,\n",
    "        'base_sim': base_sim\n",
    "    }\n"
   ]
  },
  {
   "cell_type": "code",
   "execution_count": 15,
   "id": "5dc2221b",
   "metadata": {},
   "outputs": [
    {
     "name": "stderr",
     "output_type": "stream",
     "text": [
      "Map: 100%|██████████| 100000/100000 [01:10<00:00, 1425.08 examples/s]\n"
     ]
    }
   ],
   "source": [
    "code_ds = code_ds.map(get_sim)"
   ]
  },
  {
   "cell_type": "code",
   "execution_count": 16,
   "id": "15ee0353",
   "metadata": {},
   "outputs": [
    {
     "name": "stdout",
     "output_type": "stream",
     "text": [
      "Small: 0.6607890299283833\n",
      "Base: 0.6788237633276554\n"
     ]
    }
   ],
   "source": [
    "import numpy as np\n",
    "\n",
    "small_mean = np.mean(code_ds['small_sim'])\n",
    "base_mean = np.mean(code_ds['base_sim'])\n",
    "\n",
    "print(f'Small: {small_mean}')\n",
    "print(f'Base: {base_mean}')"
   ]
  }
 ],
 "metadata": {
  "kernelspec": {
   "display_name": ".venv",
   "language": "python",
   "name": "python3"
  },
  "language_info": {
   "codemirror_mode": {
    "name": "ipython",
    "version": 3
   },
   "file_extension": ".py",
   "mimetype": "text/x-python",
   "name": "python",
   "nbconvert_exporter": "python",
   "pygments_lexer": "ipython3",
   "version": "3.10.17"
  }
 },
 "nbformat": 4,
 "nbformat_minor": 5
}
