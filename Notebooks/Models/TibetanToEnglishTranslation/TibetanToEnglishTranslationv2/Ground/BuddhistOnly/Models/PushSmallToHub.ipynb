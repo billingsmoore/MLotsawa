{
 "cells": [
  {
   "cell_type": "code",
   "execution_count": 1,
   "metadata": {},
   "outputs": [],
   "source": [
    "from transformers import AutoTokenizer\n",
    "\n",
    "tokenizer = AutoTokenizer.from_pretrained('my_tokenizer')"
   ]
  },
  {
   "cell_type": "code",
   "execution_count": 2,
   "metadata": {},
   "outputs": [
    {
     "data": {
      "text/plain": [
       "CommitInfo(commit_url='https://huggingface.co/billingsmoore/mlotsawa-ground-small/commit/c24505d59c413d08a35ec773467b6adc9bc3bbcb', commit_message='Upload tokenizer', commit_description='', oid='c24505d59c413d08a35ec773467b6adc9bc3bbcb', pr_url=None, repo_url=RepoUrl('https://huggingface.co/billingsmoore/mlotsawa-ground-small', endpoint='https://huggingface.co', repo_type='model', repo_id='billingsmoore/mlotsawa-ground-small'), pr_revision=None, pr_num=None)"
      ]
     },
     "execution_count": 2,
     "metadata": {},
     "output_type": "execute_result"
    }
   ],
   "source": [
    "tokenizer.push_to_hub('billingsmoore/mlotsawa-ground-small')"
   ]
  },
  {
   "cell_type": "code",
   "execution_count": 3,
   "metadata": {},
   "outputs": [],
   "source": [
    "from transformers import AutoModelForSeq2SeqLM\n",
    "\n",
    "model = AutoModelForSeq2SeqLM.from_pretrained(\"finetuned-small-model\")\n"
   ]
  },
  {
   "cell_type": "code",
   "execution_count": 4,
   "metadata": {},
   "outputs": [
    {
     "data": {
      "application/vnd.jupyter.widget-view+json": {
       "model_id": "143eaa6af013413ba9a0f69969872d7f",
       "version_major": 2,
       "version_minor": 0
      },
      "text/plain": [
       "README.md:   0%|          | 0.00/5.17k [00:00<?, ?B/s]"
      ]
     },
     "metadata": {},
     "output_type": "display_data"
    },
    {
     "data": {
      "application/vnd.jupyter.widget-view+json": {
       "model_id": "4160d98308fe47638e0d51c453931e8e",
       "version_major": 2,
       "version_minor": 0
      },
      "text/plain": [
       "model.safetensors:   0%|          | 0.00/242M [00:00<?, ?B/s]"
      ]
     },
     "metadata": {},
     "output_type": "display_data"
    },
    {
     "data": {
      "text/plain": [
       "CommitInfo(commit_url='https://huggingface.co/billingsmoore/mlotsawa-ground-small/commit/6ad3bdc2a4e7ef99cb94c3f864ec1083092d3f6b', commit_message='Upload T5ForConditionalGeneration', commit_description='', oid='6ad3bdc2a4e7ef99cb94c3f864ec1083092d3f6b', pr_url=None, repo_url=RepoUrl('https://huggingface.co/billingsmoore/mlotsawa-ground-small', endpoint='https://huggingface.co', repo_type='model', repo_id='billingsmoore/mlotsawa-ground-small'), pr_revision=None, pr_num=None)"
      ]
     },
     "execution_count": 4,
     "metadata": {},
     "output_type": "execute_result"
    }
   ],
   "source": [
    "model.push_to_hub('billingsmoore/mlotsawa-ground-small')"
   ]
  }
 ],
 "metadata": {
  "kernelspec": {
   "display_name": ".venv",
   "language": "python",
   "name": "python3"
  },
  "language_info": {
   "codemirror_mode": {
    "name": "ipython",
    "version": 3
   },
   "file_extension": ".py",
   "mimetype": "text/x-python",
   "name": "python",
   "nbconvert_exporter": "python",
   "pygments_lexer": "ipython3",
   "version": "3.10.12"
  }
 },
 "nbformat": 4,
 "nbformat_minor": 2
}
