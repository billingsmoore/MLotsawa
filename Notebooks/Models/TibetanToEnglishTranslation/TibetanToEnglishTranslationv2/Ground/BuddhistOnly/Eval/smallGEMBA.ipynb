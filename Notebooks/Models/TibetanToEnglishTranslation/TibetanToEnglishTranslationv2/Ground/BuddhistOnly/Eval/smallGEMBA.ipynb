{
 "cells": [
  {
   "cell_type": "code",
   "execution_count": 1,
   "metadata": {},
   "outputs": [],
   "source": [
    "from datasets import load_from_disk\n",
    "from huggingface_hub import InferenceClient\n",
    "\n",
    "ds = load_from_disk('small-gemba-ds')\n",
    "client = InferenceClient(model=\"google/gemma-3-27b-it\")"
   ]
  },
  {
   "cell_type": "code",
   "execution_count": 2,
   "metadata": {},
   "outputs": [],
   "source": [
    "source_lang = 'Tibetan'\n",
    "target_lang = 'English'"
   ]
  },
  {
   "cell_type": "code",
   "execution_count": 3,
   "metadata": {},
   "outputs": [],
   "source": [
    "scores = []"
   ]
  },
  {
   "cell_type": "code",
   "execution_count": 8,
   "metadata": {},
   "outputs": [
    {
     "ename": "HfHubHTTPError",
     "evalue": "402 Client Error: Payment Required for url: https://router.huggingface.co/nebius/v1/chat/completions (Request ID: Root=1-68879934-608b44014e844c347487639e;1a43f1cc-664a-485c-a6c0-bef6fa25434b)\n\nYou have exceeded your monthly included credits for Inference Providers. Subscribe to PRO to get 20x more monthly included credits.",
     "output_type": "error",
     "traceback": [
      "\u001b[0;31m---------------------------------------------------------------------------\u001b[0m",
      "\u001b[0;31mHTTPError\u001b[0m                                 Traceback (most recent call last)",
      "File \u001b[0;32m~/Desktop/MLotsawa/.venv/lib/python3.12/site-packages/huggingface_hub/utils/_http.py:409\u001b[0m, in \u001b[0;36mhf_raise_for_status\u001b[0;34m(response, endpoint_name)\u001b[0m\n\u001b[1;32m    408\u001b[0m \u001b[38;5;28;01mtry\u001b[39;00m:\n\u001b[0;32m--> 409\u001b[0m     \u001b[43mresponse\u001b[49m\u001b[38;5;241;43m.\u001b[39;49m\u001b[43mraise_for_status\u001b[49m\u001b[43m(\u001b[49m\u001b[43m)\u001b[49m\n\u001b[1;32m    410\u001b[0m \u001b[38;5;28;01mexcept\u001b[39;00m HTTPError \u001b[38;5;28;01mas\u001b[39;00m e:\n",
      "File \u001b[0;32m~/Desktop/MLotsawa/.venv/lib/python3.12/site-packages/requests/models.py:1024\u001b[0m, in \u001b[0;36mResponse.raise_for_status\u001b[0;34m(self)\u001b[0m\n\u001b[1;32m   1023\u001b[0m \u001b[38;5;28;01mif\u001b[39;00m http_error_msg:\n\u001b[0;32m-> 1024\u001b[0m     \u001b[38;5;28;01mraise\u001b[39;00m HTTPError(http_error_msg, response\u001b[38;5;241m=\u001b[39m\u001b[38;5;28mself\u001b[39m)\n",
      "\u001b[0;31mHTTPError\u001b[0m: 402 Client Error: Payment Required for url: https://router.huggingface.co/nebius/v1/chat/completions",
      "\nThe above exception was the direct cause of the following exception:\n",
      "\u001b[0;31mHfHubHTTPError\u001b[0m                            Traceback (most recent call last)",
      "Cell \u001b[0;32mIn[8], line 20\u001b[0m\n\u001b[1;32m      7\u001b[0m prompt \u001b[38;5;241m=\u001b[39m \u001b[38;5;124mf\u001b[39m\u001b[38;5;124m\"\"\"\u001b[39m\u001b[38;5;124mScore the following translation from \u001b[39m\u001b[38;5;132;01m{\u001b[39;00msource_lang\u001b[38;5;132;01m}\u001b[39;00m\u001b[38;5;124m to \u001b[39m\u001b[38;5;132;01m{\u001b[39;00mtarget_lang\u001b[38;5;132;01m}\u001b[39;00m\u001b[38;5;124m with respect to\u001b[39m\n\u001b[1;32m      8\u001b[0m \u001b[38;5;124mthe human reference on a continuous scale from 0 to 100, where a score of zero means\u001b[39m\n\u001b[1;32m      9\u001b[0m \u001b[38;5;124m\u001b[39m\u001b[38;5;124m\"\u001b[39m\u001b[38;5;124mno meaning preserved\u001b[39m\u001b[38;5;124m\"\u001b[39m\u001b[38;5;124m and score of one hundred means \u001b[39m\u001b[38;5;124m\"\u001b[39m\u001b[38;5;124mperfect meaning and grammar\u001b[39m\u001b[38;5;124m\"\u001b[39m\u001b[38;5;124m. \u001b[39m\n\u001b[0;32m   (...)\u001b[0m\n\u001b[1;32m     13\u001b[0m \u001b[38;5;124m\u001b[39m\u001b[38;5;132;01m{\u001b[39;00mtarget_lang\u001b[38;5;132;01m}\u001b[39;00m\u001b[38;5;124m translation: \u001b[39m\u001b[38;5;124m\"\u001b[39m\u001b[38;5;132;01m{\u001b[39;00mtarget_seg\u001b[38;5;132;01m}\u001b[39;00m\u001b[38;5;124m\"\u001b[39m\n\u001b[1;32m     14\u001b[0m \u001b[38;5;124mScore:\u001b[39m\u001b[38;5;124m\"\"\"\u001b[39m\n\u001b[1;32m     16\u001b[0m messages \u001b[38;5;241m=\u001b[39m [\n\u001b[1;32m     17\u001b[0m {\u001b[38;5;124m\"\u001b[39m\u001b[38;5;124mrole\u001b[39m\u001b[38;5;124m\"\u001b[39m: \u001b[38;5;124m\"\u001b[39m\u001b[38;5;124muser\u001b[39m\u001b[38;5;124m\"\u001b[39m, \u001b[38;5;124m\"\u001b[39m\u001b[38;5;124mcontent\u001b[39m\u001b[38;5;124m\"\u001b[39m: prompt},\n\u001b[1;32m     18\u001b[0m ]\n\u001b[0;32m---> 20\u001b[0m response \u001b[38;5;241m=\u001b[39m \u001b[43mclient\u001b[49m\u001b[38;5;241;43m.\u001b[39;49m\u001b[43mchat_completion\u001b[49m\u001b[43m(\u001b[49m\n\u001b[1;32m     21\u001b[0m \u001b[43m    \u001b[49m\u001b[43mmessages\u001b[49m\u001b[38;5;241;43m=\u001b[39;49m\u001b[43mmessages\u001b[49m\n\u001b[1;32m     22\u001b[0m \u001b[43m    \u001b[49m\u001b[43m)\u001b[49m\n\u001b[1;32m     24\u001b[0m scores\u001b[38;5;241m.\u001b[39mappend(response\u001b[38;5;241m.\u001b[39mchoices[\u001b[38;5;241m0\u001b[39m]\u001b[38;5;241m.\u001b[39mmessage\u001b[38;5;241m.\u001b[39mcontent)\n",
      "File \u001b[0;32m~/Desktop/MLotsawa/.venv/lib/python3.12/site-packages/huggingface_hub/inference/_client.py:924\u001b[0m, in \u001b[0;36mInferenceClient.chat_completion\u001b[0;34m(self, messages, model, stream, frequency_penalty, logit_bias, logprobs, max_tokens, n, presence_penalty, response_format, seed, stop, stream_options, temperature, tool_choice, tool_prompt, tools, top_logprobs, top_p, extra_body)\u001b[0m\n\u001b[1;32m    896\u001b[0m parameters \u001b[38;5;241m=\u001b[39m {\n\u001b[1;32m    897\u001b[0m     \u001b[38;5;124m\"\u001b[39m\u001b[38;5;124mmodel\u001b[39m\u001b[38;5;124m\"\u001b[39m: payload_model,\n\u001b[1;32m    898\u001b[0m     \u001b[38;5;124m\"\u001b[39m\u001b[38;5;124mfrequency_penalty\u001b[39m\u001b[38;5;124m\"\u001b[39m: frequency_penalty,\n\u001b[0;32m   (...)\u001b[0m\n\u001b[1;32m    915\u001b[0m     \u001b[38;5;241m*\u001b[39m\u001b[38;5;241m*\u001b[39m(extra_body \u001b[38;5;129;01mor\u001b[39;00m {}),\n\u001b[1;32m    916\u001b[0m }\n\u001b[1;32m    917\u001b[0m request_parameters \u001b[38;5;241m=\u001b[39m provider_helper\u001b[38;5;241m.\u001b[39mprepare_request(\n\u001b[1;32m    918\u001b[0m     inputs\u001b[38;5;241m=\u001b[39mmessages,\n\u001b[1;32m    919\u001b[0m     parameters\u001b[38;5;241m=\u001b[39mparameters,\n\u001b[0;32m   (...)\u001b[0m\n\u001b[1;32m    922\u001b[0m     api_key\u001b[38;5;241m=\u001b[39m\u001b[38;5;28mself\u001b[39m\u001b[38;5;241m.\u001b[39mtoken,\n\u001b[1;32m    923\u001b[0m )\n\u001b[0;32m--> 924\u001b[0m data \u001b[38;5;241m=\u001b[39m \u001b[38;5;28;43mself\u001b[39;49m\u001b[38;5;241;43m.\u001b[39;49m\u001b[43m_inner_post\u001b[49m\u001b[43m(\u001b[49m\u001b[43mrequest_parameters\u001b[49m\u001b[43m,\u001b[49m\u001b[43m \u001b[49m\u001b[43mstream\u001b[49m\u001b[38;5;241;43m=\u001b[39;49m\u001b[43mstream\u001b[49m\u001b[43m)\u001b[49m\n\u001b[1;32m    926\u001b[0m \u001b[38;5;28;01mif\u001b[39;00m stream:\n\u001b[1;32m    927\u001b[0m     \u001b[38;5;28;01mreturn\u001b[39;00m _stream_chat_completion_response(data)  \u001b[38;5;66;03m# type: ignore[arg-type]\u001b[39;00m\n",
      "File \u001b[0;32m~/Desktop/MLotsawa/.venv/lib/python3.12/site-packages/huggingface_hub/inference/_client.py:280\u001b[0m, in \u001b[0;36mInferenceClient._inner_post\u001b[0;34m(self, request_parameters, stream)\u001b[0m\n\u001b[1;32m    277\u001b[0m         \u001b[38;5;28;01mraise\u001b[39;00m InferenceTimeoutError(\u001b[38;5;124mf\u001b[39m\u001b[38;5;124m\"\u001b[39m\u001b[38;5;124mInference call timed out: \u001b[39m\u001b[38;5;132;01m{\u001b[39;00mrequest_parameters\u001b[38;5;241m.\u001b[39murl\u001b[38;5;132;01m}\u001b[39;00m\u001b[38;5;124m\"\u001b[39m) \u001b[38;5;28;01mfrom\u001b[39;00m \u001b[38;5;21;01merror\u001b[39;00m  \u001b[38;5;66;03m# type: ignore\u001b[39;00m\n\u001b[1;32m    279\u001b[0m \u001b[38;5;28;01mtry\u001b[39;00m:\n\u001b[0;32m--> 280\u001b[0m     \u001b[43mhf_raise_for_status\u001b[49m\u001b[43m(\u001b[49m\u001b[43mresponse\u001b[49m\u001b[43m)\u001b[49m\n\u001b[1;32m    281\u001b[0m     \u001b[38;5;28;01mreturn\u001b[39;00m response\u001b[38;5;241m.\u001b[39miter_lines() \u001b[38;5;28;01mif\u001b[39;00m stream \u001b[38;5;28;01melse\u001b[39;00m response\u001b[38;5;241m.\u001b[39mcontent\n\u001b[1;32m    282\u001b[0m \u001b[38;5;28;01mexcept\u001b[39;00m HTTPError \u001b[38;5;28;01mas\u001b[39;00m error:\n",
      "File \u001b[0;32m~/Desktop/MLotsawa/.venv/lib/python3.12/site-packages/huggingface_hub/utils/_http.py:482\u001b[0m, in \u001b[0;36mhf_raise_for_status\u001b[0;34m(response, endpoint_name)\u001b[0m\n\u001b[1;32m    478\u001b[0m     \u001b[38;5;28;01mraise\u001b[39;00m _format(HfHubHTTPError, message, response) \u001b[38;5;28;01mfrom\u001b[39;00m \u001b[38;5;21;01me\u001b[39;00m\n\u001b[1;32m    480\u001b[0m \u001b[38;5;66;03m# Convert `HTTPError` into a `HfHubHTTPError` to display request information\u001b[39;00m\n\u001b[1;32m    481\u001b[0m \u001b[38;5;66;03m# as well (request id and/or server error message)\u001b[39;00m\n\u001b[0;32m--> 482\u001b[0m \u001b[38;5;28;01mraise\u001b[39;00m _format(HfHubHTTPError, \u001b[38;5;28mstr\u001b[39m(e), response) \u001b[38;5;28;01mfrom\u001b[39;00m \u001b[38;5;21;01me\u001b[39;00m\n",
      "\u001b[0;31mHfHubHTTPError\u001b[0m: 402 Client Error: Payment Required for url: https://router.huggingface.co/nebius/v1/chat/completions (Request ID: Root=1-68879934-608b44014e844c347487639e;1a43f1cc-664a-485c-a6c0-bef6fa25434b)\n\nYou have exceeded your monthly included credits for Inference Providers. Subscribe to PRO to get 20x more monthly included credits."
     ]
    }
   ],
   "source": [
    "for i in range(100):\n",
    "\n",
    "    source_seg = ds[i]['bo']\n",
    "    reference_seg = ds[i]['en']\n",
    "    target_seg = ds[i]['small_predictions']\n",
    "\n",
    "    prompt = f\"\"\"Score the following translation from {source_lang} to {target_lang} with respect to\n",
    "    the human reference on a continuous scale from 0 to 100, where a score of zero means\n",
    "    \"no meaning preserved\" and score of one hundred means \"perfect meaning and grammar\". \n",
    "    Provide only an overall score with no additional output.\n",
    "    {source_lang} source: \"{source_seg}\"\n",
    "    {target_lang} human reference: {reference_seg}\n",
    "    {target_lang} translation: \"{target_seg}\"\n",
    "    Score:\"\"\"\n",
    "\n",
    "    messages = [\n",
    "    {\"role\": \"user\", \"content\": prompt},\n",
    "    ]\n",
    "\n",
    "    response = client.chat_completion(\n",
    "        messages=messages\n",
    "        )\n",
    "    \n",
    "    scores.append(response.choices[0].message.content)"
   ]
  },
  {
   "cell_type": "code",
   "execution_count": 21,
   "metadata": {},
   "outputs": [
    {
     "name": "stdout",
     "output_type": "stream",
     "text": [
      "88\n"
     ]
    }
   ],
   "source": [
    "scores"
   ]
  },
  {
   "cell_type": "code",
   "execution_count": 11,
   "metadata": {},
   "outputs": [
    {
     "data": {
      "text/plain": [
       "[{'bo': 'ཕྱི་ཟླ་༥་ཚེས་༢༥་ཉིན་དགུང་ལོ་སུམ་ཅུ་སོ་ལྔའི་སྟེང་དུ་མངོན་པར་རྫོགས་པའི་སངས་རྒྱས་ཀྱི་གོ་འཕང་ཐོབ།།',\n",
       "  'en': 'By the next morning, the morning of May 25, when he was thirty-five, he had attained the Awakening, and became a supreme Buddha.',\n",
       "  'small_predictions': 'On the twenty-fifth day of the fifth month, in his thirty-fifth year, he attained the state of complete buddhahood.'},\n",
       " {'bo': 'ལུས་ལྷ་ངག་སྔགས་སེམས་གྱི་འཕྲོ་འདུ་ཀུན།། ཡེ་ཤེས་ཆེན་པོར་ལམ་དུ་ཁྱེར་བ་དང་།།',\n",
       "  'en': 'Integrate everything into the path: body as deity, speech as mantra, And all movements of mind as great primordial wisdom.',\n",
       "  'small_predictions': 'Integrate all the movements of body, speech, mantra, and mind into the path as great wisdom.'},\n",
       " {'bo': 'ཞེས་པས་བསྲུང་འཁོར་བསྒོམ༔',\n",
       "  'en': 'Thus visualize the circle of protection.',\n",
       "  'small_predictions': 'Thus, meditate on the protection circle.'},\n",
       " {'bo': 'དེ་ལྟར་མ་བྱས་ན་འབྲེལ་མེད་དུའང་འགྱུར་ཏེ་མིག་ལ་སོགས་པའི་ཤེས་པ་འདི་དག་ཐ་སྙད་པའི་དོན་གཟུགས་སྒྲ་སོགས་ལ་ཚད་མ་ཡིན་ན་དེ་ཁོ་ན་ཉིད་བལྟ་བའི་ཕྱིར་དུ་འཕགས་ལམ་བཙལ་མི་དགོས་པར་ཐལ་ལོ་ཞེས་སྨྲ་ན་ནི་མིག་གི་ཤེས་པས་གཟུགས་ཤེས་ན་སྒྲ་ཉན་པ་ལ་རྣ་བ་དོན་མེད་དུ་ཐལ་ཞེས་པ་དང་འདྲ་ལ་གཟུགས་སྒྲ་སོགས་བལྟ་བའི་ཕྱིར་དུ་འཕགས་ལམ་འཚོལ་བ་དོན་མེད་དུ་ཐལ་ཟེར་ན་ནི་ཤིན་ཏུ་འདོད་པས་དེས་མི་འདོད་པ་ཅི་ཞིག་བསྒྲུབ།',\n",
       "  'en': 'If one does not take it this way, there would be no connection between prior and later purpose, that is, if those cognitions such as the eye and conventional entities such as form and sound were authorities for view- ing of reality, we say there is the absurdity of no need to seek the Noble Path, and we say there is the absurdity of no pur- pose for eye cognition to cognize form and the ear to hear sound; and similarly, we say there is the absurdity of no purpose to seeking the Noble Path because one observes form, sound, etc.',\n",
       "  'small_predictions': 'If you do not do this, then there would be no connection. If you say that the consciousnesses such as the eye are valid cognitions in regard to conventional objects such as forms, sounds, and so on, then it follows that there is no need to search for the noble path in order to see suchness, then it follows that there is no need to search for the noble path in accordance with the statement that the eye consciousness knows form and the ear to hear sound would be pointless. If you say that it follows that there is no need to search for the noble path in order to see forms, sounds, and so on, then what does it prove that you do not want'},\n",
       " {'bo': 'ཡང་དག་པའི་དོན་མི་སྟོན་པ་ཚིག་གཅིག་ཀྱང་མེད་པར་ཐམས་ཅད་མཐར་ཐུག་གི་བྱང་ཆུབ་གཅིག་ལ་འགལ་བ་མེད་པར་འཇུག་པ་ཡིན་པས་ན་དེ་སྐད་ཅེས་བྱ་སྟེ།',\n",
       "  'en': 'Every word of the dharma without exception applies without contradiction to the one, ultimate enlightenment, therefore these words are used to describe it.',\n",
       "  'small_predictions': 'Without even a single word that does not teach the genuine meaning, everything engages without contradiction in the single ultimate enlightenment.'},\n",
       " {'bo': 'སངས་རྒྱས་བརྒྱ་སྟོང་སུམ་བརྒྱ་དྲུག་ཅུའི་རྡུལ་ཕྲ་རབས་སྙེད་མཐོང་བ་དང་།',\n",
       "  'en': 'They are able to behold as many buddhas as there are atoms in the hundred thousand of the three thousandfold universe multiplied by ten and perceive that they are blessed by them.',\n",
       "  'small_predictions': 'They see as many buddhas as there are atoms in a hundred, three hundred and sixty buddhas.'},\n",
       " {'bo': 'དེ་ཐུགས་རྗེ་ཀུན་ཁྱབ་སྤྲུལ་སྐུ་ཡིན།།',\n",
       "  'en': 'This is all-pervading compassion, the nirmāṇakāya.',\n",
       "  'small_predictions': 'That is the nirmanakaya of all-pervasive compassion.'},\n",
       " {'bo': 'གཅིག་པུ་དབེན་པར་གནས་པས་འཕགས་པའི་ཡེ་ཤེས་ཐོབ་པར་གྱུར་ཅིག་ཅེས་པའོ།།',\n",
       "  'en': 'Let us stay in solitude. May we gain sublime, primordial wisdom.',\n",
       "  'small_predictions': 'By remaining alone in solitude, may we attain the wisdom of the noble ones.'},\n",
       " {'bo': 'ཨོཾ་ཧྲཱིཿཥྚྲཱིཿཝིཀྲྀ་ཏཱ་ན་ན་ཧཱུྃ་ཧཱུྃ་ཕཊ་ཕཊ། དེ་བ་དཏྟ་ཡ་ཛྙཱ་དཏྟེ་བི་དྭེཥཱ་ཡ་ཧཱུྃ་ཕཊ། འདི་ནི་བཅོམ་ལྡན་འདས་ཀྱིས་དབྱེ་བའི་ཆོ་ག་གསུངས་པའོ། །',\n",
       "  'en': 'oṁ hrīḥ ṣṭrīḥ vikṛtānana hūṁ hūṁ phaṭ phaṭ\\xa0| devadatta yajñādatte vidveṣāya hūṁ phaṭ\\xa0| This is the rite for sowing discord taught by the Bhagavat.',\n",
       "  'small_predictions': 'oṃ hrīḥ ṣṭrīḥ vikṛtānana hūṃ hūṃ phaṭ | devadatta jñāna vikṛtānana hūṃ phaṭ | This is the rite for the divisions of the Bhagavat.'},\n",
       " {'bo': 'མངོན་པར་མ་གྲུབ་ཅིང་མེད་པ་དེ་ལ་དམིགས་པ་ཡོད་པར་ག་ལ་འགྱུར།',\n",
       "  'en': 'How could that which is not actually established, and therefore nonexistent, be an existent object?',\n",
       "  'small_predictions': 'How could that which has not been established and does not exist have an objective support?'}]"
      ]
     },
     "execution_count": 11,
     "metadata": {},
     "output_type": "execute_result"
    }
   ],
   "source": [
    "list(ds.select(range(10)))"
   ]
  },
  {
   "cell_type": "code",
   "execution_count": 12,
   "metadata": {},
   "outputs": [
    {
     "data": {
      "text/plain": [
       "[{'bo': 'དེ་བཞིན་དུ་སྐད་ཅིག་མར་འཇིག་པའི་གསོན་པ་ལས་ཆེས་ཆུང་བའི་དུས་འགའ་ཡང་ཡོད་པ་མ་ཡིན་ནོ།།',\n",
       "  'en': 'Similarly, there is no time shorter than life, which is destroyed in a moment.',\n",
       "  'small_predictions': 'In the same way, there is no time at all that is far smaller than life itself.'},\n",
       " {'bo': 'སྟོང་པའི་ཡེ་ཤེས་དགའ་བར་རྗེས་ཆགས་གཟུགས།། རྡོ་རྗེ་པི་ཝཾ་གླིང་བུ་རྔ་ཐབས་བཟུང༌།། རིག་གདངས་ཆོས་ཉིད་མངོན་སུམ་མཆོད་སྤྲིན་གྱིས།། སྣ་ཚོགས་སྒྱུ་འཕྲུལ་སྤྲུལ་པའི་དཀྱིལ་འཁོར་མཆོད།། ཨོཾ་ཨཱཿབཛྲ་ཝཱི་ཎཱི་ཧཱུྃ།\\xa0ཨོཾ་ཨཱཿབཛྲ་ཝཾ་སེ་ཏྲཱཾ།\\xa0ཨོཾ་ཨཱཿབཛྲ་མྲྀ་ཏཾ་གི་ཧྲཱིཿ\\xa0ཨོཾ་ཨཱཿབཛྲ་མུ་རཉྫེ་ཨཱཿ ཤིན་ཏུ་སྟོང་པ་ལས་བྱུང་མཆོག་དགའི་དངོས།། རྡོ་རྗེ་སྒེག་བཞད་གླུ་དང་གར་མཁན་མ།། འོད་གསལ་ཉམས་སྣང་གོང་འཕེལ་མཆོད་སྤྲིན་གྱིས།། ཟུང་འཇུག་ལོངས་སྤྱོད་རྫོགས་སྐུའི་དཀྱིལ་འཁོར་མཆོད།། ཨོཾ་ཨཱཿབཛྲ་ལཱ་སྱེ་ཧཱུྃ།\\xa0ཨོཾ་ཨཱཿབཛྲ་མཱ་ལྱེ་ཏྲཱཾ།\\xa0ཨོཾ་ཨཱཿབཛྲ་གཱིརྟི་ཧྲཱིཿ\\xa0ཨོཾ་ཨཱཿབཛྲ་ནཱིརྟི་ཨཱཿ ཐམས་ཅད་སྟོང་པ་ཁྱད་པར་དགའ་བའི་དཔྱིད།།',\n",
       "  'en': 'The love that unites the wisdom of emptiness and joy takes seductive form As goddesses playing sitar, flute, clay drum and round drum, And in their offering cloud of rigpa’s radiance, the direct realization of dharmatā, They offer you the nirmāṇakāya-maṇḍala, in all its magical diversity: oṃ āḥ vajra-vīṇe hūṃ | oṃ āḥ vajra-vaṃśe trāṃ | oṃ āḥ vajra-mṛdaṅge hrīḥ | oṃ āḥ vajra-muraje āḥ | From extreme emptiness, supreme joy arises As vajra goddesses beauty, laughter, song and dance, And with their offering cloud of clear light, the increasing of experience and appearance, They offer you the saṃbhogakāya-maṇḍala of unity: oṃ āḥ vajra-lāsye hūṃ | oṃ āḥ vajra-mālye trāṃ | oṃ āḥ vajra-gīte hrīḥ | oṃ āḥ vajra-nṛtye āḥ | Total emptiness with special joy takes shape',\n",
       "  'small_predictions': 'You take delight in the wisdom of emptiness, And hold vajra lutes and flutes and drums. With the offering cloud of the radiance of awareness, the actual nature of phenomena, I offer you the myriad magical manifestation of the maṇḍala. oṃ āḥ vajra vīṇā hūṃ | oṃ āḥ vajra vaṃśe hrīḥ | oṃ āḥ vajra mṛtaṃ hrīḥ | oṃ āḥ vajra mune-mune āḥ | From extreme emptiness arises supreme joy— Vajra Gentle Splendor, song and dance— With the offering cloud of the increasing experience of luminosity, I offer you the maṇḍala of the saṃbhogakāya. oṃ āḥ vajra lāsye hūṃ | oṃ āḥ vajra m'},\n",
       " {'bo': 'ཤེས་དམན་གྱི་སྐྱེ་བོས་རང་གི་ལོག་སེམས་ལས་ཁ་གླན་དགོས་ཚུལ་བསྟན་པ་སྟེ། དེ་ཡང་བློ་དམན་གང་ཞིག་ཇི་སྲིད་རྒྱལ་དང་དེ་སྲས་དམ་པས་ཡང་ཡང་སྨད་པའི་ལོག་པར་སྤྱོད་པའི་ལས་དམན་ལ་འཇུག་འདོད་ཀྱི་བློ་སྐྱེས་པ་དུས་དེའི་ཚེ་ན།',\n",
       "  'en': 'Whenever weak-minded people feel drawn to engage in wrongful actions deprecated again and again by the excellent buddhas and bodhisattvas, they should deflect such improper notions and not allow themselves to be influenced by them.',\n",
       "  'small_predictions': 'Those of lesser intelligence should be able to let go of their own wrong thoughts for as long as they have the desire to engage in inferior actions that are often criticized by the buddhas and their sublime spiritual heirs.'},\n",
       " {'bo': 'གང་ཡང་གཞུང་ཆེན་མོ་རྣམས་ལ་ཉམས་ལེན་གྱི་གནད་མེད་པའི་བཤད་ཆོས་སུ་བྱས་ཤིང་ཉམས་ལེན་གྱི་གནད་སྙིང་པོའི་དོན་སྟོན་པའི་མན་ངག་ཟུར་དུ་ཡོད་པར་གོ་ནས་དམ་པའི་ཆོས་རང་ལ་བཤད་པ་དང་བསྒྲུབ་པའི་ཆོས་ལོག་ས་ལོགས་པ་གཉིས་ཡོད་པར་འཛིན་པ་ནི། དྲི་མ་མེད་པའི་མདོ་རྒྱུད་དང་དྲི་མ་མེད་པའི་དགོངས་འགྲེལ་གྱི་བསྟན་བཅོས་ལ་གུས་པ་ཆེན་པོ་སྐྱེ་བའི་གེགས་བྱེད་ཅིང་། དེ་དག་ལ་ནང་གི་དོན་མི་སྟོན་པའི་ཕྱིའི་གོ་རྒྱ་ཙམ་གཅོད་པའོ་ཞེས་བརྙས་པའི་གནས་སུ་འཛིན་པའི་ཆོས་སྤོང་བའི་ལས་ཀྱི་སྒྲིབ་པ་གསོག་པར་ཤེས་པར་བྱའོ།། དེས་ན་ཐར་འདོད་རྣམས་ལ་མི་སླུ་བའི་གདམས་པ་མཆོག་ནི་གཞུང་ཆེན་མོ་རྣམས་ཡིན་མོད། དེ་ཡང་རང་ཉིད་བློ་ཞན་པ་ལ་སོགས་པའི་རྒྱུ་མཚན་གྱིས་གདམས་པའི་མཆོག་ཏུ་གཞུང་དེ་ཙམ་ལ་བརྟེན་ནས་ངེས་མི་ནུས་པས། དམ་པའི་མན་ངག་ལ་བརྟེན་ནས་དེ་དག་ལ་ངེས་པ་བཙལ་བར་བྱའོ་སྙམ་དུ་མན་ངག་འཚོལ་དགོས་པ་ཡིན་གྱི།',\n",
       "  'en': 'There are those who conclude that any classic text should be considered only an explanatory teaching, therefore lacking the key points for practice. They hold that there are separate personal instructions that teach the core meanings that are the heart of practice. They then imagine that there are two separate forms of the excellent teaching-a teaching that is explained to you and a teaching that you practice. Know that this attitude precludes the development of great respect for the stainless sutras and tantras as well as the flawless treatises that comment on their intent. Know also that you accumulate the karmic obstruction of abandoning the teaching when you see those classic texts as objects of contempt and say, \"Those are merely for promoting one\\'s superficial knowledge and eliminating others\\' misconceptions; they do not teach the deep meaning. Therefore, for those who desire liberation, the supreme and authentic instructions are indeed the classic texts. However, due to your limited intelligence and so forth, you may be unable to recognize those texts as the supreme instructions through depending on them alone. Thus, you must seek out personal instructions, thinking, \"I will seek certain knowledge of those texts based on the personal instructions of an excellent being.\"',\n",
       "  'small_predictions': 'Whatever the great texts are taken as explanations that do not contain the essential points of practice, and having understood that there are separate instructions that teach the essential points of practice, one grasps that there are two separate things that are to be explained and that are to be practiced. One should understand that this obstructs the arising of great respect for the stainless sūtras, tantras, and treatises of the stainless commentaries and one accumulates the karmic obscuration of abandoning the Dharma by thinking that one cuts off the outer understanding of those texts that do not teach the inner meaning. Therefore, although the great texts are the supreme instruction that is nondeceptive for those who desire liberation, it is because of their'},\n",
       " {'bo': 'འདི་ནས་རྒྱུན་དུ་བཞུགས་པའི་དགོས་པ་ཅི།།',\n",
       "  'en': 'Why do you need to stay here?',\n",
       "  'small_predictions': 'What is the purpose of remaining forever here?'},\n",
       " {'bo': 'བདག་གི་འདི་སེམས་ཅན་ཐམས་ཅད་ལ་སྨིན་པར་གྱུར་ཅིག་སེམས་ཅན་ཐམས་ཅད་བདེ་བ་དང་དགེ་བ་རྒྱས་པར་གྱུར་ཅིག་སྙམ་དུ་བསམ།',\n",
       "  'en': 'Reflecting thus, think, \"May these qualities of mine be realized upon others. May happiness and virtue flourish for all sentient beings.\"',\n",
       "  'small_predictions': 'May all sentient beings be ripened and may all sentient beings enjoy happiness and virtue.'},\n",
       " {'bo': 'དབུ་མ་ནས་རླུང་མི་རྒྱུ་བར་བཤད་ཀྱང་འདིར་ནི་དེ་གཉིས་ཀ་རྒྱུ་བར་བཤད་དོ།།',\n",
       "  'en': 'But this tantra explains that both move.',\n",
       "  'small_predictions': 'Although it is explained that the wind-energies do not move in the central channel, here it is explained that both move.'},\n",
       " {'bo': 'དེའི་ཚེ་གདོད་མར་གྲོལ་བས་ཏེ།',\n",
       "  'en': 'At that point one is freed in primordial being.',\n",
       "  'small_predictions': 'At that time, there is freedom in the primordial.'},\n",
       " {'bo': 'མི་སློབ་པ་ལ་དམིགས་པ་ཡིན།།',\n",
       "  'en': 'by considering them as impermanent.',\n",
       "  'small_predictions': 'It focuses on the nonlearner.'},\n",
       " {'bo': 'མཐུ་ཆེན་དམ་ཅན་དྲེགས་པའི་ཚོགས་རྣམས་ཀྱིས།།',\n",
       "  'en': 'And all the powerful and haughty spirits who are bound by sacred oath',\n",
       "  'small_predictions': 'Great might and hosts of arrogant oath-bound guardians'},\n",
       " {'bo': 'རི་ཁྲོད་མ་ཤིང་ལོ་ཅན་གྱིའོ། །',\n",
       "  'en': 'One with the face of a boar!',\n",
       "  'small_predictions': '{M.20} “ ‘You should make a mountain pyramid.'},\n",
       " {'bo': 'བྱིན་རླབས་ཀུན་སྩོལ་བླ་མ་པདྨ་འབྱུང་།།',\n",
       "  'en': 'Bestower of all blessings the Lotus-Born Padmākara;',\n",
       "  'small_predictions': 'Guru Padmākara embodiment of all blessings'},\n",
       " {'bo': 'དེ་ཡི་སྤྱི་བོར་པད་དཀར་དང་།\\xa0\\xa0།',\n",
       "  'en': 'At his crown, upon a white lotus,',\n",
       "  'small_predictions': 'Above his head is a white lotus,'},\n",
       " {'bo': 'རྗེ་རིན་པོ་ཆེས་རྡོ་རྗེ་རྩེ་མོ་ལས་ལུང་ཞིག་དྲངས་འདུག་པ་སྟེ། རྒྱུད་ནི་རྒྱུན་ཞེས་བྱ་བར་གྲགས།། འཁོར་བའི་རྒྱུད་དུ་འདོད་པ་དེ།། མྱ་ངན་འདས་པ་རྒྱུད་ཕྱི་མ།། ཞེས་གསུངས་ཡོད།',\n",
       "  'en': 'In Lama Tsongkhapa’s great tantric stages of the path, he cites a quotation from one explanatory tantra, called Vajra Shekhara, which says that the cyclic existence is a continuum of tantra and that nirvana is a subsequent tantra.',\n",
       "  'small_predictions': 'The precious lord Tsongkhapa quotes a passage from the Vajra Peak: The tantra is known as the continuum; The assertion that the continuum of saṃsāra is nirvāṇa is the later continuum.'},\n",
       " {'bo': 'འདི་ནི་ཨུཏྤལ་འདབ་མར་བྱ་བར་གྲགས།།',\n",
       "  'en': 'This is called lotus petals.',\n",
       "  'small_predictions': 'This is known as the lotus petal.'},\n",
       " {'bo': 'གཉིས་པ་ལ། སློབ་དཔོན་གྱི་ལས་དང་། སློབ་མ་ལ་བྱ་བའོ།།',\n",
       "  'en': 'Second, the main practice has both the master’s work and the acts for the disciples.',\n",
       "  'small_predictions': 'The second has two parts: the master’s activity and the disciples’ activity.'},\n",
       " {'bo': 'དེར་སྨིན་པས་ད་འཆི་བ་མེད་པར་རྫོགས་པས་སྐྱེ་ཤི་མེད་པར་དབྱིངས་ཐམས་ཅད་གཅིག་ཏུ་འབྲེལ་པ་སྟེ་འདི་ལྟར་འདོད་པས།',\n",
       "  'en': 'Since it is ripened because it is perfect without dying at present, the dhatu without birth or death gathers everything into one.',\n",
       "  'small_predictions': 'Since it matures therein, it is perfected without death and is complete without birth or death. All basic space is united in a single state.'},\n",
       " {'bo': 'དེའི་ཕྱིར་འདས་པའི་རིགས་འདྲ་ཇི་སྙེད་ཅིག་བྱུང་ཡང་དངོས་པོ་གཞན་ཞིག་པའི་སྒོ་ནས་རང་གི་ངོ་བོ་གཞག་དགོས་ལ་མ་འོངས་པའི་རིགས་འདྲ་ཇི་སྙེད་ཅིག་བྱུང་ཡང་དངོས་པོ་གཞན་ཞིག་མ་སྐྱེས་པའི་སྒོ་ནས་རང་གི་ངོ་བོ་གཞག་དགོས་སོ།།',\n",
       "  'en': 'For that reason, no matter how many of a similar type of the past have occurred, their nature must be posited from the perspective of the destruction of another impermanent thing; whatever arises of a similar type in the future, its entity would have to be posited from the perspective of the nonproduction of another impermanent thing.',\n",
       "  'small_predictions': 'Therefore, whatever type of past similarity, it must be posited as its own entity by way of another thing, and whatever type of future similarity, it must be posited as its own entity by way of another thing not produced.'},\n",
       " {'bo': 'འགྲོ་བའི་དོན་གཉིས་འགྲུབ་པར་ཤོག།',\n",
       "  'en': 'May I accomplish beings’ twofold benefit.',\n",
       "  'small_predictions': 'And accomplish the twofold benefit of beings.'},\n",
       " {'bo': 'ཀཽ་ཤི་ཀ་འདི་ལྟ་སྟེ་དཔེར་ན། ནམ་མཁའ་དཔག་པ་ནི་དམྱིགས་སུ་མྱེད་དོ། །ཀཽ་ཤི་ཀ་དེ་བཞིན་དུ་ལྕེའི་འདུས་ཏེ་རེག་པའི་དཔག་པ་ཡང་དམྱིགས་སུ་མྱེད་དེ།',\n",
       "  'en': 'To illustrate, Kauśika, just as the boundary of space cannot be apprehended, in the same way, Kauśika, the boundary of lingually compounded sensory contact cannot be apprehended.',\n",
       "  'small_predictions': 'To illustrate, Kauśika, just as the boundary of space cannot be apprehended, in the same way, Kauśika, the boundary of lingually compounded sensory contact cannot be apprehended.'},\n",
       " {'bo': 'འཁོར་འདས་མ་ལུས་ཤར་ཡང་དབྱིངས་ནས་ཤར།།',\n",
       "  'en': 'Even though they arise as the totality of samsara and nirvana, the phenomena of the world of appearances and possibilities— limitless, boundless—arise from basic space.',\n",
       "  'small_predictions': 'All of saṃsāra and nirvāṇa without exception arise from basic space.'},\n",
       " {'bo': 'ལྷ་དང་མི་རྣམས་ཀྱི་སྦྱིན་པའི་གནས་སུ་འགྱུར་བར་བྱའོ་ཞེས་ལྷོ་ཕྱོགས་ལོགས་སུ་གོམ་པ་བདུན་བོར་རོ། །',\n",
       "  'en': 'He then took seven steps toward the south and said, “I am worthy of the offerings of gods and humans.”',\n",
       "  'small_predictions': 'He took seven steps to the south and said, ‘I will become an object of generosity for gods and humans.’'},\n",
       " {'bo': 'ངན་པ་གཞན་དག་བཅོས་རུང་གི། སྐྱེ་བོ་ངན་པ་བཅོས་ན་འཇིག། ཅེས་གསུངས་པ་འདིས།',\n",
       "  'en': 'Other bad things can be remedied, But trying to reform evil people just worsens them.',\n",
       "  'small_predictions': 'Other bad people can be remedied, But if they are remedied, they are destroyed.'},\n",
       " {'bo': 'འོན་ཀྱང་ད་ལྟར་རང་རེས་གང་མཐོང་བའི་ས་རྡོ་རི་བྲག་འདི་དག་སངས་རྒྱས་ཚེ་ད་དུང་ཡང་ཁྲ་ལམ་མེར་མཐོང་རྒྱུ་ཡོད་སྙམ་ན་ཤིན་ཏུ་ནོར།',\n",
       "  'en': '¶20 However, to think that the earth, stones, mountains, and rocks that we see now are still to be seen vividly when we are buddhas is very much in error.',\n",
       "  'small_predictions': 'However, if we think that all the earth, stones, mountains, and rocks we see now are still seen vividly when we are enlightened, this is very wrong.'},\n",
       " {'bo': 'འདུས་མ་བྱས་སྟོང་པ་ཉིད་སྟོང་ཞེས་བྱ་བ་དང་། མི་སྟོང་ཞེས་བྱ་བར་གནས་པར་མི་བྱའོ། །དམྱིགས་པའི་ཚུལ་གྱིས། འདུས་མ་བྱས་སྟོང་པ་ཉིད་མཚན་མ་ཡོད་ཅེས་བྱ་བ་དང་། མཚན་མ་མྱེད་ཅེས་བྱ་བར་གནས་པར་མྱི་བྱའོ། །དམྱིགས་པའི་ཚུལ་གྱིས། འདུས་མ་བྱས་སྟོང་པ་ཉིད་སྨོན་པ་ཡོད་ཅེས་བྱ་བ་དང་། སྨོན་པ་མེད་ཅེས་བྱ་བར་གནས་པར་མྱི་བྱའོ། །དམྱིགས་པའི་ཚུལ་གྱིས། མཐའ་ལས་འདས་པ་སྟོང་བ་ཉིད་རྟག་ཅེས་བྱ་བ་དང་། མི་རྟག་ཅེས་བྱ་བར་གནས་པར་མྱི་བྱའོ། །དམྱིགས་པའི་ཚུལ་གྱིས། མཐའ་ལས་འདས་པ་སྟོང་པ་ཉིད་བདེ་ཞེས་བྱ་བ་དང་། སྡུག་བསྔལ་ཞེས་བྱ་བར་གནས་པར་མྱི་བྱའོ། །དམྱིགས་པའི་ཚུལ་གྱིས། མཐའ་ལས་འདས་པ་སྟོང་པ་ཉིད་བདག་ཅེས་བྱ་བ་དང་། བདག་མྱེད་ཅེས་བྱ་བར་གནས་པར་མྱི་བྱའོ། །དམྱིགས་པའི་ཚུལ་གྱིས། མཐའ་ལས་འདས་པ་སྟོང་པ་ཉིད་སྡུག་ཅེས་བྱ་བ་དང་། མྱི་སྡུག་ཅེས་བྱ་བར་གནས་པར་མི་བྱའོ། །དམྱིགས་པའི་ཚུལ་གྱིས། མཐའ་ལས་འདས་པ་སྟོང་པ་ཉིད་ཞི་ཞེས་བྱ་བ་དང་། མ་ཞི་ཞེས་བྱ་བར་གནས་པར་མྱི་བྱའོ། །དམྱིགས་པའི་ཚུལ་གྱིས། མཐའ་ལས་འདས་པ་སྟོང་པ་ཉིད་དབེན་ཞེས་བྱ་བ་དང་། མྱི་དབེན་ཞེས་བྱ་བར་གནས་པར་མྱི་བྱའོ། །དམྱིགས་པའི་ཚུལ་གྱིས། མཐའ་ལས་འདས་པ་སྟོང་པ་ཉིད་སྟོང་ཞེས་བྱ་བ་དང་། མི་སྟོང་ཞེས་བྱ་བར་གནས་པར་མྱི་བྱའོ། །དམྱིགས་པའི་ཚུལ་གྱིས། མཐའ་ལས་འདས་པ་སྟོང་པ་ཉིད་མཚན་མ་ཡོད་ཅེས་བྱ་བ་དང་། མཚན་མ་མྱེད་ཅེས་བྱ་བར་གནས་པར་མྱི་བྱའོ། །དམྱིགས་པའི་ཚུལ་གྱིས། མཐའ་ལས་འདས་པ་སྟོང་པ་ཉིད་སྨོན་པ་ཡོད་ཅེས་བྱ་བ་དང་། སྨོན་པ་མེད་ཅེས་བྱ་བར་གནས་པར་མྱི་བྱའོ། །དམྱིགས་པའི་ཚུལ་གྱིས། ཐོག་མ་དང་ཐ་མ་མྱེད་པ་སྟོང་པ་ཉིད་རྟག་ཅེས་བྱ་བ་དང་། མྱི་རྟག་ཅེས་བྱ་བར་གནས་པར་མྱི་བྱའོ། །དམྱིགས་པའི་ཚུལ་གྱིས། ཐོག་མ་དང་ཐ་མ་མྱེད་པ་སྟོང་པ་ཉིད་བདེ་ཞེས་བྱ་བ་དང་། སྡུག་བསྔལ་ཞེས་བྱ་བར་གནས་པར་མྱི་བྱའོ། །དམྱིགས་པའི་ཚུལ་གྱིས། ཐོག་མ་དང་ཐ་མ་མྱེད་པ་སྟོང་པ་ཉིད་བདག་ཅེས་བྱ་བ་དང་། བདག་མྱེད་ཅེས་བྱ་བར་གནས་པར་མྱི་བྱའོ། །དམྱིགས་པའི་ཚུལ་གྱིས། ཐོག་མ་དང་ཐ་མ་མེད་པ་སྟོང་པ་ཉིད་སྡུག་ཅེས་བྱ་བ་དང་། མི་སྡུག་ཅེས་བྱ་བར་གནས་པར་མི་བྱའོ། །དམྱིགས་པའི་ཚུལ་གྱིས། ཐོག་མ་དང་ཐ་མ་མྱེད་པ་སྟོང་པ་ཉིད་ཞི་ཞེས་བྱ་བ་དང་། མ་ཞི་ཞེས་བྱ་བར་གནས་པར་མྱི་བྱའོ། །དམྱིགས་པའི་ཚུལ་གྱིས། ཐོག་མ་དང་ཐ་མ་མེད་པ་སྟོང་པ་ཉིད་དབེན་ཞེས་བྱ་བ་དང་། མྱི་དབེན་ཞེས་བྱ་བར་གནས་པར་མྱི་བྱའོ། །དམྱིགས་པའི་ཚུལ་གྱིས།',\n",
       "  'en': '“They should not, by way of apprehending anything, dwell on the notion that the emptiness of the unlimited is permanent or impermanent; they should not, by way of apprehending anything, dwell on the notion that the emptiness of the unlimited is happiness or suffering; they should not, by way of apprehending anything, dwell on the notion that the emptiness of the unlimited is a self or nonself; they should not, by way of apprehending anything, dwell on the notion that the emptiness of the unlimited is pleasant or unpleasant; they should not, by way of apprehending anything, dwell on the notion that the emptiness of the unlimited is at peace or not at peace; they should not, by way of apprehending anything, dwell on the notion that the emptiness of the unlimited is void or not void; they should not, by way of apprehending anything, dwell on the notion that the emptiness of the unlimited is empty or not empty; they should not, by way of apprehending anything, dwell on the notion that the emptiness of the unlimited has a sign or is signless; and they should not, by way of apprehending anything, dwell on the notion that the emptiness of the unlimited has wishes or does not have wishes.',\n",
       "  'small_predictions': '“They should not, by way of apprehending anything, dwell on the notion that the emptiness of unconditioned phenomena is permanent or impermanent; they should not, by way of apprehending anything, dwell on the notion that the emptiness of unconditioned phenomena is happiness or suffering; they should not, by way of apprehending anything, dwell on the notion that the emptiness of unconditioned phenomena is a self or nonself; they should not, by way of apprehending anything, dwell on the notion that the emptiness of unconditioned phenomena is pleasant or unpleasant; they should not, by way of apprehending anything, dwell on the notion that the emptiness of unconditioned phenomena is at peace or not at peace; they should not, by way of apprehending anything, dwell on'},\n",
       " {'bo': 'ངེས་གསང་སྙིང་པོའི་བསྟན་པ་རབ་རྒྱས་ཤིང་།།',\n",
       "  'en': 'May the definitive teachings of the Secret Essence spread far and wide.',\n",
       "  'small_predictions': 'May the teachings of the definitive secret essence spread far and wide'},\n",
       " {'bo': 'གནོད་བྱེད་ཀྱི་འདྲེ་ལའང་དེ་ལྟར་ཞིབ་ཏུ་བརྟགས་ནས་ལྷ་འདྲེ་གཉིས་ཀ་མིང་གིས་བཏགས་ཙམ་ལས་རང་བཞིན་གྱིས་མ་གྲུབ་པའི་ཚུལ་ཤེས་པར་བྱའོ།།',\n",
       "  'en': \"If you think that demons have caused you harm, examine how any harm could be caused by what amounts to the mere label 'demon,' since this label does not qualify as a sense object-a form, sound, odor, taste, or tactile sensation.\",\n",
       "  'small_predictions': 'Examining the harmful ghosts in this way, you should understand how both the gods and demons are merely labels and have no intrinsic existence.'},\n",
       " {'bo': 'མཆོད་སྦྱིན་གནས་འདིར་གང་ལྷགས་པའི།། འབྱུང་པོ་ས་འོག་རྒྱུ་བ་དང་།། གང་ཡང་ས་སྟེང་འཁོད་པ་དང་།། ས་བླར་རྒྱུ་བ་གང་ཡིན་པ།། མགུ་བར་གྱིས་ལ་རང་གནས་སུ།། ཐམས་ཅད་ཐ་དད་འགྲོ་བར་གྱིས།།',\n",
       "  'en': 'May all the spirits gathered here In this place of offering—those who travel beneath the earth, Those who dwell upon the earth, And those who move about above it— All be satisfied and return, Each to their own separate abode!',\n",
       "  'small_predictions': 'Whatever bhūtas who have come to this place of worship and donation, whatever they may be, whatever they may be, whatever they may be, whatever they may be, whatever they may be, whatever they may be, whatever they may be, whatever they may be, whatever they may be, whatever they may be, whatever they may be, whatever they may be, whatever they may be, whatever they may be, whatever they may be, whatever they may be, whatever they may be, whatever they may be, whatever they may be, whatever they may be, whatever they may be, whatever they may be, whatever they may be, whatever they may be, whatever they may be, whatever they may be, whatever they may be, whatever they may be, whatever'},\n",
       " {'bo': 'མི་མཐུན་དགྲ་ཟུན་སྤེལ་མ་ཡིན།།',\n",
       "  'en': 'Beings alternate between being friends and discordant foes.',\n",
       "  'small_predictions': 'You will spread adversaries enemies and foes'},\n",
       " {'bo': 'དང་པོ་ངོ་བོ་མཐོང་མ་མཐོང་ནི། སེམས་ཀྱི་ངོ་བོ་ཅིར་ཡང་གྲུབ་པ་མེད་པས་ན་སྟོང་པ།',\n",
       "  'en': 'First, whether the essence is seen or not: That mind essence has no intrinsic existence whatsoever means it is “empty.”',\n",
       "  'small_predictions': 'First, whether the essence is seen or not: Since the essence of mind is not established as anything at all, it is empty.'},\n",
       " {'bo': 'རབ་ཏུ་སྦྱོར་བར་བྱེད་པའི་ཕྱིར་རོ།།',\n",
       "  'en': 'Thus they are wholly connected and thoroughly connected.',\n",
       "  'small_predictions': 'This is because it causes one to engage in it.'},\n",
       " {'bo': 'འབྱོར་པ་ཐམས་ཅད་ཀུན་ཏུ་སྟོན་མཛད་པ།། ཐེ་ཚོམ་ཐམས་ཅད་གཅོད་པ་ཡི།། ཆོས་ཆེན་ཆར་ནི་རབ་ཏུ་འབེབས།།',\n",
       "  'en': 'In all the surrounding maṇḍalas, As the revealer of all excellent attributes, It causes a downpour of the supreme doctrine, Cutting off all doubts.',\n",
       "  'small_predictions': 'You reveal all your wealth, And pour down a rain of great Dharma That cuts through all doubts.'},\n",
       " {'bo': 'སོ་སོ་ཡང་དག་པར་རིག་པ་བརྙེས་པས་ན་བློ་གྲོས་གཞན་ལས་འཕགས་པས་ལེགས་པའི་བློ་གྲོས།',\n",
       "  'en': 'Having attained the correct knowledges, one\\'s intellect is exalted above that of others. Thus, there is \"excellent intelligence.\"',\n",
       "  'small_predictions': 'Because he has attained the analytical knowledges, he is superior to other intellects.'},\n",
       " {'bo': 'གཉིད་ནི་དགེ་བ་དང་། མི་དགེ་བ་དང་།',\n",
       "  'en': 'Sleepiness can be wholesome, unwholesome, nondefined.',\n",
       "  'small_predictions': 'Sleep is virtuous, nonvirtuous,'},\n",
       " {'bo': 'ཞི་བར་བྱེད།',\n",
       "  'en': 'Pacify if.',\n",
       "  'small_predictions': 'Pacification.'},\n",
       " {'bo': 'ཨོཾ་ཨཱ་མོ་གྷ་ཤཱི་ལ།སཾ་བྷ་ར་སཾ་བྷ་ར།བྷ་ར་བྷ་ར།མཧཱ་ཤུདྡྷ་སཏྭ་པདྨ་བི་བྷུ་ཥི་ཏ་བྷུ་ཛ།དྷ་ར་དྷ་ར།ས་མནྟ།ཨ་ཝ་ལོ་ཀི་ཏེ་ཧཱུྃ་ཕཊ་སྭཱ་ཧཱ།',\n",
       "  'en': 'oṃ amoghaśīla saṃvara saṃvara vara vara mahā-śuddha-sattva-padma-vibhūṣita-puja-dhara-dhara-samanta-avalokite hūṃ phaṭ\\xa0svāhā',\n",
       "  'small_predictions': 'oṃ amoghaśīla saṃvara saṃvara bhabhadra mahāśuddha padmasambhava padmasambhava bhuja dhara dhara samanta | hūṃ phaṭ svāhā'},\n",
       " {'bo': 'ཐལ་འགྱུར་ལས། རྣ་བ་གཡས་པས་ལས་རླུང་སྟོན།། གཡོན་པས་སྒྲ་ཉམས་ཡེ་ཤེས་ཉིད།། གཡོན་རྩ་ན་རང་བཞིན་གྱི་ཐིག་ལེ་གཡས་ན་ཀུན་རྫོབ་ཀྱི་ཐིག་ལེའོ།། དེ་ཡང་གཡས་པ་ཀུན་རྫོབ་ཀྱི་ཐིག་ལེ་ལ་བརྟེན་ནས་སུ་སྨིན་པར་བྱེད་ལ། དེ་ཉིད་ཀྱིས་ལུས་བདེ་བ་དང་སྡུག་བསྔལ་བ་དང་བཏང་སྙོམས་དང་འབྱུང་བ་འཕེལ་བ་དང་ཉམས་པ་ལ་སོགས་པའི་ལས་བྱེད་དོ།། དེ་ཡང་དེ་ཉིད་ལ་མདུད་པ་ཕྲ་མོ་བཞི་ཡོད་དེ་ལྟེ་བ་དང་། དྲན་པ་དང་རོ་རྣམས་དང་རྩེ་མོ་བཞིན་དང་པོ་རྒྱུས་སྐྱེད་བྱེད་ཀྱི་རྩ་བསྐྱེད་པས་རྩའི་ནང་དུ་ཕའི་རྒྱུ་ཐིག་ལེ་དཀར་བ་ཡུངས་འབྲུ་ལ་བཅུར་བགོས་པའི་ཆ་ཙམ་ཞིག་གནས་སོ།། དེ་ལ་བརྟེན་ནས་ལུས་ཡར་འཕེལ་དུ་བསྐྱེད་པས་རྒྱུ་ཞེས་བྱའོ།། དྲན་པ་ན་མའི་རྒྱུ་ཐིག་ལེ་དམར་པོ་ཡུངས་འབྲུའི་བཅུ་ཆ་ཙམ་གནས་པས་དྲན་བསམ་སྣ་ཚོགས་པ་འགྱུ་བའི་རྟེན་དུ་གནས་པས་དྲན་པ་ཞེས་བྱའོ།།',\n",
       "  'en': \"In the root tantra, it states: Through the right ear, the karmic winds manifest. Through the left ear, sound is heard as wisdom. Genuine vital essence flows within the left channel and relative flows in the right. In reliance upon the relative bindus in the right channel, the body is brought to maturity. This also functions in relation to the experiences of comfort, discomfort, neutrality and the like, as well as the increase and decline of the body's elemental energies. This channel also has four subtle knots at the navel, heart, throat and crown. For the first , since the cause for the channel of generation is engendered here, the root cause from the father is located within this channel as a white bindu the size of a tenth of a mustard seed. In reliance upon it, the body forms in an upward manner, hence, it is referred to as the root cause. The red bindu from the mother, about the size of a tenth of a mustard seed, is located at the heart. This abides as the source for the arising of various mental thoughts and recollections and is hence referred to as recollection.\",\n",
       "  'small_predictions': 'In the root tantra, it states: The right ear reveals karmic winds. The left ear experiences sound and wisdom. The natural bindu in the right channel is the relative bindu in the right. That matures based on the relative bindu of the right channel. That functions as the function of the body, pleasure, pain, equanimity, increase and decrease and so on. Further, there are four subtle knots in that nāḍī. Like the navel, the memory, the tastes, and the tip, first generate the nāḍī that generates the cause. Within the nāḍī, the white bindu is the size of a mustard seed. Based on that, the body increases and is called “cause.” When mindfulness arises, the cause of the mother is a red'},\n",
       " {'bo': 'སྣང་སྲིད་འཁོར་འདས་ཐམས་ཅད་ཀྱི་ངོ་བོ་དངོས་པོ་དང་མཚ༵ན་མ༵ར་གྲུབ་པ་མ༵་ཡི༵ན་ཏེ་གདོད་མ་ནས་རང་བཞིན་མེད་པ་སྤྲུལ་པ་དང་འདྲ་ཞིང་རྣམ་པ་དོན་སྤྱོད་པ་དང་བཏང་སྙོམས་ཆེན་པོས་སེམས་ཅན་རྣམས་ཞི་བ་ལ་འགོད་པའི་མཚོན་བྱེད་དུ་དྲིལ་བུ་མར་སྣང་བ༵འོ།།',\n",
       "  'en': 'Given that the nature of the phenom\\xad ena of samsara and enlightenment does not exist as substance or with characteristics, it is originally nonexistent-like magic-indicated by placing all sentient beings in quiescence and great evenness through accomplishing their welfare as Gantha.',\n",
       "  'small_predictions': 'The nature of all that appears and exists as samsara and nirvana is not established as substantial or substantial. From the very beginning it is without intrinsic nature, like a magical creation. Its aspect is the conduct of meaning and great equanimity that indicates establishing all beings in peace.'},\n",
       " {'bo': 'ཚེ་དང་ལྡན་པ་མ་འགགས་པའི་ལྷའི་མིག་གིས་ཇི་སྲིད་ཚུན་ཆད་མཐོང་།',\n",
       "  'en': 'To what distance does the divine vision of the venerable Aniruddha extend?’',\n",
       "  'small_predictions': 'Venerable, with the divine eye of the unceasing, you will see it for as long as you can.'},\n",
       " {'bo': 'འདེགས་འཇོག་བརྐྱང་བསྐུམ་འགྲོ་བའི་ལས་ནི་ལུས་ཅན་ལ་བརྟེན་པའི་ཕྱིར་ན་རྡུལ་དེ་ཡི་ལས་ཀྱི་བདག་ཉིད་ཡིན་པ་དང་།',\n",
       "  'en': 'The action of walking, for example, the lifting and lowering of the feet, the bending and stretching of the limbs—since they are based on the possession of a body—are, in principle, the activity of the particles.',\n",
       "  'small_predictions': 'The actions of beings are supported by embodied beings, so they have the nature of those particles.'}]"
      ]
     },
     "execution_count": 12,
     "metadata": {},
     "output_type": "execute_result"
    }
   ],
   "source": [
    "list(ds.select(range(10,50)))"
   ]
  },
  {
   "cell_type": "code",
   "execution_count": 20,
   "metadata": {},
   "outputs": [
    {
     "data": {
      "text/plain": [
       "[{'bo': 'བྱང་ཆུབ་ཏུ་ཐུགས་བསྐྱེད་ཅིང་གཞན་དོན་དུ་སེམས་དཔའ་རྒྱལ་བའི་སྲས་སུ་གྱུར་པ་དུས་གསུམ་དུ་གཤེགས་ཤིང་བཞུགས་པ་ཐམས་ཅད་ལའོ།། ཚུལ་ཇི་ལྟར་ན་སྒོ་གསུམ་གུས་ཤིང་དད་པའི་ཚུལ་གྱིས་སོ།། དགོས་པ་གང་གི་ཕྱིར་ན། རྒྱུད་ལ་བསོད་ནམས་ཀྱི་ཚོགས་འཕེལ་ཞིང་བར་ཆད་ཞི་བས་རྩོམ་པའི་བྱ་བ་མཐར་ཕྱིན་པར་འགྱུར་བ་དང་། འཕྲལ་ཡུན་གྱི་བདེ་བ་མངོན་མཐོ་དང་ངེས་པར་ལེགས་པའི་ཕུན་ཚོགས་འཐོབ་པར་འགྱུར་བ་སྟེ། རྒྱལ་བའི་ཡུམ་ལས། རིགས་ཀྱི་བུའམ་རིགས་ཀྱི་བུ་མོ་གང་ལ་ལ་ཞིག་གིས་དེ་བཞིན་གཤེགས་པ་ལ་ཕྱག་འཚལ་ལོ་ཞེས་བརྗོད་ན། དེ་ཐམས་ཅད་སྡུག་བསྔལ་གྱི་མཐར་ཕྱིན་པར་འགྱུར་རོ་ཞེས་གསུངས་སོ།། གསུམ་པ་༼བརྩམ་པར་དམ་བཅའ་བ་༽ ནི། ཐོས་དང་བསམ་ལ་རབ་བརྟེན་ནས།། སྒོམ་པའི་ཚུལ་ལ་སྦྱོར་བའི་ཕྱིར།། བདག་ཉིད་དབེན་པར་འདུགསྤྲ་ན།། ཚུལ་འདི་སྣང་བ་བརྗོད་པར་བྱ།། ཞེས་གསུངས་ཏེ། རྗེ་ཉིད་ངེས་དོན་དུ་སངས་རྒྱས་ཀྱི་རྣམ་ཐར་འཛིན་པ་ཡིན་ཀྱང་གདུལ་བྱ་བྱིས་པའི་སྐྱེ་བོ་རྗེས་སུ་བཟུང་བའི་སླད་དུ་སོ་སྐྱེའི་གང་ཟག་ལྟར་བསྟན་ཏེ།',\n",
       "  'en': 'Bodhisattvas are those who give rise to the mind directed toward enlightenment and have the courageous motivation to benefit others. In what manner does Rangjung Dorje pay homage? For what purpose does he pay homage? It is in order to complete the task of composing the text through increasing the accumulation of merit in the mind stream and pacifying obstacles, as well as to attain temporal and lasting happiness—the excellencies of both the higher realms and definite excellence. The prajñāpāramitā sūtras the Mother of the Victors say: If any sons of good family or daughters of good family say, “I pay homage to the Tathāgata,” they will all reach the end of suffering. Commitment to compose the text Having relied on study and reflection, In order to immerse myself in the ways of meditation, While dwelling in seclusion, I will express how this principle appears. In terms of the definitive meaning, this Lord Rangjung Dorje led the life of a buddha, but for the purpose of taking care of childish beings to be guided, he appeared like an ordinary person.',\n",
       "  'small_predictions': 'For all the bodhisattvas who have generated the mind of awakening and who have become heirs of the victorious ones for the benefit of others, who have departed throughout the three times and abide in this way. How is this done? It is done with respect and devotion in body, speech, and mind. Why is this? It is because the accumulation of merit increases in the mind and obstacles are pacified, so that the activity of undertaking is completed and the temporary and long-term happiness is attained. The Mother of the Victorious Ones says: Any noble son or noble daughter who recites “I prostrate to the Thus-Gone One” will all reach the end of suffering. The promise to compose The commitment to compose I bow down'},\n",
       " {'bo': 'འོན་ཀྱང་རང་རྟོན་དང་རང་གཅེས་མེད་ན་ཁྱོད་ཀྱིས་འགལ་རྐྱེན་ལ་གདོང་ལེན་དང་འགྲན་རྩོད་བྱེད་པའི་ནུས་པ་དུས་ནམ་ཡང་འཐོར་འདེགས་སུ་གཏོང་མི་ཐུབ།',\n",
       "  'en': 'The immediate goal is to make you bully proof, but your ability to deal with setbacks and challenges of any kind will only improve as you grow in self-confidence and self-love.',\n",
       "  'small_predictions': 'But without self-confidence and self-importance, you will never lose the ability to face adversities and compete with them.'},\n",
       " {'bo': 'འདི་ལྟ་སྟེ་འདོད་པའི་ཟག་པ་དང་། སྲིད་པའི་ཟག་པ་དང་། མ་རིག་པའི་ཟག་པ་དང་། ལྟ་བའི་ཟག་པ་སྟེ།',\n",
       "  'en': 'They are: the outflow of desire, the outflow of existence, the outflow of ignorance, and the outflow of views.',\n",
       "  'small_predictions': 'It is the contamination of desire, the contamination of existence, the contamination of ignorance, and the contamination of views.'},\n",
       " {'bo': 'ངོས་ཀྱིས་ནམ་རྒྱུན་དེ་གཉིས་ལ་བདེན་པ་གཅིག་དང་ཆོས་ལུགས་གཅིག་དང་། བདེན་པ་སྣ་མང་དང་ཆོས་ལུགས་སྣ་མང་གི་ལྟ་བ་གཉིས་ཞེས་རྗོད་ཀྱི་ཡོད།',\n",
       "  'en': 'I often characterize these two perspectives as “one truth, one religion” versus “many truths, many religions.”',\n",
       "  'small_predictions': 'I often call them one truth, one religion, many truths, and many religions.'},\n",
       " {'bo': 'རྟག་ཏུ་སྒྲོན་ཆེན་སྣང་བྱེད་བཞིན། །',\n",
       "  'en': '“She is always like a great illuminating lamp.',\n",
       "  'small_predictions': 'Like the light of a great lamp,'},\n",
       " {'bo': 'དེ་ཁོ་ན་ཉིད་ལ་རྩེ་གཅིག་ཏུ་དམིགས་པའི་བློ་ཡིས་དགག་བྱའི་ཡུལ་བཀག་རྗེས་སྟོང་ཉིད་ལས་ཅི་ཡང་མཐོང་མི་སྲིད།',\n",
       "  'en': 'The mind that single-point- edly concentrates on suchness sees nothing but vacuity after re- jecting the object of to be refuted.',\n",
       "  'small_predictions': 'It is impossible to see anything other than emptiness after the mind single-pointedly focuses on suchness.'},\n",
       " {'bo': 'དགེ་བ་འདི་ཡི་བསོད་ནམས་གང་ཐོབ་དེས།། ས་ཆུ་མེ་རླུང་ནམ་མཁའ་གནས་ཀྱི་བར།། བསྟན་པ་རིན་ཆེན་འཇིག་རྟེན་གནས་གྱུར་ནས།། འགྲོ་བ་བྱང་ཆུབ་གོ་འཕང་ཐོབ་པར་ཤོག།',\n",
       "  'en': 'May one who has attained the merit of this virtue attain the status of awakening from having the precious teaching stay in the world; remaining for as long as the earth, water, fire, wind, and space.',\n",
       "  'small_predictions': 'Through the merit gained by this virtue, May the precious teachings of the Buddha, Until they abide in earth, water, fire, wind, and space, And may beings attain the state of enlightenment.'},\n",
       " {'bo': 'གཉིས་མེད་ཉིད་ནི་ཡོད་མ་ཡིན།། ཐོག་མ་དབུས་དེང་ཐ་མ་བྲལ།། བསྐྱེད་པ་དང་ནི་རྫོགས་པ་སྤངས།',\n",
       "  'en': 'Free from beginning, middle, and end, devoid of the creation and completion stages, free from thoughts and thinker, nondual gnosis is supreme.',\n",
       "  'small_predictions': 'Without beginning, middle, or end, It is free from creation and perfection.'},\n",
       " {'bo': 'སྤྲོས་མེད་དམིགས་པའི་མཁའ་འགྲོ་གྲིབ་སེལ་ཡིན།།',\n",
       "  'en': 'It is the Elimination of Strokes and Seizures By Dakinis Focusing on the Unelaborate.',\n",
       "  'small_predictions': 'This is the dispelling of the obscurations of the ḍākinīs of unelaborate visualization.'},\n",
       " {'bo': 'མཐུན་པའི་ལྡན་པ་ནས་མཐུན་པའི་ངེས་འབྱུང་མིན་པའི་བར་དྲུག་གིས་ནི་རྩ་བའི་ལྡན་པ་ཉིད་ལྡན་པར་བྱེད་པ་ནས་རྩ་བའི་ངེས་འབྱུང་མིན་པ་ཁོ་ན་ངེས་པར་འབྱུང་བར་མི་བྱེད་དོ།།',\n",
       "  'en': 'Each of the six—from the derivative association to the derivative being nonconducive to renunciation—acts as follows: The derivative association only makes the basic association association; mutatis mutandis for each pair up to the derivative not being conducive to renunciation and the basic not being conducive to renunciation.',\n",
       "  'small_predictions': 'The six ranging from concordant association through non-conducive to definite emergence are the primary endowment itself, and not only the primary release is not released.'},\n",
       " {'bo': 'རྒྱུད་ནི་རྒྱུན་ཆགས་ལ་བཤད་དེ།། ཐབས་དང་རྒྱུ་ལས་འབྲས་བུའོ།། ཞེས་སོ།། གསུམ་པ་དབྱེ་བ་ལ་གཉིས། བརྗོད་བྱ་རྒྱུད་གསུམ་གྱི་རྣམ་གཞག་སྤྱིར་བསྟན་པ་དང་། རྗོད་བྱེད་རྒྱུད་སྡེ་བཞིའི་དབྱེ་བ་བྱེ་བྲག་ཏུ་འཆད་པའོ།། དང་པོ་ལའང་། གང་རྟོགས་པར་བྱ་བ་གཞིའམ་རྒྱུའི་རྒྱུད། གང་གིས་རྟོགས་ཤིང་བགྲོད་པ་ཐམས་སམ་ལམ་གྱི་རྒྱུད། གང་དུ་མཐར་ཕྱིན་པ་འབྲས་བུའི་རྒྱུད་དང་གསུམ་ལས། དང་པོ་ནི། གཞི་འཆིང་གྲོལ་མེད་པའི་གནས་ལུགས་རང་རིག་པ་བྱང་ཆུབ་ཀྱི་སེམས་བདེན་པ་དབྱེར་མེད་བློའི་སྤྱོད་ཡུལ་དང་བྲལ་བ་རང་བཞིན་གྱིས་འོད་གསལ་བར་ཡེ་ནས་གནས་པ་གང་ཡིན་པ་སྟེ། ཞིང་དང་།',\n",
       "  'en': '14) says: Tantra is explained as continuity: From its skilful means and causal basis, The result is derived. 3 The Three Continua of Ground, Path and Result [The way of secret mantra] is classified according to two divisions, one which generally reveals the definitive order of the three kinds of tantra or continuum comprising the expressed meaning (brjod-bya rgyud-gsum) and the other explaining, in particular, the divisions of the four tantrapiṭaka which form their literary expression (rjod-byed rgyud-sde bzhi). The former consists of three kinds of continuum, namely, the continuum of the ground or basis which is to be realised, the continuum of skilful means or the path through which realisation and progress are acquired, and the continuum of the result wherein the goal is reached. CONTINUUM OF THE GROUND Concerning the first of these: The ground is that which is primordially present as the abiding nature without bondage or liberation. It is the enlightened mind of intrinsic awareness, the natural inner radiance wherein truth is indivisible and which is free from the range of the intellect.',\n",
       "  'small_predictions': 'The tantra is explained in terms of the continuum: the method and the cause are the result. The Analysis of the Tantra This section has two parts: a general presentation of the three tantras that are to be expressed, and a specific explanation of the divisions of the four classes of tantra that express them. The Tantra of the Basis or Cause That Is to Be Realized This section has three parts: the tantra of the ground or cause that is to be realized, the tantra of skillful means or path that is to be realized and the tantra of the fruition that is to be reached. The Tantra of the Basis That Is the Natural State The ground that is free from'},\n",
       " {'bo': 'སེམས་ཅན་གཅིག་ཡིད་ཇི་སྙེད་པ། །སངས་རྒྱས་ཀྱིས་ནི་རབ་མཁྱེན་ཀྱང་། །ང་ཡིས་ཡིད་འདི་ཤེས་སོ་ཞེས། །དེ་ནི་རྟོག་པར་མི་འགྱུར་རོ། ། དུས་གསུམ་སེམས་ཅན་ཐམས་ཅད་ཀྱི། སེམས་པ་དག་ནི་ཇི་སྙེད་པ། །འཇིག་རྟེན་མགོན་པོ་ཆོས་སྟོན་ཚེ། །དབྱངས་ཀྱི་ཡན་ལག་དེ་སྙེད་དོ། ། ཆོས་ཀྱི་བདག་པོ་གསུང་བ་ན། ། དབྱངས་ཀྱི་ཡན་ལག་ཇི་སྙེད་པ། །ཆོས་ཀྱི་མིང་གིས་བཤད་པ་ཡི། །ཆོས་བསྟན་པ་ཡང་དེ་ཙམ་མོ། ། སེམས་ཅན་ཀུན་གྱི་གཟུགས་དང་ནི། །མིང་དང་སེམས་པ་ཇི་སྙེད་པ། །སེམས་ཅན་སྙིང་པོའི་སྤུ་གཅིག་ནས། ། འོད་ཟེར་འབྱུང་བ་དེ་སྙེད་དོ། ། འཇིག་རྟེན་མགོན་པོའི་སྤུ་ཀུན་གྱི། །འོད་ཟེར་དག་ནི་ཇི་སྙེད་པ། །མི་ཡི་དབང་པོ་ཆོས་སྟོན་ཚེ། །གསུང་གི་ཡན་ལག་དེ་བས་མང་། ། དཔེ་བཀོད་ནས་ནི་སངས་རྒྱས་ཀྱིས། །བསྐལ་པར་རབ་ཏུ་བསྟན་མཛད་ཀྱང་། །སངས་རྒྱས་ཀྱི་ནི་གསུང་དབྱངས་ཀྱི། མཐའ་མ་རྙེད་པར་མི་འགྱུར་རོ། ། ཉོན་མོངས་གཟུགས་ཅན་མ་ཡིན་རྣམས། །གཟུགས་ཅན་མིན་པའི་ཚིག་གིས་བརྗོད། གཟུགས་ཅན་མིན་པའི་ཚིག་གིས་ནི། །ཉོན་མོངས་གཟུགས་མེད་ཞི་བར་བྱེད། །',\n",
       "  'en': 'Of even a single being, even in an eon. “Though a perfect buddha knows The extent of a single being’s mind, He will not form the thought, ‘I know this being’s mind.’ “When the Lord of the World teaches the Dharma, The types of his speech are equal To the number of thoughts Of all beings of the three times. “When the Master of Dharma speaks, As many types of speech as he has, The word dharma can express Just as many teachings of the Dharma. “The light rays that issue from a single hair Of that Essence of Beings Is equal in number to the appearances, Words, and thoughts of all beings. “When the Master of Men teaches the Dharma, The types of his speech are greater Than the number of light rays that issue From all the hair of that Lord of the World. “Analogously, even if a buddha Were to appear for an eon, One could not find an end To the sound of a buddha’s voice. “Afflictions that are without form Are described with formless words. Yet, words that are without form Can quell formless afflictions.',\n",
       "  'small_predictions': '“Though the Buddha knows the minds Of a single being, He does not think, ‘I know this mind.’ “The minds of all beings of the three times Are equal in number to the aspects of speech. “When the Lord of the World teaches the Dharma, The aspects of speech are equal in number to the aspects of speech. “When the Lord of the Dharma teaches the Dharma, The Dharma is equal in number to the aspects of speech. “All the forms and names Of all beings Are equal in number to the arising of light rays From a single pore of the heart of beings. “All the rays of light From all the pores of the Lord of the World Are equal in number to the'},\n",
       " {'bo': 'ཕལ་ཆེན་སྡེ་པ་ལ་སོགས་པ་གཞན་དག་ནི་མདོའི་དགོངས་པ་ནི་འཇིག་རྟེན་གྱི་ཁམས་གཅིག་གི་དབང་དུ་མཛད་ནས་གསུངས་པ་ཡིན་གྱི་མདོ་གཞན་ལས་ཤར་ལ་སོགས་པའི་འཇིག་རྟེན་ནའང་སངས་རྒྱས་དུ་མ་ཡོད་པར་གསུངས་པའི་ཕྱིར་རོ་ཞེས་འདོད་པ་ཉིད་རིགས་པ་ཡིན་ནོ།། དེ་ཡང་དུས་མཉམ་དུ་སེམས་བསྐྱེད་ཅིང་ཚོགས་བསགས་པ་དག་ལ་ཁ་ཅིག་སངས་རྒྱལ་ཁ་ཅིག་ལ་གེགས་བྱེད་པ་སུ་ཡོད། དེས་ན་ཞིང་གཅིག་ཏུ་ལྷན་ཅིག་མི་འབྱུང་ཡང་གཞན་དུ་འབྱུང་ངོ།། མདོ་དེ་ནི་ཞིང་གཅིག་ལ་དགོངས་པ་སྟེ།',\n",
       "  'en': 'The Mahasamghika school and so on assert that this sutra intends just one world system.',\n",
       "  'small_predictions': 'Other Mahasanghikas and so on assert that the intention of the sutra is stated from the perspective of a single world system, but other sūtras say that many buddhas exist in the world of east and so on because it is reasonable to assert that the sutra is stated from the perspective of a single world system because other sūtras say that many buddhas exist in the world system of east and so on.'},\n",
       " {'bo': 'ཤ་ར་དྭ་ཏིའི་བུ་གཞན་ཡང་བྱང་ཆུབ་སེམས་དཔའ་སེམས་དཔའ་ཆེན་པོ་ཤེས་རབ་ཀྱི་ཕ་རོལ་ཏུ་ཕྱིན་པ་ལ་སྤྱོད་པའི་ཚེ། གཟུགས་བདེའོ་ཞེས་བྱ་བར་མི་སྦྱོར་རོ། །',\n",
       "  'en': '“Moreover, Śāradvatīputra, when bodhisattva great beings practice the perfection of wisdom, they do not associate physical forms with ‘happiness.’',\n",
       "  'small_predictions': '“Moreover, Śāradvatīputra, when bodhisattva great beings practice the perfection of wisdom, they do not associate physical forms with ‘happiness.’'},\n",
       " {'bo': 'ཤིན་ཏུ་ལྐོག་གྱུར་གྱི་སྐོར་གསུངས་པའི་སངས་རྒྱས་ཀྱི་གསུང་རྣམས་ཚད་མ་ཡིན་པར་ཁས་ལེན་ཆོག་པའི་རྒྱུ་མཚན་གཅིག་ནི། ཅུང་ཟད་ལྐོག་གྱུར་གྱི་ཡུལ་དང་འབྲེལ་བར་གསུངས་པའི་ཁོང་གི་བཀའ་རྣམས་ཚད་མ་ཡིན་པར་བསྒྲུབས་པས་ཡིན། ཆོས་ཉམས་སུ་ལེན་འདོད་མཁན་ཞིག་གི་དམིགས་བྱ་གཙོ་བོ་ནི།',\n",
       "  'en': \"One of the reasons that Buddha's words can be accepted as valid in relation to very obscure phenomena is that in regard to less hidden things his teachings have proven to be reliable and valid.\",\n",
       "  'small_predictions': 'One of the reasons why the teachings of the Buddha about extremely obscure phenomena can be accepted as valid is that the teachings of the Buddha are valid in relation to slightly obscure objects.'},\n",
       " {'bo': 'བདེ་བའི་བློ་གདེང་ཉམས་རྟོགས་ཁོ་སྐྱེས་ཚེ།། བདེ་ཞུས་ཕྱིར་དུ་འོངས་པ་ཡིན་ཞུ་ལགས།།',\n",
       "  'en': 'When meditation experiences and realization arise, And with them a confident and truly satisfied mind, I’ll return to offer you my best wishes.',\n",
       "  'small_predictions': 'When I have gained confidence in bliss and experience and realization, I have come to ask for happiness.'},\n",
       " {'bo': 'ལར་འཆི་བ་འདི་གས་འཇིགས་ཞུ་བ་ལ།',\n",
       "  'en': 'In fact, I’m terrified of dying.”',\n",
       "  'small_predictions': 'In general, I am afraid of death!'},\n",
       " {'bo': 'ཁྱད་པར་འབྱུང་ལྔའི་དྭངས་བཅུད་ཀུན། །',\n",
       "  'en': 'And in particular the essence of the five elements.',\n",
       "  'small_predictions': 'And especially the vital essence of the five elements'},\n",
       " {'bo': 'དེ་ལ་མ་དག་པའི་གནས་སྐབས་ནི་སོ་སོའི་སྐྱེ་བོ་ཐམས་ཅད་ཡིན་ཏེ།',\n",
       "  'en': 'Concerning those, the impure state is all common beings.',\n",
       "  'small_predictions': 'The impure state refers to all ordinary beings.'},\n",
       " {'bo': 'སྒྲུབ་བྱེད་གཞན་བདག་སྐྱེ་དང་། དེ་དག་ལ་རིགས་པའི་གནོད་བྱེད་ཡོད་པས། དེས་ན་ལས་ཀྱིས་འབྲས་བུ་བསྐྱེད་པའི་ཚུལ་ལའང་། བློ་ལ་དེ་ལྟར་དུ་སྣང་བ་ལས་སྒྲུབ་བྱེད་གཞན་མེད་ལ། སྒྲུབ་བྱེད་གཞན་བཙལ་བ་ན་ཕྲད་ནས་སྐྱེད་དམ། མ་ཕྲད་ནས་བསྐྱེད་པ་གཉིས་ལས་མ་འདས་པས། དང་པོ་ལྟར་ན་ལས་རྟག་པར་འགྱུར་ཞིང་། ཕྱི་མ་ལྟར་ན་ཐམས་ཅད་ཀྱིས་ཐམས་ཅད་བསྐྱེད་པར་ཐལ་བའི་ཉེས་པ་མཐོང་ནས། དངོས་སྨྲ་བ་རྣམས་ཀྱིས་ཉེས་པ་ཕྱི་མ་སྤང་པའི་ཕྱིར་དུ་ལས་འབྲས་ཀྱི་རྟེན་ཁས་ལེན་པ་ཡིན་ལ། ཞིག་པ་དངོས་པོ་བ་ལས་འབྲས་ཀྱི་རྟེན་དུ་འདོད་པའང་འདི་ལས་མ་འདས་པས། ཁོ་བོ་ནི་ཕྲད་མ་ཕྲད་ཀྱི་དཔྱད་པ་བྱས་པའི་ཚེ་ན་ལས་ཀྱིས་འབྲས་བུ་བསྐྱེད་པ་ཉིད་ཀྱང་མི་འདོད་པས་ལས་འབྲས་ཀྱི་རྟེན་ཁས་ལེན་པའི་དོན་མེད་དོ།།',\n",
       "  'en': 'If one posits self-arising or arising from other, etc., This is the point. Thus, with regard to the manner in which actions produce their results, there is no evidence for this production of results other than the fact that it appears that way to the minds of the worldly beings. If one searches for other possible evidence, there are only two alternatives: the result must be produced either by coming into contact with the action or by not coming into contact with it. If it is the first case, then the action would be permanent. If it is the second case, then, seeing the fault that all results would arise from all actions, the realists had to accept a link between action and result in order to escape this fault. Since accepting the existence of an entity termed ‘entity of extinction’ as the link between action and result is also not beyond this realist’s understanding and as 1 don’t accept that action even produces the result when one examines whether or not they come into contact with each other, there is no point in accepting any link between action and result.',\n",
       "  'small_predictions': 'There is no other proof than arising from self and there is a logical refutation of this. Therefore, in regard to the way in which effects are produced by karma, there is no other proof than that which appears to the mind as such, and there is no other proof than that which is produced by contact or by no contact. Therefore, if the first were the case, the karma would be permanent. If the second were the case, the consequence would follow that everything would be produced by all, and the proponents of true existence accept the support of actions and results in order to avoid the latter fault. The assertion that the entity of disintegration is the support for actions and results is not beyond this.'},\n",
       " {'bo': 'དེ་ཕྱིར་གཉིས་གའི་མཐའ་ནི་རྣམ་སྤངས་ནས།། མཁས་པས་དབུས་ལའང་གནས་པར་ཡོད་མི་བྱེད།།',\n",
       "  'en': 'Therefore, avoiding both sets of extremes, The wise should not abide even in the middle.',\n",
       "  'small_predictions': 'Therefore, having abandoned both extremes, the wise do not abide in the middle.'},\n",
       " {'bo': 'ཞིང་གི་དྲ་བའི་བྱེ་བྲག་ཇི་སྙེད་གཞི། །སེར་བུ་མཁའ་ལ་ཆགས་པ་མེད་པ་ལྟར། །རིང་པོར་མི་ཐོགས་རྒྱས་པར་འགེངས་པར་འགྱུར། །',\n",
       "  'en': 'Before long you will pervade completely, Like hail falling without impediment from the sky, As many of the different surfaces of the net of realms as there are.',\n",
       "  'small_predictions': '“Just as a breeze is not attached to the sky, So too will it be filled before long.'},\n",
       " {'bo': 'ཚ་ཆེས་མང་པོ་ནི་རང་གཞན་སུ་ལའང་ཕན་གྱི་མེད།',\n",
       "  'en': 'Too much salt is not good for anyone.',\n",
       "  'small_predictions': 'The most hot is not helpful to anyone.'},\n",
       " {'bo': 'བསླབ་པ་དག་ལ་མ་ལེན་ཅིག།',\n",
       "  'en': \"Don't take on the trainings.\",\n",
       "  'small_predictions': 'Do not take up the precepts.'},\n",
       " {'bo': 'དེ་ནི་རེ་ཞིག་དེ་ཉིད་མིན།། དེ་ལས་གཞན་པའང་མ་ཡིན་ལ།། དེ་ཕྱིར་རྟག་མིན་ཆད་མ་ཡིན།། ཞེས་གསུངས།',\n",
       "  'en': 'Therefore it is neither permanent nor nothing.',\n",
       "  'small_predictions': 'First, it is not the same, nor is it different from it, So it is neither permanent nor annihilated.'}]"
      ]
     },
     "execution_count": 20,
     "metadata": {},
     "output_type": "execute_result"
    }
   ],
   "source": [
    "list(ds.select(range(50,75)))"
   ]
  },
  {
   "cell_type": "code",
   "execution_count": 21,
   "metadata": {},
   "outputs": [
    {
     "data": {
      "text/plain": [
       "[{'bo': ' དོན་གྱི་དབང་འདི་གཟིགས་ནས་ས་ར་ཧས། གཉིས་སུ་མི་བྱ་གཅིག་ཏུ་བྱ་བ་སྟེ།། རིག་ག་ས་ལ་བྱེ་བྲག་དག་ཏུ་མ་འབྱེད་པ་ར།།',\n",
       "  'en': \" Seeing the implication of this, Saraha said in an Enlightenment Song: Don't take it as two, take it as one; Don't distinguish the various specific clans.\",\n",
       "  'small_predictions': 'Having seen this power of meaning, Saraha said: Do not divide it into two, make it one; Do not distinguish between the levels of knowledge.'},\n",
       " {'bo': 'ཀུན་ཀྱང་ཕན་ཚུན་དགྲ་དང་གསོད་པ་ཡིན།།',\n",
       "  'en': 'All of you are mutual enemies and murderers.',\n",
       "  'small_predictions': 'All of them are enemies and killers.'},\n",
       " {'bo': ' དྲིན་ཅན་དུ་གྱུར་པའི་མ་འདི་ད་ལྟ་འཁོར་བ་མཐའ་མེད་དུ་བདག་གི་དོན་བྱེད་བྱེད་ནས་འཁྱམས་ནས་སྡུག་བསྔལ་སྣ་ཚོགས་དང་བཅས་པ་འདི་སྙིང་རྗེ་སྙམ་དུ་མི་བཟོད་པའི་བསམ་པ་བརྩེ་དུང་བ་བསྐྱེད་ལ། ད་ནི་ངས་ཀྱང་ལན་དུ་ཕན་པ་དང་། བདེ་བ་ཐམས་ཅད་ཀྱི་ཕན་གདགས། གནོད་པ་དང་མི་ཕན་པ་ཐམས་ཅད་ལས་བསྐྱབ་པར་བྱ་སྙམ་དུ་བསམ།  འོ་ན་མ་རྒན་ལ་གང་གིས་གནོད་ན་སྡུག་བསྔལ་གྱིས་དངོས་སུ་གནོད། ཀུན་འབྱུང་གིས་བརྒྱུད་ནས་གནོད། དེ་ཐམས་ཅད་ངས་ཉམས་སུ་བླང་སྙམ་དུ་བསམས་ལ། མ་རྒན་གྱི་རྒྱུད་ལ་ཡོད་པའི་སྡུག་བསྔལ་ཀུན་འབྱུང་ཉོན་མོངས་ཤེས་བྱའི་སྒྲིབ་པ་བག་ཆགས་དང་བཅས་པ་ཐམས་ཅད་གྲིས་བཞར་བ་བཞིན་དུ། མ་རྒན་གྱི་རྒྱུད་ལས་སངས་ཀྱི་བླངས་ནས་རང་གི་སྙིང་གི་ནང་དུ་བླངས། དེ་ནི་བྱང་ཆུབ་ཀྱི་སེམས་བླང་བ་བསྒོམ་པ་ཡིན་ཏེ། ཡང་མ་རྒན་གྱི་བདེ་བ་ཐམས་ཅད་ངས་བསྒྲུབ་པར་བྱ་སྙམ་དུ་བསམས་ལ། རང་གི་ལུས་ལོངས་སྤྱོད་དགེ་བ་ཐམས་ཅད་མ་རྒན་ལ་ལྟོས་པ་མེད་པར་འབུལ།',\n",
       "  'en': 'You should reflect \"How sad that she, my kind mother, has been wandering in the infinite cycle of existence with so many kinds of sufferings, all the while working for my benefit. In return, I shall now help her by providing her benefits and happiness. I shall protect her from harm and all misfortune.\" You should reflect in this manner. What harms this dear mother? Suffering harms her directly, while the origin of suffering injures her indirectly. So while thinking, \"I shall take all these upon myself,\" take into your own heart in clean swaths-as if layers sheared off by a sharp knife-all the sufferings, their origin, the afflictions, and the subtle defilements to knowledge along with their propensities, all of which exist in your dear mother. This is the meditation on the \"taking\" aspect of awakening mind. Again, thinking, \"I shall myself seek the complete happiness of my dear mother,\" unconditionally offer your body, wealth, and all your virtues to your mother.',\n",
       "  'small_predictions': 'Reflect on the unbearable, unbearable, heartfelt wish that this kind mother of mine has been wandering in endless samsara for the benefit of me and has all kinds of suffering. Reflect, “From now on, I will protect myself from all the benefits and benefits of all happiness and from all that is harmful and unhelpful.  Well then, what harm is there to my old mother? It is directly inflicted by suffering and indirectly inflicted by the source of suffering. I will put all these into practice.” Just as all the suffering and its origins, along with all the afflictive and cognitive obscurations, together with their habitual tendencies, are purified from the streams of your old mother'},\n",
       " {'bo': 'ཁོ་ཚོས་སྤྱི་ཡོངས་རང་བཞིན་གྱི་ཚོར་བ་ཞིག་དང་བཅས་ཀློག་འགོ་རྩོམ་པ་ཡིན། དཔྱད་རྩོམ་དེའི་སྒྲོམ་གཞི་དང་གལ་ཆེ་ཤོས་ནི་ཁོ་ཚོས་དང་པོ་ཅིའི་ཕྱིར་ཁྱེད་ཀྱི་དཔྱད་རྩོམ་ཀློག་དགོས་པ་ཡིན་ནམ་བསམ་བཞིན་ཀློག་གི་རེད།',\n",
       "  'en': 'They want to begin with a sense of the whole, its structure, and, most important, why they should read your paper in the first place.',\n",
       "  'small_predictions': 'They begin to read with a general sense of feeling: the structures and most important of the paper are why they should read your paper first.'},\n",
       " {'bo': 'དེ་ལྟར་འདོད་པ་ལ་སྐྱོན་མེད་ཅིང་ཡོན་ཏན་དང་ལྡན་པའི་ཕྱིར།',\n",
       "  'en': 'For, accepting such worldly consensus does not entail any faults and is endowed with advantages.',\n",
       "  'small_predictions': 'This is because those who desire it have no fault and are endowed with good qualities.'},\n",
       " {'bo': 'ལྷ་སྦྱིན་དོན་གཞན་པའི་བ་ལང་དང་ལྡན་པ་ལྟར་གཟུགས་ལས་དོན་གཞན་པའི་བུམ་པ་གཟུགས་དང་ལྡན་པར་རྟོག་ན་གཟུགས་དང་ལྡན་པའི་བུམ་པ་གཟུགས་ལས་རང་བཞིན་གཞན་དུ་ཡོད་པ་མིན་ལ་སྟེ་ཡོད་པ་མིན་པར་ཐལ།',\n",
       "  'en': 'One might think that the pot which is something distinct from visible form possessed form the way Devadatta possesses a cow, as something separate.',\n",
       "  'small_predictions': 'If Devadatta thinks that a pot that is a different entity from form possesses form, then it follows that the pot that possesses form does not exist as a different entity from form.'},\n",
       " {'bo': 'ཆོས་ཀྱི་དབྱིངས་སྐྱོན་གསུམ་བྲལ་བའི་ནམ་མཁའ་ལྟ་བུའི་ཀློང་ལ་དོན་དམ་རང་བྱུང་གི་འོད་གསལ་ཉི་མ་དེ་ཉིད་ཤར་བ་འདི་ནི་ཆོས་ཉིད་དོ།།',\n",
       "  'en': 'As a result, the sun of ultimate self-arisen luminosity appears in the vast expanse of the dharmadhātu, which is like the sky free of the three impurities. This is the dharmatā.',\n",
       "  'small_predictions': 'In the expanse of the dharmadhātu, which is like space, free of the three defects, the sun of the naturally arisen ultimate luminosity dawns. This is the true nature of phenomena.'},\n",
       " {'bo': 'རྗེས་ཐོབ་ཀྱི་རྟོགས་པའི་ལྡོག་པ་མི་འདྲ་བ་བཅུ་པོ་དེ་ཡང་མཉམ་བཞག་གི་ངོར་རྟོགས་པ་ཙམ་ལ་ཁྱད་པར་མེད་དེ།',\n",
       "  'en': 'Furthermore, these ten distinct aspects of realization pertain to postmeditation, there are no such distinctions with respect to what one simply realizes in the context of meditative equipoise.',\n",
       "  'small_predictions': 'There is no difference between the ten different types of realization in the postmeditation period and the mere realization in the face of meditative equipoise.'},\n",
       " {'bo': 'དབྱངས་དང་རོལ་མོའི་བྱེ་བྲག་རྣམས་རིག་འཛིན་གོང་མའི་ཕྱག་རྒྱུན་མ་ཉམས་པར་སྤྱད་ན་བྱིན་རླབས་ཆེ།',\n",
       "  'en': 'If the styles of chanting and playing music which come from the vidyādharas of the past are maintained properly, they will bring great blessings.',\n",
       "  'small_predictions': 'If you engage in the unbroken lineage of the vidyādharas of the past, you will receive great blessings.'},\n",
       " {'bo': 'ཆོས་བཞི་བསྟན་པའི་མདོ་ལས། བྱམས་པ། བྱང་ཆུབ་སེམས་དཔའ་སེམས་དཔའ་ཆེན་པོ་ཆོས་བཞི་དང་ལྡན་ན་སྡིག་པ་བྱས་ཤིང་བསགས་པ་ཟིལ་གྱིས་གནོན་པར་འགྱུར་རོ།།',\n",
       "  'en': 'The Sutra Giving the Four Teachings says: Maitreya, if bodhisattvas, the great heroes, possess these four teachings, then they will overcome any sins that they have committed and accumulated.',\n",
       "  'small_predictions': 'The Sūtra Teaching the Four Dharmas says: Maitreya, if a bodhisattva great being possesses four qualities, he will outshine the sins he has committed and accumulated.'},\n",
       " {'bo': 'ཚོར་བ་ལ་ཚོར་བའི་མཚན་ཉིད་མེད་དོ། །',\n",
       "  'en': 'Feelings are without the defining characteristics of feelings.',\n",
       "  'small_predictions': 'Sensation is without the defining characteristics of sensation.'},\n",
       " {'bo': 'ཁྲིམས་གཅོད་ཉིན་མོའི་གཙོ་བོ་དང་། བྱམས་དང་སྙིང་རྗེའི་བདག་ཉིད་ཅན།། འཇིག་རྟེན་བདག་པོ་ཉིད་ལ་བསྟོད།། ཁྱེད་ཉིད་གཅིག་པུར་དད་ཅིང་གུས།། ཁྱེད་ཉིད་གཅིག་པུར་སྐྱབས་སུ་བཅོལ།། ངེད་ཅག་དྲང་པོའི་ལམ་དུ་འཁྲིད།། ཉིད་ཀྱིས་ཉེ་བར་བཟུང་བའི་ལམ་་།། སུ་ར། ༡འཇིག་རྟེན་བྱེད་པོ་ནི་དམིགས་གཏད་གཙོ་བོ་དེ་ཡིན་པས། ཨེ་ཟི་ལམ་ཞེས་པ་འི་ཚིག་ནི། ཨ་རབ་སྐད་ཀྱི་ཁས་ལེན་པ་དང་། མགོ་སྒུར་བ། ཡང་ན། མགོ་འདོགས་བྱེད་པ་ལས་གྲུབ་པ་ཞིག་ཡིན་པར་ངོས་ལ་བཤད་བྱུང་། ཁ་ཆེ་ཆོས་ལུགས་ཀྱི་ནང་དུ་རྗེས་འཇུག་པ་ཚོས་འཇིག་རྟེན་བྱེད་པོའི་ཐུགས་འདུན་བསྒྲུབ་རྒྱུ་དེའི་ཆ་ཤས་གཙོ་བོ་ཞིག་རེད། འཇིག་རྟེན་བྱེད་པོ་བྱམས་པ་དང་སྙིང་རྗེའི་བདག་ཉིད་ཅན་ཡིན་སྟབས། ངོས་ཀྱི་གོ་རྟོགས་ལ། དད་ལྡན་པ་རྣམས་ཀྱིས་འཇིག་རྟེན་ཀུན་ཁྱབ་ཀྱི་སྙིང་རྗེ་དེར་ཐེ་ཚོམ་མེད་པར་མགོ་འདོགས་བྱེད་ཅིང་། དེ་ལ་བརྟེན་ནས་འཇིག་རྟེན་བྱེད་པོའི་སྙིང་རྗེ་དེ་དད་ལྡན་པ་ཚོའི་བྱ་སྤྱོད་ཀྱི་ཁྲོད་ནས་མངོན་དུ་འགྱུར་བ་ཡིན། ནང་པའི་ཆོས་ལུགས་ཀྱི་ནང་དུ་འདི་དང་ཆ་འདྲ་བའི་ཉམས་ལེན་ཞིག་ཡོད་པ་དང་། དེའི་ནང་དུ་རང་གི་ལུས་སྲོག་ལོངས་སྤྱོད་དང་བཅས་པ་གཞན་དོན་གྱི་ཆེད་དུ་གཏོང་དགོས།',\n",
       "  'en': 'Praise be to God, Lord of the Universe, The Compassionate, the Merciful, Sovereign of the Day of Judgment! You alone we worship, and to You alone we turn for help. Guide us to the straight path, The path of those whom You have favored …(SURAH 1) The focus on God is so central that the very name Islam has the connotation of total submission to God. The word, I am told, is derived from the Arabic for “to accept,” “to surrender,” or “to submit.” As a religion, what is central in Islam is a submission of the individual to the will of God. Since God is characterized as the Compassionate and the Merciful, in my understanding, the faithful are actually offering an absolute submission to the ideal of universal compassion. By way of such submission, God’s compassion can flow through the actions of the faithful. In my own Buddhist tradition, there is a similar practice in which one offers one’s entire being as a servant to the embodiment of compassion.',\n",
       "  'small_predictions': 'I praise the Lord of the World, the chief of the day of law, the embodiment of love and compassion. I praise you alone. You have faith and devotion alone. You have taken refuge alone. We lead us on the right path. The path you have taken is the path you have taken. The word “mahā” refers to the fact that God is the main focus of the concept of Arabicism, which I have explained to me that the word “mahā” refers to the fact that it comes from the acceptance of Arabicism, the way to the head and the way to the head and the way to the head. In Islam,'},\n",
       " {'bo': 'སྡུག་བསྔལ་གྱི་རྒྱུ་སོགས་ལས་འབྲས་བུ་སྡུག་བསྔལ་འདི་རབ་ཏུ་འབྱུང་བ་ཡིན་ནོ་ཞེས་དེ་དང་དེར་རྣམ་པར་རྟོག་པ་ཙམ་ཡིན་པའི་ཕྱིར།། དཔེར་ན་སྡུག་བསྔལ་གྱི་རྒྱུ་ཡི་རལ་གྲི་སོགས་ལ་རྟོགས་པའི་བློ་ཅན་བཞིན་ནོ།། འགོག་བདེན་ཡང་བཀག་པ་ནི། དང་པོ་སྐྱེ་བ་མེད་པར་མཐར་འགག་པ་ཡང་ཡོད་པ་མིན་ཏེ།།',\n",
       "  'en': 'Likewise, [We] do not think that a cognition that has the cause of suffering as its object is true, because it is a cognition of the form of suffering and so forth, like a different cognition of a cause of suffering. A cognition that has the cause of suffering as its object is not true, because it is a cognition of the form, “Suffering arises from a painful cause,” like the cognition that something like a sword blow is a cause of suffering. Now that the origin [of suffering] has been negated in this way, [the next verse] negates the truth of cessation. If there is no arising, there is no cessation, because of the negation stated earlier. Earlier in this text [we] negated all arising and then proved that if something does not arise, it does not cease. If there is nothing [to cease], there ultimately cannot be any cessation, and there cannot be any way for the truth [of cessation] to be correct.',\n",
       "  'small_predictions': 'The refutation of the truth of cessation: If there is no arising in the beginning, there is no cessation in the end.'},\n",
       " {'bo': 'ཆུས་ཡན་ལག་བཞི་དག་པར་བྱས་པར་མ་ཟད། བླ་སྲོག་དང་འཕྲད་པས་སེམས་ཀྱི་རྒྱུད་ཀྱང་གཙང་མར་བྱས་ཤིང་། སས་ནི་ལུས་ཕུང་འདེགས་སྐྱོར་བྱེད་པར་མ་ཟད་སྤྲོ་སེམས་ཀྱང་འཕེལ་བར་བྱེད། རྒྱུ་མཚན་གང་ཞེ་ན། དེ་དང་འཕྲད་པ་ནི་དངོས་པོ་དང་ཐུག་ཅིང་ཕྲད་ཙམ་མ་ཡིན་ཏེ། དེ་ནི་ཚེ་སྲོག་གི་མཚོན་བྱེད་ཡིན་ནོ།། མི་ཞིག་གིས་རང་ཉིད་དང་འཇིག་རྟེན་བར་གྱི་འབྲེལ་བ་ཟབ་ཚུལ་མ་ཚོར་བའི་སྐབས་སུ། ཁོ་ནི་ལྕགས་རིས་བསྐོར་བའི་འབྲེལ་མེད་ཁེར་རྐྱང་གི་ཁྲིམས་ཁང་དུ་གནས་པ་ལྟ་བུ་རེད་ཅེས་ན་མི་ཆོག་པ་མེད། ཁོས་ཕྱི་རོལ་གྱི་ཆོས་ཡོད་ཚད་ལ་རྟག་བརྟན་གྱི་རྣམ་ཤེས་ཤིག་ཡོད་པར་ངོས་ཟིན་སྐྱེས་དུས་ད་གཟོད་ཐར་བའི་གོ་འཕང་བརྙེས་ལ། དེའི་རྒྱུ་མཚན་སླ་སྟེ་ཁོས་རང་ཉིད་འཚོ་བ་རོལ་བའི་འཇིག་རྟེན་གྱི་ཁམས་འདིའི་ཆེས་ལེགས་པའི་དོན་སྙིང་རྙེད་པ་དང་། སྐབས་དེར་སླེབས་ཚེ་མིས་རང་ཉིད་ནི་མཐའ་གཅིག་ཏུ་བདེན་དོན་གྱི་ཕྱོགས་ན་གནས་པར་ངེས་ཤེས་རྙེད་ལ། དེར་མ་ཟད་ཕྱི་རོལ་གྱི་ཆོས་ཡོད་དགུ་དང་འགྲིག་མཐུན་གྱི་འབྲེལ་བ་ཚུགས་སོ།། རྒྱ་གར་དུ་མི་རྣམས་ལ་ལམ་བསྟན་པར་བརྟེན་ནས། ཁོ་ཚོ་དང་ཁོར་ཡུག་གི་ཆོས་ཀྱི་བར་འབྲེལ་བ་གཏིང་ཟབ་ཡོད་པར་ངེས་རྟོགས་བྱུང་འདུག་ཁོ་ཚོས་ནངས་ཀའི་ཉི་ཤར་གྱི་ཕྱོགས་དང་། ཆུའི་འབབ་ཕྱོགས། འབྲས་བུ་གཡུར་དུ་ཟ་བའི་ཞིང་ས་ཆེན་པོ་དང་བཅས་ལ་སྨོན་འདུན་ཞུ་ཞིང་། དེ་དག་ནི་རིགས་གཅིག་པའི་འཚོ་བའི་བདེན་དོན་གསལ་དུ་མངོན་པ་དང་། དེ་ལྟར་ང་ཚོས་ཉིན་རེ་བཞིན་བསམ་གཞིག་བྱ་ས་ནི་འཕགས་པའི་སྙན་ཚིག་ཡིན། དེ་ནི་རིག་བྱེད་ཀྱི་གཞུང་ཡོད་དོ་ཅོག་གི་འཐུས་ཚབ་ལྟ་བུ་ཡིན།',\n",
       "  'en': 'The water does not merely cleanse his limbs, but it purifies his heart; for it touches his soul. The earth does not merely hold his body, but it gladdens his mind; for its contact is more than a physical contact - it is a living presence. When a man does not realise his kinship with the world, he lives in a prison-house whose walls are alien to him. When he meets the eternal spirit in all objects, then is he emancipated, for then he discovers the fullest significance of the world into which he is born; then he finds himself in perfect truth, and his harmony with the all is established. In India men are enjoined to be fully awake to the fact that they are in the closest relation to things around them, body and soul, and that they are to hail the morning sun, the flowing water, the fruitful earth, as the manifestation of the same living truth which holds them in its embrace. Thus the text of our everyday meditation is the Gayatri, a verse which is considered to be the epitome of all the Vedas.',\n",
       "  'small_predictions': 'Water has purified its four limbs, and the earth has purified its spirit of soul. Earth has supported its body and increases its enthusiasm. Because meeting is not merely contact with matter, but the symbol of life. When one does not see the relationship between himself and the world, it is not enough to say that he is in a solitary place surrounded by iron walls. Only when he recognizes the existence of an eternal soul in the external world can he attain enlightenment. It is easy to say that he discovers the highest meaning in the world that he lives; that he discovers that he is at one extreme in truth; that he is in harmony with all the external'},\n",
       " {'bo': 'བྱིན་རླབས་ལ་དྲུག། བླ་མ་དམ་པས་བྱིན་གྱིས་སྤྱི་བོར་མོས་གུས་ཀྱི་བརླབ། ལྷག་པའི་ལྷས་ཡེ་ཤེས་པ་གཞུག་པ་བྱིན་གྱིས་བརླབ། ཕྱི་ནང་མཁའ་ཚོགས་ཀྱིས་མཉེས་པ་འགྲོས་བྱིན་གྱིས་བརླབ། ཐེག་པ་ཆེན་ངོ་མཚར་ཆེ་བས་ཡིད་ཆེས་པོ་ཟབ་མོ་མདོ་རྒྱུད་ཀྱི་ཚིག་གི་བྱིན་གྱིས་བརླབ།',\n",
       "  'en': 'There are six sections in empowering: the empowerment of the sublime guru, the empowerment of the excellent deity, the empowerment of the outer and inner ḍākinī, the empowerment of the words of the sutras and tantras of the profound Mahāyāna, the empowerment of various appearances, and the empowerment of profound dependent origination.',\n",
       "  'small_predictions': 'There are six kinds of blessing: blessing with devotion on the crown of your head, blessing with the supreme deity, blessing with the entry of the wisdom beings, blessing with the outer and inner hosts of dakinis, and blessing with the words of the sūtras and tantras of the profound faith since the Great Vehicle is wondrous.'},\n",
       " {'bo': 'རྒྱས་པའི་ལས་མཛད་རིན་ཆེན་རིགས་རྣམས་ཀྱིས༔',\n",
       "  'en': 'Let those of the ratna family who perform enriching activity',\n",
       "  'small_predictions': 'And the precious families who perform the enriching activities'},\n",
       " {'bo': 'ས་ཆེན་པོ་དུས་གཅིག་ལ་གཡོས་པ་ལྟ་བུའི་སྒྲ་དང་། སྟོང་གསུམ་གྱི་སྟོང་ཆེན་པོ་མེས་ཚིག་པ་ལྟ་བུའི་སྒྲ་དང་། སྟོང་གསུམ་གྱི་སྟོང་ཆེན་པོ་རླང་གིས་འཐོར་བའི་སྒྲ་དང་། སྟོང་གསུམ་གྱི་སྟོང་ཆེན་པོ་ཆུས་བཤིགས་པ་ལྟ་བུའི་སྒྲ་དང་བཞི། ཡ་ང་བའི་གཡང་ས་གསུམ་ནི། སྤྱིར་མུན་ཚབ་ཚུབ་ཀྱི་དུས་ལྟ་བུ་ལ་འདོད་ཆགས་ཀྱི་རང་མདངས་གང་དུ་བལྟས་པ་ཐམས་ཅད་དམར་ཟང་ཟིང་བ་དང་། ཞེ་སྡང་གི་རང་མདངས་གང་དུ་བལྟས་པ་ཐམས་ཅད་དཀར་ལྷང་ལྷང་པ་དང་། གཏི་མུག་གི་རང་མདངས་གང་དུ་བལྟས་པ་ཐམས་ཅད་ནག་བུན་བུན་པའི་སྣང་བ་ཤར་དུས། ལས་དག་པ་རྣམས་ལ་དཔའ་བོ་དང་མཁའ་འགྲོའི་བསུ་མ་སླེབས་ཏེ་ཡར་གྱི་ཟང་ཐལ་དུ་གྲོལ་བ་དང་། མཚམས་མེད་ཀྱི་ལས་བྱས་པ་རྣམས་སྔགས་ཀྱི་ལུགས་ལ་ལས་མཁན་དང་མདོ་ལྟར་གཤིན་རྗེའི་སྐྱེས་བུ་མང་པོའི་སྣང་བ་ཤར་ནས་མར་གྱི་ཟང་ཐལ་དུ་འགྲོ་ལ། དེ་ལས་གཞན་རྣམས་ལ་ཞག་ཞེ་དགུའི་བར་དང་མིན་ཀྱང་བདུན་གསུམ་དང་བཞི་ལ་སོགས་པར་ཚད་མེད་རུང་། ཞག་ཞེ་དགུའི་བར་དུ་འདུག་ན་ཕྱེད་ཡན་ཆད་ལ་སྔར་གྱི་ལུས་དང་།',\n",
       "  'en': 'a sound like the whole cosmos of a billion universes raging with fire, a sound like the whole cosmos of a billion universes being devastated by wind, and a sound like the whole cosmos of a billion universes being swept away by water. And you will see three dreadful abysses: like the sky one generally sees at twilight, wherever you look, the natural radiance of desire will make everything appear as a diffuse red; then wherever you look, the natural radiance of anger will make everything appear as a flickering white; and then wherever you look the natural radiance of ignorance will make everything appear as oppressive darkness. At that time those with pure karma will be welcomed by dakas and dakinis and go straight up to liberation. Those who have committed any of the crimes with immediate retribution will perceive many infernal workers ; they will go straight down. For anyone else, the stay in the intermediate state may be forty nine days, three or four weeks, or an uncertain period of time. If you stay there forty nine days, during the first half of this period you will perceive the body you had in the life you have just left,',\n",
       "  'small_predictions': 'There are four kinds of sounds: the sounds of the great earth shook at one time, the sounds of the great trichiliocosm being burned by fire, the sounds of the great trichiliocosm being scattered by waves, and the sounds of the great trichiliocosm being destroyed by water. The three terrifying abysses are as follows: In general, in the case of the time of a blacksmith, when you look at the natural radiance of desire, you see that everything is reddish; when you look at the natural radiance of hatred, you see that everything is vivid whiteness; when you look at the natural radiance of ignorance, you see that everything is mist. When the'},\n",
       " {'bo': 'གཉིས་པ་ལམ་བགྲོད་པའི་རིམ་པ་ལ་གཉིས། སྔོན་དུ་འཁྲུལ་འཁོར་དང་སྟོང་ར་སྒོམ་པ་དང་། དེའི་རྗེས་སུ་ལམ་དངོས་སྒོམ་པའི་རིམ་པའོ།། དང་པོ་ནི།',\n",
       "  'en': 'This is taught under two headings: the meditations upon the physical exercises, together with the meditation upon the body as an empty shell; and, secondly, after that, the stages of meditating upon the actual path.',\n",
       "  'small_predictions': 'The Stages of Progressing on the Path This has two parts: the preliminary meditation on the yogic exercises and the empty enclosure and the actual meditation on the actual path.'},\n",
       " {'bo': 'ཡབ་རྗེ་དང་། མཁའ་སྤྱོད་རྡོ་རྗེའི་བཙུན་མོ་རྗེ་བཙུན་རྟ་མགྲིན་དབང་མོ། གྲུབ་དབང་རཏྣ་བྷ་དྲ་སེགས་ལས་སྨིན་གྲོལ་གདམས་ངག་མ་ལུས་པ་གསན་ཅིང་།',\n",
       "  'en': 'He received all of the oral precepts that ripen and liberate from his father, from the queen of the vajra dakinis Jetsun Tamdrin Wangmo, and from Drubwang Ratnabhadra, among others.',\n",
       "  'small_predictions': 'He received all of the ripening empowerments and liberating instructions from the lord of fathers, the queen of Khecarī, Jetsün Hayagrīva, and the lord of siddhas Ratnabhadra.'},\n",
       " {'bo': 'བྱང་ཆུབ་ཀྱི་ཡན་ལག་རྣམས་སྨོན་པ་ཡོད་ཅེས་བྱ་བ་འམ་སྨོན་པ་མེད་ཅེས་བྱ་བར་མི་སྦྱོར་རོ། །',\n",
       "  'en': 'They do not associate the branches of enlightenment with ‘having wishes.’ They do not associate the branches of enlightenment with ‘not having wishes.’',\n",
       "  'small_predictions': 'They do not associate the branches of enlightenment with ‘having wishes.’ They do not associate the branches of enlightenment with ‘not having wishes.’'},\n",
       " {'bo': 'དེ་རྗེས་སྐུ་དངོས་སུ་བྱོན་པ་ལན་མང་ཞིང་མངའ་རིས་པཎ་ཆེན་རིན་པོ་ཆེའི་རྣམ་ཐར་དུ་མཇལ་ཚུལ་གསུངས་པ་ལྟར་དོན་དུ་ཡེ་ཤེས་ཀྱི་སྐུ་གྲུབ་པར་ངེས་སོ།།',\n",
       "  'en': 'He has reappeared several times, and there is an account of his appearance to the mahapandita of Ngari in the latter’s biography. It is therefore certain that Shrivanaratna accomplished a wisdom body.',\n",
       "  'small_predictions': 'After that, many times he appeared in person and met Ngari Panchen Rinpoche in his biography.'},\n",
       " {'bo': 'ཅི་སྟེ་གཉེན་པོས་སྤོང་བ་མ་ཡིན་གྱི་རྒྱུ་བག་ཆགས་ཟད་པས་རང་འགགས་སུ་འགྱུར་རོ་སྙམ་ན།',\n",
       "  'en': 'One may think that it is not removed by a remedy but that it automatically ceases on account of the dissolution of the causal residues.',\n",
       "  'small_predictions': 'One might think that it is not eliminated by an antidote but that it ceases by itself when the cause of habitual tendencies has ceased.'},\n",
       " {'bo': 'ཐེག་གསུམ་ཆོས་ཀྱི་འཁོར་ལོ་བསྐོར་བཞིན་དུ།། ཁམས་གསུམ་འགྲོ་བའི་དོན་དུ་བཞུགས་སུ་གསོལ།།',\n",
       "  'en': 'While turning the Dharma wheel of three vehicles, please remain for the welfare of migrators in three realms.',\n",
       "  'small_predictions': 'Please remain for the benefit of beings in the three realms while turning the wheel of dharma of the three yānas.'},\n",
       " {'bo': 'ཞི་འཇམ་གྱི་སྒོ་ནས་འགྲོ། སྐབས་རེར་འཚོ་བའི་སྟེང་གི་གནས་ཚུལ་ཚང་མ་སྐབས་རེར་གློ་བུར་དུ་མ་བསམས་ས་ནས་གནས་ཚུལ་ཐོན། གལ་ཆེ་བ་ནི། དཀའ་རྙོག་རྣམས་གོ་སྐབས་ཀྱི་ངོ་བོར་ཇི་ལྟར་བསྒྱུར་བ་ཧ་གོ་བ་དེ་ཡིན། རིན་གོང་དམའ་ཞིང་ཚོང་རྟགས་མེད་པའི་གོས་གྱོན་པ་དེས་ཁྱེད་རང་སྐྱོ་པོ་ཞིག་ཡིན་པ་མི་སྟོན། ',\n",
       "  'en': 'George Bernard Shaw Sometimes in life everything goes smoothly And sometimes unexpected happens, The important thing, knowing how to turn problems into opportunities \"Once Emma Watson Said: Wearing Unbranded And Cheap Clothes Doesn\\'t Mean You\\'re Poor. ',\n",
       "  'small_predictions': 'Often all the information on life suddenly comes out of the situation, and the important thing is to know how to change problems into opportunities.'},\n",
       " {'bo': 'ཁོ་བོས་ནི་འབྲས་བུའི་བདག་ཉིད་དུ་ཡོད་པ་ལ་སྐྱེ་བ་མེད་དོ་ཞེས་མ་སྨྲས་ཏེ། འདི་ལྟར་འབྲས་བུའི་བདག་ཉིད་ལས་སམ། རྒྱུའི་བདག་ཉིད་ལས་ཞེས་བྱེ་བྲག་ཏུ་བརྗོད་པ་མ་བྱས་པ་ཁོ་ནར་བདག་ལས་སྐྱེས་པ་ཙམ་ཁོ་ནར་འགོག་པར་བྱེད་ལ། ཁྱོད་ཀྱིས་ནི་འབྲས་བུའི་བདག་ཉིད་ལས་སམ། འོན་ཏེ་རྒྱུའི་བདག་ཉིད་ལས་ཞེས་བྱེ་བྲག་ཏུ་བརྗོད་པ་བྱས་པས་དེས་ན་འུ་བུ་ཅག་བློ་མཐུན་པ་མ་ཡིན་པའི་ཕྱིར།',\n",
       "  'en': 'it is as follows: only within not specifying “from the entity of the effect or from the entity of the cause,” he refuted mere production mere production from self, whereas you specify “from the entity of the effect or from the entity of the cause,” and hence we are not agreeable in mind, and, therefore, this refutation by us, namely, that things are not produced from self, is not a proving what is already established.',\n",
       "  'small_predictions': 'We do not say that what exists as the nature of the effect does not arise; rather, we refute only that which is produced from itself without specifying whether it arises from the nature of the effect or from the nature of the cause.'}]"
      ]
     },
     "execution_count": 21,
     "metadata": {},
     "output_type": "execute_result"
    }
   ],
   "source": [
    "list(ds.select(range(75,100)))"
   ]
  },
  {
   "cell_type": "code",
   "execution_count": 23,
   "metadata": {},
   "outputs": [],
   "source": [
    "# first 50 scores from Claude Sonnet 4\n",
    "\n",
    "scores_1 = [85, 78, 92, 45, 82, 65, 95, 88, 60, 85, 75, 70, 60, 65, 85, 80, 88, 85, 25, 78, 90, 80, 85, 92, 75, 82, 88, 75, 82, 85, 88, 75, 85, 30, 40, 85, 78, 85, 60, 40, 75, 80, 65, 70, 80, 75, 82, 70, 85, 80]\n",
    "scores_2 = [85, 92, 95, 88, 90, 85, 88, 75, 85, 70, 60, 65, 78, 82, 88, 85, 90, 80, 70, 85, 88, 90, 85, 88, 85, 90]\n",
    "scores_3 = [75, 85, 40, 70, 80, 65, 85, 80, 85, 90, 85, 20, 75, 35, 80, 85, 80, 75, 85, 80, 85, 80, 85, 25, 75]"
   ]
  },
  {
   "cell_type": "code",
   "execution_count": 24,
   "metadata": {},
   "outputs": [],
   "source": [
    "scores = scores_1+scores_2+scores_3"
   ]
  },
  {
   "cell_type": "code",
   "execution_count": 26,
   "metadata": {},
   "outputs": [
    {
     "data": {
      "text/plain": [
       "np.float64(76.38613861386139)"
      ]
     },
     "execution_count": 26,
     "metadata": {},
     "output_type": "execute_result"
    }
   ],
   "source": [
    "import numpy as np\n",
    "\n",
    "np.mean(scores)"
   ]
  },
  {
   "cell_type": "code",
   "execution_count": null,
   "metadata": {},
   "outputs": [],
   "source": []
  }
 ],
 "metadata": {
  "kernelspec": {
   "display_name": ".venv",
   "language": "python",
   "name": "python3"
  },
  "language_info": {
   "codemirror_mode": {
    "name": "ipython",
    "version": 3
   },
   "file_extension": ".py",
   "mimetype": "text/x-python",
   "name": "python",
   "nbconvert_exporter": "python",
   "pygments_lexer": "ipython3",
   "version": "3.12.3"
  }
 },
 "nbformat": 4,
 "nbformat_minor": 2
}
