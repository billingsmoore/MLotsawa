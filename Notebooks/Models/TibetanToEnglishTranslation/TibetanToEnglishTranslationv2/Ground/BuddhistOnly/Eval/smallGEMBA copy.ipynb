{
 "cells": [
  {
   "cell_type": "code",
   "execution_count": 3,
   "metadata": {},
   "outputs": [],
   "source": [
    "from datasets import load_from_disk\n",
    "\n",
    "ds = load_from_disk('base-gemba-ds')\n",
    "ds = ds.remove_columns(['small_predictions'])"
   ]
  },
  {
   "cell_type": "code",
   "execution_count": null,
   "metadata": {},
   "outputs": [],
   "source": [
    "prompt= \"\"\"Score each of the following translations from Tibetan to English with respect to the human reference on a continuous scale from 0 to 100, where a score of zero means \"no meaning preserved\" and score of one hundred means \"perfect meaning and grammar\". Provide only an overall score for each with no additional output.\"\"\""
   ]
  },
  {
   "cell_type": "code",
   "execution_count": 4,
   "metadata": {},
   "outputs": [
    {
     "data": {
      "text/plain": [
       "[{'bo': 'ཕྱི་ཟླ་༥་ཚེས་༢༥་ཉིན་དགུང་ལོ་སུམ་ཅུ་སོ་ལྔའི་སྟེང་དུ་མངོན་པར་རྫོགས་པའི་སངས་རྒྱས་ཀྱི་གོ་འཕང་ཐོབ།།',\n",
       "  'en': 'By the next morning, the morning of May 25, when he was thirty-five, he had attained the Awakening, and became a supreme Buddha.',\n",
       "  'base_predictions': 'On February 25, he attained full enlightenment at the age of thirty-five.'},\n",
       " {'bo': 'ལུས་ལྷ་ངག་སྔགས་སེམས་གྱི་འཕྲོ་འདུ་ཀུན།། ཡེ་ཤེས་ཆེན་པོར་ལམ་དུ་ཁྱེར་བ་དང་།།',\n",
       "  'en': 'Integrate everything into the path: body as deity, speech as mantra, And all movements of mind as great primordial wisdom.',\n",
       "  'base_predictions': 'Integrate all the radiation and reabsorption of body, speech, and mind into the path as great primordial wisdom.'},\n",
       " {'bo': 'ཞེས་པས་བསྲུང་འཁོར་བསྒོམ༔',\n",
       "  'en': 'Thus visualize the circle of protection.',\n",
       "  'base_predictions': 'Meditate on the protection circle.'},\n",
       " {'bo': 'དེ་ལྟར་མ་བྱས་ན་འབྲེལ་མེད་དུའང་འགྱུར་ཏེ་མིག་ལ་སོགས་པའི་ཤེས་པ་འདི་དག་ཐ་སྙད་པའི་དོན་གཟུགས་སྒྲ་སོགས་ལ་ཚད་མ་ཡིན་ན་དེ་ཁོ་ན་ཉིད་བལྟ་བའི་ཕྱིར་དུ་འཕགས་ལམ་བཙལ་མི་དགོས་པར་ཐལ་ལོ་ཞེས་སྨྲ་ན་ནི་མིག་གི་ཤེས་པས་གཟུགས་ཤེས་ན་སྒྲ་ཉན་པ་ལ་རྣ་བ་དོན་མེད་དུ་ཐལ་ཞེས་པ་དང་འདྲ་ལ་གཟུགས་སྒྲ་སོགས་བལྟ་བའི་ཕྱིར་དུ་འཕགས་ལམ་འཚོལ་བ་དོན་མེད་དུ་ཐལ་ཟེར་ན་ནི་ཤིན་ཏུ་འདོད་པས་དེས་མི་འདོད་པ་ཅི་ཞིག་བསྒྲུབ།',\n",
       "  'en': 'If one does not take it this way, there would be no connection between prior and later purpose, that is, if those cognitions such as the eye and conventional entities such as form and sound were authorities for view- ing of reality, we say there is the absurdity of no need to seek the Noble Path, and we say there is the absurdity of no pur- pose for eye cognition to cognize form and the ear to hear sound; and similarly, we say there is the absurdity of no purpose to seeking the Noble Path because one observes form, sound, etc.',\n",
       "  'base_predictions': 'If one does not take it that way, there would be no connection, for if those perceptions such as the eye and conventional entities such as form and sound were authorities for viewing reality, it would follow that there is no need to seek the Noble Path, and if one claims that it would follow that when visual consciousness cognizes form, hearing sound would be purposeless; and if one claims that it would follow that seeking the Noble Path is purposeless in view of form, sound, etc.'},\n",
       " {'bo': 'ཡང་དག་པའི་དོན་མི་སྟོན་པ་ཚིག་གཅིག་ཀྱང་མེད་པར་ཐམས་ཅད་མཐར་ཐུག་གི་བྱང་ཆུབ་གཅིག་ལ་འགལ་བ་མེད་པར་འཇུག་པ་ཡིན་པས་ན་དེ་སྐད་ཅེས་བྱ་སྟེ།',\n",
       "  'en': 'Every word of the dharma without exception applies without contradiction to the one, ultimate enlightenment, therefore these words are used to describe it.',\n",
       "  'base_predictions': 'Without teaching the true meaning, not even a single word can be uttered, and all without contradiction enter the single ultimate enlightenment.'},\n",
       " {'bo': 'སངས་རྒྱས་བརྒྱ་སྟོང་སུམ་བརྒྱ་དྲུག་ཅུའི་རྡུལ་ཕྲ་རབས་སྙེད་མཐོང་བ་དང་།',\n",
       "  'en': 'They are able to behold as many buddhas as there are atoms in the hundred thousand of the three thousandfold universe multiplied by ten and perceive that they are blessed by them.',\n",
       "  'base_predictions': 'They are able to behold as many buddhas as there are atoms in three hundred sixty thousand buddha fields.'},\n",
       " {'bo': 'དེ་ཐུགས་རྗེ་ཀུན་ཁྱབ་སྤྲུལ་སྐུ་ཡིན།།',\n",
       "  'en': 'This is all-pervading compassion, the nirmāṇakāya.',\n",
       "  'base_predictions': 'That is the nirmāṇakāya of all-pervading compassion.'},\n",
       " {'bo': 'གཅིག་པུ་དབེན་པར་གནས་པས་འཕགས་པའི་ཡེ་ཤེས་ཐོབ་པར་གྱུར་ཅིག་ཅེས་པའོ།།',\n",
       "  'en': 'Let us stay in solitude. May we gain sublime, primordial wisdom.',\n",
       "  'base_predictions': 'May I attain the wisdom of the noble ones by dwelling alone in solitude.'},\n",
       " {'bo': 'ཨོཾ་ཧྲཱིཿཥྚྲཱིཿཝིཀྲྀ་ཏཱ་ན་ན་ཧཱུྃ་ཧཱུྃ་ཕཊ་ཕཊ། དེ་བ་དཏྟ་ཡ་ཛྙཱ་དཏྟེ་བི་དྭེཥཱ་ཡ་ཧཱུྃ་ཕཊ། འདི་ནི་བཅོམ་ལྡན་འདས་ཀྱིས་དབྱེ་བའི་ཆོ་ག་གསུངས་པའོ། །',\n",
       "  'en': 'oṁ hrīḥ ṣṭrīḥ vikṛtānana hūṁ hūṁ phaṭ phaṭ\\xa0| devadatta yajñādatte vidveṣāya hūṁ phaṭ\\xa0| This is the rite for sowing discord taught by the Bhagavat.',\n",
       "  'base_predictions': 'oṁ hrīḥ ṣṭrīḥ vikṛtānana hūṁ hūṁ phaṭ phaṭ | dṛḍho me bhava sutoṣyo me bhava supoṣyo me bhava anurakto me bhava sarvasiddhiṃ me bhava sarvakto me bhava sarvakto me bhava sarvakto me bhava sarvakto me bhava sarvakto me bhava sarvakto me bhava sarvakto me bhava sarvakto me bhava sarvakto me bhava sarvakto me bhava sarvakto me bhava sarvakto me bhava sarvak'},\n",
       " {'bo': 'མངོན་པར་མ་གྲུབ་ཅིང་མེད་པ་དེ་ལ་དམིགས་པ་ཡོད་པར་ག་ལ་འགྱུར།',\n",
       "  'en': 'How could that which is not actually established, and therefore nonexistent, be an existent object?',\n",
       "  'base_predictions': 'How could something that is not established and nonexistent exist as an object?'},\n",
       " {'bo': 'དེ་བཞིན་དུ་སྐད་ཅིག་མར་འཇིག་པའི་གསོན་པ་ལས་ཆེས་ཆུང་བའི་དུས་འགའ་ཡང་ཡོད་པ་མ་ཡིན་ནོ།།',\n",
       "  'en': 'Similarly, there is no time shorter than life, which is destroyed in a moment.',\n",
       "  'base_predictions': 'In the same way, there is no time at all that is less than life that perishes moment by moment.'},\n",
       " {'bo': 'སྟོང་པའི་ཡེ་ཤེས་དགའ་བར་རྗེས་ཆགས་གཟུགས།། རྡོ་རྗེ་པི་ཝཾ་གླིང་བུ་རྔ་ཐབས་བཟུང༌།། རིག་གདངས་ཆོས་ཉིད་མངོན་སུམ་མཆོད་སྤྲིན་གྱིས།། སྣ་ཚོགས་སྒྱུ་འཕྲུལ་སྤྲུལ་པའི་དཀྱིལ་འཁོར་མཆོད།། ཨོཾ་ཨཱཿབཛྲ་ཝཱི་ཎཱི་ཧཱུྃ།\\xa0ཨོཾ་ཨཱཿབཛྲ་ཝཾ་སེ་ཏྲཱཾ།\\xa0ཨོཾ་ཨཱཿབཛྲ་མྲྀ་ཏཾ་གི་ཧྲཱིཿ\\xa0ཨོཾ་ཨཱཿབཛྲ་མུ་རཉྫེ་ཨཱཿ ཤིན་ཏུ་སྟོང་པ་ལས་བྱུང་མཆོག་དགའི་དངོས།། རྡོ་རྗེ་སྒེག་བཞད་གླུ་དང་གར་མཁན་མ།། འོད་གསལ་ཉམས་སྣང་གོང་འཕེལ་མཆོད་སྤྲིན་གྱིས།། ཟུང་འཇུག་ལོངས་སྤྱོད་རྫོགས་སྐུའི་དཀྱིལ་འཁོར་མཆོད།། ཨོཾ་ཨཱཿབཛྲ་ལཱ་སྱེ་ཧཱུྃ།\\xa0ཨོཾ་ཨཱཿབཛྲ་མཱ་ལྱེ་ཏྲཱཾ།\\xa0ཨོཾ་ཨཱཿབཛྲ་གཱིརྟི་ཧྲཱིཿ\\xa0ཨོཾ་ཨཱཿབཛྲ་ནཱིརྟི་ཨཱཿ ཐམས་ཅད་སྟོང་པ་ཁྱད་པར་དགའ་བའི་དཔྱིད།།',\n",
       "  'en': 'The love that unites the wisdom of emptiness and joy takes seductive form As goddesses playing sitar, flute, clay drum and round drum, And in their offering cloud of rigpa’s radiance, the direct realization of dharmatā, They offer you the nirmāṇakāya-maṇḍala, in all its magical diversity: oṃ āḥ vajra-vīṇe hūṃ | oṃ āḥ vajra-vaṃśe trāṃ | oṃ āḥ vajra-mṛdaṅge hrīḥ | oṃ āḥ vajra-muraje āḥ | From extreme emptiness, supreme joy arises As vajra goddesses beauty, laughter, song and dance, And with their offering cloud of clear light, the increasing of experience and appearance, They offer you the saṃbhogakāya-maṇḍala of unity: oṃ āḥ vajra-lāsye hūṃ | oṃ āḥ vajra-mālye trāṃ | oṃ āḥ vajra-gīte hrīḥ | oṃ āḥ vajra-nṛtye āḥ | Total emptiness with special joy takes shape',\n",
       "  'base_predictions': 'With a form that is passionate and enjoys the wisdom of emptiness And holds a vajra and lute, the flute and drum of the victory banner. With the offering-clouds of the radiance of awareness, the direct experience of dharmatā, I present offerings to the nirmāṇakāya-maṇḍala of manifold apparitions. oṃ āḥ vajra-vīṇe hūṃ | oṃ āḥ vajra-vaṃśe trāṃ | oṃ āḥ vajra-mṛdaṅge hrīḥ | oṃ āḥ vajra-muraje āḥ || Arisen from extreme emptiness, you are the actual embodiment of supreme joy; With your vajra laughter, you laugh and dance; With your offering-cloud'},\n",
       " {'bo': 'ཤེས་དམན་གྱི་སྐྱེ་བོས་རང་གི་ལོག་སེམས་ལས་ཁ་གླན་དགོས་ཚུལ་བསྟན་པ་སྟེ། དེ་ཡང་བློ་དམན་གང་ཞིག་ཇི་སྲིད་རྒྱལ་དང་དེ་སྲས་དམ་པས་ཡང་ཡང་སྨད་པའི་ལོག་པར་སྤྱོད་པའི་ལས་དམན་ལ་འཇུག་འདོད་ཀྱི་བློ་སྐྱེས་པ་དུས་དེའི་ཚེ་ན།',\n",
       "  'en': 'Whenever weak-minded people feel drawn to engage in wrongful actions deprecated again and again by the excellent buddhas and bodhisattvas, they should deflect such improper notions and not allow themselves to be influenced by them.',\n",
       "  'base_predictions': 'Those of little intelligence want to engage in base actions that are repeatedly criticized by the buddhas and their sublime heirs.'},\n",
       " {'bo': 'གང་ཡང་གཞུང་ཆེན་མོ་རྣམས་ལ་ཉམས་ལེན་གྱི་གནད་མེད་པའི་བཤད་ཆོས་སུ་བྱས་ཤིང་ཉམས་ལེན་གྱི་གནད་སྙིང་པོའི་དོན་སྟོན་པའི་མན་ངག་ཟུར་དུ་ཡོད་པར་གོ་ནས་དམ་པའི་ཆོས་རང་ལ་བཤད་པ་དང་བསྒྲུབ་པའི་ཆོས་ལོག་ས་ལོགས་པ་གཉིས་ཡོད་པར་འཛིན་པ་ནི། དྲི་མ་མེད་པའི་མདོ་རྒྱུད་དང་དྲི་མ་མེད་པའི་དགོངས་འགྲེལ་གྱི་བསྟན་བཅོས་ལ་གུས་པ་ཆེན་པོ་སྐྱེ་བའི་གེགས་བྱེད་ཅིང་། དེ་དག་ལ་ནང་གི་དོན་མི་སྟོན་པའི་ཕྱིའི་གོ་རྒྱ་ཙམ་གཅོད་པའོ་ཞེས་བརྙས་པའི་གནས་སུ་འཛིན་པའི་ཆོས་སྤོང་བའི་ལས་ཀྱི་སྒྲིབ་པ་གསོག་པར་ཤེས་པར་བྱའོ།། དེས་ན་ཐར་འདོད་རྣམས་ལ་མི་སླུ་བའི་གདམས་པ་མཆོག་ནི་གཞུང་ཆེན་མོ་རྣམས་ཡིན་མོད། དེ་ཡང་རང་ཉིད་བློ་ཞན་པ་ལ་སོགས་པའི་རྒྱུ་མཚན་གྱིས་གདམས་པའི་མཆོག་ཏུ་གཞུང་དེ་ཙམ་ལ་བརྟེན་ནས་ངེས་མི་ནུས་པས། དམ་པའི་མན་ངག་ལ་བརྟེན་ནས་དེ་དག་ལ་ངེས་པ་བཙལ་བར་བྱའོ་སྙམ་དུ་མན་ངག་འཚོལ་དགོས་པ་ཡིན་གྱི།',\n",
       "  'en': 'There are those who conclude that any classic text should be considered only an explanatory teaching, therefore lacking the key points for practice. They hold that there are separate personal instructions that teach the core meanings that are the heart of practice. They then imagine that there are two separate forms of the excellent teaching-a teaching that is explained to you and a teaching that you practice. Know that this attitude precludes the development of great respect for the stainless sutras and tantras as well as the flawless treatises that comment on their intent. Know also that you accumulate the karmic obstruction of abandoning the teaching when you see those classic texts as objects of contempt and say, \"Those are merely for promoting one\\'s superficial knowledge and eliminating others\\' misconceptions; they do not teach the deep meaning. Therefore, for those who desire liberation, the supreme and authentic instructions are indeed the classic texts. However, due to your limited intelligence and so forth, you may be unable to recognize those texts as the supreme instructions through depending on them alone. Thus, you must seek out personal instructions, thinking, \"I will seek certain knowledge of those texts based on the personal instructions of an excellent being.\"',\n",
       "  'base_predictions': 'Anyone who understands that the classic texts have no essential points of practice and that there are separate personal instructions that teach the essential points of practice and believes that the holy dharma is both explicated and accomplished by himself and has two separate wrong doctrines. This will hinder the development of great respect for the stainless sutras and tantras, and for the stainless commentaries on their intent, and it should be known that he will accumulate the karma of abandoning the teaching by believing that those texts are contemptible because they say, “They merely cut off external comprehension that does not teach the inner meaning.” Therefore, the supreme instruction that is nondeceptive for those desiring liberation is the classic'},\n",
       " {'bo': 'འདི་ནས་རྒྱུན་དུ་བཞུགས་པའི་དགོས་པ་ཅི།།',\n",
       "  'en': 'Why do you need to stay here?',\n",
       "  'base_predictions': 'What is the purpose of continuously remaining here?'},\n",
       " {'bo': 'བདག་གི་འདི་སེམས་ཅན་ཐམས་ཅད་ལ་སྨིན་པར་གྱུར་ཅིག་སེམས་ཅན་ཐམས་ཅད་བདེ་བ་དང་དགེ་བ་རྒྱས་པར་གྱུར་ཅིག་སྙམ་དུ་བསམ།',\n",
       "  'en': 'Reflecting thus, think, \"May these qualities of mine be realized upon others. May happiness and virtue flourish for all sentient beings.\"',\n",
       "  'base_predictions': 'May this come to fruition upon all sentient beings. May all sentient beings enjoy happiness and virtue.'},\n",
       " {'bo': 'དབུ་མ་ནས་རླུང་མི་རྒྱུ་བར་བཤད་ཀྱང་འདིར་ནི་དེ་གཉིས་ཀ་རྒྱུ་བར་བཤད་དོ།།',\n",
       "  'en': 'But this tantra explains that both move.',\n",
       "  'base_predictions': 'Although it is explained that the wind-energies do not move in the central channel, here both are explained to move.'},\n",
       " {'bo': 'དེའི་ཚེ་གདོད་མར་གྲོལ་བས་ཏེ།',\n",
       "  'en': 'At that point one is freed in primordial being.',\n",
       "  'base_predictions': 'At that time, there is primordial liberation.'},\n",
       " {'bo': 'མི་སློབ་པ་ལ་དམིགས་པ་ཡིན།།',\n",
       "  'en': 'by considering them as impermanent.',\n",
       "  'base_predictions': 'It is the object of the path of no more learning.'},\n",
       " {'bo': 'མཐུ་ཆེན་དམ་ཅན་དྲེགས་པའི་ཚོགས་རྣམས་ཀྱིས།།',\n",
       "  'en': 'And all the powerful and haughty spirits who are bound by sacred oath',\n",
       "  'base_predictions': 'With your great power and oath-bound hosts of arrogant spirits'},\n",
       " {'bo': 'རི་ཁྲོད་མ་ཤིང་ལོ་ཅན་གྱིའོ། །',\n",
       "  'en': 'One with the face of a boar!',\n",
       "  'base_predictions': 'She will live in mountain caves and leaves!’'},\n",
       " {'bo': 'བྱིན་རླབས་ཀུན་སྩོལ་བླ་མ་པདྨ་འབྱུང་།།',\n",
       "  'en': 'Bestower of all blessings the Lotus-Born Padmākara;',\n",
       "  'base_predictions': 'Guru Padmasambhava who grants all blessings'},\n",
       " {'bo': 'དེ་ཡི་སྤྱི་བོར་པད་དཀར་དང་།\\xa0\\xa0།',\n",
       "  'en': 'At his crown, upon a white lotus,',\n",
       "  'base_predictions': 'Above his head, upon a white lotus,'},\n",
       " {'bo': 'རྗེ་རིན་པོ་ཆེས་རྡོ་རྗེ་རྩེ་མོ་ལས་ལུང་ཞིག་དྲངས་འདུག་པ་སྟེ། རྒྱུད་ནི་རྒྱུན་ཞེས་བྱ་བར་གྲགས།། འཁོར་བའི་རྒྱུད་དུ་འདོད་པ་དེ།། མྱ་ངན་འདས་པ་རྒྱུད་ཕྱི་མ།། ཞེས་གསུངས་ཡོད།',\n",
       "  'en': 'In Lama Tsongkhapa’s great tantric stages of the path, he cites a quotation from one explanatory tantra, called Vajra Shekhara, which says that the cyclic existence is a continuum of tantra and that nirvana is a subsequent tantra.',\n",
       "  'base_predictions': 'The great master Tsongkhapa cites a passage from the Vajra Peak Tantra: Tantra is renowned as “continuum,” and that which is asserted to be the continuum of cyclic existence is the later continuum of nirvana.'},\n",
       " {'bo': 'འདི་ནི་ཨུཏྤལ་འདབ་མར་བྱ་བར་གྲགས།།',\n",
       "  'en': 'This is called lotus petals.',\n",
       "  'base_predictions': 'This is known as the lotus petal.'},\n",
       " {'bo': 'གཉིས་པ་ལ། སློབ་དཔོན་གྱི་ལས་དང་། སློབ་མ་ལ་བྱ་བའོ།།',\n",
       "  'en': 'Second, the main practice has both the master’s work and the acts for the disciples.',\n",
       "  'base_predictions': 'The second section has two parts: the master’s work and the acts for the disciples.'},\n",
       " {'bo': 'དེར་སྨིན་པས་ད་འཆི་བ་མེད་པར་རྫོགས་པས་སྐྱེ་ཤི་མེད་པར་དབྱིངས་ཐམས་ཅད་གཅིག་ཏུ་འབྲེལ་པ་སྟེ་འདི་ལྟར་འདོད་པས།',\n",
       "  'en': 'Since it is ripened because it is perfect without dying at present, the dhatu without birth or death gathers everything into one.',\n",
       "  'base_predictions': 'Since it matures into that dhātu, it is perfect without dying at present, so all dhātus without birth or death are unified as one.'},\n",
       " {'bo': 'དེའི་ཕྱིར་འདས་པའི་རིགས་འདྲ་ཇི་སྙེད་ཅིག་བྱུང་ཡང་དངོས་པོ་གཞན་ཞིག་པའི་སྒོ་ནས་རང་གི་ངོ་བོ་གཞག་དགོས་ལ་མ་འོངས་པའི་རིགས་འདྲ་ཇི་སྙེད་ཅིག་བྱུང་ཡང་དངོས་པོ་གཞན་ཞིག་མ་སྐྱེས་པའི་སྒོ་ནས་རང་གི་ངོ་བོ་གཞག་དགོས་སོ།།',\n",
       "  'en': 'For that reason, no matter how many of a similar type of the past have occurred, their nature must be posited from the perspective of the destruction of another impermanent thing; whatever arises of a similar type in the future, its entity would have to be posited from the perspective of the nonproduction of another impermanent thing.',\n",
       "  'base_predictions': 'Therefore, no matter how many past types of similar type occur, they must be posited as their own nature by way of something else, and no matter how many future types of similar type occur, they must be posited as their own nature by way of something else that has not arisen.'},\n",
       " {'bo': 'འགྲོ་བའི་དོན་གཉིས་འགྲུབ་པར་ཤོག།',\n",
       "  'en': 'May I accomplish beings’ twofold benefit.',\n",
       "  'base_predictions': 'And accomplish the twofold benefit of beings.'},\n",
       " {'bo': 'ཀཽ་ཤི་ཀ་འདི་ལྟ་སྟེ་དཔེར་ན། ནམ་མཁའ་དཔག་པ་ནི་དམྱིགས་སུ་མྱེད་དོ། །ཀཽ་ཤི་ཀ་དེ་བཞིན་དུ་ལྕེའི་འདུས་ཏེ་རེག་པའི་དཔག་པ་ཡང་དམྱིགས་སུ་མྱེད་དེ།',\n",
       "  'en': 'To illustrate, Kauśika, just as the boundary of space cannot be apprehended, in the same way, Kauśika, the boundary of lingually compounded sensory contact cannot be apprehended.',\n",
       "  'base_predictions': 'To illustrate, Kauśika, just as the boundary of space cannot be apprehended, in the same way, Kauśika, the boundary of lingually compounded sensory contact cannot be apprehended.'},\n",
       " {'bo': 'འཁོར་འདས་མ་ལུས་ཤར་ཡང་དབྱིངས་ནས་ཤར།།',\n",
       "  'en': 'Even though they arise as the totality of samsara and nirvana, the phenomena of the world of appearances and possibilities— limitless, boundless—arise from basic space.',\n",
       "  'base_predictions': 'Although samsara and nirvana arise without exception, They arise from basic space.'},\n",
       " {'bo': 'ལྷ་དང་མི་རྣམས་ཀྱི་སྦྱིན་པའི་གནས་སུ་འགྱུར་བར་བྱའོ་ཞེས་ལྷོ་ཕྱོགས་ལོགས་སུ་གོམ་པ་བདུན་བོར་རོ། །',\n",
       "  'en': 'He then took seven steps toward the south and said, “I am worthy of the offerings of gods and humans.”',\n",
       "  'base_predictions': 'He took seven steps toward the south.'},\n",
       " {'bo': 'ངན་པ་གཞན་དག་བཅོས་རུང་གི། སྐྱེ་བོ་ངན་པ་བཅོས་ན་འཇིག། ཅེས་གསུངས་པ་འདིས།',\n",
       "  'en': 'Other bad things can be remedied, But trying to reform evil people just worsens them.',\n",
       "  'base_predictions': 'Other bad things can be remedied, but if they are remedied, they are destroyed.'},\n",
       " {'bo': 'འོན་ཀྱང་ད་ལྟར་རང་རེས་གང་མཐོང་བའི་ས་རྡོ་རི་བྲག་འདི་དག་སངས་རྒྱས་ཚེ་ད་དུང་ཡང་ཁྲ་ལམ་མེར་མཐོང་རྒྱུ་ཡོད་སྙམ་ན་ཤིན་ཏུ་ནོར།',\n",
       "  'en': '¶20 However, to think that the earth, stones, mountains, and rocks that we see now are still to be seen vividly when we are buddhas is very much in error.',\n",
       "  'base_predictions': 'However, if you think that when we become enlightened these earth, stones, mountains, and rocks we still see vividly, this is an extremely great error.'},\n",
       " {'bo': 'འདུས་མ་བྱས་སྟོང་པ་ཉིད་སྟོང་ཞེས་བྱ་བ་དང་། མི་སྟོང་ཞེས་བྱ་བར་གནས་པར་མི་བྱའོ། །དམྱིགས་པའི་ཚུལ་གྱིས། འདུས་མ་བྱས་སྟོང་པ་ཉིད་མཚན་མ་ཡོད་ཅེས་བྱ་བ་དང་། མཚན་མ་མྱེད་ཅེས་བྱ་བར་གནས་པར་མྱི་བྱའོ། །དམྱིགས་པའི་ཚུལ་གྱིས། འདུས་མ་བྱས་སྟོང་པ་ཉིད་སྨོན་པ་ཡོད་ཅེས་བྱ་བ་དང་། སྨོན་པ་མེད་ཅེས་བྱ་བར་གནས་པར་མྱི་བྱའོ། །དམྱིགས་པའི་ཚུལ་གྱིས། མཐའ་ལས་འདས་པ་སྟོང་བ་ཉིད་རྟག་ཅེས་བྱ་བ་དང་། མི་རྟག་ཅེས་བྱ་བར་གནས་པར་མྱི་བྱའོ། །དམྱིགས་པའི་ཚུལ་གྱིས། མཐའ་ལས་འདས་པ་སྟོང་པ་ཉིད་བདེ་ཞེས་བྱ་བ་དང་། སྡུག་བསྔལ་ཞེས་བྱ་བར་གནས་པར་མྱི་བྱའོ། །དམྱིགས་པའི་ཚུལ་གྱིས། མཐའ་ལས་འདས་པ་སྟོང་པ་ཉིད་བདག་ཅེས་བྱ་བ་དང་། བདག་མྱེད་ཅེས་བྱ་བར་གནས་པར་མྱི་བྱའོ། །དམྱིགས་པའི་ཚུལ་གྱིས། མཐའ་ལས་འདས་པ་སྟོང་པ་ཉིད་སྡུག་ཅེས་བྱ་བ་དང་། མྱི་སྡུག་ཅེས་བྱ་བར་གནས་པར་མི་བྱའོ། །དམྱིགས་པའི་ཚུལ་གྱིས། མཐའ་ལས་འདས་པ་སྟོང་པ་ཉིད་ཞི་ཞེས་བྱ་བ་དང་། མ་ཞི་ཞེས་བྱ་བར་གནས་པར་མྱི་བྱའོ། །དམྱིགས་པའི་ཚུལ་གྱིས། མཐའ་ལས་འདས་པ་སྟོང་པ་ཉིད་དབེན་ཞེས་བྱ་བ་དང་། མྱི་དབེན་ཞེས་བྱ་བར་གནས་པར་མྱི་བྱའོ། །དམྱིགས་པའི་ཚུལ་གྱིས། མཐའ་ལས་འདས་པ་སྟོང་པ་ཉིད་སྟོང་ཞེས་བྱ་བ་དང་། མི་སྟོང་ཞེས་བྱ་བར་གནས་པར་མྱི་བྱའོ། །དམྱིགས་པའི་ཚུལ་གྱིས། མཐའ་ལས་འདས་པ་སྟོང་པ་ཉིད་མཚན་མ་ཡོད་ཅེས་བྱ་བ་དང་། མཚན་མ་མྱེད་ཅེས་བྱ་བར་གནས་པར་མྱི་བྱའོ། །དམྱིགས་པའི་ཚུལ་གྱིས། མཐའ་ལས་འདས་པ་སྟོང་པ་ཉིད་སྨོན་པ་ཡོད་ཅེས་བྱ་བ་དང་། སྨོན་པ་མེད་ཅེས་བྱ་བར་གནས་པར་མྱི་བྱའོ། །དམྱིགས་པའི་ཚུལ་གྱིས། ཐོག་མ་དང་ཐ་མ་མྱེད་པ་སྟོང་པ་ཉིད་རྟག་ཅེས་བྱ་བ་དང་། མྱི་རྟག་ཅེས་བྱ་བར་གནས་པར་མྱི་བྱའོ། །དམྱིགས་པའི་ཚུལ་གྱིས། ཐོག་མ་དང་ཐ་མ་མྱེད་པ་སྟོང་པ་ཉིད་བདེ་ཞེས་བྱ་བ་དང་། སྡུག་བསྔལ་ཞེས་བྱ་བར་གནས་པར་མྱི་བྱའོ། །དམྱིགས་པའི་ཚུལ་གྱིས། ཐོག་མ་དང་ཐ་མ་མྱེད་པ་སྟོང་པ་ཉིད་བདག་ཅེས་བྱ་བ་དང་། བདག་མྱེད་ཅེས་བྱ་བར་གནས་པར་མྱི་བྱའོ། །དམྱིགས་པའི་ཚུལ་གྱིས། ཐོག་མ་དང་ཐ་མ་མེད་པ་སྟོང་པ་ཉིད་སྡུག་ཅེས་བྱ་བ་དང་། མི་སྡུག་ཅེས་བྱ་བར་གནས་པར་མི་བྱའོ། །དམྱིགས་པའི་ཚུལ་གྱིས། ཐོག་མ་དང་ཐ་མ་མྱེད་པ་སྟོང་པ་ཉིད་ཞི་ཞེས་བྱ་བ་དང་། མ་ཞི་ཞེས་བྱ་བར་གནས་པར་མྱི་བྱའོ། །དམྱིགས་པའི་ཚུལ་གྱིས། ཐོག་མ་དང་ཐ་མ་མེད་པ་སྟོང་པ་ཉིད་དབེན་ཞེས་བྱ་བ་དང་། མྱི་དབེན་ཞེས་བྱ་བར་གནས་པར་མྱི་བྱའོ། །དམྱིགས་པའི་ཚུལ་གྱིས།',\n",
       "  'en': '“They should not, by way of apprehending anything, dwell on the notion that the emptiness of the unlimited is permanent or impermanent; they should not, by way of apprehending anything, dwell on the notion that the emptiness of the unlimited is happiness or suffering; they should not, by way of apprehending anything, dwell on the notion that the emptiness of the unlimited is a self or nonself; they should not, by way of apprehending anything, dwell on the notion that the emptiness of the unlimited is pleasant or unpleasant; they should not, by way of apprehending anything, dwell on the notion that the emptiness of the unlimited is at peace or not at peace; they should not, by way of apprehending anything, dwell on the notion that the emptiness of the unlimited is void or not void; they should not, by way of apprehending anything, dwell on the notion that the emptiness of the unlimited is empty or not empty; they should not, by way of apprehending anything, dwell on the notion that the emptiness of the unlimited has a sign or is signless; and they should not, by way of apprehending anything, dwell on the notion that the emptiness of the unlimited has wishes or does not have wishes.',\n",
       "  'base_predictions': '“They should not, by way of apprehending anything, dwell on the notion that the emptiness of the unlimited is permanent or impermanent; they should not, by way of apprehending anything, dwell on the notion that the emptiness of the unlimited is happiness or suffering; they should not, by way of apprehending anything, dwell on the notion that the emptiness of the unlimited is a self or nonself; they should not, by way of apprehending anything, dwell on the notion that the emptiness of the unlimited is pleasant or unpleasant; they should not, by way of apprehending anything, dwell on the notion that the emptiness of the unlimited is at peace or not at peace; they should not, by way of apprehending anything, dwell on'},\n",
       " {'bo': 'ངེས་གསང་སྙིང་པོའི་བསྟན་པ་རབ་རྒྱས་ཤིང་།།',\n",
       "  'en': 'May the definitive teachings of the Secret Essence spread far and wide.',\n",
       "  'base_predictions': 'May the teachings of the definitive secret essence spread far and wide'},\n",
       " {'bo': 'གནོད་བྱེད་ཀྱི་འདྲེ་ལའང་དེ་ལྟར་ཞིབ་ཏུ་བརྟགས་ནས་ལྷ་འདྲེ་གཉིས་ཀ་མིང་གིས་བཏགས་ཙམ་ལས་རང་བཞིན་གྱིས་མ་གྲུབ་པའི་ཚུལ་ཤེས་པར་བྱའོ།།',\n",
       "  'en': \"If you think that demons have caused you harm, examine how any harm could be caused by what amounts to the mere label 'demon,' since this label does not qualify as a sense object-a form, sound, odor, taste, or tactile sensation.\",\n",
       "  'base_predictions': 'When you examine harmful spirits in this way, you should understand how both gods and demons are mere names and have no intrinsic existence.'},\n",
       " {'bo': 'མཆོད་སྦྱིན་གནས་འདིར་གང་ལྷགས་པའི།། འབྱུང་པོ་ས་འོག་རྒྱུ་བ་དང་།། གང་ཡང་ས་སྟེང་འཁོད་པ་དང་།། ས་བླར་རྒྱུ་བ་གང་ཡིན་པ།། མགུ་བར་གྱིས་ལ་རང་གནས་སུ།། ཐམས་ཅད་ཐ་དད་འགྲོ་བར་གྱིས།།',\n",
       "  'en': 'May all the spirits gathered here In this place of offering—those who travel beneath the earth, Those who dwell upon the earth, And those who move about above it— All be satisfied and return, Each to their own separate abode!',\n",
       "  'base_predictions': 'All the spirits gathered at this place of offering and giving, those who move under the ground, those who dwell on the ground, and those who move above the earth— all be satisfied, and they all go separate.'},\n",
       " {'bo': 'མི་མཐུན་དགྲ་ཟུན་སྤེལ་མ་ཡིན།།',\n",
       "  'en': 'Beings alternate between being friends and discordant foes.',\n",
       "  'base_predictions': 'You will not increase your adversities as enemies.'},\n",
       " {'bo': 'དང་པོ་ངོ་བོ་མཐོང་མ་མཐོང་ནི། སེམས་ཀྱི་ངོ་བོ་ཅིར་ཡང་གྲུབ་པ་མེད་པས་ན་སྟོང་པ།',\n",
       "  'en': 'First, whether the essence is seen or not: That mind essence has no intrinsic existence whatsoever means it is “empty.”',\n",
       "  'base_predictions': 'First, in terms of whether the essence is seen or not: Since the essence of mind does not exist in any way, it is empty.'},\n",
       " {'bo': 'རབ་ཏུ་སྦྱོར་བར་བྱེད་པའི་ཕྱིར་རོ།།',\n",
       "  'en': 'Thus they are wholly connected and thoroughly connected.',\n",
       "  'base_predictions': 'Because it binds one to it.'},\n",
       " {'bo': 'འབྱོར་པ་ཐམས་ཅད་ཀུན་ཏུ་སྟོན་མཛད་པ།། ཐེ་ཚོམ་ཐམས་ཅད་གཅོད་པ་ཡི།། ཆོས་ཆེན་ཆར་ནི་རབ་ཏུ་འབེབས།།',\n",
       "  'en': 'In all the surrounding maṇḍalas, As the revealer of all excellent attributes, It causes a downpour of the supreme doctrine, Cutting off all doubts.',\n",
       "  'base_predictions': 'Revealing all kinds of possessions, The rain of the Great Dharma showers down All doubts.'},\n",
       " {'bo': 'སོ་སོ་ཡང་དག་པར་རིག་པ་བརྙེས་པས་ན་བློ་གྲོས་གཞན་ལས་འཕགས་པས་ལེགས་པའི་བློ་གྲོས།',\n",
       "  'en': 'Having attained the correct knowledges, one\\'s intellect is exalted above that of others. Thus, there is \"excellent intelligence.\"',\n",
       "  'base_predictions': 'Because they have attained correct and discerning awareness, they are well known in intelligence, which is superior to other types of intelligence.'},\n",
       " {'bo': 'གཉིད་ནི་དགེ་བ་དང་། མི་དགེ་བ་དང་།',\n",
       "  'en': 'Sleepiness can be wholesome, unwholesome, nondefined.',\n",
       "  'base_predictions': 'Sleep is virtuous, nonvirtuous, or neutral.'},\n",
       " {'bo': 'ཞི་བར་བྱེད།',\n",
       "  'en': 'Pacify if.',\n",
       "  'base_predictions': 'Pacification.'},\n",
       " {'bo': 'ཨོཾ་ཨཱ་མོ་གྷ་ཤཱི་ལ།སཾ་བྷ་ར་སཾ་བྷ་ར།བྷ་ར་བྷ་ར།མཧཱ་ཤུདྡྷ་སཏྭ་པདྨ་བི་བྷུ་ཥི་ཏ་བྷུ་ཛ།དྷ་ར་དྷ་ར།ས་མནྟ།ཨ་ཝ་ལོ་ཀི་ཏེ་ཧཱུྃ་ཕཊ་སྭཱ་ཧཱ།',\n",
       "  'en': 'oṃ amoghaśīla saṃvara saṃvara vara vara mahā-śuddha-sattva-padma-vibhūṣita-puja-dhara-dhara-samanta-avalokite hūṃ phaṭ\\xa0svāhā',\n",
       "  'base_predictions': 'oṃ amoghaśīla saṃvara saṃvara bhara bhara mahā-śuddha-sattva-padma-vibhūṣita-puja-dhara-dhara-samanta-avalokite hūṃ phaṭ svāhā'},\n",
       " {'bo': 'ཐལ་འགྱུར་ལས། རྣ་བ་གཡས་པས་ལས་རླུང་སྟོན།། གཡོན་པས་སྒྲ་ཉམས་ཡེ་ཤེས་ཉིད།། གཡོན་རྩ་ན་རང་བཞིན་གྱི་ཐིག་ལེ་གཡས་ན་ཀུན་རྫོབ་ཀྱི་ཐིག་ལེའོ།། དེ་ཡང་གཡས་པ་ཀུན་རྫོབ་ཀྱི་ཐིག་ལེ་ལ་བརྟེན་ནས་སུ་སྨིན་པར་བྱེད་ལ། དེ་ཉིད་ཀྱིས་ལུས་བདེ་བ་དང་སྡུག་བསྔལ་བ་དང་བཏང་སྙོམས་དང་འབྱུང་བ་འཕེལ་བ་དང་ཉམས་པ་ལ་སོགས་པའི་ལས་བྱེད་དོ།། དེ་ཡང་དེ་ཉིད་ལ་མདུད་པ་ཕྲ་མོ་བཞི་ཡོད་དེ་ལྟེ་བ་དང་། དྲན་པ་དང་རོ་རྣམས་དང་རྩེ་མོ་བཞིན་དང་པོ་རྒྱུས་སྐྱེད་བྱེད་ཀྱི་རྩ་བསྐྱེད་པས་རྩའི་ནང་དུ་ཕའི་རྒྱུ་ཐིག་ལེ་དཀར་བ་ཡུངས་འབྲུ་ལ་བཅུར་བགོས་པའི་ཆ་ཙམ་ཞིག་གནས་སོ།། དེ་ལ་བརྟེན་ནས་ལུས་ཡར་འཕེལ་དུ་བསྐྱེད་པས་རྒྱུ་ཞེས་བྱའོ།། དྲན་པ་ན་མའི་རྒྱུ་ཐིག་ལེ་དམར་པོ་ཡུངས་འབྲུའི་བཅུ་ཆ་ཙམ་གནས་པས་དྲན་བསམ་སྣ་ཚོགས་པ་འགྱུ་བའི་རྟེན་དུ་གནས་པས་དྲན་པ་ཞེས་བྱའོ།།',\n",
       "  'en': \"In the root tantra, it states: Through the right ear, the karmic winds manifest. Through the left ear, sound is heard as wisdom. Genuine vital essence flows within the left channel and relative flows in the right. In reliance upon the relative bindus in the right channel, the body is brought to maturity. This also functions in relation to the experiences of comfort, discomfort, neutrality and the like, as well as the increase and decline of the body's elemental energies. This channel also has four subtle knots at the navel, heart, throat and crown. For the first , since the cause for the channel of generation is engendered here, the root cause from the father is located within this channel as a white bindu the size of a tenth of a mustard seed. In reliance upon it, the body forms in an upward manner, hence, it is referred to as the root cause. The red bindu from the mother, about the size of a tenth of a mustard seed, is located at the heart. This abides as the source for the arising of various mental thoughts and recollections and is hence referred to as recollection.\",\n",
       "  'base_predictions': 'In the root tantra, it states: The right ear reveals karmic winds, the left ear reveals the experience of sound, and the intrinsic nature of the bindu in the left channel is the relative bindu in the right channel. In reliance upon the relative bindu of the right hand, the bindu matures in the right channel. Through that, the function of the body is to experience happiness, suffering, equanimity, increase the elements, decrease and so forth. Concerning this, there are four subtle knots that are like the navel, memory, taste, and tip. First, since the cause generates the channels that generate the generative essence, the cause of the father within the channel is a white bindu the size of one tenth of a mustard seed.'},\n",
       " {'bo': 'སྣང་སྲིད་འཁོར་འདས་ཐམས་ཅད་ཀྱི་ངོ་བོ་དངོས་པོ་དང་མཚ༵ན་མ༵ར་གྲུབ་པ་མ༵་ཡི༵ན་ཏེ་གདོད་མ་ནས་རང་བཞིན་མེད་པ་སྤྲུལ་པ་དང་འདྲ་ཞིང་རྣམ་པ་དོན་སྤྱོད་པ་དང་བཏང་སྙོམས་ཆེན་པོས་སེམས་ཅན་རྣམས་ཞི་བ་ལ་འགོད་པའི་མཚོན་བྱེད་དུ་དྲིལ་བུ་མར་སྣང་བ༵འོ།།',\n",
       "  'en': 'Given that the nature of the phenom\\xad ena of samsara and enlightenment does not exist as substance or with characteristics, it is originally nonexistent-like magic-indicated by placing all sentient beings in quiescence and great evenness through accomplishing their welfare as Gantha.',\n",
       "  'base_predictions': 'Since the nature of all apparent phenomena of samsara and enlightenment has never been established as substantial or possessing characteristics. From the beginning, this nature is like a magical manifestation and has no purposeful activity or great equanimity as the indication of establishing all sentient beings in peace.'},\n",
       " {'bo': 'ཚེ་དང་ལྡན་པ་མ་འགགས་པའི་ལྷའི་མིག་གིས་ཇི་སྲིད་ཚུན་ཆད་མཐོང་།',\n",
       "  'en': 'To what distance does the divine vision of the venerable Aniruddha extend?’',\n",
       "  'base_predictions': 'With the divine vision of Venerable Aniruddha, one can see him for as long as one lives.'},\n",
       " {'bo': 'འདེགས་འཇོག་བརྐྱང་བསྐུམ་འགྲོ་བའི་ལས་ནི་ལུས་ཅན་ལ་བརྟེན་པའི་ཕྱིར་ན་རྡུལ་དེ་ཡི་ལས་ཀྱི་བདག་ཉིད་ཡིན་པ་དང་།',\n",
       "  'en': 'The action of walking, for example, the lifting and lowering of the feet, the bending and stretching of the limbs—since they are based on the possession of a body—are, in principle, the activity of the particles.',\n",
       "  'base_predictions': 'Actions of wandering beings, lifting up, putting down, expanding and contracting, are based on embodied beings; therefore, they are of the nature of the actions of these particles.'}]"
      ]
     },
     "execution_count": 4,
     "metadata": {},
     "output_type": "execute_result"
    }
   ],
   "source": [
    "list(ds.select(range(0,50)))"
   ]
  },
  {
   "cell_type": "code",
   "execution_count": 5,
   "metadata": {},
   "outputs": [],
   "source": [
    "scores_1 = [75, 85, 80, 60, 70, 65, 85, 90, 40, 85, 85, 80, 75, 70, 75, 85, 80, 85, 75, 80, 85, 80, 75, 80, 70, 85, 80, 75, 85, 80, 75, 85, 80, 85, 80, 85, 85, 80, 75, 85, 80, 75, 85, 80, 85, 80, 85, 90, 80, 85]"
   ]
  },
  {
   "cell_type": "code",
   "execution_count": 6,
   "metadata": {},
   "outputs": [
    {
     "data": {
      "text/plain": [
       "np.float64(79.2)"
      ]
     },
     "execution_count": 6,
     "metadata": {},
     "output_type": "execute_result"
    }
   ],
   "source": [
    "import numpy as np\n",
    "\n",
    "np.mean(scores)"
   ]
  },
  {
   "cell_type": "code",
   "execution_count": null,
   "metadata": {},
   "outputs": [],
   "source": []
  }
 ],
 "metadata": {
  "kernelspec": {
   "display_name": ".venv",
   "language": "python",
   "name": "python3"
  },
  "language_info": {
   "codemirror_mode": {
    "name": "ipython",
    "version": 3
   },
   "file_extension": ".py",
   "mimetype": "text/x-python",
   "name": "python",
   "nbconvert_exporter": "python",
   "pygments_lexer": "ipython3",
   "version": "3.12.3"
  }
 },
 "nbformat": 4,
 "nbformat_minor": 2
}
