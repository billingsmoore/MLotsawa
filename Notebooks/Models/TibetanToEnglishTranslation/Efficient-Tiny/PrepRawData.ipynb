{
 "cells": [
  {
   "cell_type": "code",
   "execution_count": 9,
   "metadata": {},
   "outputs": [],
   "source": [
    "from datasets import load_dataset, concatenate_datasets\n",
    "\n",
    "agg = load_dataset(\"billingsmoore/Aggregated-bo-en\", split='train')\n",
    "\n",
    "op_train = load_dataset(\"openpecha/tagged_cleaned_MT_v1.0.3\", split='train')\n",
    "op_test = load_dataset(\"openpecha/tagged_cleaned_MT_v1.0.3\", split='test')\n",
    "op = concatenate_datasets([op_train, op_test])\n",
    "\n",
    "op = op.rename_column('Source', 'bo')\n",
    "op = op.rename_column('Target', 'en')"
   ]
  },
  {
   "cell_type": "code",
   "execution_count": 2,
   "metadata": {},
   "outputs": [
    {
     "data": {
      "text/plain": [
       "Dataset({\n",
       "    features: ['bo', 'en', 'source_file', 'source', 'topic'],\n",
       "    num_rows: 885100\n",
       "})"
      ]
     },
     "execution_count": 2,
     "metadata": {},
     "output_type": "execute_result"
    }
   ],
   "source": [
    "agg"
   ]
  },
  {
   "cell_type": "code",
   "execution_count": null,
   "metadata": {},
   "outputs": [
    {
     "data": {
      "application/vnd.jupyter.widget-view+json": {
       "model_id": "66235c6a8c35496da4cb5fa020bca771",
       "version_major": 2,
       "version_minor": 0
      },
      "text/plain": [
       "Filter:   0%|          | 0/885100 [00:00<?, ? examples/s]"
      ]
     },
     "metadata": {},
     "output_type": "display_data"
    }
   ],
   "source": [
    "bud_agg = agg.filter(lambda example: example['source'] in ['84000', 'LotsawaHouse'])\n",
    "set(bud_agg['source'])"
   ]
  },
  {
   "cell_type": "code",
   "execution_count": 10,
   "metadata": {},
   "outputs": [
    {
     "data": {
      "text/plain": [
       "Dataset({\n",
       "    features: ['bo', 'en', 'File_Name', 'Machine Aligned', '__index_level_0__', 'Tag'],\n",
       "    num_rows: 1438258\n",
       "})"
      ]
     },
     "execution_count": 10,
     "metadata": {},
     "output_type": "execute_result"
    }
   ],
   "source": [
    "op"
   ]
  },
  {
   "cell_type": "code",
   "execution_count": 11,
   "metadata": {},
   "outputs": [
    {
     "data": {
      "text/plain": [
       "{'Buddhist': True,\n",
       " 'LH labels': ['Akṣobhya', 'Longsal Dorje Nyingpo'],\n",
       " 'Topic': 'Prophecies, Rituals'}"
      ]
     },
     "execution_count": 11,
     "metadata": {},
     "output_type": "execute_result"
    }
   ],
   "source": [
    "op[0]['Tag']"
   ]
  },
  {
   "cell_type": "code",
   "execution_count": 13,
   "metadata": {},
   "outputs": [
    {
     "data": {
      "application/vnd.jupyter.widget-view+json": {
       "model_id": "565b0f166e87405b84e368eb866db891",
       "version_major": 2,
       "version_minor": 0
      },
      "text/plain": [
       "Filter:   0%|          | 0/1438258 [00:00<?, ? examples/s]"
      ]
     },
     "metadata": {},
     "output_type": "display_data"
    },
    {
     "data": {
      "text/plain": [
       "Dataset({\n",
       "    features: ['bo', 'en', 'File_Name', 'Machine Aligned', '__index_level_0__', 'Tag'],\n",
       "    num_rows: 866512\n",
       "})"
      ]
     },
     "execution_count": 13,
     "metadata": {},
     "output_type": "execute_result"
    }
   ],
   "source": [
    "bud_op = op.filter(lambda example: example['Tag']['Buddhist'])\n",
    "bud_op\n"
   ]
  },
  {
   "cell_type": "code",
   "execution_count": 20,
   "metadata": {},
   "outputs": [
    {
     "data": {
      "text/plain": [
       "Dataset({\n",
       "    features: ['bo', 'en'],\n",
       "    num_rows: 1029132\n",
       "})"
      ]
     },
     "execution_count": 20,
     "metadata": {},
     "output_type": "execute_result"
    }
   ],
   "source": [
    "conc = concatenate_datasets([bud_agg, bud_op]).remove_columns(['source_file', 'source', 'topic', 'File_Name', 'Machine Aligned', '__index_level_0__', 'Tag'])\n",
    "conc = conc.shuffle(seed=42)\n",
    "conc"
   ]
  },
  {
   "cell_type": "code",
   "execution_count": 24,
   "metadata": {},
   "outputs": [
    {
     "data": {
      "text/html": [
       "<div>\n",
       "<style scoped>\n",
       "    .dataframe tbody tr th:only-of-type {\n",
       "        vertical-align: middle;\n",
       "    }\n",
       "\n",
       "    .dataframe tbody tr th {\n",
       "        vertical-align: top;\n",
       "    }\n",
       "\n",
       "    .dataframe thead th {\n",
       "        text-align: right;\n",
       "    }\n",
       "</style>\n",
       "<table border=\"1\" class=\"dataframe\">\n",
       "  <thead>\n",
       "    <tr style=\"text-align: right;\">\n",
       "      <th></th>\n",
       "      <th>bo</th>\n",
       "      <th>en</th>\n",
       "    </tr>\n",
       "  </thead>\n",
       "  <tbody>\n",
       "    <tr>\n",
       "      <th>0</th>\n",
       "      <td>སྤྱིར་ཡང་འདི་ལ་ཛ་ག་ནཱ་ཐ་སྟེ་འགྲོ་བའི་མགོན་པོར་...</td>\n",
       "      <td>There are those who say that, in general, Jaga...</td>\n",
       "    </tr>\n",
       "    <tr>\n",
       "      <th>1</th>\n",
       "      <td>དེ་ཅིའི་ཕྱིར་ཞེ་ན། ཀཽ་ཤི་ཀ་དེ་ནི་འདི་ལྟར་དོན་ད...</td>\n",
       "      <td>If you ask why, Kauśika, it is because the bou...</td>\n",
       "    </tr>\n",
       "    <tr>\n",
       "      <th>2</th>\n",
       "      <td>དེས་ན། མིའི་སྤྱི་ཚོགས་ཁྲོད་དུ་བྱམས་པ་དང་སྙིང་ར...</td>\n",
       "      <td>Thus in human society. love, compassion, and k...</td>\n",
       "    </tr>\n",
       "    <tr>\n",
       "      <th>3</th>\n",
       "      <td>སྙིང་པོའི་མདོ་བཅུ་དང་། རྒྱུད་བླ་མ་སོགས་རྒྱུ་ཡི...</td>\n",
       "      <td>By only this there is no entailment because th...</td>\n",
       "    </tr>\n",
       "    <tr>\n",
       "      <th>4</th>\n",
       "      <td>གཏེར་རྡོལ་ཁའི་ཁ་མ་བཀབ།།</td>\n",
       "      <td>Don’t close the lid of the treasure.</td>\n",
       "    </tr>\n",
       "  </tbody>\n",
       "</table>\n",
       "</div>"
      ],
      "text/plain": [
       "                                                  bo  \\\n",
       "0  སྤྱིར་ཡང་འདི་ལ་ཛ་ག་ནཱ་ཐ་སྟེ་འགྲོ་བའི་མགོན་པོར་...   \n",
       "1  དེ་ཅིའི་ཕྱིར་ཞེ་ན། ཀཽ་ཤི་ཀ་དེ་ནི་འདི་ལྟར་དོན་ད...   \n",
       "2  དེས་ན། མིའི་སྤྱི་ཚོགས་ཁྲོད་དུ་བྱམས་པ་དང་སྙིང་ར...   \n",
       "3  སྙིང་པོའི་མདོ་བཅུ་དང་། རྒྱུད་བླ་མ་སོགས་རྒྱུ་ཡི...   \n",
       "4                            གཏེར་རྡོལ་ཁའི་ཁ་མ་བཀབ།།   \n",
       "\n",
       "                                                  en  \n",
       "0  There are those who say that, in general, Jaga...  \n",
       "1  If you ask why, Kauśika, it is because the bou...  \n",
       "2  Thus in human society. love, compassion, and k...  \n",
       "3  By only this there is no entailment because th...  \n",
       "4               Don’t close the lid of the treasure.  "
      ]
     },
     "execution_count": 24,
     "metadata": {},
     "output_type": "execute_result"
    }
   ],
   "source": [
    "df = conc.to_pandas()\n",
    "df.head()"
   ]
  },
  {
   "cell_type": "code",
   "execution_count": 25,
   "metadata": {},
   "outputs": [
    {
     "data": {
      "text/plain": [
       "1029132"
      ]
     },
     "execution_count": 25,
     "metadata": {},
     "output_type": "execute_result"
    }
   ],
   "source": [
    "len(df)"
   ]
  },
  {
   "cell_type": "code",
   "execution_count": 26,
   "metadata": {},
   "outputs": [
    {
     "data": {
      "text/plain": [
       "1018441"
      ]
     },
     "execution_count": 26,
     "metadata": {},
     "output_type": "execute_result"
    }
   ],
   "source": [
    "df = df.drop_duplicates(subset='en')\n",
    "len(df)"
   ]
  },
  {
   "cell_type": "code",
   "execution_count": 27,
   "metadata": {},
   "outputs": [
    {
     "data": {
      "text/plain": [
       "1011417"
      ]
     },
     "execution_count": 27,
     "metadata": {},
     "output_type": "execute_result"
    }
   ],
   "source": [
    "df = df.drop_duplicates(subset='bo')\n",
    "len(df)"
   ]
  },
  {
   "cell_type": "code",
   "execution_count": 31,
   "metadata": {},
   "outputs": [
    {
     "data": {
      "text/plain": [
       "Dataset({\n",
       "    features: ['bo', 'en'],\n",
       "    num_rows: 1011417\n",
       "})"
      ]
     },
     "execution_count": 31,
     "metadata": {},
     "output_type": "execute_result"
    }
   ],
   "source": [
    "from datasets import Dataset\n",
    "\n",
    "conc = Dataset.from_pandas(df[['bo', 'en']]).remove_columns(['__index_level_0__'])\n",
    "conc"
   ]
  },
  {
   "cell_type": "code",
   "execution_count": 32,
   "metadata": {},
   "outputs": [
    {
     "data": {
      "text/plain": [
       "DatasetDict({\n",
       "    train: Dataset({\n",
       "        features: ['bo', 'en'],\n",
       "        num_rows: 861417\n",
       "    })\n",
       "    dev: Dataset({\n",
       "        features: ['bo', 'en'],\n",
       "        num_rows: 50000\n",
       "    })\n",
       "    test: Dataset({\n",
       "        features: ['bo', 'en'],\n",
       "        num_rows: 100000\n",
       "    })\n",
       "})"
      ]
     },
     "execution_count": 32,
     "metadata": {},
     "output_type": "execute_result"
    }
   ],
   "source": [
    "from datasets import DatasetDict\n",
    "\n",
    "test = conc.select(range(100_000))\n",
    "dev = conc.select(range(100_000, 150_000))\n",
    "train = conc.select(range(150_000, len(conc)))\n",
    "\n",
    "ds = DatasetDict()\n",
    "\n",
    "ds['train'] = train\n",
    "ds['dev'] = dev\n",
    "ds['test'] = test\n",
    "\n",
    "ds"
   ]
  },
  {
   "cell_type": "code",
   "execution_count": 33,
   "metadata": {},
   "outputs": [
    {
     "data": {
      "application/vnd.jupyter.widget-view+json": {
       "model_id": "0aa8409ac4a146edb69809133d2b0c88",
       "version_major": 2,
       "version_minor": 0
      },
      "text/plain": [
       "Saving the dataset (0/2 shards):   0%|          | 0/861417 [00:00<?, ? examples/s]"
      ]
     },
     "metadata": {},
     "output_type": "display_data"
    },
    {
     "data": {
      "application/vnd.jupyter.widget-view+json": {
       "model_id": "ceae04826b1d4695ac297bd148018b8f",
       "version_major": 2,
       "version_minor": 0
      },
      "text/plain": [
       "Saving the dataset (0/1 shards):   0%|          | 0/50000 [00:00<?, ? examples/s]"
      ]
     },
     "metadata": {},
     "output_type": "display_data"
    },
    {
     "data": {
      "application/vnd.jupyter.widget-view+json": {
       "model_id": "65a2736c421342f38f8a796be354fd27",
       "version_major": 2,
       "version_minor": 0
      },
      "text/plain": [
       "Saving the dataset (0/1 shards):   0%|          | 0/100000 [00:00<?, ? examples/s]"
      ]
     },
     "metadata": {},
     "output_type": "display_data"
    }
   ],
   "source": [
    "ds.save_to_disk('raw-ds')"
   ]
  }
 ],
 "metadata": {
  "kernelspec": {
   "display_name": ".venv",
   "language": "python",
   "name": "python3"
  },
  "language_info": {
   "codemirror_mode": {
    "name": "ipython",
    "version": 3
   },
   "file_extension": ".py",
   "mimetype": "text/x-python",
   "name": "python",
   "nbconvert_exporter": "python",
   "pygments_lexer": "ipython3",
   "version": "3.12.3"
  }
 },
 "nbformat": 4,
 "nbformat_minor": 2
}
