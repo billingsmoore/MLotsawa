{
 "cells": [
  {
   "cell_type": "code",
   "execution_count": 1,
   "metadata": {},
   "outputs": [],
   "source": [
    "from transformers import AutoTokenizer, AutoModelForSeq2SeqLM\n",
    "\n",
    "model = AutoModelForSeq2SeqLM.from_pretrained('finetuned-model', device_map=\"cuda:0\")\n",
    "tokenizer = AutoTokenizer.from_pretrained('bo-es-tokenizer')"
   ]
  },
  {
   "cell_type": "code",
   "execution_count": 2,
   "metadata": {},
   "outputs": [
    {
     "data": {
      "application/vnd.jupyter.widget-view+json": {
       "model_id": "c696d562356647718195cd8fcc8d9e51",
       "version_major": 2,
       "version_minor": 0
      },
      "text/plain": [
       "README.md:   0%|          | 0.00/24.0 [00:00<?, ?B/s]"
      ]
     },
     "metadata": {},
     "output_type": "display_data"
    },
    {
     "data": {
      "text/plain": [
       "CommitInfo(commit_url='https://huggingface.co/billingsmoore/tibetan-to-spanish-translation-v0/commit/b8779e0154e78d515dee545a8ecb6ce700c3e350', commit_message='Upload tokenizer', commit_description='', oid='b8779e0154e78d515dee545a8ecb6ce700c3e350', pr_url=None, repo_url=RepoUrl('https://huggingface.co/billingsmoore/tibetan-to-spanish-translation-v0', endpoint='https://huggingface.co', repo_type='model', repo_id='billingsmoore/tibetan-to-spanish-translation-v0'), pr_revision=None, pr_num=None)"
      ]
     },
     "execution_count": 2,
     "metadata": {},
     "output_type": "execute_result"
    }
   ],
   "source": [
    "tokenizer.push_to_hub('billingsmoore/tibetan-to-spanish-translation-v0')"
   ]
  },
  {
   "cell_type": "code",
   "execution_count": 3,
   "metadata": {},
   "outputs": [
    {
     "data": {
      "application/vnd.jupyter.widget-view+json": {
       "model_id": "0ba94a5171a04fc69861d96d8284f0c0",
       "version_major": 2,
       "version_minor": 0
      },
      "text/plain": [
       "model.safetensors:   0%|          | 0.00/864M [00:00<?, ?B/s]"
      ]
     },
     "metadata": {},
     "output_type": "display_data"
    },
    {
     "data": {
      "text/plain": [
       "CommitInfo(commit_url='https://huggingface.co/billingsmoore/tibetan-to-spanish-translation-v0/commit/edd82ae00e470009bd474a4a3d3089c1d1537369', commit_message='Upload T5ForConditionalGeneration', commit_description='', oid='edd82ae00e470009bd474a4a3d3089c1d1537369', pr_url=None, repo_url=RepoUrl('https://huggingface.co/billingsmoore/tibetan-to-spanish-translation-v0', endpoint='https://huggingface.co', repo_type='model', repo_id='billingsmoore/tibetan-to-spanish-translation-v0'), pr_revision=None, pr_num=None)"
      ]
     },
     "execution_count": 3,
     "metadata": {},
     "output_type": "execute_result"
    }
   ],
   "source": [
    "model.push_to_hub('billingsmoore/tibetan-to-spanish-translation-v0')"
   ]
  }
 ],
 "metadata": {
  "kernelspec": {
   "display_name": ".venv",
   "language": "python",
   "name": "python3"
  },
  "language_info": {
   "codemirror_mode": {
    "name": "ipython",
    "version": 3
   },
   "file_extension": ".py",
   "mimetype": "text/x-python",
   "name": "python",
   "nbconvert_exporter": "python",
   "pygments_lexer": "ipython3",
   "version": "3.12.3"
  }
 },
 "nbformat": 4,
 "nbformat_minor": 2
}
