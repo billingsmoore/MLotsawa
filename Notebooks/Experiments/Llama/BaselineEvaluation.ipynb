{
 "cells": [
  {
   "cell_type": "code",
   "execution_count": 1,
   "metadata": {},
   "outputs": [],
   "source": [
    "from datasets import load_dataset\n",
    "\n",
    "ds = load_dataset('openpecha/cleaned_MT_v1.0.3', split='test')"
   ]
  },
  {
   "cell_type": "code",
   "execution_count": null,
   "metadata": {},
   "outputs": [],
   "source": [
    "def translate(text):\n",
    "    messages = [\n",
    "        {\"role\": \"system\", \"content\": \"You are a skilled translator of Tibetan texts. You answer only with the requested translation and nothing else.\"},\n",
    "        {\"role\": \"user\", \"content\": f\"Translate from Tibetan to English: {text}\"}\n",
    "        ]\n",
    "\n",
    "    outputs = pipe(\n",
    "        messages,\n",
    "        max_new_tokens=256,\n",
    "        )\n",
    "    return outputs[0][\"generated_text\"][-1]['content']"
   ]
  },
  {
   "cell_type": "code",
   "execution_count": null,
   "metadata": {},
   "outputs": [],
   "source": [
    "def get_translations(example):\n",
    "    example['pred'] = translate(example['Source'])\n",
    "    return example"
   ]
  },
  {
   "cell_type": "code",
   "execution_count": null,
   "metadata": {},
   "outputs": [],
   "source": [
    "ds = ds.map(get_translations)"
   ]
  },
  {
   "cell_type": "code",
   "execution_count": null,
   "metadata": {},
   "outputs": [],
   "source": [
    "import evaluate\n",
    "\n",
    "# Load BLEU and CHRF metrics\n",
    "bleu_metric = evaluate.load(\"sacrebleu\")\n",
    "chrf_metric = evaluate.load(\"chrf\")\n",
    "ter_metric = evaluate.load(\"ter\")\n",
    "\n",
    "preds = ds['pred']\n",
    "labels = ds['Target']\n",
    "\n",
    "# Compute BLEU score\n",
    "bleu_result = bleu_metric.compute(predictions=preds, references=labels)\n",
    "bleu_score = bleu_result[\"score\"]\n",
    "\n",
    "# Compute CHRF score\n",
    "chrf_result = chrf_metric.compute(predictions=preds, references=labels)\n",
    "chrf_score = chrf_result[\"score\"]\n",
    "\n",
    "# Compute TER score\n",
    "ter_result = ter_metric.compute(predictions=preds, references=labels)\n",
    "ter_score = ter_result[\"score\"]\n",
    "\n",
    "metrics = {\n",
    "        \"bleu\": round(bleu_score, 4),\n",
    "        \"chrf\": round(chrf_score, 4),\n",
    "        \"ter\": round(ter_score, 4)\n",
    "    }\n",
    "\n",
    "print(\"Computed Metrics:\", metrics)"
   ]
  }
 ],
 "metadata": {
  "kernelspec": {
   "display_name": ".venv",
   "language": "python",
   "name": "python3"
  },
  "language_info": {
   "codemirror_mode": {
    "name": "ipython",
    "version": 3
   },
   "file_extension": ".py",
   "mimetype": "text/x-python",
   "name": "python",
   "nbconvert_exporter": "python",
   "pygments_lexer": "ipython3",
   "version": "3.12.3"
  }
 },
 "nbformat": 4,
 "nbformat_minor": 2
}
