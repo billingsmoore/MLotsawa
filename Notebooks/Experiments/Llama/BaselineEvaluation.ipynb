{
 "cells": [
  {
   "cell_type": "code",
   "execution_count": 1,
   "metadata": {},
   "outputs": [],
   "source": [
    "from datasets import load_dataset\n",
    "\n",
    "ds = load_dataset('openpecha/cleaned_MT_v1.0.3', split='test')"
   ]
  },
  {
   "cell_type": "code",
   "execution_count": null,
   "metadata": {},
   "outputs": [],
   "source": [
    "import torch\n",
    "from transformers import pipeline, AutoModelForCausalLM, AutoTokenizer, BitsAndBytesConfig\n",
    "\n",
    "model_id = \"meta-llama/Llama-3.2-1B-Instruct\"\n",
    "\n",
    "# Configure 4-bit quantization\n",
    "bnb_config = BitsAndBytesConfig(\n",
    "    load_in_4bit=True,  # Use 4-bit quantization\n",
    "    bnb_4bit_quant_type=\"nf4\",  # Normalized float 4 (better accuracy)\n",
    "    bnb_4bit_compute_dtype=torch.bfloat16,  # Keep computation in bf16 for efficiency\n",
    "    bnb_4bit_use_double_quant=True  # Double quantization to save memory\n",
    ")\n",
    "\n",
    "# Load model and tokenizer with quantization\n",
    "model = AutoModelForCausalLM.from_pretrained(\n",
    "    model_id, \n",
    "    quantization_config=bnb_config,\n",
    "    device_map=\"auto\"\n",
    ")\n",
    "tokenizer = AutoTokenizer.from_pretrained(model_id)\n",
    "\n",
    "# Create the pipeline\n",
    "pipe = pipeline(\n",
    "    \"text-generation\",\n",
    "    model=model,\n",
    "    tokenizer=tokenizer\n",
    ")"
   ]
  },
  {
   "cell_type": "code",
   "execution_count": null,
   "metadata": {},
   "outputs": [],
   "source": [
    "def get_translations(example):\n",
    "    outputs = pipe(\n",
    "        [\n",
    "            {\"role\": \"system\", \"content\": \"You are a skilled translator of Tibetan texts. You answer only with the requested translation and nothing else.\"},\n",
    "            {\"role\": \"user\", \"content\": f\"Translate from Tibetan to English: {example.get('Source', '')}\"}\n",
    "        ],\n",
    "        max_new_tokens=256,\n",
    "    )\n",
    "\n",
    "    example['pred'] = outputs[0][\"generated_text\"][-1]['content'] if outputs else \"\"\n",
    "\n",
    "    return example\n",
    "\n",
    "ds = ds.map(get_translations, batched=True)\n"
   ]
  },
  {
   "cell_type": "code",
   "execution_count": null,
   "metadata": {},
   "outputs": [],
   "source": [
    "import evaluate\n",
    "\n",
    "# Load BLEU and CHRF metrics\n",
    "bleu_metric = evaluate.load(\"sacrebleu\")\n",
    "chrf_metric = evaluate.load(\"chrf\")\n",
    "ter_metric = evaluate.load(\"ter\")\n",
    "\n",
    "preds = ds['pred']\n",
    "labels = ds['Target']\n",
    "\n",
    "# Compute BLEU score\n",
    "bleu_result = bleu_metric.compute(predictions=preds, references=labels)\n",
    "bleu_score = bleu_result[\"score\"]\n",
    "\n",
    "# Compute CHRF score\n",
    "chrf_result = chrf_metric.compute(predictions=preds, references=labels)\n",
    "chrf_score = chrf_result[\"score\"]\n",
    "\n",
    "# Compute TER score\n",
    "ter_result = ter_metric.compute(predictions=preds, references=labels)\n",
    "ter_score = ter_result[\"score\"]\n",
    "\n",
    "metrics = {\n",
    "        \"bleu\": round(bleu_score, 4),\n",
    "        \"chrf\": round(chrf_score, 4),\n",
    "        \"ter\": round(ter_score, 4)\n",
    "    }\n",
    "\n",
    "print(\"Computed Metrics:\", metrics)"
   ]
  }
 ],
 "metadata": {
  "kernelspec": {
   "display_name": ".venv",
   "language": "python",
   "name": "python3"
  },
  "language_info": {
   "codemirror_mode": {
    "name": "ipython",
    "version": 3
   },
   "file_extension": ".py",
   "mimetype": "text/x-python",
   "name": "python",
   "nbconvert_exporter": "python",
   "pygments_lexer": "ipython3",
   "version": "3.12.3"
  }
 },
 "nbformat": 4,
 "nbformat_minor": 2
}
