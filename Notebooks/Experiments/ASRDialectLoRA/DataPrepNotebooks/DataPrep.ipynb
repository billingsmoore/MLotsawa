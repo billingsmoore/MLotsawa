{
 "cells": [
  {
   "cell_type": "markdown",
   "id": "29dcaa3b",
   "metadata": {},
   "source": [
    "# Data Prep\n",
    "\n",
    "Load just the audio book ('AB') data for the three major dialects."
   ]
  },
  {
   "cell_type": "markdown",
   "id": "b076e128",
   "metadata": {},
   "source": [
    "## Load Data"
   ]
  },
  {
   "cell_type": "code",
   "execution_count": 1,
   "id": "30807cce",
   "metadata": {},
   "outputs": [
    {
     "data": {
      "text/plain": [
       "Dataset({\n",
       "    features: ['file_name', 'uni', 'wylie', 'url', 'dept', 'grade', 'char_len', 'audio_len'],\n",
       "    num_rows: 1362015\n",
       "})"
      ]
     },
     "execution_count": 1,
     "metadata": {},
     "output_type": "execute_result"
    }
   ],
   "source": [
    "from datasets import load_dataset\n",
    "\n",
    "utsang = load_dataset('openpecha/stt-training-data', split='train')\n",
    "\n",
    "utsang"
   ]
  },
  {
   "cell_type": "code",
   "execution_count": 2,
   "id": "ae58f14f",
   "metadata": {},
   "outputs": [
    {
     "data": {
      "text/plain": [
       "Dataset({\n",
       "    features: ['file_name', 'uni', 'wylie', 'url', 'dept', 'grade', 'char_len', 'audio_len', '__index_level_0__'],\n",
       "    num_rows: 112870\n",
       "})"
      ]
     },
     "execution_count": 2,
     "metadata": {},
     "output_type": "execute_result"
    }
   ],
   "source": [
    "others = load_dataset('ganga4364/stt_tibetan_dialects_data',split='train')\n",
    "\n",
    "others"
   ]
  },
  {
   "cell_type": "code",
   "execution_count": 3,
   "id": "069e3a1d",
   "metadata": {},
   "outputs": [
    {
     "data": {
      "text/plain": [
       "{'STT_AB',\n",
       " 'STT_CS',\n",
       " 'STT_HS',\n",
       " 'STT_MV',\n",
       " 'STT_NS',\n",
       " 'STT_NW',\n",
       " 'STT_PC',\n",
       " 'STT_TT'}"
      ]
     },
     "execution_count": 3,
     "metadata": {},
     "output_type": "execute_result"
    }
   ],
   "source": [
    "set(utsang['dept'])"
   ]
  },
  {
   "cell_type": "code",
   "execution_count": 4,
   "id": "1686299f",
   "metadata": {},
   "outputs": [
    {
     "data": {
      "text/plain": [
       "{'STT_AM', 'STT_AM_AB', 'STT_KH', 'STT_KH_AB'}"
      ]
     },
     "execution_count": 4,
     "metadata": {},
     "output_type": "execute_result"
    }
   ],
   "source": [
    "set(others['dept'])"
   ]
  },
  {
   "cell_type": "markdown",
   "id": "d05f05b5",
   "metadata": {},
   "source": [
    "## Filter for Only Audio Book Data"
   ]
  },
  {
   "cell_type": "code",
   "execution_count": 5,
   "id": "d6f95100",
   "metadata": {},
   "outputs": [
    {
     "data": {
      "application/vnd.jupyter.widget-view+json": {
       "model_id": "22376c2cb64141feb2dd926fb78cba78",
       "version_major": 2,
       "version_minor": 0
      },
      "text/plain": [
       "Filter:   0%|          | 0/1362015 [00:00<?, ? examples/s]"
      ]
     },
     "metadata": {},
     "output_type": "display_data"
    }
   ],
   "source": [
    "utsang_ab = utsang.filter(lambda x: x[\"dept\"] == \"STT_AB\" and x['uni'].strip() != '')"
   ]
  },
  {
   "cell_type": "code",
   "execution_count": 6,
   "id": "999b79cf",
   "metadata": {},
   "outputs": [
    {
     "data": {
      "application/vnd.jupyter.widget-view+json": {
       "model_id": "16f374d7df4b4c80994dfa29d73e80aa",
       "version_major": 2,
       "version_minor": 0
      },
      "text/plain": [
       "Filter:   0%|          | 0/112870 [00:00<?, ? examples/s]"
      ]
     },
     "metadata": {},
     "output_type": "display_data"
    }
   ],
   "source": [
    "amdo_ab = others.filter(lambda x: x[\"dept\"] == \"STT_AM_AB\" and x['uni'].strip() != '')"
   ]
  },
  {
   "cell_type": "code",
   "execution_count": 7,
   "id": "f4d21ea5",
   "metadata": {},
   "outputs": [
    {
     "data": {
      "application/vnd.jupyter.widget-view+json": {
       "model_id": "185da323e70f49fc936243aa9f6bd088",
       "version_major": 2,
       "version_minor": 0
      },
      "text/plain": [
       "Filter:   0%|          | 0/112870 [00:00<?, ? examples/s]"
      ]
     },
     "metadata": {},
     "output_type": "display_data"
    }
   ],
   "source": [
    "kham_ab = others.filter(lambda x: x[\"dept\"] == \"STT_KH_AB\" and x['uni'].strip() != '')"
   ]
  },
  {
   "cell_type": "markdown",
   "id": "18eecd53",
   "metadata": {},
   "source": [
    "## Generate Splits"
   ]
  },
  {
   "cell_type": "code",
   "execution_count": 8,
   "id": "e57ec4db",
   "metadata": {},
   "outputs": [],
   "source": [
    "utsang_subset = utsang_ab.shuffle(seed=42).select(range(15_000)).train_test_split(.15)\n",
    "amdo_subset = amdo_ab.shuffle(seed=42).select(range(15_000)).train_test_split(.15)\n",
    "kham_subset = kham_ab.shuffle(seed=42).select(range(15_000)).train_test_split(.15)"
   ]
  },
  {
   "cell_type": "markdown",
   "id": "7f311298",
   "metadata": {},
   "source": [
    "## Create Mixed Data"
   ]
  },
  {
   "cell_type": "code",
   "execution_count": 9,
   "id": "a1fd858d",
   "metadata": {},
   "outputs": [
    {
     "data": {
      "text/plain": [
       "Dataset({\n",
       "    features: ['file_name', 'uni', 'wylie', 'url', 'dept', 'grade', 'char_len', 'audio_len', '__index_level_0__'],\n",
       "    num_rows: 15000\n",
       "})"
      ]
     },
     "execution_count": 9,
     "metadata": {},
     "output_type": "execute_result"
    }
   ],
   "source": [
    "from datasets import concatenate_datasets\n",
    "\n",
    "mixed = concatenate_datasets([utsang_subset['train'].shuffle().select(range(5000)), \n",
    "                              amdo_subset['train'].shuffle().select(range(5000)), \n",
    "                              kham_subset['train'].shuffle().select(range(5000))])\n",
    "\n",
    "mixed"
   ]
  },
  {
   "cell_type": "markdown",
   "id": "2140478f",
   "metadata": {},
   "source": [
    "## Save Data"
   ]
  },
  {
   "cell_type": "code",
   "execution_count": 10,
   "id": "43f5e410",
   "metadata": {},
   "outputs": [
    {
     "data": {
      "application/vnd.jupyter.widget-view+json": {
       "model_id": "c7909909ef98408c903c9b60af3b526a",
       "version_major": 2,
       "version_minor": 0
      },
      "text/plain": [
       "Saving the dataset (0/1 shards):   0%|          | 0/12750 [00:00<?, ? examples/s]"
      ]
     },
     "metadata": {},
     "output_type": "display_data"
    },
    {
     "data": {
      "application/vnd.jupyter.widget-view+json": {
       "model_id": "917eeaf17cbf4b78a4bf2b10ace5146e",
       "version_major": 2,
       "version_minor": 0
      },
      "text/plain": [
       "Saving the dataset (0/1 shards):   0%|          | 0/2250 [00:00<?, ? examples/s]"
      ]
     },
     "metadata": {},
     "output_type": "display_data"
    },
    {
     "data": {
      "application/vnd.jupyter.widget-view+json": {
       "model_id": "10d17c49f3c642a28cb387bd42cbb556",
       "version_major": 2,
       "version_minor": 0
      },
      "text/plain": [
       "Saving the dataset (0/1 shards):   0%|          | 0/12750 [00:00<?, ? examples/s]"
      ]
     },
     "metadata": {},
     "output_type": "display_data"
    },
    {
     "data": {
      "application/vnd.jupyter.widget-view+json": {
       "model_id": "e95d6d3a56384c95833cd34b0a3b6a95",
       "version_major": 2,
       "version_minor": 0
      },
      "text/plain": [
       "Saving the dataset (0/1 shards):   0%|          | 0/2250 [00:00<?, ? examples/s]"
      ]
     },
     "metadata": {},
     "output_type": "display_data"
    },
    {
     "data": {
      "application/vnd.jupyter.widget-view+json": {
       "model_id": "5ca6a682045f41d39f7b1a6f1fb7ce4c",
       "version_major": 2,
       "version_minor": 0
      },
      "text/plain": [
       "Saving the dataset (0/1 shards):   0%|          | 0/12750 [00:00<?, ? examples/s]"
      ]
     },
     "metadata": {},
     "output_type": "display_data"
    },
    {
     "data": {
      "application/vnd.jupyter.widget-view+json": {
       "model_id": "a127ecc4c69f46a0b4abe0d4d32b8c09",
       "version_major": 2,
       "version_minor": 0
      },
      "text/plain": [
       "Saving the dataset (0/1 shards):   0%|          | 0/2250 [00:00<?, ? examples/s]"
      ]
     },
     "metadata": {},
     "output_type": "display_data"
    },
    {
     "data": {
      "application/vnd.jupyter.widget-view+json": {
       "model_id": "e4632a08d9844848b363e44056038384",
       "version_major": 2,
       "version_minor": 0
      },
      "text/plain": [
       "Saving the dataset (0/1 shards):   0%|          | 0/15000 [00:00<?, ? examples/s]"
      ]
     },
     "metadata": {},
     "output_type": "display_data"
    }
   ],
   "source": [
    "utsang_subset.save_to_disk('utsang-ds')\n",
    "amdo_subset.save_to_disk('amdo-ds')\n",
    "kham_subset.save_to_disk('kham-ds')\n",
    "mixed.save_to_disk('mixed-training-ds')"
   ]
  }
 ],
 "metadata": {
  "kernelspec": {
   "display_name": ".venv",
   "language": "python",
   "name": "python3"
  },
  "language_info": {
   "codemirror_mode": {
    "name": "ipython",
    "version": 3
   },
   "file_extension": ".py",
   "mimetype": "text/x-python",
   "name": "python",
   "nbconvert_exporter": "python",
   "pygments_lexer": "ipython3",
   "version": "3.12.7"
  }
 },
 "nbformat": 4,
 "nbformat_minor": 5
}
