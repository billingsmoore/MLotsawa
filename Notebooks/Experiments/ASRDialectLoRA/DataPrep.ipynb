{
 "cells": [
  {
   "cell_type": "markdown",
   "id": "29dcaa3b",
   "metadata": {},
   "source": [
    "# Data Prep\n",
    "\n",
    "Load just the audio book ('AB') data for the three major dialects."
   ]
  },
  {
   "cell_type": "markdown",
   "id": "b076e128",
   "metadata": {},
   "source": [
    "## Load Data"
   ]
  },
  {
   "cell_type": "code",
   "execution_count": 1,
   "id": "30807cce",
   "metadata": {},
   "outputs": [
    {
     "data": {
      "text/plain": [
       "Dataset({\n",
       "    features: ['file_name', 'uni', 'wylie', 'url', 'dept', 'grade', 'char_len', 'audio_len'],\n",
       "    num_rows: 1362015\n",
       "})"
      ]
     },
     "execution_count": 1,
     "metadata": {},
     "output_type": "execute_result"
    }
   ],
   "source": [
    "from datasets import load_dataset\n",
    "\n",
    "utsang = load_dataset('openpecha/stt-training-data', split='train')\n",
    "\n",
    "utsang"
   ]
  },
  {
   "cell_type": "code",
   "execution_count": 2,
   "id": "ae58f14f",
   "metadata": {},
   "outputs": [
    {
     "data": {
      "text/plain": [
       "Dataset({\n",
       "    features: ['file_name', 'uni', 'wylie', 'url', 'dept', 'grade', 'char_len', 'audio_len', '__index_level_0__'],\n",
       "    num_rows: 112870\n",
       "})"
      ]
     },
     "execution_count": 2,
     "metadata": {},
     "output_type": "execute_result"
    }
   ],
   "source": [
    "others = load_dataset('ganga4364/stt_tibetan_dialects_data',split='train')\n",
    "\n",
    "others"
   ]
  },
  {
   "cell_type": "code",
   "execution_count": 3,
   "id": "069e3a1d",
   "metadata": {},
   "outputs": [
    {
     "data": {
      "text/plain": [
       "{'STT_AB',\n",
       " 'STT_CS',\n",
       " 'STT_HS',\n",
       " 'STT_MV',\n",
       " 'STT_NS',\n",
       " 'STT_NW',\n",
       " 'STT_PC',\n",
       " 'STT_TT'}"
      ]
     },
     "execution_count": 3,
     "metadata": {},
     "output_type": "execute_result"
    }
   ],
   "source": [
    "set(utsang['dept'])"
   ]
  },
  {
   "cell_type": "code",
   "execution_count": 4,
   "id": "1686299f",
   "metadata": {},
   "outputs": [
    {
     "data": {
      "text/plain": [
       "{'STT_AM', 'STT_AM_AB', 'STT_KH', 'STT_KH_AB'}"
      ]
     },
     "execution_count": 4,
     "metadata": {},
     "output_type": "execute_result"
    }
   ],
   "source": [
    "set(others['dept'])"
   ]
  },
  {
   "cell_type": "markdown",
   "id": "d05f05b5",
   "metadata": {},
   "source": [
    "## Filter for Only Audio Book Data"
   ]
  },
  {
   "cell_type": "code",
   "execution_count": 5,
   "id": "d6f95100",
   "metadata": {},
   "outputs": [],
   "source": [
    "utsang_ab = utsang.filter(lambda x: x[\"dept\"] == \"STT_AB\")"
   ]
  },
  {
   "cell_type": "code",
   "execution_count": 6,
   "id": "999b79cf",
   "metadata": {},
   "outputs": [],
   "source": [
    "amdo_ab = others.filter(lambda x: x[\"dept\"] == \"STT_AM_AB\")"
   ]
  },
  {
   "cell_type": "code",
   "execution_count": 7,
   "id": "f4d21ea5",
   "metadata": {},
   "outputs": [],
   "source": [
    "kham_ab = others.filter(lambda x: x[\"dept\"] == \"STT_KH_AB\")"
   ]
  },
  {
   "cell_type": "markdown",
   "id": "18eecd53",
   "metadata": {},
   "source": [
    "## Generate Splits"
   ]
  },
  {
   "cell_type": "code",
   "execution_count": 8,
   "id": "e57ec4db",
   "metadata": {},
   "outputs": [],
   "source": [
    "utsang_subset = utsang_ab.shuffle(seed=42).select(range(15_000)).train_test_split(.15)\n",
    "amdo_subset = amdo_ab.shuffle(seed=42).select(range(15_000)).train_test_split(.15)\n",
    "kham_subset = kham_ab.shuffle(seed=42).select(range(15_000)).train_test_split(.15)"
   ]
  },
  {
   "cell_type": "markdown",
   "id": "7f311298",
   "metadata": {},
   "source": [
    "## Create Mixed Data"
   ]
  },
  {
   "cell_type": "code",
   "execution_count": 9,
   "id": "a1fd858d",
   "metadata": {},
   "outputs": [
    {
     "data": {
      "text/plain": [
       "Dataset({\n",
       "    features: ['file_name', 'uni', 'wylie', 'url', 'dept', 'grade', 'char_len', 'audio_len', '__index_level_0__'],\n",
       "    num_rows: 15000\n",
       "})"
      ]
     },
     "execution_count": 9,
     "metadata": {},
     "output_type": "execute_result"
    }
   ],
   "source": [
    "from datasets import concatenate_datasets\n",
    "\n",
    "mixed = concatenate_datasets([utsang_subset['train'].shuffle().select(range(5000)), \n",
    "                              amdo_subset['train'].shuffle().select(range(5000)), \n",
    "                              kham_subset['train'].shuffle().select(range(5000))])\n",
    "\n",
    "mixed"
   ]
  },
  {
   "cell_type": "markdown",
   "id": "2140478f",
   "metadata": {},
   "source": [
    "## Save Data"
   ]
  },
  {
   "cell_type": "code",
   "execution_count": 10,
   "id": "43f5e410",
   "metadata": {},
   "outputs": [
    {
     "data": {
      "application/vnd.jupyter.widget-view+json": {
       "model_id": "1529255eb598411ea312d0e0fc0b5e4b",
       "version_major": 2,
       "version_minor": 0
      },
      "text/plain": [
       "Saving the dataset (0/1 shards):   0%|          | 0/12750 [00:00<?, ? examples/s]"
      ]
     },
     "metadata": {},
     "output_type": "display_data"
    },
    {
     "data": {
      "application/vnd.jupyter.widget-view+json": {
       "model_id": "2903161f8db84ec48ef51f6b2cc5f97e",
       "version_major": 2,
       "version_minor": 0
      },
      "text/plain": [
       "Saving the dataset (0/1 shards):   0%|          | 0/2250 [00:00<?, ? examples/s]"
      ]
     },
     "metadata": {},
     "output_type": "display_data"
    },
    {
     "data": {
      "application/vnd.jupyter.widget-view+json": {
       "model_id": "266816f98fbc45409af2b90b18783418",
       "version_major": 2,
       "version_minor": 0
      },
      "text/plain": [
       "Saving the dataset (0/1 shards):   0%|          | 0/12750 [00:00<?, ? examples/s]"
      ]
     },
     "metadata": {},
     "output_type": "display_data"
    },
    {
     "data": {
      "application/vnd.jupyter.widget-view+json": {
       "model_id": "b444b3ea65f640e8aba1c35ea841c9fd",
       "version_major": 2,
       "version_minor": 0
      },
      "text/plain": [
       "Saving the dataset (0/1 shards):   0%|          | 0/2250 [00:00<?, ? examples/s]"
      ]
     },
     "metadata": {},
     "output_type": "display_data"
    },
    {
     "data": {
      "application/vnd.jupyter.widget-view+json": {
       "model_id": "5cb8a2e2954a4f75bc35e0d6c6669719",
       "version_major": 2,
       "version_minor": 0
      },
      "text/plain": [
       "Saving the dataset (0/1 shards):   0%|          | 0/12750 [00:00<?, ? examples/s]"
      ]
     },
     "metadata": {},
     "output_type": "display_data"
    },
    {
     "data": {
      "application/vnd.jupyter.widget-view+json": {
       "model_id": "0324915d13ed4655915264e86c767a48",
       "version_major": 2,
       "version_minor": 0
      },
      "text/plain": [
       "Saving the dataset (0/1 shards):   0%|          | 0/2250 [00:00<?, ? examples/s]"
      ]
     },
     "metadata": {},
     "output_type": "display_data"
    },
    {
     "data": {
      "application/vnd.jupyter.widget-view+json": {
       "model_id": "e84dd917f9314128a4ab3946a99d3d49",
       "version_major": 2,
       "version_minor": 0
      },
      "text/plain": [
       "Saving the dataset (0/1 shards):   0%|          | 0/15000 [00:00<?, ? examples/s]"
      ]
     },
     "metadata": {},
     "output_type": "display_data"
    }
   ],
   "source": [
    "utsang_subset.save_to_disk('utsang-ds')\n",
    "amdo_subset.save_to_disk('amdo-ds')\n",
    "kham_subset.save_to_disk('kham-ds')\n",
    "mixed.save_to_disk('mixed-training-ds')"
   ]
  }
 ],
 "metadata": {
  "kernelspec": {
   "display_name": ".venv",
   "language": "python",
   "name": "python3"
  },
  "language_info": {
   "codemirror_mode": {
    "name": "ipython",
    "version": 3
   },
   "file_extension": ".py",
   "mimetype": "text/x-python",
   "name": "python",
   "nbconvert_exporter": "python",
   "pygments_lexer": "ipython3",
   "version": "3.12.7"
  }
 },
 "nbformat": 4,
 "nbformat_minor": 5
}
