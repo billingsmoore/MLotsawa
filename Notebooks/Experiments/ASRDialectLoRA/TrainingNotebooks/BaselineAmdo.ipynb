{
  "cells": [
    {
      "cell_type": "markdown",
      "id": "75b58048-7d14-4fc6-8085-1fc08c81b4a6",
      "metadata": {
        "id": "75b58048-7d14-4fc6-8085-1fc08c81b4a6"
      },
      "source": [
        "# Fine-Tune Whisper\n",
        "\n",
        "Adapted from guide here: https://huggingface.co/blog/fine-tune-whisper"
      ]
    },
    {
      "cell_type": "markdown",
      "id": "1a91a4a5",
      "metadata": {},
      "source": [
        "## Load Data"
      ]
    },
    {
      "cell_type": "code",
      "execution_count": 1,
      "id": "09b80827",
      "metadata": {},
      "outputs": [
        {
          "data": {
            "application/vnd.jupyter.widget-view+json": {
              "model_id": "f9f5d40ad94a4715998ac472ce47879c",
              "version_major": 2,
              "version_minor": 0
            },
            "text/plain": [
              "Loading dataset from disk:   0%|          | 0/25 [00:00<?, ?it/s]"
            ]
          },
          "metadata": {},
          "output_type": "display_data"
        }
      ],
      "source": [
        "from datasets import load_from_disk\n",
        "\n",
        "\n",
        "ds = load_from_disk('../Data/processed-amdo-ds')\n",
        "\n",
        "amdo_test = ds['test']\n",
        "kham_test = load_from_disk('../Data/processed-kham-test-ds')\n",
        "utsang_test = load_from_disk('../Data/processed-utsang-test-ds')"
      ]
    },
    {
      "cell_type": "markdown",
      "id": "263a5a58-0239-4a25-b0df-c625fc9c5810",
      "metadata": {
        "id": "263a5a58-0239-4a25-b0df-c625fc9c5810"
      },
      "source": [
        "## Load Processors and Model"
      ]
    },
    {
      "cell_type": "code",
      "execution_count": 2,
      "id": "5a10cc4b-07ec-4ebd-ac1d-7c601023594f",
      "metadata": {
        "id": "5a10cc4b-07ec-4ebd-ac1d-7c601023594f"
      },
      "outputs": [],
      "source": [
        "from transformers import WhisperProcessor, WhisperFeatureExtractor, WhisperTokenizer, WhisperForConditionalGeneration\n",
        "\n",
        "tokenizer = WhisperTokenizer.from_pretrained(\"openai/whisper-tiny\", language=\"bo\", task=\"transcribe\")\n",
        "feature_extractor = WhisperFeatureExtractor.from_pretrained(\"openai/whisper-tiny\")\n",
        "processor = WhisperProcessor.from_pretrained(\"openai/whisper-tiny\", language=\"bo\", task=\"transcribe\")\n",
        "\n",
        "model = WhisperForConditionalGeneration.from_pretrained(\"openai/whisper-tiny\")"
      ]
    },
    {
      "cell_type": "code",
      "execution_count": 3,
      "id": "62038ba3-88ed-4fce-84db-338f50dcd04f",
      "metadata": {
        "id": "62038ba3-88ed-4fce-84db-338f50dcd04f"
      },
      "outputs": [],
      "source": [
        "model.generation_config.language = \"bo\"\n",
        "model.generation_config.task = \"transcribe\"\n",
        "\n",
        "model.generation_config.forced_decoder_ids = None"
      ]
    },
    {
      "cell_type": "markdown",
      "id": "8d230e6d-624c-400a-bbf5-fa660881df25",
      "metadata": {
        "id": "8d230e6d-624c-400a-bbf5-fa660881df25"
      },
      "source": [
        "### Define a Data Collator"
      ]
    },
    {
      "cell_type": "code",
      "execution_count": 4,
      "id": "8326221e-ec13-4731-bb4e-51e5fc1486c5",
      "metadata": {
        "id": "8326221e-ec13-4731-bb4e-51e5fc1486c5"
      },
      "outputs": [],
      "source": [
        "import torch\n",
        "\n",
        "from dataclasses import dataclass\n",
        "from typing import Any, Dict, List, Union\n",
        "\n",
        "@dataclass\n",
        "class DataCollatorSpeechSeq2SeqWithPadding:\n",
        "    processor: Any\n",
        "    decoder_start_token_id: int\n",
        "\n",
        "    def __call__(self, features: List[Dict[str, Union[List[int], torch.Tensor]]]) -> Dict[str, torch.Tensor]:\n",
        "        # split inputs and labels since they have to be of different lengths and need different padding methods\n",
        "        # first treat the audio inputs by simply returning torch tensors\n",
        "        input_features = [{\"input_features\": feature[\"input_features\"]} for feature in features]\n",
        "        batch = self.processor.feature_extractor.pad(input_features, return_tensors=\"pt\")\n",
        "\n",
        "        # get the tokenized label sequences\n",
        "        label_features = [{\"input_ids\": feature[\"labels\"]} for feature in features]\n",
        "        # pad the labels to max length\n",
        "        labels_batch = self.processor.tokenizer.pad(label_features, return_tensors=\"pt\")\n",
        "\n",
        "        # replace padding with -100 to ignore loss correctly\n",
        "        labels = labels_batch[\"input_ids\"].masked_fill(labels_batch.attention_mask.ne(1), -100)\n",
        "\n",
        "        # if bos token is appended in previous tokenization step,\n",
        "        # cut bos token here as it's append later anyways\n",
        "        if (labels[:, 0] == self.decoder_start_token_id).all().cpu().item():\n",
        "            labels = labels[:, 1:]\n",
        "\n",
        "        batch[\"labels\"] = labels\n",
        "\n",
        "        return batch"
      ]
    },
    {
      "cell_type": "markdown",
      "id": "3cae7dbf-8a50-456e-a3a8-7fd005390f86",
      "metadata": {
        "id": "3cae7dbf-8a50-456e-a3a8-7fd005390f86"
      },
      "source": [
        "Let's initialise the data collator we've just defined:"
      ]
    },
    {
      "cell_type": "code",
      "execution_count": 5,
      "id": "fc834702-c0d3-4a96-b101-7b87be32bf42",
      "metadata": {
        "id": "fc834702-c0d3-4a96-b101-7b87be32bf42"
      },
      "outputs": [],
      "source": [
        "data_collator = DataCollatorSpeechSeq2SeqWithPadding(\n",
        "    processor=processor,\n",
        "    decoder_start_token_id=model.config.decoder_start_token_id,\n",
        ")"
      ]
    },
    {
      "cell_type": "markdown",
      "id": "d62bb2ab-750a-45e7-82e9-61d6f4805698",
      "metadata": {
        "id": "d62bb2ab-750a-45e7-82e9-61d6f4805698"
      },
      "source": [
        "### Evaluation Metrics"
      ]
    },
    {
      "cell_type": "code",
      "execution_count": 6,
      "id": "b22b4011-f31f-4b57-b684-c52332f92890",
      "metadata": {
        "id": "b22b4011-f31f-4b57-b684-c52332f92890"
      },
      "outputs": [
        {
          "name": "stdout",
          "output_type": "stream",
          "text": [
            "Loading Trie... (0s.)\n"
          ]
        }
      ],
      "source": [
        "import evaluate\n",
        "from tibetan_wer.wer import wer as tib_wer\n",
        "\n",
        "cer_metric = evaluate.load(\"cer\")"
      ]
    },
    {
      "cell_type": "code",
      "execution_count": 7,
      "id": "23959a70-22d0-4ffe-9fa1-72b61e75bb52",
      "metadata": {
        "id": "23959a70-22d0-4ffe-9fa1-72b61e75bb52"
      },
      "outputs": [],
      "source": [
        "import pickle\n",
        "\n",
        "def compute_metrics(pred):\n",
        "    pred_ids = pred.predictions\n",
        "    label_ids = pred.label_ids\n",
        "\n",
        "    # replace -100 with the pad_token_id\n",
        "    label_ids[label_ids == -100] = tokenizer.pad_token_id\n",
        "\n",
        "    # we do not want to group tokens when computing the metrics\n",
        "    pred_str = tokenizer.batch_decode(pred_ids, skip_special_tokens=True)\n",
        "    label_str = tokenizer.batch_decode(label_ids, skip_special_tokens=True)\n",
        "\n",
        "    cer = cer_metric.compute(predictions=pred_str, references=label_str)\n",
        "    tib_wer_res = tib_wer(predictions=pred_str, references=label_str)\n",
        "\n",
        "    macro_wer = tib_wer_res['macro_wer']\n",
        "    micro_wer = tib_wer_res['micro_wer']\n",
        "    subs = tib_wer_res['substitutions']\n",
        "    ins = tib_wer_res['insertions']\n",
        "    dels = tib_wer_res['deletions']\n",
        "\n",
        "\n",
        "    return {\"cer\": cer,\n",
        "            \"tib_macro_wer\": macro_wer,\n",
        "            \"tib_micro_wer\": micro_wer,\n",
        "            \"substitutions\": subs,\n",
        "            \"insertions\": ins,\n",
        "            \"deletions\": dels\n",
        "            }"
      ]
    },
    {
      "cell_type": "markdown",
      "id": "2178dea4-80ca-47b6-b6ea-ba1915c90c06",
      "metadata": {
        "id": "2178dea4-80ca-47b6-b6ea-ba1915c90c06"
      },
      "source": [
        "### Define the Training Configuration and Train"
      ]
    },
    {
      "cell_type": "code",
      "execution_count": 8,
      "id": "4fcbcf59",
      "metadata": {},
      "outputs": [
        {
          "name": "stdout",
          "output_type": "stream",
          "text": [
            "env: WANDB_PROJECT=asr-dialect-lora\n"
          ]
        }
      ],
      "source": [
        "%env WANDB_PROJECT=asr-dialect-lora"
      ]
    },
    {
      "cell_type": "markdown",
      "id": "12e6eb38",
      "metadata": {},
      "source": [
        "learning rate from: https://github.com/vasistalodagala/whisper-finetune"
      ]
    },
    {
      "cell_type": "code",
      "execution_count": 9,
      "id": "2158049d",
      "metadata": {},
      "outputs": [
        {
          "data": {
            "text/plain": [
              "Dataset({\n",
              "    features: ['input_features', 'labels'],\n",
              "    num_rows: 10\n",
              "})"
            ]
          },
          "execution_count": 9,
          "metadata": {},
          "output_type": "execute_result"
        }
      ],
      "source": [
        "ds['train'].select(range(10))"
      ]
    },
    {
      "cell_type": "code",
      "execution_count": 10,
      "id": "0ae3e9af-97b7-4aa0-ae85-20b23b5bcb3a",
      "metadata": {
        "id": "0ae3e9af-97b7-4aa0-ae85-20b23b5bcb3a"
      },
      "outputs": [
        {
          "name": "stderr",
          "output_type": "stream",
          "text": [
            "/home/j/Documents/MLotsawa/.venv/lib/python3.12/site-packages/transformers/training_args.py:1611: FutureWarning: `evaluation_strategy` is deprecated and will be removed in version 4.46 of 🤗 Transformers. Use `eval_strategy` instead\n",
            "  warnings.warn(\n",
            "/tmp/ipykernel_5074/1926220818.py:17: FutureWarning: `tokenizer` is deprecated and will be removed in version 5.0.0 for `Seq2SeqTrainer.__init__`. Use `processing_class` instead.\n",
            "  trainer = Seq2SeqTrainer(\n",
            "/home/j/Documents/MLotsawa/.venv/lib/python3.12/site-packages/accelerate/accelerator.py:494: FutureWarning: `torch.cuda.amp.GradScaler(args...)` is deprecated. Please use `torch.amp.GradScaler('cuda', args...)` instead.\n",
            "  self.scaler = torch.cuda.amp.GradScaler(**kwargs)\n",
            "\u001b[34m\u001b[1mwandb\u001b[0m: \u001b[33mWARNING\u001b[0m The `run_name` is currently set to the same value as `TrainingArguments.output_dir`. If this was not intended, please specify a different run name by setting the `TrainingArguments.run_name` parameter.\n",
            "\u001b[34m\u001b[1mwandb\u001b[0m: Using wandb-core as the SDK backend.  Please refer to https://wandb.me/wandb-core for more information.\n",
            "\u001b[34m\u001b[1mwandb\u001b[0m: Currently logged in as: \u001b[33mbillingsmoore\u001b[0m. Use \u001b[1m`wandb login --relogin`\u001b[0m to force relogin\n"
          ]
        },
        {
          "data": {
            "text/html": [
              "Tracking run with wandb version 0.19.1"
            ],
            "text/plain": [
              "<IPython.core.display.HTML object>"
            ]
          },
          "metadata": {},
          "output_type": "display_data"
        },
        {
          "data": {
            "text/html": [
              "Run data is saved locally in <code>/home/j/Documents/MLotsawa/Notebooks/Experiments/ASRDialectLoRA/TrainingNotebooks/wandb/run-20250505_221428-eundov39</code>"
            ],
            "text/plain": [
              "<IPython.core.display.HTML object>"
            ]
          },
          "metadata": {},
          "output_type": "display_data"
        },
        {
          "data": {
            "text/html": [
              "Syncing run <strong><a href='https://wandb.ai/billingsmoore/asr-dialect-lora/runs/eundov39' target=\"_blank\">baseline-amdo</a></strong> to <a href='https://wandb.ai/billingsmoore/asr-dialect-lora' target=\"_blank\">Weights & Biases</a> (<a href='https://wandb.me/developer-guide' target=\"_blank\">docs</a>)<br>"
            ],
            "text/plain": [
              "<IPython.core.display.HTML object>"
            ]
          },
          "metadata": {},
          "output_type": "display_data"
        },
        {
          "data": {
            "text/html": [
              " View project at <a href='https://wandb.ai/billingsmoore/asr-dialect-lora' target=\"_blank\">https://wandb.ai/billingsmoore/asr-dialect-lora</a>"
            ],
            "text/plain": [
              "<IPython.core.display.HTML object>"
            ]
          },
          "metadata": {},
          "output_type": "display_data"
        },
        {
          "data": {
            "text/html": [
              " View run at <a href='https://wandb.ai/billingsmoore/asr-dialect-lora/runs/eundov39' target=\"_blank\">https://wandb.ai/billingsmoore/asr-dialect-lora/runs/eundov39</a>"
            ],
            "text/plain": [
              "<IPython.core.display.HTML object>"
            ]
          },
          "metadata": {},
          "output_type": "display_data"
        },
        {
          "name": "stderr",
          "output_type": "stream",
          "text": [
            "Passing a tuple of `past_key_values` is deprecated and will be removed in Transformers v4.43.0. You should pass an instance of `EncoderDecoderCache` instead, e.g. `past_key_values=EncoderDecoderCache.from_legacy_cache(past_key_values)`.\n",
            "`use_cache = True` is incompatible with gradient checkpointing. Setting `use_cache = False`...\n"
          ]
        },
        {
          "data": {
            "text/html": [
              "\n",
              "    <div>\n",
              "      \n",
              "      <progress value='1194' max='1194' style='width:300px; height:20px; vertical-align: middle;'></progress>\n",
              "      [1194/1194 2:14:44, Epoch 2/3]\n",
              "    </div>\n",
              "    <table border=\"1\" class=\"dataframe\">\n",
              "  <thead>\n",
              " <tr style=\"text-align: left;\">\n",
              "      <th>Epoch</th>\n",
              "      <th>Training Loss</th>\n",
              "      <th>Validation Loss</th>\n",
              "      <th>Amdo Loss</th>\n",
              "      <th>Amdo Cer</th>\n",
              "      <th>Amdo Tib Macro Wer</th>\n",
              "      <th>Amdo Tib Micro Wer</th>\n",
              "      <th>Amdo Substitutions</th>\n",
              "      <th>Amdo Insertions</th>\n",
              "      <th>Amdo Deletions</th>\n",
              "      <th>Kham Loss</th>\n",
              "      <th>Kham Cer</th>\n",
              "      <th>Kham Tib Macro Wer</th>\n",
              "      <th>Kham Tib Micro Wer</th>\n",
              "      <th>Kham Substitutions</th>\n",
              "      <th>Kham Insertions</th>\n",
              "      <th>Kham Deletions</th>\n",
              "      <th>Utsang Loss</th>\n",
              "      <th>Utsang Cer</th>\n",
              "      <th>Utsang Tib Macro Wer</th>\n",
              "      <th>Utsang Tib Micro Wer</th>\n",
              "      <th>Utsang Substitutions</th>\n",
              "      <th>Utsang Insertions</th>\n",
              "      <th>Utsang Deletions</th>\n",
              "    </tr>\n",
              "  </thead>\n",
              "  <tbody>\n",
              "    <tr>\n",
              "      <td>1</td>\n",
              "      <td>No log</td>\n",
              "      <td>No log</td>\n",
              "      <td>0.249652</td>\n",
              "      <td>0.381621</td>\n",
              "      <td>0.789233</td>\n",
              "      <td>0.780066</td>\n",
              "      <td>17859</td>\n",
              "      <td>3334</td>\n",
              "      <td>1950</td>\n",
              "      <td>0.446687</td>\n",
              "      <td>0.527596</td>\n",
              "      <td>0.956837</td>\n",
              "      <td>0.938334</td>\n",
              "      <td>23135</td>\n",
              "      <td>2741</td>\n",
              "      <td>1985</td>\n",
              "      <td>0.531049</td>\n",
              "      <td>0.628393</td>\n",
              "      <td>1.079102</td>\n",
              "      <td>0.970632</td>\n",
              "      <td>24241</td>\n",
              "      <td>2975</td>\n",
              "      <td>5603</td>\n",
              "    </tr>\n",
              "    <tr>\n",
              "      <td>2</td>\n",
              "      <td>0.147000</td>\n",
              "      <td>No log</td>\n",
              "      <td>0.130501</td>\n",
              "      <td>0.251805</td>\n",
              "      <td>0.546013</td>\n",
              "      <td>0.547526</td>\n",
              "      <td>11353</td>\n",
              "      <td>2702</td>\n",
              "      <td>2189</td>\n",
              "      <td>0.388416</td>\n",
              "      <td>0.474139</td>\n",
              "      <td>0.912080</td>\n",
              "      <td>0.897616</td>\n",
              "      <td>21724</td>\n",
              "      <td>3123</td>\n",
              "      <td>1805</td>\n",
              "      <td>0.493525</td>\n",
              "      <td>0.598601</td>\n",
              "      <td>1.021386</td>\n",
              "      <td>0.948746</td>\n",
              "      <td>23463</td>\n",
              "      <td>3286</td>\n",
              "      <td>5330</td>\n",
              "    </tr>\n",
              "  </tbody>\n",
              "</table><p>"
            ],
            "text/plain": [
              "<IPython.core.display.HTML object>"
            ]
          },
          "metadata": {},
          "output_type": "display_data"
        },
        {
          "name": "stderr",
          "output_type": "stream",
          "text": [
            "You have passed task=transcribe, but also have set `forced_decoder_ids` to [[1, 50259], [2, 50359], [3, 50363]] which creates a conflict. `forced_decoder_ids` will be ignored in favor of task=transcribe.\n",
            "The attention mask is not set and cannot be inferred from input because pad token is same as eos token. As a consequence, you may observe unexpected behavior. Please pass your input's `attention_mask` to obtain reliable results.\n",
            "/home/j/Documents/MLotsawa/.venv/lib/python3.12/site-packages/botok/textunits/bostring.py:82: UserWarning: Beware of unexpected results: input string contains the non-expanded char \"ྡྷ\", found in \"\".\n",
            "  warn(\n",
            "/home/j/Documents/MLotsawa/.venv/lib/python3.12/site-packages/botok/textunits/bostring.py:82: UserWarning: Beware of unexpected results: input string contains the non-expanded char \"དྷ\", found in \"དྷི་སཱ་ཏ\".\n",
            "  warn(\n",
            "/home/j/Documents/MLotsawa/.venv/lib/python3.12/site-packages/transformers/modeling_utils.py:3353: UserWarning: Moving the following attributes in the config to the generation config: {'max_length': 448, 'suppress_tokens': [1, 2, 7, 8, 9, 10, 14, 25, 26, 27, 28, 29, 31, 58, 59, 60, 61, 62, 63, 90, 91, 92, 93, 359, 503, 522, 542, 873, 893, 902, 918, 922, 931, 1350, 1853, 1982, 2460, 2627, 3246, 3253, 3268, 3536, 3846, 3961, 4183, 4667, 6585, 6647, 7273, 9061, 9383, 10428, 10929, 11938, 12033, 12331, 12562, 13793, 14157, 14635, 15265, 15618, 16553, 16604, 18362, 18956, 20075, 21675, 22520, 26130, 26161, 26435, 28279, 29464, 31650, 32302, 32470, 36865, 42863, 47425, 49870, 50254, 50258, 50358, 50359, 50360, 50361, 50362], 'begin_suppress_tokens': [220, 50257]}. You are seeing this warning because you've set generation parameters in the model config, as opposed to in the generation config.\n",
            "  warnings.warn(\n",
            "/home/j/Documents/MLotsawa/.venv/lib/python3.12/site-packages/botok/textunits/bostring.py:82: UserWarning: Beware of unexpected results: input string contains the non-expanded char \"དྷ\", found in \"དྷི་སཱ་ཏ\".\n",
            "  warn(\n",
            "/home/j/Documents/MLotsawa/.venv/lib/python3.12/site-packages/botok/textunits/bostring.py:82: UserWarning: Beware of unexpected results: input string contains the non-expanded char \"དྷ\", found in \"དྷི་སཱ་ཏ\".\n",
            "  warn(\n"
          ]
        },
        {
          "data": {
            "text/plain": [
              "TrainOutput(global_step=1194, training_loss=0.291804855193325, metrics={'train_runtime': 8089.0224, 'train_samples_per_second': 4.729, 'train_steps_per_second': 0.148, 'total_flos': 9.3975208280064e+17, 'train_loss': 0.291804855193325, 'epoch': 2.9937264742785445})"
            ]
          },
          "execution_count": 10,
          "metadata": {},
          "output_type": "execute_result"
        }
      ],
      "source": [
        "from transformers import Seq2SeqTrainingArguments, Seq2SeqTrainer\n",
        "\n",
        "training_args = Seq2SeqTrainingArguments(\n",
        "    output_dir=\"baseline-amdo\",\n",
        "    auto_find_batch_size=True,\n",
        "    gradient_accumulation_steps=4,  # increase by 2x for every 2x decrease in batch size\n",
        "    learning_rate=3.75e-5, # tiny: 3.75e-5, base: 2.5e-5, tiny: 1.25e-5, med: 6.25e-6, large: 4.375e-6\n",
        "    gradient_checkpointing=True,\n",
        "    fp16=True,\n",
        "    predict_with_generate=True,\n",
        "    generation_max_length=225,\n",
        "    evaluation_strategy='epoch',\n",
        "    greater_is_better=False,\n",
        "    num_train_epochs=3\n",
        ")\n",
        "\n",
        "trainer = Seq2SeqTrainer(\n",
        "    args=training_args,\n",
        "    model=model,\n",
        "    train_dataset=ds['train'],\n",
        "    eval_dataset={'Amdo': amdo_test, 'Kham': kham_test, 'Utsang': utsang_test},\n",
        "    data_collator=data_collator,\n",
        "    compute_metrics=compute_metrics,\n",
        "    tokenizer=processor.feature_extractor,\n",
        ")\n",
        "\n",
        "trainer.train()"
      ]
    },
    {
      "cell_type": "code",
      "execution_count": 11,
      "id": "ac0b6b7b",
      "metadata": {},
      "outputs": [],
      "source": [
        "model.save_pretrained('baseline-amdo-finetuned')"
      ]
    }
  ],
  "metadata": {
    "accelerator": "GPU",
    "colab": {
      "gpuType": "T4",
      "provenance": []
    },
    "kernelspec": {
      "display_name": ".venv",
      "language": "python",
      "name": "python3"
    },
    "language_info": {
      "codemirror_mode": {
        "name": "ipython",
        "version": 3
      },
      "file_extension": ".py",
      "mimetype": "text/x-python",
      "name": "python",
      "nbconvert_exporter": "python",
      "pygments_lexer": "ipython3",
      "version": "3.12.7"
    }
  },
  "nbformat": 4,
  "nbformat_minor": 5
}
