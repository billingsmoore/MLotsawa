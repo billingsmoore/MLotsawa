{
 "cells": [
  {
   "cell_type": "code",
   "execution_count": 1,
   "metadata": {},
   "outputs": [
    {
     "name": "stderr",
     "output_type": "stream",
     "text": [
      "/home/j/Desktop/MLotsawa/.venv/lib/python3.10/site-packages/transformers/pipelines/__init__.py:1081: UserWarning: \"translation\" task was used, instead of \"translation_XX_to_YY\", defaulting to \"translation_bo_to_en\"\n",
      "  warnings.warn(\n",
      "Hardware accelerator e.g. GPU is available in the environment, but no `device` argument is passed to the `Pipeline` object. Model will be on CPU.\n"
     ]
    }
   ],
   "source": [
    "from transformers import pipeline\n",
    "\n",
    "pipe = pipeline('translation', 'billingsmoore/tibetan-to-english-translation')"
   ]
  },
  {
   "cell_type": "markdown",
   "metadata": {},
   "source": [
    "To the gracious guru, who embodies all sources of refuge,\n",
    "I pray; please look upon me with your eyes of compassion.\n",
    "Grant your blessings so that I may dispel my attachment to saṃsāra.\n",
    "Grant your blessings so that renunciation may arise in my mindstream.\n",
    "Grant your blessings so that I may let go my concerns for this life."
   ]
  },
  {
   "cell_type": "code",
   "execution_count": 2,
   "metadata": {},
   "outputs": [],
   "source": [
    "text = \"\"\"སྐྱབས་གནས་ཀུན་འདུས་དྲིན་ཆེན་བླ་མ་ལ།\n",
    "།གསོལ་བ་འདེབས་སོ་ཐུགས་རྗེའི་སྤྱན་གྱིས་གཟིགས། །\n",
    "འཁོར་བར་ཞེན་པ་ལོག་པར་བྱིན་གྱིས་རློབས། །\n",
    "ངེས་འབྱུང་རྒྱུད་ལ་སྐྱེ་བར་བྱིན་གྱིས་རློབས། །\n",
    "ཚེ་འདི་བློ་ཡིས་ཐོང་བར་བྱིན་གྱིས་རློབས། །\"\"\"\n",
    "\n",
    "input = text.split('\\n')"
   ]
  },
  {
   "cell_type": "code",
   "execution_count": 3,
   "metadata": {},
   "outputs": [],
   "source": [
    "out = pipe(input)"
   ]
  },
  {
   "cell_type": "code",
   "execution_count": 4,
   "metadata": {},
   "outputs": [
    {
     "data": {
      "text/plain": [
       "['You are all my sources of refuge in one a great guru',\n",
       " 'To you I pray: look upon me with your eyes of compassion',\n",
       " 'I may rid myself of thoughts and attitudes of selfish concern!',\n",
       " 'Grant your blessings so we may develop renunciation in our being',\n",
       " 'Grant your blessings so that this aspiration may be fulfilled according to our wishes.']"
      ]
     },
     "execution_count": 4,
     "metadata": {},
     "output_type": "execute_result"
    }
   ],
   "source": [
    "out = [elt['translation_text'] for elt in out]\n",
    "out"
   ]
  },
  {
   "cell_type": "code",
   "execution_count": 5,
   "metadata": {},
   "outputs": [
    {
     "name": "stderr",
     "output_type": "stream",
     "text": [
      "Hardware accelerator e.g. GPU is available in the environment, but no `device` argument is passed to the `Pipeline` object. Model will be on CPU.\n"
     ]
    }
   ],
   "source": [
    "pipe2 = pipeline('translation', '/home/j/Desktop/MLotsawa/Notebooks/Models/With84000/84000/checkpoint-84006')"
   ]
  },
  {
   "cell_type": "code",
   "execution_count": 6,
   "metadata": {},
   "outputs": [],
   "source": [
    "out2 = pipe2(input)"
   ]
  },
  {
   "cell_type": "code",
   "execution_count": 7,
   "metadata": {},
   "outputs": [
    {
     "data": {
      "text/plain": [
       "['You are a great treasury of the Dharma of the buddhas.',\n",
       " '“ ‘I pray to you, who has the eyes of compassion.',\n",
       " '“Blessed One, I pray that you turn the wheel of Dharma!',\n",
       " '“Blessed One, I pray that you turn the wheel of Dharma.',\n",
       " '“ ‘Then the bodhisattva mahsattva Avalokitevara said to the Bhagavn, ‘Bhagavn, I will teach the Dharma to beings.’']"
      ]
     },
     "execution_count": 7,
     "metadata": {},
     "output_type": "execute_result"
    }
   ],
   "source": [
    "out2 = [elt['translation_text'] for elt in out2]\n",
    "out2"
   ]
  }
 ],
 "metadata": {
  "kernelspec": {
   "display_name": ".venv",
   "language": "python",
   "name": "python3"
  },
  "language_info": {
   "codemirror_mode": {
    "name": "ipython",
    "version": 3
   },
   "file_extension": ".py",
   "mimetype": "text/x-python",
   "name": "python",
   "nbconvert_exporter": "python",
   "pygments_lexer": "ipython3",
   "version": "3.10.12"
  }
 },
 "nbformat": 4,
 "nbformat_minor": 2
}
