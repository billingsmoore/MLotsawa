{
 "cells": [
  {
   "cell_type": "code",
   "execution_count": 1,
   "metadata": {},
   "outputs": [],
   "source": [
    "from transformers import AutoTokenizer, AutoModelForSeq2SeqLM\n",
    "\n",
    "model = AutoModelForSeq2SeqLM.from_pretrained('dual-model/checkpoint-483860', device_map=\"cuda:0\")\n",
    "tokenizer = AutoTokenizer.from_pretrained('my-tokenizer')"
   ]
  },
  {
   "cell_type": "code",
   "execution_count": 28,
   "metadata": {},
   "outputs": [],
   "source": [
    "texts = '''དཀོན་མཆོག་ཀུན་དངོས་རྗེ་བཙུན་མར། །\n",
    "བདག་སོགས་འགྲོ་ཀུན་སྐྱབས་སུ་མཆི། །\n",
    "བྱང་ཆུབ་སྨོན་པའི་སེམས་བསྐྱེད་ནས། །\n",
    "ཟབ་མོའི་ལམ་ལ་འཇུག་པར་བགྱི། །'''"
   ]
  },
  {
   "cell_type": "code",
   "execution_count": 29,
   "metadata": {},
   "outputs": [
    {
     "data": {
      "text/plain": [
       "['དཀོན་མཆོག་ཀུན་དངོས་རྗེ་བཙུན་མར། །',\n",
       " 'བདག་སོགས་འགྲོ་ཀུན་སྐྱབས་སུ་མཆི། །',\n",
       " 'བྱང་ཆུབ་སྨོན་པའི་སེམས་བསྐྱེད་ནས། །',\n",
       " 'ཟབ་མོའི་ལམ་ལ་འཇུག་པར་བགྱི། །']"
      ]
     },
     "execution_count": 29,
     "metadata": {},
     "output_type": "execute_result"
    }
   ],
   "source": [
    "texts=texts.split('\\n')\n",
    "texts"
   ]
  },
  {
   "cell_type": "code",
   "execution_count": 30,
   "metadata": {},
   "outputs": [],
   "source": [
    "import torch\n",
    "\n",
    "inputs = tokenizer([\"translate Tibetan to English: \" + text for text in texts], \n",
    "                       return_tensors=\"pt\", padding=True, truncation=True, max_length=256).to('cuda:0')\n",
    "\n",
    "# Run batch inference\n",
    "with torch.no_grad():  # Disables gradients for efficiency\n",
    "    outputs = model.generate(inputs.input_ids)\n",
    "\n",
    "# Decode all translations at once\n",
    "out = tokenizer.batch_decode(outputs, skip_special_tokens=True)"
   ]
  },
  {
   "cell_type": "code",
   "execution_count": 31,
   "metadata": {},
   "outputs": [
    {
     "data": {
      "text/plain": [
       "['In the guru the glorious heruka who is the great Ga lady of the Three Roots—',\n",
       " 'From now until I and others is equal to you!',\n",
       " 'Lead me to accomplish supreme bodhicitta and all of virtue!',\n",
       " 'I shall to the profound Dharma on the path of transference.']"
      ]
     },
     "execution_count": 31,
     "metadata": {},
     "output_type": "execute_result"
    }
   ],
   "source": [
    "out"
   ]
  }
 ],
 "metadata": {
  "kernelspec": {
   "display_name": ".venv",
   "language": "python",
   "name": "python3"
  },
  "language_info": {
   "codemirror_mode": {
    "name": "ipython",
    "version": 3
   },
   "file_extension": ".py",
   "mimetype": "text/x-python",
   "name": "python",
   "nbconvert_exporter": "python",
   "pygments_lexer": "ipython3",
   "version": "3.12.3"
  }
 },
 "nbformat": 4,
 "nbformat_minor": 2
}
