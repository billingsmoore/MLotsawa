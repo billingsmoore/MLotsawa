{
 "cells": [
  {
   "cell_type": "code",
   "execution_count": 1,
   "id": "ad99fa26",
   "metadata": {},
   "outputs": [],
   "source": [
    "from utils.agents import Team\n",
    "\n",
    "team = Team()"
   ]
  },
  {
   "cell_type": "code",
   "execution_count": 2,
   "id": "14fa3ed5",
   "metadata": {},
   "outputs": [],
   "source": [
    "tib = \"\"\" །​རྒྱ་གར་སྐད་དུ།\"\"\""
   ]
  },
  {
   "cell_type": "code",
   "execution_count": 4,
   "id": "78a5787a",
   "metadata": {},
   "outputs": [],
   "source": [
    "prepro_notes = team.preprocessor.chat(user_input=tib)\n"
   ]
  },
  {
   "cell_type": "code",
   "execution_count": 5,
   "id": "6fee62bc",
   "metadata": {},
   "outputs": [],
   "source": [
    "response = team.translator.chat({'source':tib, 'prepro_notes':prepro_notes})"
   ]
  },
  {
   "cell_type": "code",
   "execution_count": 7,
   "id": "26a5d002",
   "metadata": {},
   "outputs": [],
   "source": [
    "evaluation = team.evaluator.chat({'source': tib, 'target': response})"
   ]
  },
  {
   "cell_type": "code",
   "execution_count": 8,
   "id": "db2e8f0f",
   "metadata": {},
   "outputs": [],
   "source": [
    "post = team.post_editor.chat({'source': tib, 'translation': response , 'evaluation':evaluation})"
   ]
  },
  {
   "cell_type": "code",
   "execution_count": 9,
   "id": "1d4b5dbd",
   "metadata": {},
   "outputs": [],
   "source": [
    "final = team.final_editor.chat(post)"
   ]
  },
  {
   "cell_type": "code",
   "execution_count": 10,
   "id": "ef814728",
   "metadata": {},
   "outputs": [
    {
     "name": "stdout",
     "output_type": "stream",
     "text": [
      "In Indian.\n"
     ]
    }
   ],
   "source": [
    "print(final)"
   ]
  },
  {
   "cell_type": "code",
   "execution_count": null,
   "id": "391dd274",
   "metadata": {},
   "outputs": [
    {
     "name": "stdout",
     "output_type": "stream",
     "text": [
      "None\n"
     ]
    }
   ],
   "source": [
    "print(team.report)"
   ]
  }
 ],
 "metadata": {
  "kernelspec": {
   "display_name": ".venv",
   "language": "python",
   "name": "python3"
  },
  "language_info": {
   "codemirror_mode": {
    "name": "ipython",
    "version": 3
   },
   "file_extension": ".py",
   "mimetype": "text/x-python",
   "name": "python",
   "nbconvert_exporter": "python",
   "pygments_lexer": "ipython3",
   "version": "3.12.7"
  }
 },
 "nbformat": 4,
 "nbformat_minor": 5
}
