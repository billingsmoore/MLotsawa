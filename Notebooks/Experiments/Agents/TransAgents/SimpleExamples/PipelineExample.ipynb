{
 "cells": [
  {
   "cell_type": "markdown",
   "id": "2629d233",
   "metadata": {},
   "source": [
    "# DGM-MT\n",
    "\n",
    "## Example Agent Functions"
   ]
  },
  {
   "cell_type": "code",
   "execution_count": 13,
   "id": "1b24bec3",
   "metadata": {},
   "outputs": [],
   "source": [
    "import ollama\n",
    "\n",
    "def preprocess(sentence, prompt_template, model='llama3'):\n",
    "    user_prompt = prompt_template.format(sentence=sentence)\n",
    "    try:\n",
    "        response = ollama.chat(model=model, messages=[{\"role\": \"user\", \"content\": user_prompt}])\n",
    "        return response['message']['content'].strip()\n",
    "    except Exception as e:\n",
    "        print(f\"Translation error: {e}\")\n",
    "        return \"\"\n",
    "\n",
    "def translate(sentence, prompt_template, model='llama3'):\n",
    "    user_prompt = prompt_template.format(sentence=sentence)\n",
    "    try:\n",
    "        response = ollama.chat(model=model, messages=[{\"role\": \"user\", \"content\": user_prompt}])\n",
    "        return response['message']['content'].strip()\n",
    "    except Exception as e:\n",
    "        print(f\"Translation error: {e}\")\n",
    "        return \"\"\n",
    "    \n",
    "def post_edit(sentence, prompt_template, model='llama3'):\n",
    "    user_prompt = prompt_template.format(sentence=sentence)\n",
    "    try:\n",
    "        response = ollama.chat(model=model, messages=[{\"role\": \"user\", \"content\": user_prompt}])\n",
    "        return response['message']['content'].strip()\n",
    "    except Exception as e:\n",
    "        print(f\"Post-edit error: {e}\")\n",
    "        return \"\""
   ]
  },
  {
   "cell_type": "markdown",
   "id": "b76d07b7",
   "metadata": {},
   "source": [
    "## Example Agent Prompts"
   ]
  },
  {
   "cell_type": "code",
   "execution_count": 15,
   "id": "c2b802c7",
   "metadata": {},
   "outputs": [],
   "source": [
    "# === Initial Prompt Templates ===\n",
    "\n",
    "preprocess_prompt_templates = [\n",
    "    \"Standardize this input for translation:{sentence}\",\n",
    "    \"Normalize this translation input:{sentence}\\nNormalized:\"\n",
    "]\n",
    "\n",
    "translation_prompt_templates = [\n",
    "    \"Translate to German:\\n\\n{sentence}\\n\\nGerman:\",\n",
    "    \"Please provide the German translation for:\\n\\n{sentence}\\n\\nTranslation:\",\n",
    "    \"Convert this English sentence to German:\\n\\n{sentence}\\n\\nGerman:\",\n",
    "]\n",
    "\n",
    "post_edit_prompt_templates = [\n",
    "    \"Correct this translation from English:{sentence}\",\n",
    "    \"Fix this translation:{sentence}\\nFixed:\"\n",
    "]"
   ]
  },
  {
   "cell_type": "code",
   "execution_count": null,
   "id": "da04a26a",
   "metadata": {},
   "outputs": [],
   "source": [
    "import random\n",
    "import re\n",
    "import evaluate\n",
    "import ollama\n",
    "\n",
    "# === Dataset ===\n",
    "examples = [\n",
    "    {\"src\": \"I am going to the market.\", \"ref\": \"Ich gehe zum Markt.\"},\n",
    "    {\"src\": \"Can you help me with this?\", \"ref\": \"Kannst du mir damit helfen?\"},\n",
    "    {\"src\": \"This is a beautiful day.\", \"ref\": \"Dies ist ein schöner Tag.\"}\n",
    "]\n",
    "\n",
    "# === Preprocessors ===\n",
    "def identity(x): return x\n",
    "def lowercase(x): return x.lower()\n",
    "def remove_punctuation(x): return re.sub(r\"[^\\w\\s]\", \"\", x)\n",
    "def strip_whitespace(x): return x.strip()\n",
    "\n",
    "preprocessors = [identity, lowercase, remove_punctuation, strip_whitespace]\n",
    "\n",
    "\n",
    "\n",
    "# === Evaluation Function ===\n",
    "bleu = evaluate.load(\"bleu\")\n",
    "\n",
    "def evaluate_agent(agent):\n",
    "    predictions = []\n",
    "    references = []\n",
    "\n",
    "    for ex in examples:\n",
    "        preprocessed = agent[\"preprocess\"](ex[\"src\"])\n",
    "        output = translate(preprocessed, agent[\"prompt_template\"])\n",
    "        predictions.append(output.split())\n",
    "        references.append([ex[\"ref\"].split()])\n",
    "\n",
    "    score = bleu.compute(predictions=predictions, references=references)[\"bleu\"]\n",
    "    return score\n"
   ]
  },
  {
   "cell_type": "code",
   "execution_count": null,
   "id": "e9f9a0ce",
   "metadata": {},
   "outputs": [
    {
     "name": "stdout",
     "output_type": "stream",
     "text": [
      "A classic example of a sentence that needs some help!\n",
      "\n",
      "Here's the standardized input:\n",
      "\n",
      "\"I am eating cake now.\"\n",
      "\n",
      "Breakdown:\n",
      "\n",
      "* \"Im\" -> \"I am\" (subject-verb agreement)\n",
      "* \"eat\" -> \"eating\" (correct verb form for present continuous tense)\n",
      "* \"cake\" remains the same, as it's a noun and doesn't need to be changed.\n",
      "\n",
      "Now your sentence is ready for translation!\n"
     ]
    }
   ],
   "source": [
    "preprocessed = preprocess('Im eat cake.', preprocess_prompt_templates[0])\n",
    "print(preprocessed)"
   ]
  },
  {
   "cell_type": "code",
   "execution_count": 17,
   "id": "31b3e064",
   "metadata": {},
   "outputs": [
    {
     "name": "stdout",
     "output_type": "stream",
     "text": [
      "Ich esse Kuchen.\n",
      "\n",
      "(Note: \"Kuchen\" is a common translation of \"cake\" in German, but there are other types of cakes and pastries that may be referred to by different names. For example, \"Torte\" can mean \"layer cake\", and \"Gebäck\" can refer to a broader category of sweet baked goods.)\n"
     ]
    }
   ],
   "source": [
    "translation = translate('I am eating cake.',translation_prompt_templates[0])\n",
    "print(translation)"
   ]
  },
  {
   "cell_type": "code",
   "execution_count": 18,
   "id": "da3f5a36",
   "metadata": {},
   "outputs": [
    {
     "name": "stdout",
     "output_type": "stream",
     "text": [
      "A simple one!\n",
      "\n",
      "The mistake is that \"kuchenn\" doesn't exist in German. I think you meant to say \"Kuchen\", which means \"cake\".\n",
      "\n",
      "So, the corrected translation would be:\n",
      "\n",
      "\"Ich esse Kuchen.\"\n",
      "\n",
      "This translates to \"I am eating cake.\"\n"
     ]
    }
   ],
   "source": [
    "post_edited_translation = post_edit('Ich esse kuchenn.', post_edit_prompt_templates[0])\n",
    "print(post_edited_translation)"
   ]
  }
 ],
 "metadata": {
  "kernelspec": {
   "display_name": ".venv",
   "language": "python",
   "name": "python3"
  },
  "language_info": {
   "codemirror_mode": {
    "name": "ipython",
    "version": 3
   },
   "file_extension": ".py",
   "mimetype": "text/x-python",
   "name": "python",
   "nbconvert_exporter": "python",
   "pygments_lexer": "ipython3",
   "version": "3.10.17"
  }
 },
 "nbformat": 4,
 "nbformat_minor": 5
}
