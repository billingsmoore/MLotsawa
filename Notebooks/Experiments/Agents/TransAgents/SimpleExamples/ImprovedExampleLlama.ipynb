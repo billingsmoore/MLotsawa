{
 "cells": [
  {
   "cell_type": "code",
   "execution_count": 20,
   "id": "3a2846b2",
   "metadata": {},
   "outputs": [],
   "source": [
    "import abc\n",
    "import ollama\n",
    "\n",
    "class Agent(abc.ABC):\n",
    "    def __init__(self):\n",
    "        self.sys_message = {'role': 'system', 'content': self.system_prompt()}\n",
    "        self.user_message_default = \"Introduce yourself.\"\n",
    "\n",
    "    @abc.abstractmethod\n",
    "    def system_prompt(self):\n",
    "        \"\"\"Return the system prompt content\"\"\"\n",
    "        pass\n",
    "    \n",
    "    @abc.abstractmethod\n",
    "    def user_prompt(self):\n",
    "        pass\n",
    "\n",
    "    def chat(self, user_input=None, model=\"llama3\"):\n",
    "\n",
    "        if user_input:\n",
    "            user_content = self.user_prompt(user_input)\n",
    "        else:\n",
    "            user_content = self.user_message_default\n",
    "\n",
    "        print(user_content)\n",
    "\n",
    "        user_message = {'role': 'user', 'content': user_content}\n",
    "\n",
    "        response = ollama.chat(model=model, messages=[self.sys_message, user_message])\n",
    "        return response['message']['content'].strip()\n"
   ]
  },
  {
   "cell_type": "code",
   "execution_count": 53,
   "id": "9acf5fbb",
   "metadata": {},
   "outputs": [],
   "source": [
    "class Preprocessor(Agent):\n",
    "    def system_prompt(self):\n",
    "        return \"You are an expert editor. You preprocess material for translation with no additional output.\"\n",
    "    \n",
    "    def user_prompt(self, user_input):\n",
    "        return f\"\"\"Preprocess the following: {user_input}\n",
    "                    Corrected input: \n",
    "                \"\"\""
   ]
  },
  {
   "cell_type": "code",
   "execution_count": 44,
   "id": "2544e050",
   "metadata": {},
   "outputs": [],
   "source": [
    "class Translator(Agent):\n",
    "    def system_prompt(self):\n",
    "        return \"You are an expert translator. Translate clearly and concisely with no additional output.\"\n",
    "    \n",
    "    def user_prompt(self, user_input):\n",
    "        return f\"Translate the following to German, with no additional output:{user_input}\"\n"
   ]
  },
  {
   "cell_type": "code",
   "execution_count": 23,
   "id": "49bc24af",
   "metadata": {},
   "outputs": [],
   "source": [
    "class Evaluator(Agent):\n",
    "    def system_prompt(self):\n",
    "        return \"You are an expert in translation evaluation.\"\n",
    "    \n",
    "    def user_prompt(self, user_input):\n",
    "        return f\"\"\"Score the following translation on a continuous scale from 0 to 100, where score of zero means\n",
    "                \"no meaning preserved\" and score of one hundred means \"perfect meaning and grammar\" but provide no additional output.\n",
    "\n",
    "                Source: {user_input['source']}\n",
    "                Target: {user_input['target']}\n",
    "                \"\"\""
   ]
  },
  {
   "cell_type": "code",
   "execution_count": 41,
   "id": "ad99fa26",
   "metadata": {},
   "outputs": [],
   "source": [
    "class PostEditor(Agent):\n",
    "    def system_prompt(self):\n",
    "        return \"\"\"\"You are an expert translation editor. You provide improved translations based on an original translation and a score from 0 to 100, where score of zero means\n",
    "                \"no meaning preserved\" and score of one hundred means \"perfect meaning and grammar\". You only provide an improved translation.\"\"\"\n",
    "    \n",
    "    def user_prompt(self, user_input):\n",
    "        return f\"\"\"Improv the following translation:\n",
    "        Source: {user_input['source']},\n",
    "        Translation: {user_input['translation']}\n",
    "        Score: {user_input['score']}\n",
    "\n",
    "        Only output the corrected target translation.\n",
    "        \"\"\""
   ]
  },
  {
   "cell_type": "code",
   "execution_count": 54,
   "id": "1c338df2",
   "metadata": {},
   "outputs": [],
   "source": [
    "prepro = Preprocessor()\n",
    "translator = Translator()\n",
    "eval = Evaluator()\n",
    "post = PostEditor()"
   ]
  },
  {
   "cell_type": "code",
   "execution_count": 55,
   "id": "d2088b31",
   "metadata": {},
   "outputs": [
    {
     "name": "stdout",
     "output_type": "stream",
     "text": [
      "Preprocess the following: Im eat cake.\n",
      "                    Corrected input: \n",
      "                \n"
     ]
    },
    {
     "data": {
      "text/plain": [
       "'Corrected input:\\n\\nI eat cake.'"
      ]
     },
     "execution_count": 55,
     "metadata": {},
     "output_type": "execute_result"
    }
   ],
   "source": [
    "prepro.chat(user_input='Im eat cake.')"
   ]
  },
  {
   "cell_type": "code",
   "execution_count": 47,
   "id": "9636c15c",
   "metadata": {},
   "outputs": [
    {
     "name": "stdout",
     "output_type": "stream",
     "text": [
      "Translate the following to German, with no additional output:I am eating cake.\n"
     ]
    },
    {
     "data": {
      "text/plain": [
       "'Ich esse Kuchen.'"
      ]
     },
     "execution_count": 47,
     "metadata": {},
     "output_type": "execute_result"
    }
   ],
   "source": [
    "translator.chat(user_input='I am eating cake.')"
   ]
  },
  {
   "cell_type": "code",
   "execution_count": 25,
   "id": "ac9d8141",
   "metadata": {},
   "outputs": [
    {
     "name": "stdout",
     "output_type": "stream",
     "text": [
      "Score the following translation on a continuous scale from 0 to 100, where score of zero means\n",
      "                \"no meaning preserved\" and score of one hundred means \"perfect meaning and grammar\" but provide no additional output.\n",
      "\n",
      "                Source: I am a dog\n",
      "                Target: Ich bin ein Berliner\n",
      "                \n"
     ]
    },
    {
     "data": {
      "text/plain": [
       "'30.5'"
      ]
     },
     "execution_count": 25,
     "metadata": {},
     "output_type": "execute_result"
    }
   ],
   "source": [
    "eval.chat({'source': 'I am a dog', 'target': 'Ich bin ein Berliner'})"
   ]
  },
  {
   "cell_type": "code",
   "execution_count": 43,
   "id": "ef814728",
   "metadata": {},
   "outputs": [
    {
     "name": "stdout",
     "output_type": "stream",
     "text": [
      "Improv the following translation:\n",
      "        Source: I am a dog,\n",
      "        Translation: Ich bin ein Berliner\n",
      "        Score: 30.5\n",
      "\n",
      "        Only output the corrected target translation.\n",
      "        \n"
     ]
    },
    {
     "data": {
      "text/plain": [
       "'Ich heiße ein Hund.'"
      ]
     },
     "execution_count": 43,
     "metadata": {},
     "output_type": "execute_result"
    }
   ],
   "source": [
    "post.chat({'source': 'I am a dog', 'translation': 'Ich bin ein Berliner', 'score':30.5})"
   ]
  }
 ],
 "metadata": {
  "kernelspec": {
   "display_name": ".venv",
   "language": "python",
   "name": "python3"
  },
  "language_info": {
   "codemirror_mode": {
    "name": "ipython",
    "version": 3
   },
   "file_extension": ".py",
   "mimetype": "text/x-python",
   "name": "python",
   "nbconvert_exporter": "python",
   "pygments_lexer": "ipython3",
   "version": "3.10.17"
  }
 },
 "nbformat": 4,
 "nbformat_minor": 5
}
