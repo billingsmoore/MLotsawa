{
 "cells": [
  {
   "cell_type": "code",
   "execution_count": 1,
   "id": "3a2846b2",
   "metadata": {},
   "outputs": [],
   "source": [
    "import abc\n",
    "import ollama\n",
    "\n",
    "class Agent(abc.ABC):\n",
    "    def __init__(self):\n",
    "        self.sys_message = {'role': 'system', 'content': self.system_prompt()}\n",
    "        self.user_message_default = \"Introduce yourself.\"\n",
    "\n",
    "    @abc.abstractmethod\n",
    "    def system_prompt(self):\n",
    "        \"\"\"Return the system prompt content\"\"\"\n",
    "        pass\n",
    "    \n",
    "    @abc.abstractmethod\n",
    "    def user_prompt(self):\n",
    "        pass\n",
    "\n",
    "    def chat(self, user_input=None, model=\"gemma3n\"):\n",
    "\n",
    "        if user_input:\n",
    "            user_content = self.user_prompt(user_input)\n",
    "        else:\n",
    "            user_content = self.user_message_default\n",
    "\n",
    "        user_message = {'role': 'user', 'content': user_content}\n",
    "\n",
    "        response = ollama.chat(model=model, messages=[self.sys_message, user_message])\n",
    "        return response['message']['content'].strip()\n"
   ]
  },
  {
   "cell_type": "code",
   "execution_count": 2,
   "id": "9acf5fbb",
   "metadata": {},
   "outputs": [],
   "source": [
    "class Preprocessor(Agent):\n",
    "    def system_prompt(self):\n",
    "        return \"You are an expert editor of Tibetan Buddhist texts. You preprocess Tibetan material for translation.\"\n",
    "    \n",
    "    def user_prompt(self, user_input):\n",
    "        return f\"\"\"Preprocess the following: {user_input}\n",
    "                \"\"\""
   ]
  },
  {
   "cell_type": "code",
   "execution_count": 15,
   "id": "2544e050",
   "metadata": {},
   "outputs": [],
   "source": [
    "class Translator(Agent):\n",
    "    def system_prompt(self):\n",
    "        return \"You are an expert translator of Tibetan Buddhist texts. You translate clearly and concisely, preserving the original intent of the text.\"\n",
    "    \n",
    "    def user_prompt(self, user_input):\n",
    "        return f\"\"\"Translate the following from Tibetan to English:{user_input['source']}\n",
    "                Consider these notes from the preprocessor: {user_input['prepro_notes']}\"\"\"\n"
   ]
  },
  {
   "cell_type": "code",
   "execution_count": 4,
   "id": "49bc24af",
   "metadata": {},
   "outputs": [],
   "source": [
    "class Evaluator(Agent):\n",
    "    def system_prompt(self):\n",
    "        return \"You are an expert in translation evaluation. You score translations based on fluency, literary quality, and meaning preservation.\"\n",
    "    \n",
    "    def user_prompt(self, user_input):\n",
    "        return f\"\"\"Score the following translation on a continuous scale from 0 to 100, where score of zero means\n",
    "                \"no meaning preserved\" and score of one hundred means \"perfect meaning and grammar\".\n",
    "\n",
    "                Source: {user_input['source']}\n",
    "                Target: {user_input['target']}\n",
    "                \"\"\""
   ]
  },
  {
   "cell_type": "code",
   "execution_count": 5,
   "id": "ad99fa26",
   "metadata": {},
   "outputs": [],
   "source": [
    "class PostEditor(Agent):\n",
    "    def system_prompt(self):\n",
    "        return \"\"\"\"You are an expert translation editor. You provide improved translations based on an original translation and a score from an evaluator. \n",
    "        You preserve the good qualities of the first draft but improve clarity and fluency.\"\"\"\n",
    "    \n",
    "    def user_prompt(self, user_input):\n",
    "        return f\"\"\"Improve the following translation:\n",
    "        Source: {user_input['source']},\n",
    "        Translation: {user_input['translation']}\n",
    "        Evaluation: {user_input['evaluation']}\n",
    "        \"\"\""
   ]
  },
  {
   "cell_type": "code",
   "execution_count": 6,
   "id": "847a4846",
   "metadata": {},
   "outputs": [],
   "source": [
    "class FinalEditor(Agent):\n",
    "    def system_prompt(self):\n",
    "        return \"\"\"\"You are an expert editor. You provide final drafts of translations based on the work of translators. \n",
    "        You take into account their input and provide the final translation, with no additional outputs.\"\"\"\n",
    "    \n",
    "    def user_prompt(self, user_input):\n",
    "        return f\"\"\"Provide a final draft output based on this draft and information from the translation team: {user_input}\n",
    "        \"\"\""
   ]
  },
  {
   "cell_type": "code",
   "execution_count": 16,
   "id": "1c338df2",
   "metadata": {},
   "outputs": [],
   "source": [
    "prepro = Preprocessor()\n",
    "translator = Translator()\n",
    "eval = Evaluator()\n",
    "post = PostEditor()\n",
    "final = FinalEditor()"
   ]
  },
  {
   "cell_type": "code",
   "execution_count": null,
   "id": "14fa3ed5",
   "metadata": {},
   "outputs": [],
   "source": [
    "tib = \"\"\"སེམས་ཅན་ཐམས་ཅད་ཀྱི་སྡུག་བསྔལ་སེལ་བ་ལ་ཕྱག་འཚལ་ལོ། །\n",
    "སེམས་ཅན་ཐམས་ཅད་སྡུག་བསྔལ་ལས་གྲོལ་བར་མཛད་པ་ལ་ཕྱག་འཚལ་ལོ། །\n",
    "སེམས་ཅན་ཐམས་ཅད་ཀྱི་བཅིངས་པ་གཅོད་པ་ལ་ཕྱག་འཚལ་ལོ། །\n",
    "སེམས་ཅན་ཐམས་ཅད་ལ་མི་འཇིགས་པ་སྦྱིན་པ་ལ་ཕྱག་འཚལ་ལོ། །\"\"\"\n",
    "\n",
    "eng = \"\"\"Homage to the one who dispels the suffering of all beings.\n",
    "Homage to the one who liberates all beings from suffering.\n",
    "Homage to the one who cuts the bonds of all beings.\n",
    "Homage to the one who grants fearlessness to all beings.\"\"\""
   ]
  },
  {
   "cell_type": "code",
   "execution_count": 13,
   "id": "6f93a0c8",
   "metadata": {},
   "outputs": [],
   "source": [
    "internal_work = []"
   ]
  },
  {
   "cell_type": "code",
   "execution_count": null,
   "id": "78a5787a",
   "metadata": {},
   "outputs": [],
   "source": [
    "internal_work.append(tib)\n",
    "\n",
    "prepro_notes = prepro.chat(user_input=tib)\n",
    "internal_work.append(prepro_notes)"
   ]
  },
  {
   "cell_type": "code",
   "execution_count": null,
   "id": "6fee62bc",
   "metadata": {},
   "outputs": [],
   "source": [
    "response = translator.chat({'source':tib, 'prepro_notes':prepro_notes})\n",
    "internal_work.append(response)"
   ]
  },
  {
   "cell_type": "code",
   "execution_count": 18,
   "id": "26a5d002",
   "metadata": {},
   "outputs": [],
   "source": [
    "evaluation = eval.chat({'source': tib, 'target': response})\n",
    "internal_work.append(evaluation)"
   ]
  },
  {
   "cell_type": "code",
   "execution_count": 19,
   "id": "db2e8f0f",
   "metadata": {},
   "outputs": [],
   "source": [
    "post = post.chat({'source': tib, 'translation': response , 'evaluation':evaluation})\n",
    "internal_work.append(post)"
   ]
  },
  {
   "cell_type": "code",
   "execution_count": 20,
   "id": "1d4b5dbd",
   "metadata": {},
   "outputs": [],
   "source": [
    "final = final.chat(post)\n",
    "internal_work.append(final)"
   ]
  },
  {
   "cell_type": "code",
   "execution_count": 21,
   "id": "ef814728",
   "metadata": {},
   "outputs": [
    {
     "name": "stdout",
     "output_type": "stream",
     "text": [
      "I offer homage to the cessation of suffering for all sentient beings.\n",
      "I offer homage to the liberation from suffering for all sentient beings.\n",
      "I offer homage to the severing of the root causes of suffering for all sentient beings.\n",
      "I offer homage to the granting of fearlessness to all sentient beings.\n"
     ]
    }
   ],
   "source": [
    "print(final)"
   ]
  },
  {
   "cell_type": "code",
   "execution_count": 22,
   "id": "f767b8c8",
   "metadata": {},
   "outputs": [
    {
     "name": "stdout",
     "output_type": "stream",
     "text": [
      "སེམས་ཅན་ཐམས་ཅད་ཀྱི་སྡུག་བསལ་བ་ལ་ཕྱག་འཚལ་ལོ། །\n",
      "སེམསན་ཐམས་ཅད་སྡུག་བསྔལ་ལས་གྲོལ་བར་མཛད་པ་ལ་ཕྱག་འཚལ་ལོ། །\n",
      "སེམས་ཅན་ཐམས་ཅད་ཀྱི་བཅ་པ་གཅོད་པ་ལ་ཕྱ་ལོ། །\n",
      "སེམས་ཅན་ཐམས་ཅད་ལ་མི་འཇིགས་པ་སྦྱིན་པ་ལ་ཕག་འཚལ་ལོ། །\n",
      "Okay, here's the preprocessed version of the Tibetan text you provided, along with explanations of the changes made.  I've focused on clarity and preparing it for a smooth translation process.\n",
      "\n",
      "**Preprocessed Text:**\n",
      "\n",
      "```\n",
      "1. སེམས་ཅན་ཐམས་ཅད་ཀྱི་སྡུག་བསལ་བ་ལ་ཕྱག་འཚལ་ལོ།\n",
      "2. སེམས་ཅན་ཐམས་ཅད་སྡུག་བསྔལ་ལས་གྲོལ་བར་མཛད་པ་ལ་ཕྱག་འཚལ་ལོ།\n",
      "3. སེམས་ཅན་ཐམས་ཅད་ཀྱི་བཅ་པ་གཅོད་པ་ལ་ཕྱག་འཚལ་ལོ།\n",
      "4. སེམས་ཅན་ཐམས་ཅད་ལ་མི་འཇིགས་པ་སྦྱིན་པ་ལ་ཕྱག་འཚལ་ལོ།\n",
      "```\n",
      "\n",
      "**Explanation of Preprocessing Steps:**\n",
      "\n",
      "*   **No changes needed:** The text is already quite clean and grammatically sound.  The primary task here is to present it in a clear, readable format.  I've simply maintained the original spacing and punctuation.\n",
      "\n",
      "**Key Considerations for Translation:**\n",
      "\n",
      "*   **Context is Crucial:**  These phrases are common devotional expressions. Understanding the specific context in which they are used (e.g., a prayer, a teaching, a ritual) will help ensure an accurate and nuanced translation.\n",
      "*   **\"ཕྱག་འཚལ་ལོ།\" (Phyag tsal lo):** This is a standard salutation of reverence, meaning \"I pay homage\" or \"I offer my respect.\" It's a very common phrase in Tibetan Buddhism.\n",
      "*   **\"སྡུག་བསལ་བ་\" (Dug bsal ba):** \"Relief from suffering,\" \"the cessation of suffering.\"\n",
      "*   **\"སྡུག་བསྔལ་ལས་གྲོལ་བར་མཛད་པ་\" (Dug sngal la sgrol bar mdzad pa):** \"Having been done for liberation from suffering,\" \"having been mercifully liberated from suffering.\"\n",
      "*   **\"བཅ་པ་གཅོད་པ་\" (Bcha pa gcod pa):** \"The cutting off of the root,\" \"the severing of the source.\"  This refers to cutting off the root causes of suffering.\n",
      "*   **\"མི་འཇིགས་པ་སྦྱིན་པ་\" (Mi jik pa sbyin pa):** \"Giving fearlessness,\" \"bestowing fearlessness.\"\n",
      "\n",
      "**Why this is \"preprocessed\":**\n",
      "\n",
      "This isn't about grammatical correction or simplification. It's about making the text ready for a translator by:\n",
      "\n",
      "*   **Clear presentation:**  Ensuring the text is easily readable.\n",
      "*   **Maintaining integrity:**  Avoiding any changes that could alter the original meaning.\n",
      "*   **Highlighting key phrases:**  The breakdown of the phrases above helps the translator understand the nuances.\n",
      "\n",
      "\n",
      "\n",
      "**If you have any further instructions or specific requirements for the translation, please let me know!** For example, do you want me to:\n",
      "\n",
      "*   Provide a possible English translation?\n",
      "*   Identify any potential ambiguities?\n",
      "*   Suggest alternative phrasings?\n",
      "*   Consider a specific translation style (e.g., literal, idiomatic)?\n",
      "Here is the translation of the Tibetan text into English:\n",
      "\n",
      "**I pay homage to the cessation of suffering of all sentient beings.**\n",
      "\n",
      "**I pay homage to the act of liberation from suffering for all sentient beings.**\n",
      "\n",
      "**I pay homage to the cutting off of the root causes of suffering for all sentient beings.**\n",
      "\n",
      "**I pay homage to the bestowal of fearlessness upon all sentient beings.**\n",
      "\n",
      "**Explanation of the Translation:**\n",
      "\n",
      "* **ཕྱག་འཚལ་ལོ། (Phyag tsal lo)** is translated as \"I pay homage\" or \"I offer my respect.\" It's a standard devotional expression.\n",
      "* **སེམས་ཅན་ཐམས་ཅད་ཀྱི་ (Sems chen tham chen kyi)** means \"of all sentient beings\" or \"for all sentient beings.\"\n",
      "* **སྡུག་བསལ་བ་ལ་ (Dug bsal ba la)** translates to \"to the cessation of suffering\" or \"to the relief from suffering.\"\n",
      "* **སྡུག་བསྔལ་ལས་གྲོལ་བར་མཛད་པ་ལ་ (Dug sngal la sgrol bar mdzad pa la)** translates to \"to the act of liberation from suffering\" or \"to the merciful act of liberation from suffering.\"\n",
      "* **བཅ་པ་གཅོད་པ་ལ་ (Bcha pa gcod pa la)** translates to \"to the cutting off of the root\" or \"to the severing of the source.\"\n",
      "* **མི་འཇིགས་པ་སྦྱིན་པ་ལ་ (Mi jik pa sbyin pa la)** translates to \"to the bestowing of fearlessness\" or \"to the giving of fearlessness.\"\n",
      "\n",
      "This translation aims to preserve the original meaning and devotional intent of the Tibetan phrases while using clear and concise English.\n",
      "## Translation Evaluation:\n",
      "\n",
      "**Score: 85/100**\n",
      "\n",
      "**Breakdown:**\n",
      "\n",
      "* **Meaning Preservation (85/100):** The translation demonstrates a strong understanding and preservation of the original meaning. The explanations provided are accurate and insightful, highlighting the nuances of each Tibetan phrase. The core message of devotional homage to the cessation of suffering for all sentient beings is clearly conveyed.  The explanations justify the choices made in translating the phrases, showing a good grasp of the source material.\n",
      "\n",
      "* **Fluency (80/100):** The English is generally fluent and reads well. The phrasing is natural and avoids awkward constructions. However, there's a slight stiffness in some of the phrasing, particularly the repetition of \"to the...of...\" structure.  A more varied sentence structure could improve the overall flow. For example, instead of \"to the act of libeation from suffering,\" one might consider \"to the liberation from suffering.\"\n",
      "\n",
      "* **Literary Quality (75/100):** While the translation is accurate, it lacks a certain poetic quality. The devotional nature of the original text could be better reflected in the English. The translation is functional and clear, but it doesn't fully capture the emotional weight and reverence inherent in the Tibetan.  The use of \"bestowal of fearlessness\" is a bit literal and could be more evocative.\n",
      "\n",
      "**Strengths:**\n",
      "\n",
      "* **Accurate Meaning:** The translation accurately conveys the meaning of the Tibetan phrases.\n",
      "* **Clear Explanations:** The provided explanations are helpful and demonstrate a good understanding of the source material.\n",
      "* **Respectful Tone:** The translation maintains a respectful and devotional tone appropriate for the original text.\n",
      "\n",
      "**Areas for Improvement:**\n",
      "\n",
      "* **Sentence Variety:**  Varying sentence structure would improve the fluency and readability.\n",
      "* **Evocative Language:**  Exploring more evocative language could better capture the emotional depth of the original.\n",
      "* **Conciseness:** While generally good, some phrases could be slightly more concise without sacrificing meaning.\n",
      "\n",
      "**Overall:**\n",
      "\n",
      "This is a very good translation. It prioritizes accuracy and meaning preservation, and the explanations are valuable.  With some minor adjustments to improve fluency and literary quality, it could be considered excellent. The translator demonstrates a solid understanding of both Tibetan and English and a respect for the source material.\n",
      "Here's an improved translation, building upon the strengths of the original while addressing the points raised in the evaluation. I've focused on enhancing fluency, conciseness, and incorporating more evocative language.\n",
      "\n",
      "**Improved Translation:**\n",
      "\n",
      "**I offer homage to the cessation of suffering for all sentient beings.**\n",
      "\n",
      "**I offer homage to the liberation from suffering for all sentient beings.**\n",
      "\n",
      "**I offer homage to the severing of the root causes of suffering for all sentient beings.**\n",
      "\n",
      "**I offer homage to the granting of fearlessness to all sentient beings.**\n",
      "\n",
      "**Explanation of the Translation:**\n",
      "\n",
      "* **ཕྱག་འཚལ་ལོ། (Phyag tsal lo)** is translated as \"I offer homage,\" a standard devotional expression.\n",
      "* **སེམས་ཅན་ཐམས་ཅད་ཀྱི་ (Sems chen tham chen kyi)** means \"for all sentient beings.\"\n",
      "* **སྡུག་བསལ་བ་ལ་ (Dug bsal ba la)** translates to \"the cessation of suffering.\"\n",
      "* **སྡུག་བསྔལ་ལས་གྲོལ་བར་མཛད་པ་ལ་ (Dug sngal la sgrol bar mdzad pa la)** translates to \"the liberation from suffering.\"\n",
      "* **བཅ་པ་གཅོད་པ་ལ་ (Bcha pa gcod pa la)** translates to \"the severing of the root causes.\"\n",
      "* **མི་འཇིགས་པ་སྦྱིན་པ་ལ་ (Mi jik pa shbyin pa la)** translates to \"the granting of fearlessness.\"\n",
      "\n",
      "**Key Changes and Rationale:**\n",
      "\n",
      "* **Combined Phrases:** I've streamlined some phrases for better flow. For example, \"to the act of liberation from suffering\" is simplified to \"the liberation from suffering.\"\n",
      "* **More Active Verbs:** Using verbs like \"granting\" instead of \"bestowal of fearlessness\" creates a more dynamic and evocative image.\n",
      "* **Conciseness:** Removed unnecessary repetition of \"to the...\"\n",
      "* **Slightly More Poetic Language:**  The phrasing aims for a more resonant and devotional tone without sacrificing clarity.\n",
      "\n",
      "\n",
      "\n",
      "**Why these changes are improvements:**\n",
      "\n",
      "* **Fluency:** The revised version reads more naturally in English. The sentence structure is more varied, avoiding the repetitive \"to the...of...\" pattern.\n",
      "* **Literary Quality:** The use of stronger verbs and slightly more evocative language enhances the devotional feel of the text.\n",
      "* **Conciseness:**  The overall length is slightly reduced without losing any meaning.\n",
      "I offer homage to the cessation of suffering for all sentient beings.\n",
      "I offer homage to the liberation from suffering for all sentient beings.\n",
      "I offer homage to the severing of the root causes of suffering for all sentient beings.\n",
      "I offer homage to the granting of fearlessness to all sentient beings.\n"
     ]
    }
   ],
   "source": [
    "for _ in internal_work:\n",
    "    print(_)"
   ]
  }
 ],
 "metadata": {
  "kernelspec": {
   "display_name": ".venv",
   "language": "python",
   "name": "python3"
  },
  "language_info": {
   "codemirror_mode": {
    "name": "ipython",
    "version": 3
   },
   "file_extension": ".py",
   "mimetype": "text/x-python",
   "name": "python",
   "nbconvert_exporter": "python",
   "pygments_lexer": "ipython3",
   "version": "3.10.17"
  }
 },
 "nbformat": 4,
 "nbformat_minor": 5
}
