{
 "cells": [
  {
   "cell_type": "code",
   "execution_count": 1,
   "metadata": {},
   "outputs": [],
   "source": [
    "from datasets import load_from_disk\n",
    "\n",
    "ds = load_from_disk('ds-for-synth-gen')"
   ]
  },
  {
   "cell_type": "code",
   "execution_count": 2,
   "metadata": {},
   "outputs": [
    {
     "data": {
      "text/plain": [
       "{'tibetan': 'གཞན་ལ་བགོ་སྐལ་བྱེད་དུ་མ་མཆིས་ཤིང་།།',\n",
       " 'phonetic': 'zhen la go kal jé duma chi shing',\n",
       " 'english': 'Will not be apportioned to anybody else.'}"
      ]
     },
     "execution_count": 2,
     "metadata": {},
     "output_type": "execute_result"
    }
   ],
   "source": [
    "ds[0]"
   ]
  },
  {
   "cell_type": "code",
   "execution_count": 21,
   "metadata": {},
   "outputs": [],
   "source": [
    "from transformers import PreTrainedTokenizerFast, AutoModelForSeq2SeqLM\n",
    "\n",
    "model = AutoModelForSeq2SeqLM.from_pretrained('t5-base/checkpoint-16875', device_map='cuda:0')\n",
    "\n",
    "# Initialize and train the tokenizer\n",
    "tokenizer = PreTrainedTokenizerFast.from_pretrained('custom-tokenizer', device='cuda:0')"
   ]
  },
  {
   "cell_type": "code",
   "execution_count": 24,
   "metadata": {},
   "outputs": [
    {
     "data": {
      "text/plain": [
       "'And the great wisdom of the three times of the three times'"
      ]
     },
     "execution_count": 24,
     "metadata": {},
     "output_type": "execute_result"
    }
   ],
   "source": [
    "input_ids = tokenizer(\"translate Tibetan to English: \"+ds[0]['tibetan'], return_tensors=\"pt\").to('cuda:0').input_ids\n",
    "outputs = model.generate(input_ids)\n",
    "translation = tokenizer.decode(outputs[0], skip_special_tokens=True)\n",
    "translation"
   ]
  },
  {
   "cell_type": "code",
   "execution_count": 25,
   "metadata": {},
   "outputs": [],
   "source": [
    "def add_synth_data(example):\n",
    "    input_ids = tokenizer(\"translate Tibetan to English: \"+example['tibetan'], return_tensors=\"pt\").to('cuda:0').input_ids\n",
    "    outputs = model.generate(input_ids)\n",
    "    translation = tokenizer.decode(outputs[0], skip_special_tokens=True)\n",
    "    example['synthetic'] = translation\n",
    "    return example"
   ]
  },
  {
   "cell_type": "code",
   "execution_count": 32,
   "metadata": {},
   "outputs": [
    {
     "data": {
      "application/vnd.jupyter.widget-view+json": {
       "model_id": "c58a26b0bcd64f9999b2e7a93fd141da",
       "version_major": 2,
       "version_minor": 0
      },
      "text/plain": [
       "Map:   0%|          | 0/22500 [00:00<?, ? examples/s]"
      ]
     },
     "metadata": {},
     "output_type": "display_data"
    }
   ],
   "source": [
    "ds = ds.map(add_synth_data)"
   ]
  },
  {
   "cell_type": "code",
   "execution_count": 33,
   "metadata": {},
   "outputs": [
    {
     "data": {
      "text/plain": [
       "{'tibetan': 'གཞན་ལ་བགོ་སྐལ་བྱེད་དུ་མ་མཆིས་ཤིང་།།',\n",
       " 'phonetic': 'zhen la go kal jé duma chi shing',\n",
       " 'english': 'Will not be apportioned to anybody else.',\n",
       " 'synthetic': 'And the great wisdom of the three times of the three times'}"
      ]
     },
     "execution_count": 33,
     "metadata": {},
     "output_type": "execute_result"
    }
   ],
   "source": [
    "ds[0]"
   ]
  },
  {
   "cell_type": "code",
   "execution_count": 34,
   "metadata": {},
   "outputs": [
    {
     "data": {
      "application/vnd.jupyter.widget-view+json": {
       "model_id": "dc4a8e6f155d4f2ebd8f9540a97ee17a",
       "version_major": 2,
       "version_minor": 0
      },
      "text/plain": [
       "Saving the dataset (0/1 shards):   0%|          | 0/22500 [00:00<?, ? examples/s]"
      ]
     },
     "metadata": {},
     "output_type": "display_data"
    }
   ],
   "source": [
    "ds.save_to_disk('ds-with-synth-data')"
   ]
  }
 ],
 "metadata": {
  "kernelspec": {
   "display_name": ".venv",
   "language": "python",
   "name": "python3"
  },
  "language_info": {
   "codemirror_mode": {
    "name": "ipython",
    "version": 3
   },
   "file_extension": ".py",
   "mimetype": "text/x-python",
   "name": "python",
   "nbconvert_exporter": "python",
   "pygments_lexer": "ipython3",
   "version": "3.12.3"
  }
 },
 "nbformat": 4,
 "nbformat_minor": 2
}
