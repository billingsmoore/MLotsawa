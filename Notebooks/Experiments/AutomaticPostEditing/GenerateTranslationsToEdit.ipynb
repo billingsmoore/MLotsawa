{
 "cells": [
  {
   "cell_type": "code",
   "execution_count": null,
   "metadata": {},
   "outputs": [],
   "source": [
    "from datasets import load_dataset\n",
    "\n",
    "ds = load_dataset('ape-ds')"
   ]
  },
  {
   "cell_type": "code",
   "execution_count": null,
   "metadata": {},
   "outputs": [],
   "source": [
    "from transformers import AutoTokenizer, DataCollatorForSeq2Seq, AutoModelForSeq2SeqLM\n",
    "\n",
    "checkpoint = \"\"\n",
    "model = AutoModelForSeq2SeqLM.from_pretrained(checkpoint, device_map=\"cuda:0\")\n",
    "tokenizer = AutoTokenizer.from_pretrained('my-tokenizer')\n",
    "data_collator = DataCollatorForSeq2Seq(tokenizer=tokenizer, model=checkpoint)"
   ]
  },
  {
   "cell_type": "code",
   "execution_count": null,
   "metadata": {},
   "outputs": [],
   "source": [
    "import torch\n",
    "\n",
    "def make_translations(batch):\n",
    "    # Tokenize batch at once\n",
    "    inputs = tokenizer([\"translate Tibetan to English: \" + text for text in batch['bo']], \n",
    "                       return_tensors=\"pt\", padding=True, truncation=True).to('cuda:0')\n",
    "\n",
    "    # Run batch inference\n",
    "    with torch.no_grad():  # Disables gradients for efficiency\n",
    "        outputs = model.generate(inputs.input_ids)\n",
    "\n",
    "    # Decode all translations at once\n",
    "    batch['for-post-edit'] = tokenizer.batch_decode(outputs, skip_special_tokens=True)\n",
    "    \n",
    "    return batch\n",
    "\n",
    "# Apply batch processing (adjust batch_size based on memory constraints)\n",
    "ds = ds.map(make_translations, batched=True, batch_size=16)  # Adjust batch size as needed\n"
   ]
  },
  {
   "cell_type": "code",
   "execution_count": null,
   "metadata": {},
   "outputs": [],
   "source": [
    "ds.save_to_disk('ape-ds')"
   ]
  }
 ],
 "metadata": {
  "kernelspec": {
   "display_name": ".venv",
   "language": "python",
   "name": "python3"
  },
  "language_info": {
   "name": "python",
   "version": "3.12.3"
  }
 },
 "nbformat": 4,
 "nbformat_minor": 2
}
