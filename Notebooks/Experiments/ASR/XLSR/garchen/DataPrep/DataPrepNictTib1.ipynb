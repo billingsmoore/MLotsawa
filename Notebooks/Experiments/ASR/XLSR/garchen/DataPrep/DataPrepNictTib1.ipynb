{
 "cells": [
  {
   "cell_type": "code",
   "execution_count": 1,
   "metadata": {},
   "outputs": [],
   "source": [
    "import os\n",
    "from datasets import Dataset, Audio\n",
    "\n",
    "# Define paths\n",
    "dataset_dir = \"../Data/NictTib1\"\n",
    "wav_scp_path = os.path.join(dataset_dir, \"wav.scp\")\n",
    "label_path = os.path.join(dataset_dir, \"label.txt\")"
   ]
  },
  {
   "cell_type": "code",
   "execution_count": 2,
   "metadata": {},
   "outputs": [],
   "source": [
    "# Parse wav.scp file\n",
    "def parse_wav_scp(wav_scp_path):\n",
    "    wav_scp = {}\n",
    "    with open(wav_scp_path, \"r\", encoding=\"utf-8\") as f:\n",
    "        for line in f:\n",
    "            utt_id, audio_path = line.strip().split(maxsplit=1)\n",
    "            wav_scp[utt_id] = audio_path\n",
    "    return wav_scp\n",
    "\n",
    "# Parse label.txt file\n",
    "def parse_label(label_path):\n",
    "    labels = {}\n",
    "    with open(label_path, \"r\", encoding=\"utf-8\") as f:\n",
    "        for line in f:\n",
    "            parts = line.strip().split(maxsplit=1)\n",
    "            utt_id = parts[0]\n",
    "            transcription = parts[1] if len(parts) > 1 else \"\"  # Handle empty transcriptions\n",
    "            labels[utt_id] = transcription\n",
    "    return labels\n",
    "\n",
    "# Extract speaker ID from audio path\n",
    "def extract_speaker_id(audio_path):\n",
    "    # Assuming the path is like \"Tibetan/data/speaker-id/speaker-session-id/wave-files\"\n",
    "    parts = audio_path.split(os.sep)\n",
    "    speaker_id = parts[-3]  # Extract speaker-id from the path\n",
    "    return speaker_id"
   ]
  },
  {
   "cell_type": "code",
   "execution_count": 3,
   "metadata": {},
   "outputs": [],
   "source": [
    "# Load the data\n",
    "wav_scp = parse_wav_scp(wav_scp_path)\n",
    "labels = parse_label(label_path)\n",
    "\n",
    "# Create a list of dictionaries for the dataset\n",
    "data = []\n",
    "for utt_id in wav_scp:\n",
    "    audio_path = wav_scp[utt_id]\n",
    "    transcription = labels.get(utt_id, \"\")\n",
    "    speaker_id = extract_speaker_id(audio_path)  # Extract speaker ID\n",
    "    if transcription:  # Only include entries with transcriptions\n",
    "        data.append({\n",
    "            \"audio\": audio_path,\n",
    "            \"transcription\": transcription,\n",
    "            \"speaker_id\": speaker_id,  # Add speaker ID\n",
    "        })"
   ]
  },
  {
   "cell_type": "code",
   "execution_count": 4,
   "metadata": {},
   "outputs": [],
   "source": [
    "# Convert to Hugging Face Dataset\n",
    "dataset = Dataset.from_dict({\n",
    "    \"audio\": [item[\"audio\"] for item in data],\n",
    "    \"transcription\": [item[\"transcription\"] for item in data],\n",
    "    \"speaker_id\": [item[\"speaker_id\"] for item in data],  # Include speaker IDs\n",
    "})"
   ]
  },
  {
   "cell_type": "code",
   "execution_count": 5,
   "metadata": {},
   "outputs": [],
   "source": [
    "# Cast the 'audio' column to Audio type\n",
    "#dataset = dataset.cast_column(\"audio\", Audio())"
   ]
  },
  {
   "cell_type": "code",
   "execution_count": 6,
   "metadata": {},
   "outputs": [
    {
     "data": {
      "text/plain": [
       "{'audio': 'data/006/006_01/006_72.wav',\n",
       " 'transcription': 'ཀྲུང་གོའི་ཐའེ་ཝན་ལའང་གློག་ཀླད་ནད་དུག་གིས་ཤུགས་རྐྱེན་ཆེན་པོ་ཐེབས་ཡོད།',\n",
       " 'speaker_id': '006'}"
      ]
     },
     "execution_count": 6,
     "metadata": {},
     "output_type": "execute_result"
    }
   ],
   "source": [
    "dataset[0]"
   ]
  },
  {
   "cell_type": "code",
   "execution_count": 7,
   "metadata": {},
   "outputs": [],
   "source": [
    "dataset = dataset.cast_column(\"audio\", Audio())"
   ]
  },
  {
   "cell_type": "code",
   "execution_count": 8,
   "metadata": {},
   "outputs": [],
   "source": [
    "from transformers import Wav2Vec2FeatureExtractor, Wav2Vec2Processor, AutoTokenizer, Wav2Vec2Config\n",
    "import torch\n",
    "\n",
    "feature_extractor = Wav2Vec2FeatureExtractor.from_pretrained(\"openpecha/Garchen_Rinpoche_stt\")\n",
    "tokenizer = AutoTokenizer.from_pretrained(\"openpecha/Garchen_Rinpoche_stt\")\n",
    "processor = Wav2Vec2Processor(feature_extractor=feature_extractor, tokenizer=tokenizer)\n",
    "\n",
    "config = Wav2Vec2Config.from_pretrained(\"openpecha/Garchen_Rinpoche_stt\")"
   ]
  },
  {
   "cell_type": "code",
   "execution_count": 10,
   "metadata": {},
   "outputs": [],
   "source": [
    "def prepare_dataset(batch):\n",
    "    audio = batch[\"audio\"]\n",
    "\n",
    "    batch[\"input_values\"] = processor(audio[\"array\"], sampling_rate=audio[\"sampling_rate\"]).input_values[0]\n",
    "    \n",
    "    with processor.as_target_processor():\n",
    "        batch[\"labels\"] = processor(batch[\"uni\"]).input_ids\n",
    "    return batch"
   ]
  },
  {
   "cell_type": "code",
   "execution_count": 12,
   "metadata": {},
   "outputs": [
    {
     "data": {
      "application/vnd.jupyter.widget-view+json": {
       "model_id": "74c528db4e4248f8bae45a35591958a5",
       "version_major": 2,
       "version_minor": 0
      },
      "text/plain": [
       "Map:   0%|          | 0/16646 [00:00<?, ? examples/s]"
      ]
     },
     "metadata": {},
     "output_type": "display_data"
    },
    {
     "ename": "",
     "evalue": "",
     "output_type": "error",
     "traceback": [
      "\u001b[1;31mThe Kernel crashed while executing code in the current cell or a previous cell. \n",
      "\u001b[1;31mPlease review the code in the cell(s) to identify a possible cause of the failure. \n",
      "\u001b[1;31mClick <a href='https://aka.ms/vscodeJupyterKernelCrash'>here</a> for more info. \n",
      "\u001b[1;31mView Jupyter <a href='command:jupyter.viewOutput'>log</a> for further details."
     ]
    }
   ],
   "source": [
    "dataset = dataset.map(prepare_dataset, remove_columns=dataset.column_names, batch_size=1)"
   ]
  }
 ],
 "metadata": {
  "kernelspec": {
   "display_name": ".venv",
   "language": "python",
   "name": "python3"
  },
  "language_info": {
   "codemirror_mode": {
    "name": "ipython",
    "version": 3
   },
   "file_extension": ".py",
   "mimetype": "text/x-python",
   "name": "python",
   "nbconvert_exporter": "python",
   "pygments_lexer": "ipython3",
   "version": "3.13.3"
  }
 },
 "nbformat": 4,
 "nbformat_minor": 2
}
