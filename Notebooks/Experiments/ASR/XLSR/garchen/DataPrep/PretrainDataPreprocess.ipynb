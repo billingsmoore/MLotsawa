{
 "cells": [
  {
   "cell_type": "code",
   "execution_count": 1,
   "id": "61909705",
   "metadata": {},
   "outputs": [
    {
     "data": {
      "application/vnd.jupyter.widget-view+json": {
       "model_id": "07cd759327984cfea0ca3070d17919a6",
       "version_major": 2,
       "version_minor": 0
      },
      "text/plain": [
       "Loading dataset from disk:   0%|          | 0/34 [00:00<?, ?it/s]"
      ]
     },
     "metadata": {},
     "output_type": "display_data"
    },
    {
     "data": {
      "text/plain": [
       "Dataset({\n",
       "    features: ['file_name', 'uni', 'wylie', 'url', 'dept', 'grade', 'char_len', 'audio_len', '__index_level_0__', 'audio', 'transcript'],\n",
       "    num_rows: 67273\n",
       "})"
      ]
     },
     "execution_count": 1,
     "metadata": {},
     "output_type": "execute_result"
    }
   ],
   "source": [
    "from datasets import load_from_disk, Audio\n",
    "from transformers import Wav2Vec2ForPreTraining, Wav2Vec2FeatureExtractor, Trainer, TrainingArguments\n",
    "\n",
    "# Load unlabeled dataset\n",
    "dataset = load_from_disk(\"../../kham_asr_dataset\")['train']\n",
    "dataset"
   ]
  },
  {
   "cell_type": "code",
   "execution_count": null,
   "id": "5b7b1210",
   "metadata": {},
   "outputs": [
    {
     "data": {
      "application/vnd.jupyter.widget-view+json": {
       "model_id": "71bfe6111af640f6a0b249604147e451",
       "version_major": 2,
       "version_minor": 0
      },
      "text/plain": [
       "Map:   0%|          | 0/67273 [00:00<?, ? examples/s]"
      ]
     },
     "metadata": {},
     "output_type": "display_data"
    }
   ],
   "source": [
    "\n",
    "feature_extractor = Wav2Vec2FeatureExtractor.from_pretrained(\"openpecha/Garchen_Rinpoche_stt\")\n",
    "\n",
    "# Preprocessing with feature extractor\n",
    "def preprocess_function(batch):\n",
    "    # Extract audio arrays\n",
    "    audio_arrays = [audio[\"array\"] for audio in batch[\"audio\"]]\n",
    "    \n",
    "    # Filter out very short audio (less than 1 second at 16kHz)\n",
    "    min_length = 16000  # 1 second\n",
    "    audio_arrays = [arr for arr in audio_arrays if len(arr) >= min_length]\n",
    "    \n",
    "    if len(audio_arrays) == 0:\n",
    "        return {\"input_values\": []}\n",
    "    \n",
    "    # Use feature extractor to normalize and process\n",
    "    inputs = feature_extractor(\n",
    "        audio_arrays,\n",
    "        sampling_rate=16000,  # Adjust if your data has different sample rate\n",
    "        return_tensors=\"pt\",\n",
    "        padding=True,  # We'll pad in collator\n",
    "    )\n",
    "    \n",
    "    return {\"input_values\": inputs.input_values}\n",
    "\n",
    "dataset = dataset.map(\n",
    "    preprocess_function,\n",
    "    batched=True,\n",
    "    batch_size=1,\n",
    "    remove_columns=dataset.column_names,\n",
    ")\n",
    "\n",
    "# Filter out empty results from preprocessing\n",
    "dataset = dataset.filter(lambda x: len(x[\"input_values\"]) > 0)"
   ]
  },
  {
   "cell_type": "code",
   "execution_count": null,
   "id": "32ead5da",
   "metadata": {},
   "outputs": [],
   "source": [
    "dataset.save_to_disk(\"../Data/kham_pretrain_preprocessed\")"
   ]
  }
 ],
 "metadata": {
  "kernelspec": {
   "display_name": ".venv",
   "language": "python",
   "name": "python3"
  },
  "language_info": {
   "codemirror_mode": {
    "name": "ipython",
    "version": 3
   },
   "file_extension": ".py",
   "mimetype": "text/x-python",
   "name": "python",
   "nbconvert_exporter": "python",
   "pygments_lexer": "ipython3",
   "version": "3.13.3"
  }
 },
 "nbformat": 4,
 "nbformat_minor": 5
}
