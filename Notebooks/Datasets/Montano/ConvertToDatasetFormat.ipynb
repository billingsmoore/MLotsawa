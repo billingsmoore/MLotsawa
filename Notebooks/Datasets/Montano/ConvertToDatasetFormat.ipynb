{
 "cells": [
  {
   "cell_type": "markdown",
   "metadata": {},
   "source": [
    "## Open File"
   ]
  },
  {
   "cell_type": "code",
   "execution_count": 64,
   "metadata": {},
   "outputs": [
    {
     "data": {
      "text/html": [
       "<div>\n",
       "<style scoped>\n",
       "    .dataframe tbody tr th:only-of-type {\n",
       "        vertical-align: middle;\n",
       "    }\n",
       "\n",
       "    .dataframe tbody tr th {\n",
       "        vertical-align: top;\n",
       "    }\n",
       "\n",
       "    .dataframe thead th {\n",
       "        text-align: right;\n",
       "    }\n",
       "</style>\n",
       "<table border=\"1\" class=\"dataframe\">\n",
       "  <thead>\n",
       "    <tr style=\"text-align: right;\">\n",
       "      <th></th>\n",
       "      <th>0</th>\n",
       "      <th>1</th>\n",
       "    </tr>\n",
       "  </thead>\n",
       "  <tbody>\n",
       "    <tr>\n",
       "      <th>0</th>\n",
       "      <td>0</td>\n",
       "      <td>NaN</td>\n",
       "    </tr>\n",
       "    <tr>\n",
       "      <th>1</th>\n",
       "      <td>¡Homenaje a todos los Budas y Bodhisatvas!</td>\n",
       "      <td>སངས་རྒྱས་དང་བྱང་ཆུབ་སེམས་དཔའ་ཐམས་ཅད་ལ་ཕྱག་འཚལ་ལོ།</td>\n",
       "    </tr>\n",
       "    <tr>\n",
       "      <th>2</th>\n",
       "      <td>1</td>\n",
       "      <td>NaN</td>\n",
       "    </tr>\n",
       "    <tr>\n",
       "      <th>3</th>\n",
       "      <td>Me postro ante el Omnisciente,</td>\n",
       "      <td>།ཉེས་པ་ཀུན་ལས་རྣམ་གྲོལ་ཞིང༌།</td>\n",
       "    </tr>\n",
       "    <tr>\n",
       "      <th>4</th>\n",
       "      <td>el cuál está libre de cualquier defecto,</td>\n",
       "      <td>།ཡོན་ཏན་ཀུན་གྱིས་བརྒྱན་པ་པོ།</td>\n",
       "    </tr>\n",
       "  </tbody>\n",
       "</table>\n",
       "</div>"
      ],
      "text/plain": [
       "                                            0  \\\n",
       "0                                           0   \n",
       "1  ¡Homenaje a todos los Budas y Bodhisatvas!   \n",
       "2                                           1   \n",
       "3              Me postro ante el Omnisciente,   \n",
       "4    el cuál está libre de cualquier defecto,   \n",
       "\n",
       "                                                   1  \n",
       "0                                                NaN  \n",
       "1  སངས་རྒྱས་དང་བྱང་ཆུབ་སེམས་དཔའ་ཐམས་ཅད་ལ་ཕྱག་འཚལ་ལོ།  \n",
       "2                                                NaN  \n",
       "3                       །ཉེས་པ་ཀུན་ལས་རྣམ་གྲོལ་ཞིང༌།  \n",
       "4                       །ཡོན་ཏན་ཀུན་གྱིས་བརྒྱན་པ་པོ།  "
      ]
     },
     "execution_count": 64,
     "metadata": {},
     "output_type": "execute_result"
    }
   ],
   "source": [
    "import pandas as pd\n",
    "\n",
    "df = pd.DataFrame()\n",
    "\n",
    "for i in range(1,6):\n",
    "    df = pd.concat([df, pd.read_excel('ratnavali.xlsx', header=None, sheet_name=str(i))])\n",
    "df.head()"
   ]
  },
  {
   "cell_type": "code",
   "execution_count": 65,
   "metadata": {},
   "outputs": [
    {
     "name": "stdout",
     "output_type": "stream",
     "text": [
      "   section_id                                       spanish_text  \\\n",
      "0           0         ¡Homenaje a todos los Budas y Bodhisatvas!   \n",
      "1           1  Me postro ante el Omnisciente, el cuál está li...   \n",
      "2           2  ¡Oh, Rey! Yo explicaré las prácticas solamente...   \n",
      "3           3  En alguien que primero practica alto estatus p...   \n",
      "4           4  Alto estatus es considerado felicidad, el bien...   \n",
      "\n",
      "                                        tibetan_text  \n",
      "0  སངས་རྒྱས་དང་བྱང་ཆུབ་སེམས་དཔའ་ཐམས་ཅད་ལ་ཕྱག་འཚལ་ལོ།  \n",
      "1  །ཉེས་པ་ཀུན་ལས་རྣམ་གྲོལ་ཞིང༌། །ཡོན་ཏན་ཀུན་གྱིས་...  \n",
      "2  །རྒྱལ་པོ་ཁྱོད་ལ་ཆོས་སྒྲུབ་ཕྱིར། །གཅིག་ཏུ་དགེ་བ...  \n",
      "3  །དང་པོར་མངོན་པར་མཐོ་བའི་ཆོས། །ཕྱིས་ནི་ངེས་པར་ལ...  \n",
      "4  །དེ་ལ་མངོན་མཐོ་བདེ་བ་སྟེ། །ངེས་པར་ལེགས་པ་ཐར་པར...  \n"
     ]
    }
   ],
   "source": [
    "import pandas as pd\n",
    "\n",
    "# Rename columns\n",
    "df.columns = ['spanish', 'tibetan']\n",
    "\n",
    "grouped_data = []\n",
    "current_section_id = None\n",
    "spanish_lines = []\n",
    "tibetan_lines = []\n",
    "\n",
    "for _, row in df.iterrows():\n",
    "    spanish = row['spanish']\n",
    "    tibetan = row['tibetan']\n",
    "\n",
    "    # If spanish is a digit and tibetan is NaN -> new section\n",
    "    if pd.isna(tibetan) and isinstance(spanish, (int, float)) or (isinstance(spanish, str) and spanish.strip().isdigit()):\n",
    "        # Save previous section if exists\n",
    "        if current_section_id is not None:\n",
    "            grouped_data.append({\n",
    "                'section_id': current_section_id,\n",
    "                'spanish_text': ' '.join(spanish_lines),\n",
    "                'tibetan_text': ' '.join(tibetan_lines)\n",
    "            })\n",
    "\n",
    "        # Start new section\n",
    "        current_section_id = int(float(spanish))  # handles both '2' and 2.0\n",
    "        spanish_lines = []\n",
    "        tibetan_lines = []\n",
    "    else:\n",
    "        # Accumulate lines\n",
    "        if isinstance(spanish, str):\n",
    "            spanish_lines.append(spanish.strip())\n",
    "        if isinstance(tibetan, str):\n",
    "            tibetan_lines.append(tibetan.strip())\n",
    "\n",
    "# Add the last section\n",
    "if current_section_id is not None:\n",
    "    grouped_data.append({\n",
    "        'section_id': current_section_id,\n",
    "        'spanish_text': ' '.join(spanish_lines),\n",
    "        'tibetan_text': ' '.join(tibetan_lines)\n",
    "    })\n",
    "\n",
    "# Final DataFrame\n",
    "grouped_df = pd.DataFrame(grouped_data)\n",
    "print(grouped_df.head())\n"
   ]
  },
  {
   "cell_type": "code",
   "execution_count": 66,
   "metadata": {},
   "outputs": [
    {
     "data": {
      "text/plain": [
       "501"
      ]
     },
     "execution_count": 66,
     "metadata": {},
     "output_type": "execute_result"
    }
   ],
   "source": [
    "len(grouped_df)"
   ]
  },
  {
   "cell_type": "markdown",
   "metadata": {},
   "source": [
    "## Swap Column Order, Name Columns, Drop Nan"
   ]
  },
  {
   "cell_type": "code",
   "execution_count": 67,
   "metadata": {},
   "outputs": [],
   "source": [
    "df = grouped_df"
   ]
  },
  {
   "cell_type": "code",
   "execution_count": 68,
   "metadata": {},
   "outputs": [
    {
     "data": {
      "text/html": [
       "<div>\n",
       "<style scoped>\n",
       "    .dataframe tbody tr th:only-of-type {\n",
       "        vertical-align: middle;\n",
       "    }\n",
       "\n",
       "    .dataframe tbody tr th {\n",
       "        vertical-align: top;\n",
       "    }\n",
       "\n",
       "    .dataframe thead th {\n",
       "        text-align: right;\n",
       "    }\n",
       "</style>\n",
       "<table border=\"1\" class=\"dataframe\">\n",
       "  <thead>\n",
       "    <tr style=\"text-align: right;\">\n",
       "      <th></th>\n",
       "      <th>section_id</th>\n",
       "      <th>spanish_text</th>\n",
       "      <th>tibetan_text</th>\n",
       "    </tr>\n",
       "  </thead>\n",
       "  <tbody>\n",
       "    <tr>\n",
       "      <th>0</th>\n",
       "      <td>0</td>\n",
       "      <td>¡Homenaje a todos los Budas y Bodhisatvas!</td>\n",
       "      <td>སངས་རྒྱས་དང་བྱང་ཆུབ་སེམས་དཔའ་ཐམས་ཅད་ལ་ཕྱག་འཚལ་ལོ།</td>\n",
       "    </tr>\n",
       "    <tr>\n",
       "      <th>1</th>\n",
       "      <td>1</td>\n",
       "      <td>Me postro ante el Omnisciente, el cuál está li...</td>\n",
       "      <td>།ཉེས་པ་ཀུན་ལས་རྣམ་གྲོལ་ཞིང༌། །ཡོན་ཏན་ཀུན་གྱིས་...</td>\n",
       "    </tr>\n",
       "    <tr>\n",
       "      <th>2</th>\n",
       "      <td>2</td>\n",
       "      <td>¡Oh, Rey! Yo explicaré las prácticas solamente...</td>\n",
       "      <td>།རྒྱལ་པོ་ཁྱོད་ལ་ཆོས་སྒྲུབ་ཕྱིར། །གཅིག་ཏུ་དགེ་བ...</td>\n",
       "    </tr>\n",
       "    <tr>\n",
       "      <th>3</th>\n",
       "      <td>3</td>\n",
       "      <td>En alguien que primero practica alto estatus p...</td>\n",
       "      <td>།དང་པོར་མངོན་པར་མཐོ་བའི་ཆོས། །ཕྱིས་ནི་ངེས་པར་ལ...</td>\n",
       "    </tr>\n",
       "    <tr>\n",
       "      <th>4</th>\n",
       "      <td>4</td>\n",
       "      <td>Alto estatus es considerado felicidad, el bien...</td>\n",
       "      <td>།དེ་ལ་མངོན་མཐོ་བདེ་བ་སྟེ། །ངེས་པར་ལེགས་པ་ཐར་པར...</td>\n",
       "    </tr>\n",
       "  </tbody>\n",
       "</table>\n",
       "</div>"
      ],
      "text/plain": [
       "   section_id                                       spanish_text  \\\n",
       "0           0         ¡Homenaje a todos los Budas y Bodhisatvas!   \n",
       "1           1  Me postro ante el Omnisciente, el cuál está li...   \n",
       "2           2  ¡Oh, Rey! Yo explicaré las prácticas solamente...   \n",
       "3           3  En alguien que primero practica alto estatus p...   \n",
       "4           4  Alto estatus es considerado felicidad, el bien...   \n",
       "\n",
       "                                        tibetan_text  \n",
       "0  སངས་རྒྱས་དང་བྱང་ཆུབ་སེམས་དཔའ་ཐམས་ཅད་ལ་ཕྱག་འཚལ་ལོ།  \n",
       "1  །ཉེས་པ་ཀུན་ལས་རྣམ་གྲོལ་ཞིང༌། །ཡོན་ཏན་ཀུན་གྱིས་...  \n",
       "2  །རྒྱལ་པོ་ཁྱོད་ལ་ཆོས་སྒྲུབ་ཕྱིར། །གཅིག་ཏུ་དགེ་བ...  \n",
       "3  །དང་པོར་མངོན་པར་མཐོ་བའི་ཆོས། །ཕྱིས་ནི་ངེས་པར་ལ...  \n",
       "4  །དེ་ལ་མངོན་མཐོ་བདེ་བ་སྟེ། །ངེས་པར་ལེགས་པ་ཐར་པར...  "
      ]
     },
     "execution_count": 68,
     "metadata": {},
     "output_type": "execute_result"
    }
   ],
   "source": [
    "df.head()"
   ]
  },
  {
   "cell_type": "code",
   "execution_count": 69,
   "metadata": {},
   "outputs": [
    {
     "data": {
      "text/html": [
       "<div>\n",
       "<style scoped>\n",
       "    .dataframe tbody tr th:only-of-type {\n",
       "        vertical-align: middle;\n",
       "    }\n",
       "\n",
       "    .dataframe tbody tr th {\n",
       "        vertical-align: top;\n",
       "    }\n",
       "\n",
       "    .dataframe thead th {\n",
       "        text-align: right;\n",
       "    }\n",
       "</style>\n",
       "<table border=\"1\" class=\"dataframe\">\n",
       "  <thead>\n",
       "    <tr style=\"text-align: right;\">\n",
       "      <th></th>\n",
       "      <th>section_id</th>\n",
       "      <th>bo</th>\n",
       "      <th>es</th>\n",
       "    </tr>\n",
       "  </thead>\n",
       "  <tbody>\n",
       "    <tr>\n",
       "      <th>0</th>\n",
       "      <td>0</td>\n",
       "      <td>སངས་རྒྱས་དང་བྱང་ཆུབ་སེམས་དཔའ་ཐམས་ཅད་ལ་ཕྱག་འཚལ་ལོ།</td>\n",
       "      <td>¡Homenaje a todos los Budas y Bodhisatvas!</td>\n",
       "    </tr>\n",
       "    <tr>\n",
       "      <th>1</th>\n",
       "      <td>1</td>\n",
       "      <td>།ཉེས་པ་ཀུན་ལས་རྣམ་གྲོལ་ཞིང༌། །ཡོན་ཏན་ཀུན་གྱིས་...</td>\n",
       "      <td>Me postro ante el Omnisciente, el cuál está li...</td>\n",
       "    </tr>\n",
       "    <tr>\n",
       "      <th>2</th>\n",
       "      <td>2</td>\n",
       "      <td>།རྒྱལ་པོ་ཁྱོད་ལ་ཆོས་སྒྲུབ་ཕྱིར། །གཅིག་ཏུ་དགེ་བ...</td>\n",
       "      <td>¡Oh, Rey! Yo explicaré las prácticas solamente...</td>\n",
       "    </tr>\n",
       "    <tr>\n",
       "      <th>3</th>\n",
       "      <td>3</td>\n",
       "      <td>།དང་པོར་མངོན་པར་མཐོ་བའི་ཆོས། །ཕྱིས་ནི་ངེས་པར་ལ...</td>\n",
       "      <td>En alguien que primero practica alto estatus p...</td>\n",
       "    </tr>\n",
       "    <tr>\n",
       "      <th>4</th>\n",
       "      <td>4</td>\n",
       "      <td>།དེ་ལ་མངོན་མཐོ་བདེ་བ་སྟེ། །ངེས་པར་ལེགས་པ་ཐར་པར...</td>\n",
       "      <td>Alto estatus es considerado felicidad, el bien...</td>\n",
       "    </tr>\n",
       "  </tbody>\n",
       "</table>\n",
       "</div>"
      ],
      "text/plain": [
       "   section_id                                                 bo  \\\n",
       "0           0  སངས་རྒྱས་དང་བྱང་ཆུབ་སེམས་དཔའ་ཐམས་ཅད་ལ་ཕྱག་འཚལ་ལོ།   \n",
       "1           1  །ཉེས་པ་ཀུན་ལས་རྣམ་གྲོལ་ཞིང༌། །ཡོན་ཏན་ཀུན་གྱིས་...   \n",
       "2           2  །རྒྱལ་པོ་ཁྱོད་ལ་ཆོས་སྒྲུབ་ཕྱིར། །གཅིག་ཏུ་དགེ་བ...   \n",
       "3           3  །དང་པོར་མངོན་པར་མཐོ་བའི་ཆོས། །ཕྱིས་ནི་ངེས་པར་ལ...   \n",
       "4           4  །དེ་ལ་མངོན་མཐོ་བདེ་བ་སྟེ། །ངེས་པར་ལེགས་པ་ཐར་པར...   \n",
       "\n",
       "                                                  es  \n",
       "0         ¡Homenaje a todos los Budas y Bodhisatvas!  \n",
       "1  Me postro ante el Omnisciente, el cuál está li...  \n",
       "2  ¡Oh, Rey! Yo explicaré las prácticas solamente...  \n",
       "3  En alguien que primero practica alto estatus p...  \n",
       "4  Alto estatus es considerado felicidad, el bien...  "
      ]
     },
     "execution_count": 69,
     "metadata": {},
     "output_type": "execute_result"
    }
   ],
   "source": [
    "cols = list(df.columns)\n",
    "a, b = cols.index('spanish_text'), cols.index('tibetan_text')\n",
    "cols[b], cols[a] = cols[a], cols[b]\n",
    "df = df[cols]\n",
    "df = df.rename(columns={'spanish_text':'es', 'tibetan_text':'bo'})\n",
    "df = df.dropna()\n",
    "df.head()"
   ]
  },
  {
   "cell_type": "code",
   "execution_count": 71,
   "metadata": {},
   "outputs": [
    {
     "data": {
      "text/plain": [
       "{'section_id': 0,\n",
       " 'bo': 'སངས་རྒྱས་དང་བྱང་ཆུབ་སེམས་དཔའ་ཐམས་ཅད་ལ་ཕྱག་འཚལ་ལོ།',\n",
       " 'es': '¡Homenaje a todos los Budas y Bodhisatvas!'}"
      ]
     },
     "execution_count": 71,
     "metadata": {},
     "output_type": "execute_result"
    }
   ],
   "source": [
    "from datasets import Dataset\n",
    "\n",
    "ds = Dataset.from_pandas(df)\n",
    "ds[0]"
   ]
  },
  {
   "cell_type": "code",
   "execution_count": 72,
   "metadata": {},
   "outputs": [
    {
     "data": {
      "application/vnd.jupyter.widget-view+json": {
       "model_id": "1da6d72c2043477785d9a54e0620db4a",
       "version_major": 2,
       "version_minor": 0
      },
      "text/plain": [
       "Uploading the dataset shards:   0%|          | 0/1 [00:00<?, ?it/s]"
      ]
     },
     "metadata": {},
     "output_type": "display_data"
    },
    {
     "data": {
      "application/vnd.jupyter.widget-view+json": {
       "model_id": "5a9e096ebc6e4c27b29018d8cb1df085",
       "version_major": 2,
       "version_minor": 0
      },
      "text/plain": [
       "Creating parquet from Arrow format:   0%|          | 0/1 [00:00<?, ?ba/s]"
      ]
     },
     "metadata": {},
     "output_type": "display_data"
    },
    {
     "data": {
      "text/plain": [
       "CommitInfo(commit_url='https://huggingface.co/datasets/billingsmoore/montano-bo-es/commit/482d4545efde9ff5fa1eeb8ca2f3947672e459de', commit_message='Upload dataset', commit_description='', oid='482d4545efde9ff5fa1eeb8ca2f3947672e459de', pr_url=None, repo_url=RepoUrl('https://huggingface.co/datasets/billingsmoore/montano-bo-es', endpoint='https://huggingface.co', repo_type='dataset', repo_id='billingsmoore/montano-bo-es'), pr_revision=None, pr_num=None)"
      ]
     },
     "execution_count": 72,
     "metadata": {},
     "output_type": "execute_result"
    }
   ],
   "source": [
    "ds.push_to_hub('billingsmoore/montano-bo-es')"
   ]
  },
  {
   "cell_type": "code",
   "execution_count": 73,
   "metadata": {},
   "outputs": [
    {
     "data": {
      "text/plain": [
       "Dataset({\n",
       "    features: ['section_id', 'bo', 'es'],\n",
       "    num_rows: 501\n",
       "})"
      ]
     },
     "execution_count": 73,
     "metadata": {},
     "output_type": "execute_result"
    }
   ],
   "source": [
    "ds"
   ]
  },
  {
   "cell_type": "code",
   "execution_count": 74,
   "metadata": {},
   "outputs": [
    {
     "data": {
      "application/vnd.jupyter.widget-view+json": {
       "model_id": "731e478ae5ed4f809fe04c926698af27",
       "version_major": 2,
       "version_minor": 0
      },
      "text/plain": [
       "README.md:   0%|          | 0.00/337 [00:00<?, ?B/s]"
      ]
     },
     "metadata": {},
     "output_type": "display_data"
    },
    {
     "data": {
      "application/vnd.jupyter.widget-view+json": {
       "model_id": "92acdedd2ee444f9a1472d02af05be38",
       "version_major": 2,
       "version_minor": 0
      },
      "text/plain": [
       "train-00000-of-00001.parquet:   0%|          | 0.00/107k [00:00<?, ?B/s]"
      ]
     },
     "metadata": {},
     "output_type": "display_data"
    },
    {
     "data": {
      "application/vnd.jupyter.widget-view+json": {
       "model_id": "d0bf155327744663bf68f99b303a42f6",
       "version_major": 2,
       "version_minor": 0
      },
      "text/plain": [
       "Generating train split:   0%|          | 0/501 [00:00<?, ? examples/s]"
      ]
     },
     "metadata": {},
     "output_type": "display_data"
    }
   ],
   "source": [
    "from datasets import load_dataset\n",
    "\n",
    "check = load_dataset('billingsmoore/montano-bo-es')"
   ]
  },
  {
   "cell_type": "code",
   "execution_count": 75,
   "metadata": {},
   "outputs": [
    {
     "data": {
      "text/plain": [
       "DatasetDict({\n",
       "    train: Dataset({\n",
       "        features: ['section_id', 'bo', 'es'],\n",
       "        num_rows: 501\n",
       "    })\n",
       "})"
      ]
     },
     "execution_count": 75,
     "metadata": {},
     "output_type": "execute_result"
    }
   ],
   "source": [
    "check"
   ]
  }
 ],
 "metadata": {
  "kernelspec": {
   "display_name": ".venv",
   "language": "python",
   "name": "python3"
  },
  "language_info": {
   "codemirror_mode": {
    "name": "ipython",
    "version": 3
   },
   "file_extension": ".py",
   "mimetype": "text/x-python",
   "name": "python",
   "nbconvert_exporter": "python",
   "pygments_lexer": "ipython3",
   "version": "3.12.3"
  }
 },
 "nbformat": 4,
 "nbformat_minor": 2
}
