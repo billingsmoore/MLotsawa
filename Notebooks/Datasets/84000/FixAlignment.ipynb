{
 "cells": [
  {
   "cell_type": "code",
   "execution_count": 15,
   "metadata": {},
   "outputs": [],
   "source": [
    "from datasets import load_dataset, Dataset\n",
    "\n",
    "def realign_dataset(dataset_name, split=\"train\"):\n",
    "    # Load the dataset\n",
    "    dataset = load_dataset(dataset_name, split=split)\n",
    "    \n",
    "    # Convert to pandas DataFrame for easier manipulation\n",
    "    df = dataset.to_pandas()\n",
    "    \n",
    "    # Shift the English column up by one\n",
    "    df[\"en\"] = df[\"en\"].shift(1)\n",
    "    \n",
    "    # Remove the last row (which now has a NaN English value)\n",
    "    df = df[1:]\n",
    "    \n",
    "    # Convert back to Hugging Face dataset\n",
    "    corrected_dataset = Dataset.from_pandas(df, preserve_index=False)\n",
    "    \n",
    "    return corrected_dataset\n"
   ]
  },
  {
   "cell_type": "code",
   "execution_count": 16,
   "metadata": {},
   "outputs": [],
   "source": [
    "# Example usage\n",
    "dataset_name = \"billingsmoore/84000-bo-en\"\n",
    "corrected_dataset = realign_dataset(dataset_name)"
   ]
  },
  {
   "cell_type": "code",
   "execution_count": 17,
   "metadata": {},
   "outputs": [
    {
     "data": {
      "text/plain": [
       "{'bo': '༄༅༅། །རྒྱ་གར་སྐད་དུ། ཨཱརྱ་སུ་བརྞྞ་བཱ་ལུ་ཀོ་པ་མ་ནཱ་མ་མ་ཧཱ་ཡཱ་ན་སཱུ་ཏྲ། བོད་སྐད་དུ།',\n",
       " 'en': 'The Noble Mahāyāna Sūtra Like Gold Dust',\n",
       " 'topic': 'Meditation, Ritual, Enlightenment'}"
      ]
     },
     "execution_count": 17,
     "metadata": {},
     "output_type": "execute_result"
    }
   ],
   "source": [
    "dataset = load_dataset(dataset_name, split='train')\n",
    "dataset[0]"
   ]
  },
  {
   "cell_type": "code",
   "execution_count": 19,
   "metadata": {},
   "outputs": [
    {
     "data": {
      "text/plain": [
       "{'bo': 'སངས་རྒྱས་དང་། བྱང་ཆུབ་སེམས་དཔའ་ཐམས་ཅད་ལ་ཕྱག་འཚལ་ལོ། །',\n",
       " 'en': 'Homage to all buddhas and bodhisattvas.',\n",
       " 'topic': 'Dharma, Rite, Purity'}"
      ]
     },
     "execution_count": 19,
     "metadata": {},
     "output_type": "execute_result"
    }
   ],
   "source": [
    "corrected_dataset[1]"
   ]
  },
  {
   "cell_type": "code",
   "execution_count": 20,
   "metadata": {},
   "outputs": [
    {
     "data": {
      "application/vnd.jupyter.widget-view+json": {
       "model_id": "1f6d4d87569c4986b19141cde8d120bd",
       "version_major": 2,
       "version_minor": 0
      },
      "text/plain": [
       "Uploading the dataset shards:   0%|          | 0/1 [00:00<?, ?it/s]"
      ]
     },
     "metadata": {},
     "output_type": "display_data"
    },
    {
     "data": {
      "application/vnd.jupyter.widget-view+json": {
       "model_id": "91aa14f8b48a4b608fa7e79bd50b9856",
       "version_major": 2,
       "version_minor": 0
      },
      "text/plain": [
       "Creating parquet from Arrow format:   0%|          | 0/128 [00:00<?, ?ba/s]"
      ]
     },
     "metadata": {},
     "output_type": "display_data"
    },
    {
     "data": {
      "text/plain": [
       "CommitInfo(commit_url='https://huggingface.co/datasets/billingsmoore/84000-bo-en/commit/a40ae52d014d3bedd04003d7615a94dbb5c68af9', commit_message='Upload dataset', commit_description='', oid='a40ae52d014d3bedd04003d7615a94dbb5c68af9', pr_url=None, repo_url=RepoUrl('https://huggingface.co/datasets/billingsmoore/84000-bo-en', endpoint='https://huggingface.co', repo_type='dataset', repo_id='billingsmoore/84000-bo-en'), pr_revision=None, pr_num=None)"
      ]
     },
     "execution_count": 20,
     "metadata": {},
     "output_type": "execute_result"
    }
   ],
   "source": [
    "# Save the corrected dataset\n",
    "corrected_dataset.push_to_hub(dataset_name)"
   ]
  }
 ],
 "metadata": {
  "kernelspec": {
   "display_name": ".venv",
   "language": "python",
   "name": "python3"
  },
  "language_info": {
   "codemirror_mode": {
    "name": "ipython",
    "version": 3
   },
   "file_extension": ".py",
   "mimetype": "text/x-python",
   "name": "python",
   "nbconvert_exporter": "python",
   "pygments_lexer": "ipython3",
   "version": "3.12.3"
  }
 },
 "nbformat": 4,
 "nbformat_minor": 2
}
