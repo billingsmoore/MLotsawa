{
 "cells": [
  {
   "cell_type": "code",
   "execution_count": 1,
   "id": "a348a50e",
   "metadata": {},
   "outputs": [
    {
     "data": {
      "application/vnd.jupyter.widget-view+json": {
       "model_id": "d42a72fee7d94271a210d24c35153cfe",
       "version_major": 2,
       "version_minor": 0
      },
      "text/plain": [
       "README.md: 0.00B [00:00, ?B/s]"
      ]
     },
     "metadata": {},
     "output_type": "display_data"
    },
    {
     "data": {
      "application/vnd.jupyter.widget-view+json": {
       "model_id": "12e9587a731f45819a1dbcd9a1453dd8",
       "version_major": 2,
       "version_minor": 0
      },
      "text/plain": [
       "data/train-00000-of-00001.parquet:   0%|          | 0.00/4.51M [00:00<?, ?B/s]"
      ]
     },
     "metadata": {},
     "output_type": "display_data"
    },
    {
     "data": {
      "application/vnd.jupyter.widget-view+json": {
       "model_id": "220ae40ac99242ac8cbd38abb528bff9",
       "version_major": 2,
       "version_minor": 0
      },
      "text/plain": [
       "Generating train split:   0%|          | 0/28318 [00:00<?, ? examples/s]"
      ]
     },
     "metadata": {},
     "output_type": "display_data"
    },
    {
     "name": "stdout",
     "output_type": "stream",
     "text": [
      "DatasetDict({\n",
      "    train: Dataset({\n",
      "        features: ['filename', 'label', 'url', 'batch_id', 'state'],\n",
      "        num_rows: 28318\n",
      "    })\n",
      "})\n"
     ]
    }
   ],
   "source": [
    "from datasets import load_dataset\n",
    "\n",
    "# Load training split\n",
    "dataset = load_dataset(\"openpecha/OCR-Betsug\")\n",
    "\n",
    "# Example features\n",
    "print(dataset)"
   ]
  },
  {
   "cell_type": "code",
   "execution_count": 2,
   "id": "83de0ad5",
   "metadata": {},
   "outputs": [
    {
     "data": {
      "text/plain": [
       "{'filename': 'I1KG812780077_1.jpg',\n",
       " 'label': 'ཀྱི་ཐིག་ལེ་ཏེ་།   རྟེན་དང་བརྟེན་པར་བཅས་པ་ཉིད་།  རང་ཉིད་གསལ་བར་བྱིན་བརླབས་ན་།  ཇི་ལྟར་སྣང་སྲིད་ཆོས་ཐམས་ཅད་།   ལྷན་ཅིག་སྐྱེས་པའི་ངོ་བོར་',\n",
       " 'url': 'https://s3.amazonaws.com/monlam.ai.ocr/OCR/training_images/I1KG812780077_1.jpg',\n",
       " 'batch_id': 'batch22',\n",
       " 'state': 'finalised'}"
      ]
     },
     "execution_count": 2,
     "metadata": {},
     "output_type": "execute_result"
    }
   ],
   "source": [
    "dataset['train'][0]  # Display the first example in the training set"
   ]
  },
  {
   "cell_type": "markdown",
   "id": "053c5023",
   "metadata": {},
   "source": [
    "## Add Placeholder Image Column"
   ]
  },
  {
   "cell_type": "code",
   "execution_count": 3,
   "id": "b3acf138",
   "metadata": {},
   "outputs": [
    {
     "name": "stdout",
     "output_type": "stream",
     "text": [
      "Adding placeholder image column...\n"
     ]
    },
    {
     "data": {
      "application/vnd.jupyter.widget-view+json": {
       "model_id": "d8ae3387bb1042129a1efb8af3de8d0f",
       "version_major": 2,
       "version_minor": 0
      },
      "text/plain": [
       "Adding image column:   0%|          | 0/28318 [00:00<?, ? examples/s]"
      ]
     },
     "metadata": {},
     "output_type": "display_data"
    },
    {
     "data": {
      "text/plain": [
       "{'filename': 'I1KG812780077_1.jpg',\n",
       " 'label': 'ཀྱི་ཐིག་ལེ་ཏེ་།   རྟེན་དང་བརྟེན་པར་བཅས་པ་ཉིད་།  རང་ཉིད་གསལ་བར་བྱིན་བརླབས་ན་།  ཇི་ལྟར་སྣང་སྲིད་ཆོས་ཐམས་ཅད་།   ལྷན་ཅིག་སྐྱེས་པའི་ངོ་བོར་',\n",
       " 'url': 'https://s3.amazonaws.com/monlam.ai.ocr/OCR/training_images/I1KG812780077_1.jpg',\n",
       " 'batch_id': 'batch22',\n",
       " 'state': 'finalised',\n",
       " 'image': None}"
      ]
     },
     "execution_count": 3,
     "metadata": {},
     "output_type": "execute_result"
    }
   ],
   "source": [
    "from datasets import Image as ImageFeature\n",
    "\n",
    "def add_placeholder_image(example):\n",
    "    #Add a None placeholder for the image column\n",
    "\n",
    "    example['image'] = None\n",
    "    return example\n",
    "\n",
    "# Add the image column with placeholders\n",
    "print(\"Adding placeholder image column...\")\n",
    "dataset = dataset.map(\n",
    "    add_placeholder_image,\n",
    "    desc=\"Adding image column\"\n",
    ")\n",
    "\n",
    "dataset = dataset.cast_column('image', ImageFeature())\n",
    "\n",
    "dataset['train'][0]"
   ]
  },
  {
   "cell_type": "markdown",
   "id": "f3b85b5c",
   "metadata": {},
   "source": [
    "## Add Images"
   ]
  },
  {
   "cell_type": "code",
   "execution_count": 4,
   "id": "22bee8af",
   "metadata": {},
   "outputs": [],
   "source": [
    "import requests\n",
    "from PIL import Image\n",
    "import io\n",
    "from datasets import Dataset\n",
    "import pandas as pd\n",
    "\n",
    "def download_image(example):\n",
    "    \"\"\"\n",
    "    Function to be used with dataset.map() to download images for each example\n",
    "    \"\"\"\n",
    "    try:\n",
    "        # Download the image\n",
    "        response = requests.get(example['url'])\n",
    "        response.raise_for_status()\n",
    "        \n",
    "        # Open image and convert to PIL Image object\n",
    "        image = Image.open(io.BytesIO(response.content))\n",
    "        example['image'] = image\n",
    "        \n",
    "    except Exception as e:\n",
    "        # If download fails, set image to None and continue\n",
    "        print(f\"Failed to download image from {example.get('url', 'unknown')}. Error: {e}\")\n",
    "        example['image'] = None\n",
    "    \n",
    "    return example"
   ]
  },
  {
   "cell_type": "code",
   "execution_count": 5,
   "id": "6c4489c6",
   "metadata": {},
   "outputs": [
    {
     "data": {
      "application/vnd.jupyter.widget-view+json": {
       "model_id": "651cc5fe4b3f4c15ab9ee5d7fc20efe9",
       "version_major": 2,
       "version_minor": 0
      },
      "text/plain": [
       "Map (num_proc=4):   0%|          | 0/28318 [00:00<?, ? examples/s]"
      ]
     },
     "metadata": {},
     "output_type": "display_data"
    }
   ],
   "source": [
    "dataset = dataset['train'].map(download_image, num_proc=4)"
   ]
  },
  {
   "cell_type": "markdown",
   "id": "23231978",
   "metadata": {},
   "source": [
    "## Fix Schema"
   ]
  },
  {
   "cell_type": "code",
   "execution_count": 6,
   "id": "c310ab84",
   "metadata": {},
   "outputs": [
    {
     "data": {
      "application/vnd.jupyter.widget-view+json": {
       "model_id": "3c8aa0b8ee9c47daaf8d9f650a379edb",
       "version_major": 2,
       "version_minor": 0
      },
      "text/plain": [
       "Map (num_proc=4):   0%|          | 0/28318 [00:00<?, ? examples/s]"
      ]
     },
     "metadata": {},
     "output_type": "display_data"
    }
   ],
   "source": [
    "def filename_to_id(batch):\n",
    "    batch['id'] = batch['filename'].split('.')[0]\n",
    "    return batch\n",
    "\n",
    "ds = dataset.map(filename_to_id, num_proc=4)"
   ]
  },
  {
   "cell_type": "code",
   "execution_count": 7,
   "id": "6134511b",
   "metadata": {},
   "outputs": [],
   "source": [
    "ds = ds.remove_columns(['filename', 'url', 'batch_id', 'state'])  # Drop unnecessary columns"
   ]
  },
  {
   "cell_type": "code",
   "execution_count": 8,
   "id": "719ce392",
   "metadata": {},
   "outputs": [],
   "source": [
    "from datasets import Dataset\n",
    "\n",
    "reordered = Dataset.from_dict({\n",
    "    'id': ds['id'],\n",
    "    'image': ds['image'],\n",
    "    'label': ds['label'],\n",
    "})"
   ]
  },
  {
   "cell_type": "code",
   "execution_count": 9,
   "id": "f2024710",
   "metadata": {},
   "outputs": [
    {
     "name": "stdout",
     "output_type": "stream",
     "text": [
      "Dataset({\n",
      "    features: ['id', 'image', 'label'],\n",
      "    num_rows: 28318\n",
      "})\n",
      "{'id': 'I1KG812780077_1', 'image': <PIL.JpegImagePlugin.JpegImageFile image mode=RGB size=2133x52 at 0x7750B0E2A210>, 'label': 'ཀྱི་ཐིག་ལེ་ཏེ་།   རྟེན་དང་བརྟེན་པར་བཅས་པ་ཉིད་།  རང་ཉིད་གསལ་བར་བྱིན་བརླབས་ན་།  ཇི་ལྟར་སྣང་སྲིད་ཆོས་ཐམས་ཅད་།   ལྷན་ཅིག་སྐྱེས་པའི་ངོ་བོར་'}\n"
     ]
    }
   ],
   "source": [
    "print(reordered)\n",
    "print(reordered[0])"
   ]
  },
  {
   "cell_type": "code",
   "execution_count": 10,
   "id": "01211491",
   "metadata": {},
   "outputs": [
    {
     "data": {
      "application/vnd.jupyter.widget-view+json": {
       "model_id": "21ff3ef708bc4f84a11b93d0eb59e9cd",
       "version_major": 2,
       "version_minor": 0
      },
      "text/plain": [
       "Uploading the dataset shards:   0%|          | 0/3 [00:00<?, ? shards/s]"
      ]
     },
     "metadata": {},
     "output_type": "display_data"
    },
    {
     "data": {
      "application/vnd.jupyter.widget-view+json": {
       "model_id": "3ec6c94fce4640758ceec0fd6fe8e684",
       "version_major": 2,
       "version_minor": 0
      },
      "text/plain": [
       "Map:   0%|          | 0/9440 [00:00<?, ? examples/s]"
      ]
     },
     "metadata": {},
     "output_type": "display_data"
    },
    {
     "data": {
      "application/vnd.jupyter.widget-view+json": {
       "model_id": "82e676a030a54b2690a5f24876d441f7",
       "version_major": 2,
       "version_minor": 0
      },
      "text/plain": [
       "Creating parquet from Arrow format:   0%|          | 0/4 [00:00<?, ?ba/s]"
      ]
     },
     "metadata": {},
     "output_type": "display_data"
    },
    {
     "data": {
      "application/vnd.jupyter.widget-view+json": {
       "model_id": "fc7803569e824fd2826820b365824e24",
       "version_major": 2,
       "version_minor": 0
      },
      "text/plain": [
       "Processing Files (0 / 0): |          |  0.00B /  0.00B            "
      ]
     },
     "metadata": {},
     "output_type": "display_data"
    },
    {
     "data": {
      "application/vnd.jupyter.widget-view+json": {
       "model_id": "e2b83167865a454ba6a71b6f774f05bd",
       "version_major": 2,
       "version_minor": 0
      },
      "text/plain": [
       "New Data Upload: |          |  0.00B /  0.00B            "
      ]
     },
     "metadata": {},
     "output_type": "display_data"
    },
    {
     "data": {
      "application/vnd.jupyter.widget-view+json": {
       "model_id": "97908a7cc9324840b204dd19ae7264f7",
       "version_major": 2,
       "version_minor": 0
      },
      "text/plain": [
       "Map:   0%|          | 0/9439 [00:00<?, ? examples/s]"
      ]
     },
     "metadata": {},
     "output_type": "display_data"
    },
    {
     "data": {
      "application/vnd.jupyter.widget-view+json": {
       "model_id": "30696c37bc6d41c3b39f940f34e6fa88",
       "version_major": 2,
       "version_minor": 0
      },
      "text/plain": [
       "Creating parquet from Arrow format:   0%|          | 0/4 [00:00<?, ?ba/s]"
      ]
     },
     "metadata": {},
     "output_type": "display_data"
    },
    {
     "data": {
      "application/vnd.jupyter.widget-view+json": {
       "model_id": "e729a449b78847eb9c0f5fe2693a9964",
       "version_major": 2,
       "version_minor": 0
      },
      "text/plain": [
       "Processing Files (0 / 0): |          |  0.00B /  0.00B            "
      ]
     },
     "metadata": {},
     "output_type": "display_data"
    },
    {
     "data": {
      "application/vnd.jupyter.widget-view+json": {
       "model_id": "23691928cdb24d598b8d5a15ed7fa1be",
       "version_major": 2,
       "version_minor": 0
      },
      "text/plain": [
       "New Data Upload: |          |  0.00B /  0.00B            "
      ]
     },
     "metadata": {},
     "output_type": "display_data"
    },
    {
     "data": {
      "application/vnd.jupyter.widget-view+json": {
       "model_id": "b771dbf6b0ac48318f4e4f7887f4c5a4",
       "version_major": 2,
       "version_minor": 0
      },
      "text/plain": [
       "Map:   0%|          | 0/9439 [00:00<?, ? examples/s]"
      ]
     },
     "metadata": {},
     "output_type": "display_data"
    },
    {
     "data": {
      "application/vnd.jupyter.widget-view+json": {
       "model_id": "9cca5db01be64fa6a5508b5890a60cd9",
       "version_major": 2,
       "version_minor": 0
      },
      "text/plain": [
       "Creating parquet from Arrow format:   0%|          | 0/4 [00:00<?, ?ba/s]"
      ]
     },
     "metadata": {},
     "output_type": "display_data"
    },
    {
     "data": {
      "application/vnd.jupyter.widget-view+json": {
       "model_id": "5ea08b636b3a4b89b3aafdc4a7b99a79",
       "version_major": 2,
       "version_minor": 0
      },
      "text/plain": [
       "Processing Files (0 / 0): |          |  0.00B /  0.00B            "
      ]
     },
     "metadata": {},
     "output_type": "display_data"
    },
    {
     "data": {
      "application/vnd.jupyter.widget-view+json": {
       "model_id": "13bd2d429ac64b93af513d2bc3ee9356",
       "version_major": 2,
       "version_minor": 0
      },
      "text/plain": [
       "New Data Upload: |          |  0.00B /  0.00B            "
      ]
     },
     "metadata": {},
     "output_type": "display_data"
    },
    {
     "data": {
      "text/plain": [
       "CommitInfo(commit_url='https://huggingface.co/datasets/openpecha/OCR-Betsug/commit/7745be0c6fd7a52ec63af9fcf4a0d10930b9fdf0', commit_message='Upload dataset', commit_description='', oid='7745be0c6fd7a52ec63af9fcf4a0d10930b9fdf0', pr_url=None, repo_url=RepoUrl('https://huggingface.co/datasets/openpecha/OCR-Betsug', endpoint='https://huggingface.co', repo_type='dataset', repo_id='openpecha/OCR-Betsug'), pr_revision=None, pr_num=None)"
      ]
     },
     "execution_count": 10,
     "metadata": {},
     "output_type": "execute_result"
    }
   ],
   "source": [
    "reordered.push_to_hub(\"openpecha/OCR-Betsug\")"
   ]
  },
  {
   "cell_type": "code",
   "execution_count": 11,
   "id": "2ed605c2",
   "metadata": {},
   "outputs": [
    {
     "data": {
      "application/vnd.jupyter.widget-view+json": {
       "model_id": "a06c0fe09f04493cbddcc34c9961978a",
       "version_major": 2,
       "version_minor": 0
      },
      "text/plain": [
       "README.md: 0.00B [00:00, ?B/s]"
      ]
     },
     "metadata": {},
     "output_type": "display_data"
    },
    {
     "data": {
      "application/vnd.jupyter.widget-view+json": {
       "model_id": "9f171dca77cc4911867e5dd47c5e312f",
       "version_major": 2,
       "version_minor": 0
      },
      "text/plain": [
       "data/train-00000-of-00003.parquet:   0%|          | 0.00/340M [00:00<?, ?B/s]"
      ]
     },
     "metadata": {},
     "output_type": "display_data"
    },
    {
     "data": {
      "application/vnd.jupyter.widget-view+json": {
       "model_id": "5c93ec0067e84c498646ed686860040c",
       "version_major": 2,
       "version_minor": 0
      },
      "text/plain": [
       "data/train-00001-of-00003.parquet:   0%|          | 0.00/415M [00:00<?, ?B/s]"
      ]
     },
     "metadata": {},
     "output_type": "display_data"
    },
    {
     "data": {
      "application/vnd.jupyter.widget-view+json": {
       "model_id": "5e5da7183d3944cfa490a9d6464abc8d",
       "version_major": 2,
       "version_minor": 0
      },
      "text/plain": [
       "data/train-00002-of-00003.parquet:   0%|          | 0.00/364M [00:00<?, ?B/s]"
      ]
     },
     "metadata": {},
     "output_type": "display_data"
    },
    {
     "data": {
      "application/vnd.jupyter.widget-view+json": {
       "model_id": "2c2c7c504e6b4c939d55bacb76be0878",
       "version_major": 2,
       "version_minor": 0
      },
      "text/plain": [
       "Generating train split:   0%|          | 0/28318 [00:00<?, ? examples/s]"
      ]
     },
     "metadata": {},
     "output_type": "display_data"
    },
    {
     "name": "stdout",
     "output_type": "stream",
     "text": [
      "{'id': 'I1KG812780077_1', 'image': <PIL.JpegImagePlugin.JpegImageFile image mode=RGB size=2133x52 at 0x7750B32C6450>, 'label': 'ཀྱི་ཐིག་ལེ་ཏེ་།   རྟེན་དང་བརྟེན་པར་བཅས་པ་ཉིད་།  རང་ཉིད་གསལ་བར་བྱིན་བརླབས་ན་།  ཇི་ལྟར་སྣང་སྲིད་ཆོས་ཐམས་ཅད་།   ལྷན་ཅིག་སྐྱེས་པའི་ངོ་བོར་'}\n"
     ]
    }
   ],
   "source": [
    "dataset = load_dataset(\"openpecha/OCR-Betsug\", split=\"train\")\n",
    "\n",
    "# Example features\n",
    "print(dataset[0])"
   ]
  },
  {
   "cell_type": "code",
   "execution_count": 12,
   "id": "a558c13f",
   "metadata": {},
   "outputs": [
    {
     "data": {
      "text/plain": [
       "28318"
      ]
     },
     "execution_count": 12,
     "metadata": {},
     "output_type": "execute_result"
    }
   ],
   "source": [
    "len(dataset)"
   ]
  },
  {
   "cell_type": "code",
   "execution_count": null,
   "id": "f595c6d3",
   "metadata": {},
   "outputs": [],
   "source": []
  }
 ],
 "metadata": {
  "kernelspec": {
   "display_name": ".venv (3.12.7)",
   "language": "python",
   "name": "python3"
  },
  "language_info": {
   "codemirror_mode": {
    "name": "ipython",
    "version": 3
   },
   "file_extension": ".py",
   "mimetype": "text/x-python",
   "name": "python",
   "nbconvert_exporter": "python",
   "pygments_lexer": "ipython3",
   "version": "3.12.7"
  }
 },
 "nbformat": 4,
 "nbformat_minor": 5
}
