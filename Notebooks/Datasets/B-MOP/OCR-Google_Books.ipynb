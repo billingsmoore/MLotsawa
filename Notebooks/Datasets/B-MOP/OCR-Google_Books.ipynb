{
 "cells": [
  {
   "cell_type": "code",
   "execution_count": 17,
   "id": "999c15aa",
   "metadata": {},
   "outputs": [
    {
     "data": {
      "application/vnd.jupyter.widget-view+json": {
       "model_id": "c91af2d3aeb4437fbef89f9b191b80f0",
       "version_major": 2,
       "version_minor": 0
      },
      "text/plain": [
       "VBox(children=(HTML(value='<center> <img\\nsrc=https://huggingface.co/front/assets/huggingface_logo-noborder.sv…"
      ]
     },
     "metadata": {},
     "output_type": "display_data"
    }
   ],
   "source": [
    "from huggingface_hub import notebook_login\n",
    "\n",
    "notebook_login()"
   ]
  },
  {
   "cell_type": "code",
   "execution_count": 2,
   "id": "4adaf2c1",
   "metadata": {},
   "outputs": [
    {
     "name": "stdout",
     "output_type": "stream",
     "text": [
      "DatasetDict({\n",
      "    train: Dataset({\n",
      "        features: ['filename', 'label', 'url', 'BDRC_work_id', 'char_len', 'script', 'print_method'],\n",
      "        num_rows: 601152\n",
      "    })\n",
      "    eval: Dataset({\n",
      "        features: ['filename', 'label', 'url', 'BDRC_work_id', 'char_len', 'script', 'print_method'],\n",
      "        num_rows: 75136\n",
      "    })\n",
      "    test: Dataset({\n",
      "        features: ['filename', 'label', 'url', 'BDRC_work_id', 'char_len', 'script', 'print_method'],\n",
      "        num_rows: 75168\n",
      "    })\n",
      "})\n"
     ]
    }
   ],
   "source": [
    "from datasets import load_dataset\n",
    "\n",
    "# Load training split\n",
    "dataset = load_dataset(\"openpecha/OCR-Google_Books\")\n",
    "\n",
    "# Example features\n",
    "print(dataset)\n",
    "# {\n",
    "#     'filename': 'image_001.jpg',\n",
    "#     'label': '༄༅། །རྒྱལ་པོ་ ལ་ གཏམ་ གྱི་ བྱུང་ བ་ བཤད་ པ།',\n",
    "#     'url': 'https://...',\n",
    "#     'BDORC_work_id': 'W...',\n",
    "#     'char_len': 25,\n",
    "#     'script': 'ScriptTibt',\n",
    "#     'print_method': 'Modern'\n",
    "# }"
   ]
  },
  {
   "cell_type": "code",
   "execution_count": 14,
   "id": "4548aa2d",
   "metadata": {},
   "outputs": [
    {
     "data": {
      "text/plain": [
       "{'filename': 'I1KG1163750042_0025',\n",
       " 'label': 'ཡིན་པས་ཆབ་སྲིད་དང་འབྲེལ་བ་བྱུང་བ་ཙམ་ལ་ངོ་མཚར་དགོས་དོན་གང་ ',\n",
       " 'url': 'https://s3.amazonaws.com/monlam.ai.ocr/OCR/training_images/I1KG1163750042_0025.jpg',\n",
       " 'BDRC_work_id': 'W1KG109145',\n",
       " 'char_len': 58,\n",
       " 'script': 'ScriptTibt',\n",
       " 'print_method': 'PrintMethod_Modern'}"
      ]
     },
     "execution_count": 14,
     "metadata": {},
     "output_type": "execute_result"
    }
   ],
   "source": [
    "dataset[0]"
   ]
  },
  {
   "cell_type": "code",
   "execution_count": 3,
   "id": "70c14b3e",
   "metadata": {},
   "outputs": [
    {
     "data": {
      "text/plain": [
       "{'id': 'I1KG1163750042_0025',\n",
       " 'label': 'ཡིན་པས་ཆབ་སྲིད་དང་འབྲེལ་བ་བྱུང་བ་ཙམ་ལ་ངོ་མཚར་དགོས་དོན་གང་ ',\n",
       " 'url': 'https://s3.amazonaws.com/monlam.ai.ocr/OCR/training_images/I1KG1163750042_0025.jpg'}"
      ]
     },
     "execution_count": 3,
     "metadata": {},
     "output_type": "execute_result"
    }
   ],
   "source": [
    "dataset = dataset.remove_columns(['BDRC_work_id', 'char_len', 'script', 'print_method']).rename_column('filename', 'id')\n",
    "dataset['train'][0]"
   ]
  },
  {
   "cell_type": "code",
   "execution_count": null,
   "id": "630c9e32",
   "metadata": {},
   "outputs": [],
   "source": [
    "\"\"\"import requests\n",
    "import io\n",
    "from PIL import Image\n",
    "\n",
    "def download_image(example):\n",
    "\n",
    "    # Download the image\n",
    "    response = requests.get(example['url'])\n",
    "    response.raise_for_status()\n",
    "    \n",
    "    # Open image and convert to PIL Image object\n",
    "    image = Image.open(io.BytesIO(response.content))\n",
    "    example['image'] = image\n",
    "\n",
    "    \n",
    "    return example\n",
    "\n",
    "dataset = dataset.map(\n",
    "    download_image,\n",
    "    desc=\"Downloading images\"\n",
    ")\"\"\""
   ]
  },
  {
   "cell_type": "code",
   "execution_count": 4,
   "id": "80a2f178",
   "metadata": {},
   "outputs": [
    {
     "data": {
      "application/vnd.jupyter.widget-view+json": {
       "model_id": "2b57d8a0ee0d410fbf87b5a82f9beed1",
       "version_major": 2,
       "version_minor": 0
      },
      "text/plain": [
       "Uploading the dataset shards:   0%|          | 0/1 [00:00<?, ? shards/s]"
      ]
     },
     "metadata": {},
     "output_type": "display_data"
    },
    {
     "data": {
      "application/vnd.jupyter.widget-view+json": {
       "model_id": "069282415bb748f69b150b7c7496a1af",
       "version_major": 2,
       "version_minor": 0
      },
      "text/plain": [
       "Creating parquet from Arrow format:   0%|          | 0/2 [00:00<?, ?ba/s]"
      ]
     },
     "metadata": {},
     "output_type": "display_data"
    },
    {
     "data": {
      "application/vnd.jupyter.widget-view+json": {
       "model_id": "014435f0aaa0454997b9bb78df24883f",
       "version_major": 2,
       "version_minor": 0
      },
      "text/plain": [
       "Processing Files (0 / 0): |          |  0.00B /  0.00B            "
      ]
     },
     "metadata": {},
     "output_type": "display_data"
    },
    {
     "data": {
      "application/vnd.jupyter.widget-view+json": {
       "model_id": "3a4059c82b2e4a26af89d292d70de0ea",
       "version_major": 2,
       "version_minor": 0
      },
      "text/plain": [
       "New Data Upload: |          |  0.00B /  0.00B            "
      ]
     },
     "metadata": {},
     "output_type": "display_data"
    },
    {
     "data": {
      "application/vnd.jupyter.widget-view+json": {
       "model_id": "04733e063f6b477d965b5e21fa46e0cc",
       "version_major": 2,
       "version_minor": 0
      },
      "text/plain": [
       "Uploading the dataset shards:   0%|          | 0/1 [00:00<?, ? shards/s]"
      ]
     },
     "metadata": {},
     "output_type": "display_data"
    },
    {
     "data": {
      "application/vnd.jupyter.widget-view+json": {
       "model_id": "28107dccf1fe4f0fb563bcc8bd6300c0",
       "version_major": 2,
       "version_minor": 0
      },
      "text/plain": [
       "Creating parquet from Arrow format:   0%|          | 0/1 [00:00<?, ?ba/s]"
      ]
     },
     "metadata": {},
     "output_type": "display_data"
    },
    {
     "data": {
      "application/vnd.jupyter.widget-view+json": {
       "model_id": "3a7194d929124d6090e34ea4a8a25081",
       "version_major": 2,
       "version_minor": 0
      },
      "text/plain": [
       "Processing Files (0 / 0): |          |  0.00B /  0.00B            "
      ]
     },
     "metadata": {},
     "output_type": "display_data"
    },
    {
     "data": {
      "application/vnd.jupyter.widget-view+json": {
       "model_id": "bd7ed102a1b94e9f9e9504ee8507df38",
       "version_major": 2,
       "version_minor": 0
      },
      "text/plain": [
       "New Data Upload: |          |  0.00B /  0.00B            "
      ]
     },
     "metadata": {},
     "output_type": "display_data"
    },
    {
     "data": {
      "application/vnd.jupyter.widget-view+json": {
       "model_id": "0791b7208c704a7e9c0fe873ebed0869",
       "version_major": 2,
       "version_minor": 0
      },
      "text/plain": [
       "Uploading the dataset shards:   0%|          | 0/1 [00:00<?, ? shards/s]"
      ]
     },
     "metadata": {},
     "output_type": "display_data"
    },
    {
     "data": {
      "application/vnd.jupyter.widget-view+json": {
       "model_id": "a7b0d397ba734419b48066d50007745a",
       "version_major": 2,
       "version_minor": 0
      },
      "text/plain": [
       "Creating parquet from Arrow format:   0%|          | 0/1 [00:00<?, ?ba/s]"
      ]
     },
     "metadata": {},
     "output_type": "display_data"
    },
    {
     "data": {
      "application/vnd.jupyter.widget-view+json": {
       "model_id": "25488ede99cb4f04935e703bfb730ea9",
       "version_major": 2,
       "version_minor": 0
      },
      "text/plain": [
       "Processing Files (0 / 0): |          |  0.00B /  0.00B            "
      ]
     },
     "metadata": {},
     "output_type": "display_data"
    },
    {
     "data": {
      "application/vnd.jupyter.widget-view+json": {
       "model_id": "4fbe6056d87b47a8875214e61a163a68",
       "version_major": 2,
       "version_minor": 0
      },
      "text/plain": [
       "New Data Upload: |          |  0.00B /  0.00B            "
      ]
     },
     "metadata": {},
     "output_type": "display_data"
    },
    {
     "data": {
      "text/plain": [
       "CommitInfo(commit_url='https://huggingface.co/datasets/openpecha/OCR-Google_Books/commit/fe33077d8e27c6080909c3be157e010c9d6d09d7', commit_message='Upload dataset', commit_description='', oid='fe33077d8e27c6080909c3be157e010c9d6d09d7', pr_url=None, repo_url=RepoUrl('https://huggingface.co/datasets/openpecha/OCR-Google_Books', endpoint='https://huggingface.co', repo_type='dataset', repo_id='openpecha/OCR-Google_Books'), pr_revision=None, pr_num=None)"
      ]
     },
     "execution_count": 4,
     "metadata": {},
     "output_type": "execute_result"
    }
   ],
   "source": [
    "dataset.push_to_hub(\"openpecha/OCR-Google_Books\")"
   ]
  },
  {
   "cell_type": "code",
   "execution_count": null,
   "id": "7afac5fc",
   "metadata": {},
   "outputs": [],
   "source": []
  }
 ],
 "metadata": {
  "kernelspec": {
   "display_name": ".venv",
   "language": "python",
   "name": "python3"
  },
  "language_info": {
   "codemirror_mode": {
    "name": "ipython",
    "version": 3
   },
   "file_extension": ".py",
   "mimetype": "text/x-python",
   "name": "python",
   "nbconvert_exporter": "python",
   "pygments_lexer": "ipython3",
   "version": "3.12.3"
  }
 },
 "nbformat": 4,
 "nbformat_minor": 5
}
