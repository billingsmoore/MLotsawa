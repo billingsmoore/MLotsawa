{
 "cells": [
  {
   "cell_type": "code",
   "execution_count": 1,
   "id": "a348a50e",
   "metadata": {},
   "outputs": [
    {
     "data": {
      "application/vnd.jupyter.widget-view+json": {
       "model_id": "57acecf03558492c833921b39abb8841",
       "version_major": 2,
       "version_minor": 0
      },
      "text/plain": [
       "README.md: 0.00B [00:00, ?B/s]"
      ]
     },
     "metadata": {},
     "output_type": "display_data"
    },
    {
     "data": {
      "application/vnd.jupyter.widget-view+json": {
       "model_id": "dc7e93e7bcbb414391403386a940815e",
       "version_major": 2,
       "version_minor": 0
      },
      "text/plain": [
       "data/train-00000-of-00001.parquet:   0%|          | 0.00/4.61M [00:00<?, ?B/s]"
      ]
     },
     "metadata": {},
     "output_type": "display_data"
    },
    {
     "data": {
      "application/vnd.jupyter.widget-view+json": {
       "model_id": "85a1378790e447e0bd850a9dfd9086dd",
       "version_major": 2,
       "version_minor": 0
      },
      "text/plain": [
       "Generating train split:   0%|          | 0/32364 [00:00<?, ? examples/s]"
      ]
     },
     "metadata": {},
     "output_type": "display_data"
    },
    {
     "name": "stdout",
     "output_type": "stream",
     "text": [
      "DatasetDict({\n",
      "    train: Dataset({\n",
      "        features: ['filename', 'label', 'url', 'batch_id', 'state'],\n",
      "        num_rows: 32364\n",
      "    })\n",
      "})\n"
     ]
    }
   ],
   "source": [
    "from datasets import load_dataset\n",
    "\n",
    "# Load training split\n",
    "dataset = load_dataset(\"openpecha/OCR-Drutsa\")\n",
    "\n",
    "# Example features\n",
    "print(dataset)"
   ]
  },
  {
   "cell_type": "code",
   "execution_count": 2,
   "id": "83de0ad5",
   "metadata": {},
   "outputs": [
    {
     "data": {
      "text/plain": [
       "{'filename': 'KS_11-061_line_9874_4.jpg',\n",
       " 'label': 'བས་སོ་། །༢པ་ཡང་མི་འཐད་ཏེ་སྣལ་མ་དུ་མ་འདུས་པ་ལས་འབྲས་བུ་སྣམ་པུ་ཡོད་ན་སྣལ་མ་སོ་སོ་ལ་འབྲས་བུ་ཆ་རི་དམིགས་པར་ཐལ་ལོ་། །དེས་ན་སྣལ་',\n",
       " 'url': 'https://s3.amazonaws.com/monlam.ai.ocr/line_to_text/batch35/KS_11-061_line_9874_4.jpg',\n",
       " 'batch_id': 'batch35',\n",
       " 'state': 'finalised'}"
      ]
     },
     "execution_count": 2,
     "metadata": {},
     "output_type": "execute_result"
    }
   ],
   "source": [
    "dataset['train'][0]  # Display the first example in the training set"
   ]
  },
  {
   "cell_type": "markdown",
   "id": "053c5023",
   "metadata": {},
   "source": [
    "## Add Placeholder Image Column"
   ]
  },
  {
   "cell_type": "code",
   "execution_count": 3,
   "id": "b3acf138",
   "metadata": {},
   "outputs": [
    {
     "name": "stdout",
     "output_type": "stream",
     "text": [
      "Adding placeholder image column...\n"
     ]
    },
    {
     "data": {
      "application/vnd.jupyter.widget-view+json": {
       "model_id": "4834bb89d4ed44a7b2122e8e0991060a",
       "version_major": 2,
       "version_minor": 0
      },
      "text/plain": [
       "Adding image column:   0%|          | 0/32364 [00:00<?, ? examples/s]"
      ]
     },
     "metadata": {},
     "output_type": "display_data"
    },
    {
     "data": {
      "text/plain": [
       "{'filename': 'KS_11-061_line_9874_4.jpg',\n",
       " 'label': 'བས་སོ་། །༢པ་ཡང་མི་འཐད་ཏེ་སྣལ་མ་དུ་མ་འདུས་པ་ལས་འབྲས་བུ་སྣམ་པུ་ཡོད་ན་སྣལ་མ་སོ་སོ་ལ་འབྲས་བུ་ཆ་རི་དམིགས་པར་ཐལ་ལོ་། །དེས་ན་སྣལ་',\n",
       " 'url': 'https://s3.amazonaws.com/monlam.ai.ocr/line_to_text/batch35/KS_11-061_line_9874_4.jpg',\n",
       " 'batch_id': 'batch35',\n",
       " 'state': 'finalised',\n",
       " 'image': None}"
      ]
     },
     "execution_count": 3,
     "metadata": {},
     "output_type": "execute_result"
    }
   ],
   "source": [
    "from datasets import Image as ImageFeature\n",
    "\n",
    "def add_placeholder_image(example):\n",
    "    #Add a None placeholder for the image column\n",
    "\n",
    "    example['image'] = None\n",
    "    return example\n",
    "\n",
    "# Add the image column with placeholders\n",
    "print(\"Adding placeholder image column...\")\n",
    "dataset = dataset.map(\n",
    "    add_placeholder_image,\n",
    "    desc=\"Adding image column\"\n",
    ")\n",
    "\n",
    "dataset = dataset.cast_column('image', ImageFeature())\n",
    "\n",
    "dataset['train'][0]"
   ]
  },
  {
   "cell_type": "markdown",
   "id": "f3b85b5c",
   "metadata": {},
   "source": [
    "## Add Images"
   ]
  },
  {
   "cell_type": "code",
   "execution_count": 4,
   "id": "22bee8af",
   "metadata": {},
   "outputs": [],
   "source": [
    "import requests\n",
    "from PIL import Image\n",
    "import io\n",
    "from datasets import Dataset\n",
    "import pandas as pd\n",
    "\n",
    "def download_image(example):\n",
    "    \"\"\"\n",
    "    Function to be used with dataset.map() to download images for each example\n",
    "    \"\"\"\n",
    "    try:\n",
    "        # Download the image\n",
    "        response = requests.get(example['url'])\n",
    "        response.raise_for_status()\n",
    "        \n",
    "        # Open image and convert to PIL Image object\n",
    "        image = Image.open(io.BytesIO(response.content))\n",
    "        example['image'] = image\n",
    "        \n",
    "    except Exception as e:\n",
    "        # If download fails, set image to None and continue\n",
    "        print(f\"Failed to download image from {example.get('url', 'unknown')}. Error: {e}\")\n",
    "        example['image'] = None\n",
    "    \n",
    "    return example"
   ]
  },
  {
   "cell_type": "code",
   "execution_count": null,
   "id": "6c4489c6",
   "metadata": {},
   "outputs": [
    {
     "data": {
      "application/vnd.jupyter.widget-view+json": {
       "model_id": "417d6b77bb6e4eb39a71812a92b7d1cf",
       "version_major": 2,
       "version_minor": 0
      },
      "text/plain": [
       "Map (num_proc=4):   0%|          | 0/32364 [00:00<?, ? examples/s]"
      ]
     },
     "metadata": {},
     "output_type": "display_data"
    }
   ],
   "source": [
    "dataset = dataset['train'].map(download_image, num_proc=4)"
   ]
  }
 ],
 "metadata": {
  "kernelspec": {
   "display_name": ".venv (3.12.7)",
   "language": "python",
   "name": "python3"
  },
  "language_info": {
   "codemirror_mode": {
    "name": "ipython",
    "version": 3
   },
   "file_extension": ".py",
   "mimetype": "text/x-python",
   "name": "python",
   "nbconvert_exporter": "python",
   "pygments_lexer": "ipython3",
   "version": "3.12.7"
  }
 },
 "nbformat": 4,
 "nbformat_minor": 5
}
