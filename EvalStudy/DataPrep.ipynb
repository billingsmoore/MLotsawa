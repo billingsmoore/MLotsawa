{
 "cells": [
  {
   "cell_type": "code",
   "execution_count": 1,
   "id": "7380ced2",
   "metadata": {},
   "outputs": [
    {
     "data": {
      "text/plain": [
       "Dataset({\n",
       "    features: ['bo', 'en', 'input_ids', 'token_type_ids', 'attention_mask', 'labels', 'small_predictions', 'base_predictions'],\n",
       "    num_rows: 100\n",
       "})"
      ]
     },
     "execution_count": 1,
     "metadata": {},
     "output_type": "execute_result"
    }
   ],
   "source": [
    "from datasets import load_dataset\n",
    "\n",
    "ds = load_dataset('billingsmoore/temp', split='train').shuffle(seed=42).select(range(100))\n",
    "ds"
   ]
  },
  {
   "cell_type": "code",
   "execution_count": 2,
   "id": "b83df950",
   "metadata": {},
   "outputs": [],
   "source": [
    "from datasets import Dataset\n",
    "mlotsawa_small = Dataset.from_dict(ds.select_columns(['bo', 'en', 'small_predictions'])[:10])\n",
    "mlotsawa_base = Dataset.from_dict(ds.select_columns(['bo', 'en', 'base_predictions'])[10:20])\n",
    "mitra = Dataset.from_dict(ds.select_columns(['bo', 'en'])[20:30])\n",
    "gemini = Dataset.from_dict(ds.select_columns(['bo', 'en'])[30:40])\n",
    "claude = Dataset.from_dict(ds.select_columns(['bo', 'en'])[40:50])"
   ]
  },
  {
   "cell_type": "code",
   "execution_count": 3,
   "id": "47e6524e",
   "metadata": {},
   "outputs": [],
   "source": [
    "mlotsawa_small = mlotsawa_small.rename_column(\"small_predictions\", \"translation\")\n",
    "mlotsawa_base = mlotsawa_base.rename_column(\"base_predictions\", \"translation\")\n",
    "mitra = mitra.add_column(\"translation\", [\"\"] * len(mitra))\n",
    "gemini = gemini.add_column(\"translation\", [\"\"] * len(gemini))\n",
    "claude = claude.add_column(\"translation\", [\"\"] * len(claude))"
   ]
  },
  {
   "cell_type": "code",
   "execution_count": 4,
   "id": "a2d8681b",
   "metadata": {},
   "outputs": [],
   "source": [
    "mlotsawa_small = mlotsawa_small.add_column(\"model\", [\"mlotsawa-small\"] * len(mlotsawa_small))\n",
    "mlotsawa_base = mlotsawa_base.add_column(\"model\", [\"mlotsawa-base\"] * len(mlotsawa_base))\n",
    "mitra = mitra.add_column(\"model\", [\"mitra\"] * len(mitra))\n",
    "gemini = gemini.add_column(\"model\", [\"gemini\"] * len(gemini))\n",
    "claude = claude.add_column(\"model\", [\"claude\"] * len(claude))"
   ]
  },
  {
   "cell_type": "code",
   "execution_count": 5,
   "id": "c99d0694",
   "metadata": {},
   "outputs": [],
   "source": [
    "from datasets import concatenate_datasets\n",
    "import pandas as pd\n",
    "\n",
    "conc_ds = concatenate_datasets([mlotsawa_small, mlotsawa_base, mitra, gemini, claude])\n",
    "df = pd.DataFrame(conc_ds)\n",
    "df.to_csv(\"eval_study_data.csv\", index=False)"
   ]
  }
 ],
 "metadata": {
  "kernelspec": {
   "display_name": ".venv (3.12.7)",
   "language": "python",
   "name": "python3"
  },
  "language_info": {
   "codemirror_mode": {
    "name": "ipython",
    "version": 3
   },
   "file_extension": ".py",
   "mimetype": "text/x-python",
   "name": "python",
   "nbconvert_exporter": "python",
   "pygments_lexer": "ipython3",
   "version": "3.12.7"
  }
 },
 "nbformat": 4,
 "nbformat_minor": 5
}
